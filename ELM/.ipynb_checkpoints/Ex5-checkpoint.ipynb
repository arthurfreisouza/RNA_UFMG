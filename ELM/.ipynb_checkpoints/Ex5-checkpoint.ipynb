{
 "cells": [
  {
   "cell_type": "code",
   "execution_count": 30,
   "id": "4b6201ca-ecf9-401b-86d6-3975ed501895",
   "metadata": {},
   "outputs": [
    {
     "name": "stdout",
     "output_type": "stream",
     "text": [
      "The rpy2.ipython extension is already loaded. To reload it, use:\n",
      "  %reload_ext rpy2.ipython\n"
     ]
    }
   ],
   "source": [
    "import numpy as np\n",
    "import matplotlib.pyplot as plt\n",
    "import pandas as pd\n",
    "import rpy2.robjects as ro\n",
    "from functools import partial\n",
    "from rpy2.robjects import pandas2ri\n",
    "from rpy2.robjects.packages import importr\n",
    "from rpy2.ipython import html\n",
    "html.html_rdataframe = partial(html.html_rdataframe, table_class = \"docutils\")\n",
    "%load_ext rpy2.ipython"
   ]
  },
  {
   "cell_type": "code",
   "execution_count": 31,
   "id": "011e516e-298c-498a-9a51-dc561a60cac2",
   "metadata": {},
   "outputs": [],
   "source": [
    "%%R\n",
    "library(mlbench)\n",
    "datasetnormals <- mlbench.2dnormals(200)\n",
    "XR_datasetnormals <- datasetnormals$x\n",
    "LABELSR_datasetnormals <- datasetnormals$classes\n",
    "LABELSR_datasetnormals\n",
    "datasetxor <- mlbench.xor(100)\n",
    "XR_datasetxor <- datasetxor$x\n",
    "LABELSR_datasetxor<- datasetxor$classes\n",
    "\n",
    "datasetcircle <- mlbench.circle(100)\n",
    "XR_datasetcircle <- datasetcircle$x\n",
    "LABELSR_datasetcircle <- datasetcircle$classes\n",
    "\n",
    "datasetspirals <- mlbench.spirals(100, sd = 0.05)\n",
    "XR_datasetspirals <- datasetspirals$x\n",
    "LABELSR_datasetspirals <- datasetspirals$classes"
   ]
  },
  {
   "cell_type": "code",
   "execution_count": 37,
   "id": "1ec8161e-fd16-461f-bb17-7f1c970f7a6b",
   "metadata": {},
   "outputs": [],
   "source": [
    "from rpy2.robjects import numpy2ri\n",
    "numpy2ri.activate()\n",
    "x_df_normals = np.array(ro.r['XR_datasetnormals'])\n",
    "labels_df_normals = np.array(ro.r['LABELSR_datasetnormals'])\n",
    "\n",
    "x_df_xor = np.array(ro.r['XR_datasetxor'])\n",
    "labels_df_xor = np.array(ro.r['LABELSR_datasetxor'])\n",
    "\n",
    "x_df_circle = np.array(ro.r['XR_datasetcircle'])\n",
    "labels_df_circle = np.array(ro.r['LABELSR_datasetcircle'])\n",
    "\n",
    "x_df_espirals = np.array(ro.r['XR_datasetspirals'])\n",
    "labels_df_espirals = np.array(ro.r['LABELSR_datasetspirals'])"
   ]
  },
  {
   "cell_type": "code",
   "execution_count": 41,
   "id": "ffd04f65-0881-40b6-97c0-29d34c058f97",
   "metadata": {},
   "outputs": [],
   "source": [
    "from sklearn.model_selection import train_test_split\n",
    "X_trainnormals, X_testnormals, y_trainnormals, y_testnormals = train_test_split(x_df_normals, labels_df_normals, random_state = 0, train_size = 0.7)\n",
    "X_trainxor, X_testxor, y_trainxor, y_testxor = train_test_split(x_df_xor, labels_df_xor, random_state = 0, train_size = 0.7)\n",
    "X_traincircle, X_testcircle, y_traincircle, y_testcircle = train_test_split(x_df_circle, labels_df_circle, random_state = 0, train_size = 0.7)\n",
    "X_trainespirals, X_testespirals, y_trainnespirals, y_testespirals = train_test_split(x_df_espirals, labels_df_espirals, random_state = 0, train_size = 0.7)\n"
   ]
  },
  {
   "cell_type": "markdown",
   "id": "42e36e64-4308-4f1d-ab79-7e5328b1209f",
   "metadata": {},
   "source": [
    "#### Plotando o gráfico, e treinando a rede para o conjunto de dados1 : "
   ]
  },
  {
   "cell_type": "code",
   "execution_count": 45,
   "id": "7faea4a3-ef9b-4443-8920-d49b2282bb3d",
   "metadata": {},
   "outputs": [],
   "source": [
    "import train_test_ELM\n",
    "pnormals = 100\n",
    "X_trainnormals = np.array(X_trainnormals)\n",
    "X_testnormals = np.array(X_testnormals)\n",
    "y_trainnormals = np.array(y_trainnormals)\n",
    "y_testnormals = np.array(y_testnormals)\n",
    "train_ELMnormals = train_test_ELM.train_ELM(X_trainnormals, y_trainnormals, pnormals, control = True)\n",
    "wnormals = np.array(train_ELMnormals[0])\n",
    "Hnormals = np.array(train_ELMnormals[1])\n",
    "Znormals = np.array(train_ELMnormals[2])"
   ]
  },
  {
   "cell_type": "code",
   "execution_count": null,
   "id": "4fb5b171-2ea7-4535-b639-cd62c5ac5901",
   "metadata": {},
   "outputs": [],
   "source": [
    "y_hatrainnormals = train_test_ELM.test_ELM(X_trainnormals, Znormals, wnormals, True)\n",
    "y_hatestnormals = train_test_ELM.test_ELM(X_testnormals, Znormals, wnormals, True)"
   ]
  },
  {
   "cell_type": "code",
   "execution_count": null,
   "id": "7853934e-483f-4a8b-85f1-8e1b1e37fc55",
   "metadata": {},
   "outputs": [],
   "source": [
    "from sklearn import metrics\n",
    "confusion_matrix = metrics.confusion_matrix(y_trainnormals, y_hatrainnormals)\n",
    "cm_display = metrics.ConfusionMatrixDisplay(confusion_matrix = confusion_matrix, display_labels = [False, True])\n",
    "cm_display.plot()\n",
    "plt.show()\n",
    "sum_train = sum(y_trainnormals != y_hatrainnormals)\n",
    "print(f\"There are a total of {sum_train} errors in the train.\")"
   ]
  },
  {
   "cell_type": "code",
   "execution_count": null,
   "id": "ccd9779f-42a3-4726-9686-8288091eae24",
   "metadata": {},
   "outputs": [],
   "source": [
    "confusion_matrix = metrics.confusion_matrix(y_testnormals, y_hatestnormals)\n",
    "cm_display = metrics.ConfusionMatrixDisplay(confusion_matrix = confusion_matrix, display_labels = [False, True])\n",
    "cm_display.plot()\n",
    "plt.show()\n",
    "sum_test = sum(y_testnormals != y_hatestnormals)\n",
    "print(f\"There are a total of {sum_test} errors in the test.\")"
   ]
  },
  {
   "cell_type": "markdown",
   "id": "c001fe1a-8538-4f27-bfba-fb2695eac3a9",
   "metadata": {},
   "source": [
    "##### Organizando os dados em labels e gerando o gráfico dos dados : "
   ]
  },
  {
   "cell_type": "code",
   "execution_count": null,
   "id": "c03334ed-2c52-4f4b-a7e6-292fbdd31a72",
   "metadata": {},
   "outputs": [],
   "source": [
    "train_ELMxor = train_test_ELM.train_ELM(X_trainnormals, y_trainnormals, pnormals, control = True)\n",
    "wnormals = np.array(train_ELMnormals[0])\n",
    "Hnormals = np.array(train_ELMnormals[1])\n",
    "Znormals = np.array(train_ELMnormals[2])"
   ]
  },
  {
   "cell_type": "code",
   "execution_count": null,
   "id": "1355c19f-6326-41f2-ad57-a5135de591cf",
   "metadata": {},
   "outputs": [],
   "source": []
  },
  {
   "cell_type": "markdown",
   "id": "c9c0c2c0-8f51-492b-aa97-9c5a59b4351a",
   "metadata": {},
   "source": [
    "#### Plotando o gráfico, e treinando a rede para o conjunto de dados1 : "
   ]
  },
  {
   "cell_type": "code",
   "execution_count": null,
   "id": "8aa446bf-618f-4a1e-89fb-ca08953f562c",
   "metadata": {},
   "outputs": [],
   "source": [
    "pxor = 100\n",
    "X_trainxor = np.array(X_trainxor)\n",
    "X_testxor = np.array(X_testxor)\n",
    "y_trainxor = np.array(y_trainxor)\n",
    "y_testxor = np.array(y_testxor)\n",
    "train_ELMxor = train_test_ELM.train_ELM(X_trainxor, y_trainxor, pxor, control = True)\n",
    "wxor = np.array(train_ELMxor[0])\n",
    "Hxor = np.array(train_ELMxor[1])\n",
    "Zxor = np.array(train_ELMxor[2])"
   ]
  },
  {
   "cell_type": "code",
   "execution_count": null,
   "id": "545e9564-6d09-47d2-8072-ec6f13f72669",
   "metadata": {},
   "outputs": [],
   "source": []
  },
  {
   "cell_type": "code",
   "execution_count": null,
   "id": "7aba1199-54f4-40c4-ac46-87db8cad75f3",
   "metadata": {},
   "outputs": [],
   "source": [
    "seqx1x2 = np.linspace(start = -2, stop = 10, num = 300)\n",
    "np_grid = seqx1x2.shape[0]\n",
    "shape = (np_grid, np_grid)\n",
    "MZ = np.zeros(shape)\n",
    "for i in range(np_grid):\n",
    "    for j in range(np_grid):\n",
    "        x1 = seqx1x2[i]\n",
    "        x2 = seqx1x2[j]\n",
    "        x1x2 = np.column_stack((x1, x2, 1))\n",
    "        h1 = np.tanh(np.dot(x1x2, Z))\n",
    "        h1 = np.column_stack((h1, np.ones_like(h1[:, 0])))\n",
    "        MZ[i, j] = np.sign(np.dot(h1, w))\n",
    "\n",
    "\n",
    "plt.contour(seqx1x2, seqx1x2, MZ, levels = 1)\n",
    "plt.scatter(x1[:, 0], g1[:, 1], color = 'red', label = 'data1')\n",
    "plt.scatter(g2[:, 0], g2[:, 1], color = 'blue', label = 'data2')\n",
    "plt.xlabel('x1')\n",
    "plt.ylabel('x2')\n",
    "plt.title('Contour Plot')\n",
    "plt.xlim(0, 6)\n",
    "plt.ylim(0, 6)\n",
    "plt.grid(True)\n",
    "plt.show()"
   ]
  }
 ],
 "metadata": {
  "kernelspec": {
   "display_name": "Python 3 (ipykernel)",
   "language": "python",
   "name": "python3"
  },
  "language_info": {
   "codemirror_mode": {
    "name": "ipython",
    "version": 3
   },
   "file_extension": ".py",
   "mimetype": "text/x-python",
   "name": "python",
   "nbconvert_exporter": "python",
   "pygments_lexer": "ipython3",
   "version": "3.10.12"
  }
 },
 "nbformat": 4,
 "nbformat_minor": 5
}
