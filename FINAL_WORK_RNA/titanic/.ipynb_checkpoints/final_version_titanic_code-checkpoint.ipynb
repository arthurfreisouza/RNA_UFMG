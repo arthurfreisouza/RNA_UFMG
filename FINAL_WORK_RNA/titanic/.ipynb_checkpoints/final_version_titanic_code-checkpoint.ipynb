{
 "cells": [
  {
   "cell_type": "code",
   "execution_count": 125,
   "id": "ec0898c0-e5ef-44f1-864a-41b0913d0fc8",
   "metadata": {},
   "outputs": [],
   "source": [
    "import pandas as pd\n",
    "import numpy as np\n",
    "import statistics\n",
    "import matplotlib.pyplot as plt\n",
    "from sklearn import metrics\n",
    "from sklearn.preprocessing import OneHotEncoder\n",
    "from sklearn.impute import KNNImputer\n",
    "from sklearn.preprocessing import MinMaxScaler\n",
    "from sklearn.preprocessing import StandardScaler\n",
    "from sklearn.model_selection import GridSearchCV\n",
    "from sklearn.neural_network import MLPClassifier\n",
    "from sklearn.metrics import roc_auc_score\n",
    "from sklearn.utils import shuffle\n",
    "from sklearn.model_selection import cross_val_score\n",
    "from sklearn.neighbors import KNeighborsClassifier\n",
    "from sklearn.naive_bayes import GaussianNB\n",
    "from sklearn.metrics import accuracy_score\n",
    "from sklearn.model_selection import train_test_split\n",
    "import seaborn as sns"
   ]
  },
  {
   "cell_type": "code",
   "execution_count": 126,
   "id": "3406206b-dbda-497e-9142-30a4c460e2f3",
   "metadata": {},
   "outputs": [],
   "source": [
    "import warnings\n",
    "warnings.filterwarnings('ignore')"
   ]
  },
  {
   "cell_type": "markdown",
   "id": "e10f7c70-6138-408f-9303-3d1f6c7183ca",
   "metadata": {},
   "source": [
    "### 1- Leitura e tratamento dos dados de treino do titanic : "
   ]
  },
  {
   "cell_type": "markdown",
   "id": "49558e71-d3b0-403f-a44b-7d8ae2f6acc2",
   "metadata": {},
   "source": [
    "#### 1.1- Leitura dos dados e análise dos valores"
   ]
  },
  {
   "cell_type": "code",
   "execution_count": 127,
   "id": "df52e5eb-26d5-45ec-bcb8-26753fa903c1",
   "metadata": {},
   "outputs": [
    {
     "data": {
      "text/html": [
       "<div>\n",
       "<style scoped>\n",
       "    .dataframe tbody tr th:only-of-type {\n",
       "        vertical-align: middle;\n",
       "    }\n",
       "\n",
       "    .dataframe tbody tr th {\n",
       "        vertical-align: top;\n",
       "    }\n",
       "\n",
       "    .dataframe thead th {\n",
       "        text-align: right;\n",
       "    }\n",
       "</style>\n",
       "<table border=\"1\" class=\"dataframe\">\n",
       "  <thead>\n",
       "    <tr style=\"text-align: right;\">\n",
       "      <th></th>\n",
       "      <th>PassengerId</th>\n",
       "      <th>Survived</th>\n",
       "      <th>Pclass</th>\n",
       "      <th>Name</th>\n",
       "      <th>Sex</th>\n",
       "      <th>Age</th>\n",
       "      <th>SibSp</th>\n",
       "      <th>Parch</th>\n",
       "      <th>Ticket</th>\n",
       "      <th>Fare</th>\n",
       "      <th>Cabin</th>\n",
       "      <th>Embarked</th>\n",
       "    </tr>\n",
       "  </thead>\n",
       "  <tbody>\n",
       "    <tr>\n",
       "      <th>0</th>\n",
       "      <td>1</td>\n",
       "      <td>0</td>\n",
       "      <td>3</td>\n",
       "      <td>Braund, Mr. Owen Harris</td>\n",
       "      <td>male</td>\n",
       "      <td>22.0</td>\n",
       "      <td>1</td>\n",
       "      <td>0</td>\n",
       "      <td>A/5 21171</td>\n",
       "      <td>7.2500</td>\n",
       "      <td>NaN</td>\n",
       "      <td>S</td>\n",
       "    </tr>\n",
       "    <tr>\n",
       "      <th>1</th>\n",
       "      <td>2</td>\n",
       "      <td>1</td>\n",
       "      <td>1</td>\n",
       "      <td>Cumings, Mrs. John Bradley (Florence Briggs Th...</td>\n",
       "      <td>female</td>\n",
       "      <td>38.0</td>\n",
       "      <td>1</td>\n",
       "      <td>0</td>\n",
       "      <td>PC 17599</td>\n",
       "      <td>71.2833</td>\n",
       "      <td>C85</td>\n",
       "      <td>C</td>\n",
       "    </tr>\n",
       "    <tr>\n",
       "      <th>2</th>\n",
       "      <td>3</td>\n",
       "      <td>1</td>\n",
       "      <td>3</td>\n",
       "      <td>Heikkinen, Miss. Laina</td>\n",
       "      <td>female</td>\n",
       "      <td>26.0</td>\n",
       "      <td>0</td>\n",
       "      <td>0</td>\n",
       "      <td>STON/O2. 3101282</td>\n",
       "      <td>7.9250</td>\n",
       "      <td>NaN</td>\n",
       "      <td>S</td>\n",
       "    </tr>\n",
       "    <tr>\n",
       "      <th>3</th>\n",
       "      <td>4</td>\n",
       "      <td>1</td>\n",
       "      <td>1</td>\n",
       "      <td>Futrelle, Mrs. Jacques Heath (Lily May Peel)</td>\n",
       "      <td>female</td>\n",
       "      <td>35.0</td>\n",
       "      <td>1</td>\n",
       "      <td>0</td>\n",
       "      <td>113803</td>\n",
       "      <td>53.1000</td>\n",
       "      <td>C123</td>\n",
       "      <td>S</td>\n",
       "    </tr>\n",
       "    <tr>\n",
       "      <th>4</th>\n",
       "      <td>5</td>\n",
       "      <td>0</td>\n",
       "      <td>3</td>\n",
       "      <td>Allen, Mr. William Henry</td>\n",
       "      <td>male</td>\n",
       "      <td>35.0</td>\n",
       "      <td>0</td>\n",
       "      <td>0</td>\n",
       "      <td>373450</td>\n",
       "      <td>8.0500</td>\n",
       "      <td>NaN</td>\n",
       "      <td>S</td>\n",
       "    </tr>\n",
       "  </tbody>\n",
       "</table>\n",
       "</div>"
      ],
      "text/plain": [
       "   PassengerId  Survived  Pclass  \\\n",
       "0            1         0       3   \n",
       "1            2         1       1   \n",
       "2            3         1       3   \n",
       "3            4         1       1   \n",
       "4            5         0       3   \n",
       "\n",
       "                                                Name     Sex   Age  SibSp  \\\n",
       "0                            Braund, Mr. Owen Harris    male  22.0      1   \n",
       "1  Cumings, Mrs. John Bradley (Florence Briggs Th...  female  38.0      1   \n",
       "2                             Heikkinen, Miss. Laina  female  26.0      0   \n",
       "3       Futrelle, Mrs. Jacques Heath (Lily May Peel)  female  35.0      1   \n",
       "4                           Allen, Mr. William Henry    male  35.0      0   \n",
       "\n",
       "   Parch            Ticket     Fare Cabin Embarked  \n",
       "0      0         A/5 21171   7.2500   NaN        S  \n",
       "1      0          PC 17599  71.2833   C85        C  \n",
       "2      0  STON/O2. 3101282   7.9250   NaN        S  \n",
       "3      0            113803  53.1000  C123        S  \n",
       "4      0            373450   8.0500   NaN        S  "
      ]
     },
     "execution_count": 127,
     "metadata": {},
     "output_type": "execute_result"
    }
   ],
   "source": [
    "train = pd.read_csv(\"train.csv\")\n",
    "train.head()"
   ]
  },
  {
   "cell_type": "code",
   "execution_count": 128,
   "id": "6cfe6274-952e-4159-b366-2274520378a1",
   "metadata": {},
   "outputs": [
    {
     "name": "stdout",
     "output_type": "stream",
     "text": [
      "<class 'pandas.core.frame.DataFrame'>\n",
      "RangeIndex: 891 entries, 0 to 890\n",
      "Data columns (total 12 columns):\n",
      " #   Column       Non-Null Count  Dtype  \n",
      "---  ------       --------------  -----  \n",
      " 0   PassengerId  891 non-null    int64  \n",
      " 1   Survived     891 non-null    int64  \n",
      " 2   Pclass       891 non-null    int64  \n",
      " 3   Name         891 non-null    object \n",
      " 4   Sex          891 non-null    object \n",
      " 5   Age          714 non-null    float64\n",
      " 6   SibSp        891 non-null    int64  \n",
      " 7   Parch        891 non-null    int64  \n",
      " 8   Ticket       891 non-null    object \n",
      " 9   Fare         891 non-null    float64\n",
      " 10  Cabin        204 non-null    object \n",
      " 11  Embarked     889 non-null    object \n",
      "dtypes: float64(2), int64(5), object(5)\n",
      "memory usage: 83.7+ KB\n"
     ]
    }
   ],
   "source": [
    "train.info()"
   ]
  },
  {
   "cell_type": "code",
   "execution_count": 129,
   "id": "f54d8ec6-772c-4fe4-8aa8-c39741df1de0",
   "metadata": {},
   "outputs": [
    {
     "data": {
      "text/html": [
       "<div>\n",
       "<style scoped>\n",
       "    .dataframe tbody tr th:only-of-type {\n",
       "        vertical-align: middle;\n",
       "    }\n",
       "\n",
       "    .dataframe tbody tr th {\n",
       "        vertical-align: top;\n",
       "    }\n",
       "\n",
       "    .dataframe thead th {\n",
       "        text-align: right;\n",
       "    }\n",
       "</style>\n",
       "<table border=\"1\" class=\"dataframe\">\n",
       "  <thead>\n",
       "    <tr style=\"text-align: right;\">\n",
       "      <th></th>\n",
       "      <th>PassengerId</th>\n",
       "      <th>Survived</th>\n",
       "      <th>Pclass</th>\n",
       "      <th>Age</th>\n",
       "      <th>SibSp</th>\n",
       "      <th>Parch</th>\n",
       "      <th>Fare</th>\n",
       "    </tr>\n",
       "  </thead>\n",
       "  <tbody>\n",
       "    <tr>\n",
       "      <th>count</th>\n",
       "      <td>891.000000</td>\n",
       "      <td>891.000000</td>\n",
       "      <td>891.000000</td>\n",
       "      <td>714.000000</td>\n",
       "      <td>891.000000</td>\n",
       "      <td>891.000000</td>\n",
       "      <td>891.000000</td>\n",
       "    </tr>\n",
       "    <tr>\n",
       "      <th>mean</th>\n",
       "      <td>446.000000</td>\n",
       "      <td>0.383838</td>\n",
       "      <td>2.308642</td>\n",
       "      <td>29.699118</td>\n",
       "      <td>0.523008</td>\n",
       "      <td>0.381594</td>\n",
       "      <td>32.204208</td>\n",
       "    </tr>\n",
       "    <tr>\n",
       "      <th>std</th>\n",
       "      <td>257.353842</td>\n",
       "      <td>0.486592</td>\n",
       "      <td>0.836071</td>\n",
       "      <td>14.526497</td>\n",
       "      <td>1.102743</td>\n",
       "      <td>0.806057</td>\n",
       "      <td>49.693429</td>\n",
       "    </tr>\n",
       "    <tr>\n",
       "      <th>min</th>\n",
       "      <td>1.000000</td>\n",
       "      <td>0.000000</td>\n",
       "      <td>1.000000</td>\n",
       "      <td>0.420000</td>\n",
       "      <td>0.000000</td>\n",
       "      <td>0.000000</td>\n",
       "      <td>0.000000</td>\n",
       "    </tr>\n",
       "    <tr>\n",
       "      <th>25%</th>\n",
       "      <td>223.500000</td>\n",
       "      <td>0.000000</td>\n",
       "      <td>2.000000</td>\n",
       "      <td>20.125000</td>\n",
       "      <td>0.000000</td>\n",
       "      <td>0.000000</td>\n",
       "      <td>7.910400</td>\n",
       "    </tr>\n",
       "    <tr>\n",
       "      <th>50%</th>\n",
       "      <td>446.000000</td>\n",
       "      <td>0.000000</td>\n",
       "      <td>3.000000</td>\n",
       "      <td>28.000000</td>\n",
       "      <td>0.000000</td>\n",
       "      <td>0.000000</td>\n",
       "      <td>14.454200</td>\n",
       "    </tr>\n",
       "    <tr>\n",
       "      <th>75%</th>\n",
       "      <td>668.500000</td>\n",
       "      <td>1.000000</td>\n",
       "      <td>3.000000</td>\n",
       "      <td>38.000000</td>\n",
       "      <td>1.000000</td>\n",
       "      <td>0.000000</td>\n",
       "      <td>31.000000</td>\n",
       "    </tr>\n",
       "    <tr>\n",
       "      <th>max</th>\n",
       "      <td>891.000000</td>\n",
       "      <td>1.000000</td>\n",
       "      <td>3.000000</td>\n",
       "      <td>80.000000</td>\n",
       "      <td>8.000000</td>\n",
       "      <td>6.000000</td>\n",
       "      <td>512.329200</td>\n",
       "    </tr>\n",
       "  </tbody>\n",
       "</table>\n",
       "</div>"
      ],
      "text/plain": [
       "       PassengerId    Survived      Pclass         Age       SibSp  \\\n",
       "count   891.000000  891.000000  891.000000  714.000000  891.000000   \n",
       "mean    446.000000    0.383838    2.308642   29.699118    0.523008   \n",
       "std     257.353842    0.486592    0.836071   14.526497    1.102743   \n",
       "min       1.000000    0.000000    1.000000    0.420000    0.000000   \n",
       "25%     223.500000    0.000000    2.000000   20.125000    0.000000   \n",
       "50%     446.000000    0.000000    3.000000   28.000000    0.000000   \n",
       "75%     668.500000    1.000000    3.000000   38.000000    1.000000   \n",
       "max     891.000000    1.000000    3.000000   80.000000    8.000000   \n",
       "\n",
       "            Parch        Fare  \n",
       "count  891.000000  891.000000  \n",
       "mean     0.381594   32.204208  \n",
       "std      0.806057   49.693429  \n",
       "min      0.000000    0.000000  \n",
       "25%      0.000000    7.910400  \n",
       "50%      0.000000   14.454200  \n",
       "75%      0.000000   31.000000  \n",
       "max      6.000000  512.329200  "
      ]
     },
     "execution_count": 129,
     "metadata": {},
     "output_type": "execute_result"
    }
   ],
   "source": [
    "train.describe()"
   ]
  },
  {
   "cell_type": "code",
   "execution_count": 130,
   "id": "781b61e9-b985-4ef4-9235-e78026304f91",
   "metadata": {},
   "outputs": [
    {
     "data": {
      "text/plain": [
       "PassengerId      0\n",
       "Survived         0\n",
       "Pclass           0\n",
       "Name             0\n",
       "Sex              0\n",
       "Age            177\n",
       "SibSp            0\n",
       "Parch            0\n",
       "Ticket           0\n",
       "Fare             0\n",
       "Cabin          687\n",
       "Embarked         2\n",
       "dtype: int64"
      ]
     },
     "execution_count": 130,
     "metadata": {},
     "output_type": "execute_result"
    }
   ],
   "source": [
    "train.isna().sum()"
   ]
  },
  {
   "cell_type": "code",
   "execution_count": 131,
   "id": "fc0de8e0-cc0b-4ff4-8116-3236cb429e99",
   "metadata": {},
   "outputs": [
    {
     "data": {
      "text/plain": [
       "(array([0, 1]), array([549, 342]))"
      ]
     },
     "execution_count": 131,
     "metadata": {},
     "output_type": "execute_result"
    }
   ],
   "source": [
    "np.unique(train['Survived'], return_counts=True)"
   ]
  },
  {
   "cell_type": "markdown",
   "id": "011bc266-1777-42db-bf79-8188d4af48a9",
   "metadata": {},
   "source": [
    "#### 1.2- Tratamento dos dados :"
   ]
  },
  {
   "cell_type": "code",
   "execution_count": 132,
   "id": "ca67435a-1924-4a35-8409-e5c700d4bfe4",
   "metadata": {},
   "outputs": [],
   "source": [
    "# Removendo as colunas que não terão muita influência no valor final :\n",
    "\n",
    "\n",
    "col = ['PassengerId', 'Name', 'Ticket', 'Cabin'] # A coluna Cabin também foi removida, pois contém muitos valores NaN, dificil extrair informações.\n",
    "train = train.loc[:, ~train.columns.isin(col)]"
   ]
  },
  {
   "cell_type": "code",
   "execution_count": 133,
   "id": "31b5976d-e36a-46f1-9da6-f478a456af96",
   "metadata": {},
   "outputs": [],
   "source": [
    "# Não da pra usar o KNN IMPUTER para colunas não numéricas como a EMBARKED,en tão iremos preencher os NaN's\n",
    "# com a moda dos valores antes de convertê-la para numérico : \n",
    "\n",
    "median_value = train['Embarked'].mode()[0]\n",
    "train['Embarked'].fillna(median_value, inplace=True)"
   ]
  },
  {
   "cell_type": "code",
   "execution_count": 134,
   "id": "eaa152a2-7170-41de-9c27-4d408981c774",
   "metadata": {},
   "outputs": [
    {
     "data": {
      "text/html": [
       "<div>\n",
       "<style scoped>\n",
       "    .dataframe tbody tr th:only-of-type {\n",
       "        vertical-align: middle;\n",
       "    }\n",
       "\n",
       "    .dataframe tbody tr th {\n",
       "        vertical-align: top;\n",
       "    }\n",
       "\n",
       "    .dataframe thead th {\n",
       "        text-align: right;\n",
       "    }\n",
       "</style>\n",
       "<table border=\"1\" class=\"dataframe\">\n",
       "  <thead>\n",
       "    <tr style=\"text-align: right;\">\n",
       "      <th></th>\n",
       "      <th>Survived</th>\n",
       "      <th>Pclass</th>\n",
       "      <th>Sex</th>\n",
       "      <th>Age</th>\n",
       "      <th>SibSp</th>\n",
       "      <th>Parch</th>\n",
       "      <th>Fare</th>\n",
       "      <th>Embarked</th>\n",
       "    </tr>\n",
       "  </thead>\n",
       "  <tbody>\n",
       "    <tr>\n",
       "      <th>0</th>\n",
       "      <td>0</td>\n",
       "      <td>3</td>\n",
       "      <td>1</td>\n",
       "      <td>22.0</td>\n",
       "      <td>1</td>\n",
       "      <td>0</td>\n",
       "      <td>7.2500</td>\n",
       "      <td>S</td>\n",
       "    </tr>\n",
       "    <tr>\n",
       "      <th>1</th>\n",
       "      <td>1</td>\n",
       "      <td>1</td>\n",
       "      <td>0</td>\n",
       "      <td>38.0</td>\n",
       "      <td>1</td>\n",
       "      <td>0</td>\n",
       "      <td>71.2833</td>\n",
       "      <td>C</td>\n",
       "    </tr>\n",
       "    <tr>\n",
       "      <th>2</th>\n",
       "      <td>1</td>\n",
       "      <td>3</td>\n",
       "      <td>0</td>\n",
       "      <td>26.0</td>\n",
       "      <td>0</td>\n",
       "      <td>0</td>\n",
       "      <td>7.9250</td>\n",
       "      <td>S</td>\n",
       "    </tr>\n",
       "    <tr>\n",
       "      <th>3</th>\n",
       "      <td>1</td>\n",
       "      <td>1</td>\n",
       "      <td>0</td>\n",
       "      <td>35.0</td>\n",
       "      <td>1</td>\n",
       "      <td>0</td>\n",
       "      <td>53.1000</td>\n",
       "      <td>S</td>\n",
       "    </tr>\n",
       "    <tr>\n",
       "      <th>4</th>\n",
       "      <td>0</td>\n",
       "      <td>3</td>\n",
       "      <td>1</td>\n",
       "      <td>35.0</td>\n",
       "      <td>0</td>\n",
       "      <td>0</td>\n",
       "      <td>8.0500</td>\n",
       "      <td>S</td>\n",
       "    </tr>\n",
       "  </tbody>\n",
       "</table>\n",
       "</div>"
      ],
      "text/plain": [
       "   Survived  Pclass Sex   Age  SibSp  Parch     Fare Embarked\n",
       "0         0       3   1  22.0      1      0   7.2500        S\n",
       "1         1       1   0  38.0      1      0  71.2833        C\n",
       "2         1       3   0  26.0      0      0   7.9250        S\n",
       "3         1       1   0  35.0      1      0  53.1000        S\n",
       "4         0       3   1  35.0      0      0   8.0500        S"
      ]
     },
     "execution_count": 134,
     "metadata": {},
     "output_type": "execute_result"
    }
   ],
   "source": [
    "# Convertendo a coluna Sex de valores nominais para numéricos :\n",
    "\n",
    "\n",
    "train.loc[:, 'Sex'] = train.loc[:, 'Sex'].replace({'male' : 1, 'female' : 0})\n",
    "train.head()"
   ]
  },
  {
   "cell_type": "code",
   "execution_count": 135,
   "id": "e0043c4f-9fd3-4795-bcf0-377977753bff",
   "metadata": {},
   "outputs": [
    {
     "name": "stdout",
     "output_type": "stream",
     "text": [
      "C  Q  S\n",
      "0  0  1    646\n",
      "1  0  0    168\n",
      "0  1  0     77\n",
      "Name: count, dtype: int64\n"
     ]
    },
    {
     "data": {
      "text/html": [
       "<div>\n",
       "<style scoped>\n",
       "    .dataframe tbody tr th:only-of-type {\n",
       "        vertical-align: middle;\n",
       "    }\n",
       "\n",
       "    .dataframe tbody tr th {\n",
       "        vertical-align: top;\n",
       "    }\n",
       "\n",
       "    .dataframe thead th {\n",
       "        text-align: right;\n",
       "    }\n",
       "</style>\n",
       "<table border=\"1\" class=\"dataframe\">\n",
       "  <thead>\n",
       "    <tr style=\"text-align: right;\">\n",
       "      <th></th>\n",
       "      <th>Survived</th>\n",
       "      <th>Pclass</th>\n",
       "      <th>Sex</th>\n",
       "      <th>Age</th>\n",
       "      <th>SibSp</th>\n",
       "      <th>Parch</th>\n",
       "      <th>Fare</th>\n",
       "      <th>C</th>\n",
       "      <th>Q</th>\n",
       "      <th>S</th>\n",
       "    </tr>\n",
       "  </thead>\n",
       "  <tbody>\n",
       "    <tr>\n",
       "      <th>0</th>\n",
       "      <td>0</td>\n",
       "      <td>3</td>\n",
       "      <td>1</td>\n",
       "      <td>22.0</td>\n",
       "      <td>1</td>\n",
       "      <td>0</td>\n",
       "      <td>7.2500</td>\n",
       "      <td>0</td>\n",
       "      <td>0</td>\n",
       "      <td>1</td>\n",
       "    </tr>\n",
       "    <tr>\n",
       "      <th>1</th>\n",
       "      <td>1</td>\n",
       "      <td>1</td>\n",
       "      <td>0</td>\n",
       "      <td>38.0</td>\n",
       "      <td>1</td>\n",
       "      <td>0</td>\n",
       "      <td>71.2833</td>\n",
       "      <td>1</td>\n",
       "      <td>0</td>\n",
       "      <td>0</td>\n",
       "    </tr>\n",
       "    <tr>\n",
       "      <th>2</th>\n",
       "      <td>1</td>\n",
       "      <td>3</td>\n",
       "      <td>0</td>\n",
       "      <td>26.0</td>\n",
       "      <td>0</td>\n",
       "      <td>0</td>\n",
       "      <td>7.9250</td>\n",
       "      <td>0</td>\n",
       "      <td>0</td>\n",
       "      <td>1</td>\n",
       "    </tr>\n",
       "    <tr>\n",
       "      <th>3</th>\n",
       "      <td>1</td>\n",
       "      <td>1</td>\n",
       "      <td>0</td>\n",
       "      <td>35.0</td>\n",
       "      <td>1</td>\n",
       "      <td>0</td>\n",
       "      <td>53.1000</td>\n",
       "      <td>0</td>\n",
       "      <td>0</td>\n",
       "      <td>1</td>\n",
       "    </tr>\n",
       "    <tr>\n",
       "      <th>4</th>\n",
       "      <td>0</td>\n",
       "      <td>3</td>\n",
       "      <td>1</td>\n",
       "      <td>35.0</td>\n",
       "      <td>0</td>\n",
       "      <td>0</td>\n",
       "      <td>8.0500</td>\n",
       "      <td>0</td>\n",
       "      <td>0</td>\n",
       "      <td>1</td>\n",
       "    </tr>\n",
       "  </tbody>\n",
       "</table>\n",
       "</div>"
      ],
      "text/plain": [
       "   Survived  Pclass Sex   Age  SibSp  Parch     Fare  C  Q  S\n",
       "0         0       3   1  22.0      1      0   7.2500  0  0  1\n",
       "1         1       1   0  38.0      1      0  71.2833  1  0  0\n",
       "2         1       3   0  26.0      0      0   7.9250  0  0  1\n",
       "3         1       1   0  35.0      1      0  53.1000  0  0  1\n",
       "4         0       3   1  35.0      0      0   8.0500  0  0  1"
      ]
     },
     "execution_count": 135,
     "metadata": {},
     "output_type": "execute_result"
    }
   ],
   "source": [
    "# Fazendo o OneHotEncoder da classe Embarked.\n",
    "\n",
    "\n",
    "\n",
    "encoded_df = pd.get_dummies(train['Embarked'], columns=['Embarked']).astype(int)\n",
    "train.drop(columns = ['Embarked'], inplace = True)\n",
    "train = pd.concat([train, encoded_df], axis = 1)\n",
    "\n",
    "print(encoded_df.value_counts())\n",
    "train.head()"
   ]
  },
  {
   "cell_type": "code",
   "execution_count": 136,
   "id": "76be90f2-80c1-422c-83ee-60eb89bc7547",
   "metadata": {},
   "outputs": [
    {
     "data": {
      "text/plain": [
       "Survived      0\n",
       "Pclass        0\n",
       "Sex           0\n",
       "Age         177\n",
       "SibSp         0\n",
       "Parch         0\n",
       "Fare          0\n",
       "C             0\n",
       "Q             0\n",
       "S             0\n",
       "dtype: int64"
      ]
     },
     "execution_count": 136,
     "metadata": {},
     "output_type": "execute_result"
    }
   ],
   "source": [
    "train.isna().sum()"
   ]
  },
  {
   "cell_type": "code",
   "execution_count": 137,
   "id": "b5a6b6bc-0cd2-48df-870c-52215c996095",
   "metadata": {},
   "outputs": [
    {
     "data": {
      "text/plain": [
       "Survived    0\n",
       "Pclass      0\n",
       "Sex         0\n",
       "Age         0\n",
       "SibSp       0\n",
       "Parch       0\n",
       "Fare        0\n",
       "C           0\n",
       "Q           0\n",
       "S           0\n",
       "dtype: int64"
      ]
     },
     "execution_count": 137,
     "metadata": {},
     "output_type": "execute_result"
    }
   ],
   "source": [
    "# Usando o KNN inputer para preencher os valores não nulos.\n",
    "\n",
    "imputer = KNNImputer(n_neighbors = 5)\n",
    "train = pd.DataFrame(imputer.fit_transform(train), columns = train.columns).astype(float)\n",
    "train.isna().sum()"
   ]
  },
  {
   "cell_type": "code",
   "execution_count": 138,
   "id": "3b97b9cc-8977-4268-978e-07f9d81e0b05",
   "metadata": {},
   "outputs": [],
   "source": [
    "# Escalonando os dados com MinMaxScaler : \n",
    "\n",
    "#scaler = MinMaxScaler()\n",
    "#train.loc[:, ['Age', 'Fare']] = scaler.fit_transform(train.loc[:, ['Age', 'Fare']])\n",
    "\n",
    "#x = train.loc[:, ~train.columns.isin(['Survived'])]\n",
    "#y = train.loc[:, 'Survived']"
   ]
  },
  {
   "cell_type": "code",
   "execution_count": 139,
   "id": "ed0ffd6d-d42b-4a1c-9d43-9e9b06109e0d",
   "metadata": {},
   "outputs": [],
   "source": [
    "# Escalonando os dados com o StandardScaler : \n",
    "\n",
    "scaler = StandardScaler()\n",
    "train.loc[:, ['Age', 'Fare']] = scaler.fit_transform(train.loc[:, ['Age', 'Fare']]) # Apenas os valores numéricos contínuos serão escalonados.\n",
    "\n",
    "x = train.loc[:, ~train.columns.isin(['Survived'])]\n",
    "y = train.loc[:, 'Survived']"
   ]
  },
  {
   "cell_type": "markdown",
   "id": "b249b856-8409-4196-a8c5-2a6faae4a5ba",
   "metadata": {},
   "source": [
    "#### 1.3- Dataset que representará o conjunto de treino e de validação do modelo, antes de testá-lo : "
   ]
  },
  {
   "cell_type": "code",
   "execution_count": 140,
   "id": "c799e9c2-c582-43bd-83cb-e07783093fe9",
   "metadata": {},
   "outputs": [
    {
     "data": {
      "text/html": [
       "<div>\n",
       "<style scoped>\n",
       "    .dataframe tbody tr th:only-of-type {\n",
       "        vertical-align: middle;\n",
       "    }\n",
       "\n",
       "    .dataframe tbody tr th {\n",
       "        vertical-align: top;\n",
       "    }\n",
       "\n",
       "    .dataframe thead th {\n",
       "        text-align: right;\n",
       "    }\n",
       "</style>\n",
       "<table border=\"1\" class=\"dataframe\">\n",
       "  <thead>\n",
       "    <tr style=\"text-align: right;\">\n",
       "      <th></th>\n",
       "      <th>Survived</th>\n",
       "      <th>Pclass</th>\n",
       "      <th>Sex</th>\n",
       "      <th>Age</th>\n",
       "      <th>SibSp</th>\n",
       "      <th>Parch</th>\n",
       "      <th>Fare</th>\n",
       "      <th>C</th>\n",
       "      <th>Q</th>\n",
       "      <th>S</th>\n",
       "    </tr>\n",
       "  </thead>\n",
       "  <tbody>\n",
       "    <tr>\n",
       "      <th>0</th>\n",
       "      <td>0.0</td>\n",
       "      <td>3.0</td>\n",
       "      <td>1.0</td>\n",
       "      <td>-0.587670</td>\n",
       "      <td>1.0</td>\n",
       "      <td>0.0</td>\n",
       "      <td>-0.502445</td>\n",
       "      <td>0.0</td>\n",
       "      <td>0.0</td>\n",
       "      <td>1.0</td>\n",
       "    </tr>\n",
       "    <tr>\n",
       "      <th>1</th>\n",
       "      <td>1.0</td>\n",
       "      <td>1.0</td>\n",
       "      <td>0.0</td>\n",
       "      <td>0.583619</td>\n",
       "      <td>1.0</td>\n",
       "      <td>0.0</td>\n",
       "      <td>0.786845</td>\n",
       "      <td>1.0</td>\n",
       "      <td>0.0</td>\n",
       "      <td>0.0</td>\n",
       "    </tr>\n",
       "    <tr>\n",
       "      <th>2</th>\n",
       "      <td>1.0</td>\n",
       "      <td>3.0</td>\n",
       "      <td>0.0</td>\n",
       "      <td>-0.294848</td>\n",
       "      <td>0.0</td>\n",
       "      <td>0.0</td>\n",
       "      <td>-0.488854</td>\n",
       "      <td>0.0</td>\n",
       "      <td>0.0</td>\n",
       "      <td>1.0</td>\n",
       "    </tr>\n",
       "    <tr>\n",
       "      <th>3</th>\n",
       "      <td>1.0</td>\n",
       "      <td>1.0</td>\n",
       "      <td>0.0</td>\n",
       "      <td>0.364002</td>\n",
       "      <td>1.0</td>\n",
       "      <td>0.0</td>\n",
       "      <td>0.420730</td>\n",
       "      <td>0.0</td>\n",
       "      <td>0.0</td>\n",
       "      <td>1.0</td>\n",
       "    </tr>\n",
       "    <tr>\n",
       "      <th>4</th>\n",
       "      <td>0.0</td>\n",
       "      <td>3.0</td>\n",
       "      <td>1.0</td>\n",
       "      <td>0.364002</td>\n",
       "      <td>0.0</td>\n",
       "      <td>0.0</td>\n",
       "      <td>-0.486337</td>\n",
       "      <td>0.0</td>\n",
       "      <td>0.0</td>\n",
       "      <td>1.0</td>\n",
       "    </tr>\n",
       "  </tbody>\n",
       "</table>\n",
       "</div>"
      ],
      "text/plain": [
       "   Survived  Pclass  Sex       Age  SibSp  Parch      Fare    C    Q    S\n",
       "0       0.0     3.0  1.0 -0.587670    1.0    0.0 -0.502445  0.0  0.0  1.0\n",
       "1       1.0     1.0  0.0  0.583619    1.0    0.0  0.786845  1.0  0.0  0.0\n",
       "2       1.0     3.0  0.0 -0.294848    0.0    0.0 -0.488854  0.0  0.0  1.0\n",
       "3       1.0     1.0  0.0  0.364002    1.0    0.0  0.420730  0.0  0.0  1.0\n",
       "4       0.0     3.0  1.0  0.364002    0.0    0.0 -0.486337  0.0  0.0  1.0"
      ]
     },
     "execution_count": 140,
     "metadata": {},
     "output_type": "execute_result"
    }
   ],
   "source": [
    "data_norm = pd.DataFrame(np.column_stack((y, x)), columns = train.columns)\n",
    "\n",
    "data_norm.head()"
   ]
  },
  {
   "cell_type": "markdown",
   "id": "dc8c11f2-7d84-4c08-8e08-d6bc0cc12f13",
   "metadata": {},
   "source": [
    "#### 1.4- Agora que os dados estão prontos, iremos analisar se há multicolinearidade : "
   ]
  },
  {
   "cell_type": "code",
   "execution_count": 141,
   "id": "1946944a-9600-4d99-81aa-a478b48d59b6",
   "metadata": {},
   "outputs": [
    {
     "data": {
      "text/plain": [
       "<Axes: >"
      ]
     },
     "execution_count": 141,
     "metadata": {},
     "output_type": "execute_result"
    },
    {
     "data": {
      "image/png": "[encoded data removed]",
      "text/plain": [
       "<Figure size 640x480 with 2 Axes>"
      ]
     },
     "metadata": {},
     "output_type": "display_data"
    }
   ],
   "source": [
    "corr = data_norm.corr()\n",
    "sns.heatmap(corr, \n",
    "            xticklabels=corr.columns.values,\n",
    "            yticklabels=corr.columns.values)"
   ]
  },
  {
   "cell_type": "code",
   "execution_count": 142,
   "id": "895d4981-afd4-4e85-97f5-c6a386c15c29",
   "metadata": {},
   "outputs": [
    {
     "data": {
      "text/html": [
       "<div>\n",
       "<style scoped>\n",
       "    .dataframe tbody tr th:only-of-type {\n",
       "        vertical-align: middle;\n",
       "    }\n",
       "\n",
       "    .dataframe tbody tr th {\n",
       "        vertical-align: top;\n",
       "    }\n",
       "\n",
       "    .dataframe thead th {\n",
       "        text-align: right;\n",
       "    }\n",
       "</style>\n",
       "<table border=\"1\" class=\"dataframe\">\n",
       "  <thead>\n",
       "    <tr style=\"text-align: right;\">\n",
       "      <th></th>\n",
       "      <th>Survived</th>\n",
       "      <th>Pclass</th>\n",
       "      <th>Sex</th>\n",
       "      <th>Age</th>\n",
       "      <th>SibSp</th>\n",
       "      <th>Parch</th>\n",
       "      <th>Fare</th>\n",
       "      <th>C</th>\n",
       "      <th>Q</th>\n",
       "      <th>S</th>\n",
       "    </tr>\n",
       "  </thead>\n",
       "  <tbody>\n",
       "    <tr>\n",
       "      <th>Survived</th>\n",
       "      <td>1.000000</td>\n",
       "      <td>-0.338481</td>\n",
       "      <td>-0.543351</td>\n",
       "      <td>-0.106268</td>\n",
       "      <td>-0.035322</td>\n",
       "      <td>0.081629</td>\n",
       "      <td>0.257307</td>\n",
       "      <td>0.168240</td>\n",
       "      <td>0.003650</td>\n",
       "      <td>-0.149683</td>\n",
       "    </tr>\n",
       "    <tr>\n",
       "      <th>Pclass</th>\n",
       "      <td>-0.338481</td>\n",
       "      <td>1.000000</td>\n",
       "      <td>0.131900</td>\n",
       "      <td>-0.364198</td>\n",
       "      <td>0.083081</td>\n",
       "      <td>0.018443</td>\n",
       "      <td>-0.549500</td>\n",
       "      <td>-0.243292</td>\n",
       "      <td>0.221009</td>\n",
       "      <td>0.074053</td>\n",
       "    </tr>\n",
       "    <tr>\n",
       "      <th>Sex</th>\n",
       "      <td>-0.543351</td>\n",
       "      <td>0.131900</td>\n",
       "      <td>1.000000</td>\n",
       "      <td>0.136248</td>\n",
       "      <td>-0.114631</td>\n",
       "      <td>-0.245489</td>\n",
       "      <td>-0.182333</td>\n",
       "      <td>-0.082853</td>\n",
       "      <td>-0.074115</td>\n",
       "      <td>0.119224</td>\n",
       "    </tr>\n",
       "    <tr>\n",
       "      <th>Age</th>\n",
       "      <td>-0.106268</td>\n",
       "      <td>-0.364198</td>\n",
       "      <td>0.136248</td>\n",
       "      <td>1.000000</td>\n",
       "      <td>-0.211559</td>\n",
       "      <td>-0.181281</td>\n",
       "      <td>0.094496</td>\n",
       "      <td>0.010745</td>\n",
       "      <td>-0.003547</td>\n",
       "      <td>-0.007181</td>\n",
       "    </tr>\n",
       "    <tr>\n",
       "      <th>SibSp</th>\n",
       "      <td>-0.035322</td>\n",
       "      <td>0.083081</td>\n",
       "      <td>-0.114631</td>\n",
       "      <td>-0.211559</td>\n",
       "      <td>1.000000</td>\n",
       "      <td>0.414838</td>\n",
       "      <td>0.159651</td>\n",
       "      <td>-0.059528</td>\n",
       "      <td>-0.026354</td>\n",
       "      <td>0.068734</td>\n",
       "    </tr>\n",
       "    <tr>\n",
       "      <th>Parch</th>\n",
       "      <td>0.081629</td>\n",
       "      <td>0.018443</td>\n",
       "      <td>-0.245489</td>\n",
       "      <td>-0.181281</td>\n",
       "      <td>0.414838</td>\n",
       "      <td>1.000000</td>\n",
       "      <td>0.216225</td>\n",
       "      <td>-0.011069</td>\n",
       "      <td>-0.081228</td>\n",
       "      <td>0.060814</td>\n",
       "    </tr>\n",
       "    <tr>\n",
       "      <th>Fare</th>\n",
       "      <td>0.257307</td>\n",
       "      <td>-0.549500</td>\n",
       "      <td>-0.182333</td>\n",
       "      <td>0.094496</td>\n",
       "      <td>0.159651</td>\n",
       "      <td>0.216225</td>\n",
       "      <td>1.000000</td>\n",
       "      <td>0.269335</td>\n",
       "      <td>-0.117216</td>\n",
       "      <td>-0.162184</td>\n",
       "    </tr>\n",
       "    <tr>\n",
       "      <th>C</th>\n",
       "      <td>0.168240</td>\n",
       "      <td>-0.243292</td>\n",
       "      <td>-0.082853</td>\n",
       "      <td>0.010745</td>\n",
       "      <td>-0.059528</td>\n",
       "      <td>-0.011069</td>\n",
       "      <td>0.269335</td>\n",
       "      <td>1.000000</td>\n",
       "      <td>-0.148258</td>\n",
       "      <td>-0.782742</td>\n",
       "    </tr>\n",
       "    <tr>\n",
       "      <th>Q</th>\n",
       "      <td>0.003650</td>\n",
       "      <td>0.221009</td>\n",
       "      <td>-0.074115</td>\n",
       "      <td>-0.003547</td>\n",
       "      <td>-0.026354</td>\n",
       "      <td>-0.081228</td>\n",
       "      <td>-0.117216</td>\n",
       "      <td>-0.148258</td>\n",
       "      <td>1.000000</td>\n",
       "      <td>-0.499421</td>\n",
       "    </tr>\n",
       "    <tr>\n",
       "      <th>S</th>\n",
       "      <td>-0.149683</td>\n",
       "      <td>0.074053</td>\n",
       "      <td>0.119224</td>\n",
       "      <td>-0.007181</td>\n",
       "      <td>0.068734</td>\n",
       "      <td>0.060814</td>\n",
       "      <td>-0.162184</td>\n",
       "      <td>-0.782742</td>\n",
       "      <td>-0.499421</td>\n",
       "      <td>1.000000</td>\n",
       "    </tr>\n",
       "  </tbody>\n",
       "</table>\n",
       "</div>"
      ],
      "text/plain": [
       "          Survived    Pclass       Sex       Age     SibSp     Parch  \\\n",
       "Survived  1.000000 -0.338481 -0.543351 -0.106268 -0.035322  0.081629   \n",
       "Pclass   -0.338481  1.000000  0.131900 -0.364198  0.083081  0.018443   \n",
       "Sex      -0.543351  0.131900  1.000000  0.136248 -0.114631 -0.245489   \n",
       "Age      -0.106268 -0.364198  0.136248  1.000000 -0.211559 -0.181281   \n",
       "SibSp    -0.035322  0.083081 -0.114631 -0.211559  1.000000  0.414838   \n",
       "Parch     0.081629  0.018443 -0.245489 -0.181281  0.414838  1.000000   \n",
       "Fare      0.257307 -0.549500 -0.182333  0.094496  0.159651  0.216225   \n",
       "C         0.168240 -0.243292 -0.082853  0.010745 -0.059528 -0.011069   \n",
       "Q         0.003650  0.221009 -0.074115 -0.003547 -0.026354 -0.081228   \n",
       "S        -0.149683  0.074053  0.119224 -0.007181  0.068734  0.060814   \n",
       "\n",
       "              Fare         C         Q         S  \n",
       "Survived  0.257307  0.168240  0.003650 -0.149683  \n",
       "Pclass   -0.549500 -0.243292  0.221009  0.074053  \n",
       "Sex      -0.182333 -0.082853 -0.074115  0.119224  \n",
       "Age       0.094496  0.010745 -0.003547 -0.007181  \n",
       "SibSp     0.159651 -0.059528 -0.026354  0.068734  \n",
       "Parch     0.216225 -0.011069 -0.081228  0.060814  \n",
       "Fare      1.000000  0.269335 -0.117216 -0.162184  \n",
       "C         0.269335  1.000000 -0.148258 -0.782742  \n",
       "Q        -0.117216 -0.148258  1.000000 -0.499421  \n",
       "S        -0.162184 -0.782742 -0.499421  1.000000  "
      ]
     },
     "execution_count": 142,
     "metadata": {},
     "output_type": "execute_result"
    }
   ],
   "source": [
    "corr"
   ]
  },
  {
   "cell_type": "code",
   "execution_count": 143,
   "id": "3fe98a50-19b2-4789-bc41-8d5a3ab45368",
   "metadata": {},
   "outputs": [
    {
     "name": "stdout",
     "output_type": "stream",
     "text": [
      "Correlation between SibSp and Parch: 0.41483769862015624\n",
      "Correlation between Parch and SibSp: 0.41483769862015624\n"
     ]
    }
   ],
   "source": [
    "# Define the threshold\n",
    "multicol_thresh = 0.3\n",
    "\n",
    "# Iterate over the correlation matrix and print correlations exceeding the threshold\n",
    "for i in range(corr.shape[0]):\n",
    "    for j in range(corr.shape[1]):\n",
    "        if i != j and corr.iloc[i, j] > multicol_thresh:  # Avoid self-correlations\n",
    "            print(f'Correlation between {corr.columns[i]} and {corr.columns[j]}: {corr.iloc[i, j]}')\n"
   ]
  },
  {
   "cell_type": "code",
   "execution_count": 144,
   "id": "c2899c7f-8658-4f37-8785-fc842f23d724",
   "metadata": {},
   "outputs": [
    {
     "name": "stdout",
     "output_type": "stream",
     "text": [
      "<class 'pandas.core.frame.DataFrame'>\n",
      "RangeIndex: 891 entries, 0 to 890\n",
      "Data columns (total 10 columns):\n",
      " #   Column    Non-Null Count  Dtype  \n",
      "---  ------    --------------  -----  \n",
      " 0   Survived  891 non-null    float64\n",
      " 1   Pclass    891 non-null    float64\n",
      " 2   Sex       891 non-null    float64\n",
      " 3   Age       891 non-null    float64\n",
      " 4   SibSp     891 non-null    float64\n",
      " 5   Parch     891 non-null    float64\n",
      " 6   Fare      891 non-null    float64\n",
      " 7   C         891 non-null    float64\n",
      " 8   Q         891 non-null    float64\n",
      " 9   S         891 non-null    float64\n",
      "dtypes: float64(10)\n",
      "memory usage: 69.7 KB\n"
     ]
    }
   ],
   "source": [
    "data_norm.info()"
   ]
  },
  {
   "cell_type": "code",
   "execution_count": 145,
   "id": "1feb1e3d-0a2f-4887-8517-159b6ea240b8",
   "metadata": {},
   "outputs": [
    {
     "data": {
      "text/plain": [
       "(array([0., 1.]), array([549, 342]))"
      ]
     },
     "execution_count": 145,
     "metadata": {},
     "output_type": "execute_result"
    }
   ],
   "source": [
    "np.unique(data_norm['Survived'], return_counts=True) # Pode-se notar que há mais valores 0's do que 1's, ou seja, que morreram."
   ]
  },
  {
   "cell_type": "markdown",
   "id": "429da0e7-7962-41da-9ae9-bf2bad329b1b",
   "metadata": {},
   "source": [
    "### 2- Treinamento e validação dos modelos :"
   ]
  },
  {
   "cell_type": "markdown",
   "id": "dbe305a9-9754-4a1c-869f-c83cfb7144f1",
   "metadata": {},
   "source": [
    "#### 2.1- Separando em dados de treino e dados de teste : "
   ]
  },
  {
   "cell_type": "code",
   "execution_count": 146,
   "id": "27bf1c92-3e2b-4e3b-abee-fa0b654b89ed",
   "metadata": {},
   "outputs": [],
   "source": [
    "X_train, X_test, y_train, y_test = train_test_split(x, y, train_size = 0.8)"
   ]
  },
  {
   "cell_type": "code",
   "execution_count": 147,
   "id": "e0185e75-2849-404c-be41-299f1183d2b3",
   "metadata": {},
   "outputs": [
    {
     "data": {
      "text/plain": [
       "((712, 9), (712,))"
      ]
     },
     "execution_count": 147,
     "metadata": {},
     "output_type": "execute_result"
    }
   ],
   "source": [
    "X_train.shape, y_train.shape"
   ]
  },
  {
   "cell_type": "code",
   "execution_count": 148,
   "id": "a935781a-7840-46b1-a0b7-49fa05762540",
   "metadata": {},
   "outputs": [
    {
     "data": {
      "text/plain": [
       "((179, 9), (179,))"
      ]
     },
     "execution_count": 148,
     "metadata": {},
     "output_type": "execute_result"
    }
   ],
   "source": [
    "X_test.shape, y_test.shape"
   ]
  },
  {
   "cell_type": "markdown",
   "id": "f07cda93-d0a8-4033-8e64-9a80670ffa76",
   "metadata": {},
   "source": [
    "#### 2.2- Fazendo um GridSearch para cada modelo MLP com os dados de treino e realizando a validação : "
   ]
  },
  {
   "cell_type": "markdown",
   "id": "e913939c-d95f-48ed-96f4-765766d46524",
   "metadata": {},
   "source": [
    "##### 2.2.1- MLP com otimizador ADAM : "
   ]
  },
  {
   "cell_type": "code",
   "execution_count": 149,
   "id": "07022d03-45ea-4b20-83a5-5669c8f3cd69",
   "metadata": {},
   "outputs": [
    {
     "name": "stdout",
     "output_type": "stream",
     "text": [
      "The best param is with layers : (9, 9, 1), activation : tanh and the accuracy is : 0.8370500782472614\n",
      "CPU times: user 1h 52min 44s, sys: 827 ms, total: 1h 52min 45s\n",
      "Wall time: 1h 52min 49s\n"
     ]
    }
   ],
   "source": [
    "%%time\n",
    "\n",
    "# Criando o modelo classificador com o otimizador ADAM : \n",
    "\n",
    "mlp_with_adam = MLPClassifier(solver = 'adam', max_iter = 500, alpha = 0.0001, beta_1 = 0.9, beta_2 = 0.999)\n",
    "\n",
    "n_neurons = [\n",
    "    (i, j) for i in range(1, 10) for j in range(1, 5)\n",
    "]+ [\n",
    "    (i, j, k) for i in range(1, 10) for j in range(1, 10) for k in range(1, 5)\n",
    "]\n",
    "\n",
    "actv = ['logistic', 'tanh', 'relu', 'identity']\n",
    "\n",
    "parameters = {'hidden_layer_sizes': n_neurons,\n",
    "             'activation' : actv}\n",
    "\n",
    "# O GridSearch será com os dados de treinamento : \n",
    "\n",
    "mlp_adam_clf = GridSearchCV(estimator = mlp_with_adam, param_grid = parameters, cv = 10, scoring='accuracy').fit(X_train, y_train)\n",
    "\n",
    "bparam_adam_hidd = mlp_adam_clf.best_params_['hidden_layer_sizes']\n",
    "bparam_adam_actv = mlp_adam_clf.best_params_['activation']\n",
    "\n",
    "print(f\"The best param is with layers : {bparam_adam_hidd}, activation : {bparam_adam_actv} and the accuracy is : {mlp_adam_clf.best_score_}\")"
   ]
  },
  {
   "cell_type": "code",
   "execution_count": 150,
   "id": "b40ffdae-dd9c-4dd8-bfff-42b9caf5a1ed",
   "metadata": {},
   "outputs": [
    {
     "ename": "SyntaxError",
     "evalue": "invalid syntax (<unknown>, line 6)",
     "output_type": "error",
     "traceback": [
      "Traceback \u001b[0;36m(most recent call last)\u001b[0m:\n",
      "\u001b[0m  File \u001b[1;32m~/.local/lib/python3.10/site-packages/IPython/core/interactiveshell.py:3553\u001b[0m in \u001b[1;35mrun_code\u001b[0m\n    exec(code_obj, self.user_global_ns, self.user_ns)\u001b[0m\n",
      "\u001b[0m  Cell \u001b[1;32mIn[150], line 1\u001b[0m\n    get_ipython().run_cell_magic('time', '', '\\n\\n# Fazendo um loop para pegar a acurácia média do classificador nos dados de treino: \\n\\nresult_ml_adam = list()\\n\\nmlp_adam = MLPClassifier(hidden_layer_sizes = bparam_adam_hidd, activation = bparam_adam_actv, \\n                         solver = \\'adam\\', , alpha = 0.0001, beta_1 = 0.9, beta_2 = 0.999, max_iter = 500)\\n\\n\\nfor i in range(10):\\n    x, y = shuffle(X_train, y_train, random_state = 42)\\n    result_ml_adam.append(np.mean(cross_val_score(mlp_adam, x, y, cv = 10)))\\n\\nresult_ml_adam = np.array(result_ml_adam)\\nprint(f\"The accuracy for mlp is {np.mean(result_ml_adam)} +- {statistics.stdev(result_ml_adam)}\")\\n')\u001b[0m\n",
      "\u001b[0m  File \u001b[1;32m~/.local/lib/python3.10/site-packages/IPython/core/interactiveshell.py:2517\u001b[0m in \u001b[1;35mrun_cell_magic\u001b[0m\n    result = fn(*args, **kwargs)\u001b[0m\n",
      "\u001b[0m  File \u001b[1;32m~/.local/lib/python3.10/site-packages/IPython/core/magics/execution.py:1296\u001b[0m in \u001b[1;35mtime\u001b[0m\n    expr_ast = self.shell.compile.ast_parse(expr)\u001b[0m\n",
      "\u001b[0;36m  File \u001b[0;32m~/.local/lib/python3.10/site-packages/IPython/core/compilerop.py:86\u001b[0;36m in \u001b[0;35mast_parse\u001b[0;36m\n\u001b[0;31m    return compile(source, filename, symbol, self.flags | PyCF_ONLY_AST, 1)\u001b[0;36m\n",
      "\u001b[0;36m  File \u001b[0;32m<unknown>:6\u001b[0;36m\u001b[0m\n\u001b[0;31m    solver = 'adam', , alpha = 0.0001, beta_1 = 0.9, beta_2 = 0.999, max_iter = 500)\u001b[0m\n\u001b[0m                     ^\u001b[0m\n\u001b[0;31mSyntaxError\u001b[0m\u001b[0;31m:\u001b[0m invalid syntax\n"
     ]
    }
   ],
   "source": [
    "%%time\n",
    "\n",
    "\n",
    "# Fazendo um loop para pegar a acurácia média do classificador nos dados de treino: \n",
    "\n",
    "result_ml_adam = list()\n",
    "\n",
    "mlp_adam = MLPClassifier(hidden_layer_sizes = bparam_adam_hidd, activation = bparam_adam_actv, \n",
    "                         solver = 'adam', alpha = 0.0001, beta_1 = 0.9, beta_2 = 0.999, max_iter = 500)\n",
    "\n",
    "\n",
    "for i in range(10):\n",
    "    x, y = shuffle(X_train, y_train, random_state = 42)\n",
    "    result_ml_adam.append(np.mean(cross_val_score(mlp_adam, x, y, cv = 10)))\n",
    "\n",
    "result_ml_adam = np.array(result_ml_adam)\n",
    "print(f\"The accuracy for mlp is {np.mean(result_ml_adam)} +- {statistics.stdev(result_ml_adam)}\")"
   ]
  },
  {
   "cell_type": "code",
   "execution_count": null,
   "id": "0e55c615-8f92-4c06-849e-341dadd11d75",
   "metadata": {},
   "outputs": [],
   "source": [
    "%%time\n",
    "# Pegando os dados para a curva AUC gerada pela rede MLP com o ADAM : \n",
    "\n",
    "y_pred_proba_adam = mlp_adam.fit(X_train, y_train).predict_proba(X_test)[:, 1]\n",
    "\n",
    "fpr_adam, tpr_adam, thresholds_adam = metrics.roc_curve(y_test,  y_pred_proba_adam)\n",
    "auc_adam = metrics.roc_auc_score(y_test, y_pred_proba_adam)\n",
    "\n",
    "print(f\"The AUC value for the mlp using adam is : {auc_adam}\")\n",
    "print(f\"The acc value for the mlp using adam is : {accuracy_score(y_test, y_pred_proba_adam >= 0.5)}\")"
   ]
  },
  {
   "cell_type": "markdown",
   "id": "1c13d50f-4f86-4927-b145-7102be10d287",
   "metadata": {},
   "source": [
    "##### 2.2.2- MLP com otimizador gradiente estocástico : "
   ]
  },
  {
   "cell_type": "code",
   "execution_count": null,
   "id": "1b446365-c9d3-4a7d-a64c-3ce572ebd196",
   "metadata": {},
   "outputs": [],
   "source": [
    "%%time\n",
    "\n",
    "# Agora, realizando o treinamento para a rede MLP com o otimizador do gradiente estocástico.\n",
    "\n",
    "mlp_with_sgd = MLPClassifier(solver = 'sgd', alpha = 0.0001, learning_rate = 'constant', learning_rate_init = 0.001, batch_size = 'auto', max_iter = 500)\n",
    "\n",
    "\n",
    "mlp_sgd_clf = GridSearchCV(estimator = mlp_with_sgd, param_grid = parameters, cv = 10, scoring='accuracy').fit(X_train, y_train)\n",
    "\n",
    "bparam_sgd_hidd = mlp_sgd_clf.best_params_['hidden_layer_sizes']\n",
    "bparam_sgd_actv = mlp_sgd_clf.best_params_['activation']\n",
    "\n",
    "print(f\"The best param is with layers : {bparam_sgd_hidd}, activation : {bparam_sgd_actv} and the accuracy is : {mlp_sgd_clf.best_score_}\")"
   ]
  },
  {
   "cell_type": "code",
   "execution_count": null,
   "id": "af3f47ac-ea79-4a41-adb4-4cf316174d66",
   "metadata": {},
   "outputs": [],
   "source": [
    "%%time\n",
    "\n",
    "\n",
    "# Fazendo um loop para pegar a acurácia média do classificador nos dados de treino: \n",
    "\n",
    "result_ml_sgd = list()\n",
    "\n",
    "mlp_sgd = MLPClassifier(hidden_layer_sizes = bparam_sgd_hidd, activation = bparam_sgd_actv, \n",
    "                         solver = 'sgd', alpha = 0.0001, learning_rate = 'constant', learning_rate_init = 0.001, batch_size = 'auto', max_iter = 500)\n",
    "\n",
    "\n",
    "for i in range(10):\n",
    "    x, y = shuffle(X_train, y_train, random_state = 42)\n",
    "    result_ml_sgd.append(np.mean(cross_val_score(mlp_sgd, x, y, cv = 10)))\n",
    "\n",
    "result_ml_sgd = np.array(result_ml_sgd)\n",
    "print(f\"The accuracy for mlp is {np.mean(result_ml_sgd)} +- {statistics.stdev(result_ml_sgd)}\")"
   ]
  },
  {
   "cell_type": "code",
   "execution_count": null,
   "id": "d170138b-249f-4559-9d67-af726a1e4934",
   "metadata": {},
   "outputs": [],
   "source": [
    "%%time\n",
    "\n",
    "# Pegando os dados para a curva AUC gerada pela rede MLPcom o SGD : \n",
    "\n",
    "y_pred_proba_sgd = mlp_sgd.fit(X_train, y_train).predict_proba(X_test)[:, 1]\n",
    "\n",
    "fpr_sgd, tpr_sgd, thresholds_sgd = metrics.roc_curve(y_test,  y_pred_proba_sgd)\n",
    "auc_sgd = metrics.roc_auc_score(y_test, y_pred_proba_sgd)\n",
    "\n",
    "print(f\"The AUC value for the mlp using sgd is : {auc_sgd}\")\n",
    "print(f\"The acc value for the mlp using sgd is : {accuracy_score(y_test, y_pred_proba_sgd >= 0.5)}\")"
   ]
  },
  {
   "cell_type": "markdown",
   "id": "ad5bc055-9935-4dfc-bd32-b8b80f331e89",
   "metadata": {},
   "source": [
    "##### 2.2.3- Usando o KNN para realizar a classificação : "
   ]
  },
  {
   "cell_type": "code",
   "execution_count": null,
   "id": "3cc78c3e-5139-4c47-806d-384fecb737c1",
   "metadata": {},
   "outputs": [],
   "source": [
    "%%time\n",
    "\n",
    "neigh = KNeighborsClassifier()\n",
    "\n",
    "n_neighbors = np.arange(start = 1, stop = 50, step = 1)\n",
    "parameters = {'n_neighbors': n_neighbors}\n",
    "\n",
    "knn_clf = GridSearchCV(estimator = neigh, param_grid = parameters, cv = 10).fit(X_train, y_train)\n",
    "\n",
    "bparam_knn = knn_clf.best_params_['n_neighbors']\n",
    "print(f\"The best param is {bparam_knn} and the accuracy is : {knn_clf.best_score_}\")"
   ]
  },
  {
   "cell_type": "code",
   "execution_count": null,
   "id": "a373de2c-dfa0-4468-9c06-37702c4026a3",
   "metadata": {},
   "outputs": [],
   "source": [
    "%%time\n",
    "\n",
    "# Fazendo um loop para pegar a acurácia média do classificador KNN : \n",
    "\n",
    "result_knn = list()\n",
    "\n",
    "knn_blam = KNeighborsClassifier(n_neighbors = bparam_knn)\n",
    "\n",
    "for i in range(10):\n",
    "    x, y = shuffle(X_train, y_train, random_state = 42)\n",
    "    result_knn.append(np.mean(cross_val_score(knn_blam, x, y, cv = 10)))\n",
    "\n",
    "result_knn = np.array(result_knn)\n",
    "print(f\"The accuracy for KNN is {np.mean(result_knn)} +- {statistics.stdev(result_knn)}\")"
   ]
  },
  {
   "cell_type": "code",
   "execution_count": null,
   "id": "33790dcb-d5eb-4362-9a4e-87d16a8a5189",
   "metadata": {},
   "outputs": [],
   "source": [
    "%%time\n",
    "\n",
    "# Pegando os dados para a curva AUC gerada pelo modelo knn : \n",
    "\n",
    "y_pred_proba_knn = knn_blam.fit(X_train, y_train).predict_proba(X_test)[:, 1]\n",
    "\n",
    "fpr_knn, tpr_knn, thresholds_knn = metrics.roc_curve(y_test,  y_pred_proba_knn)\n",
    "auc_knn = metrics.roc_auc_score(y_test, y_pred_proba_knn)\n",
    "\n",
    "print(f\"The AUC value for the knn is : {auc_knn}\")\n",
    "print(f\"The acc value for the knn : {accuracy_score(y_test, y_pred_proba_knn >= 0.5)}\")"
   ]
  },
  {
   "cell_type": "code",
   "execution_count": null,
   "id": "6e72c4a3-f8af-44a9-b278-40229d01b2a5",
   "metadata": {},
   "outputs": [],
   "source": [
    "# Matriz de confusão para o KNN : \n",
    "\n",
    "y_pred_knn = knn_blam.predict(X_test)\n",
    "\n",
    "confusion_matrix = metrics.confusion_matrix(y_test, y_pred_knn)\n",
    "cm_display = metrics.ConfusionMatrixDisplay(confusion_matrix = confusion_matrix, display_labels = [False, True])\n",
    "\n",
    "cm_display.plot()\n",
    "plt.show()"
   ]
  },
  {
   "cell_type": "markdown",
   "id": "46bdef3a-feb0-4501-adcb-55b63881ad7b",
   "metadata": {},
   "source": [
    "##### 2.2.4- Usando o classificador GaussianNB para realizar a classificação : "
   ]
  },
  {
   "cell_type": "code",
   "execution_count": null,
   "id": "b26e5dd1-e982-4c74-94d7-101e94f9e651",
   "metadata": {},
   "outputs": [],
   "source": [
    "%%time\n",
    "\n",
    "# Realizando o treino do classificador bayesiano : \n",
    "\n",
    "result_bay = list()\n",
    "\n",
    "bay = GaussianNB()\n",
    "\n",
    "for i in range(10):\n",
    "    x, y = shuffle(x, y, random_state = 42)\n",
    "    result_bay.append(np.mean(cross_val_score(bay, x, y, cv = 10)))\n",
    "                      \n",
    "result_bay = np.array(result_bay)\n",
    "print(f\"The accuracy bayes classifier is {np.mean(result_bay)} +- {statistics.stdev(result_bay)}\")"
   ]
  },
  {
   "cell_type": "code",
   "execution_count": null,
   "id": "0f6acdc4-e24c-4311-87a9-77680226f8f1",
   "metadata": {},
   "outputs": [],
   "source": [
    "%%time\n",
    "\n",
    "# Pegando os dados para a curva AUC gerada pelo modelo bayesiano : \n",
    "\n",
    "bay.fit(X_train, y_train)\n",
    "y_pred_proba_bay = bay.predict_proba(X_test)[:, 1]\n",
    "\n",
    "fpr_bay, tpr_bay, thresholds_bay = metrics.roc_curve(y_test,  y_pred_proba_bay)\n",
    "auc_bay = metrics.roc_auc_score(y_test, y_pred_proba_bay)\n",
    "\n",
    "print(f\"The AUC value for the bayes classifier is : {auc_bay}\")\n",
    "print(f\"The acc value for the knn : {accuracy_score(y_test, y_pred_proba_bay >= 0.5)}\")"
   ]
  },
  {
   "cell_type": "code",
   "execution_count": null,
   "id": "f996efab-b10f-4c7e-996f-b223f87cfb47",
   "metadata": {},
   "outputs": [],
   "source": [
    "# Matriz de confusão para o classificador de bayes : \n",
    "\n",
    "y_pred_bay = bay.predict(X_test)\n",
    "\n",
    "confusion_matrix = metrics.confusion_matrix(y_test, y_pred_bay)\n",
    "cm_display = metrics.ConfusionMatrixDisplay(confusion_matrix = confusion_matrix, display_labels = [False, True])\n",
    "\n",
    "cm_display.plot()\n",
    "plt.show()"
   ]
  },
  {
   "cell_type": "markdown",
   "id": "c4d1f496-e9a0-435e-9d3d-5f289bff6373",
   "metadata": {},
   "source": [
    "#### 2.3- Comparando as curvas ROC e as áreas (AUC) de cada classificador : "
   ]
  },
  {
   "cell_type": "code",
   "execution_count": null,
   "id": "8d3ce390-adbf-4c7a-88d9-64047b55cdb4",
   "metadata": {},
   "outputs": [],
   "source": [
    "plt.plot(fpr_adam, tpr_adam, label=\"data 1, auc adam = \"+str(auc_adam), linestyle = '-', color = 'black')\n",
    "plt.legend(loc=4)\n",
    "\n",
    "plt.plot(fpr_sgd, tpr_sgd, label=\"data 1, auc sgd = \"+str(auc_sgd), linestyle = '--', color = 'red')\n",
    "plt.legend(loc=4)\n",
    "\n",
    "plt.plot(fpr_knn, tpr_knn, label=\"data 1, auc knn = \"+str(auc_knn), linestyle = '-.', color = 'blue')\n",
    "plt.legend(loc=4)\n",
    "\n",
    "plt.plot(fpr_bay, tpr_bay, label=\"data 1, auc bayesian = \"+str(auc_bay), linestyle = ':', color = 'orange')\n",
    "plt.legend(loc=4)\n",
    "\n",
    "plt.show()"
   ]
  },
  {
   "cell_type": "markdown",
   "id": "644b561c-1d89-4dd7-ae6b-01955bf5c6fb",
   "metadata": {},
   "source": [
    "#### 2.4- Pegando o ponto, na curva ROC, que contém o threshold que implicará a maior acurácia do meu modelo : "
   ]
  },
  {
   "cell_type": "markdown",
   "id": "ad87691b-e15f-4f8a-866e-cceedd292ee6",
   "metadata": {},
   "source": [
    "##### 2.4.1- Para o ADAM : "
   ]
  },
  {
   "cell_type": "code",
   "execution_count": null,
   "id": "0203becc-0a78-4769-91b5-4671edd0ffd7",
   "metadata": {},
   "outputs": [],
   "source": [
    "# Compute accuracy for each threshold\n",
    "accuracies_adam = list()\n",
    "\n",
    "\n",
    "for threshold in thresholds_adam:\n",
    "    y_pred = (y_pred_proba_adam >= threshold).astype(int)\n",
    "    accuracies_adam.append(accuracy_score(y_test, y_pred))\n",
    "    \n",
    "\n",
    "# Find the threshold with the maximum accuracy\n",
    "max_acc_adam_idx = np.argmax(accuracies_adam)\n",
    "opt_thresh_adam = thresholds_adam[max_acc_adam_idx]\n",
    "max_accuracy_adam = accuracies_adam[max_acc_adam_idx]\n",
    "\n",
    "\n",
    "print(f'Optimal Threshold: {opt_thresh_adam}')\n",
    "print(f'Maximum Accuracy: {max_accuracy_adam}')\n",
    "\n",
    "\n",
    "plt.figure()\n",
    "plt.plot(fpr_adam, tpr_adam, label='ROC curve', color = 'black')\n",
    "plt.plot([0, 1], [0, 1], 'k--')\n",
    "plt.scatter(fpr_adam[max_acc_adam_idx], tpr_adam[max_acc_adam_idx], color = 'red', label = 'Optimal Threshold ADAM')\n",
    "plt.xlabel('False Positive Rate')\n",
    "plt.ylabel('True Positive Rate')\n",
    "plt.title('ROC Curve')\n",
    "plt.legend(loc='best')\n",
    "plt.show()"
   ]
  },
  {
   "cell_type": "code",
   "execution_count": null,
   "id": "81db2301-3f02-4969-b4b7-b62afe3d8473",
   "metadata": {},
   "outputs": [],
   "source": [
    "# Matriz de confusão para o ADAM : \n",
    "\n",
    "y_pred_adam = (mlp_adam.predict_proba(X_test) >= opt_thresh_adam).astype(int)[:, 1]\n",
    "\n",
    "confusion_matrix = metrics.confusion_matrix(y_test, y_pred_adam)\n",
    "cm_display = metrics.ConfusionMatrixDisplay(confusion_matrix = confusion_matrix, display_labels = [False, True])\n",
    "\n",
    "cm_display.plot()\n",
    "plt.show()"
   ]
  },
  {
   "cell_type": "markdown",
   "id": "4d985c43-f1b3-4cfb-9eee-9aec9fb338cc",
   "metadata": {},
   "source": [
    "##### 2.4.1- Para o SGD : "
   ]
  },
  {
   "cell_type": "code",
   "execution_count": null,
   "id": "17951542-e471-45d0-9cb5-b09818620ed0",
   "metadata": {},
   "outputs": [],
   "source": [
    "# Compute accuracy for each threshold\n",
    "accuracies_sgd = list()\n",
    "\n",
    "\n",
    "for threshold in thresholds_sgd:\n",
    "    y_pred = (y_pred_proba_sgd >= threshold).astype(int)\n",
    "    accuracies_sgd.append(accuracy_score(y_test, y_pred))\n",
    "\n",
    "# Find the threshold with the maximum accuracy\n",
    "max_acc_sgd_idx = np.argmax(accuracies_sgd)\n",
    "opt_thresh_sgd = thresholds_sgd[max_acc_sgd_idx]\n",
    "max_accuracy_sgd = accuracies_sgd[max_acc_sgd_idx]\n",
    "\n",
    "\n",
    "print(f'Optimal Threshold: {opt_thresh_sgd}')\n",
    "print(f'Maximum Accuracy: {max_accuracy_sgd}')\n",
    "\n",
    "\n",
    "plt.figure()\n",
    "plt.plot(fpr_sgd, tpr_sgd, label='ROC curve', color = 'black')\n",
    "plt.plot([0, 1], [0, 1], 'k--')\n",
    "plt.scatter(fpr_sgd[max_acc_sgd_idx], tpr_sgd[max_acc_sgd_idx], color='red', label='Optimal Threshold SGD')\n",
    "plt.xlabel('False Positive Rate')\n",
    "plt.ylabel('True Positive Rate')\n",
    "plt.title('ROC Curve')\n",
    "plt.legend(loc='best')\n",
    "plt.show()"
   ]
  },
  {
   "cell_type": "code",
   "execution_count": null,
   "id": "bd6a638e-efbb-4031-87f2-9aaff833fa02",
   "metadata": {},
   "outputs": [],
   "source": [
    "# Matriz de confusão para o SGD : \n",
    "\n",
    "y_pred_sgd = (mlp_sgd.predict_proba(X_test) >= opt_thresh_sgd).astype(int)[:, 1]\n",
    "\n",
    "confusion_matrix = metrics.confusion_matrix(y_test, y_pred_sgd)\n",
    "cm_display = metrics.ConfusionMatrixDisplay(confusion_matrix = confusion_matrix, display_labels = [False, True])\n",
    "\n",
    "cm_display.plot()\n",
    "plt.show()"
   ]
  },
  {
   "cell_type": "markdown",
   "id": "27fea5ba-e649-4a8c-bc59-ec9e1a71fbd3",
   "metadata": {},
   "source": [
    "##### 2.4.2 - Para o KNN"
   ]
  },
  {
   "cell_type": "code",
   "execution_count": null,
   "id": "4f2b14c5-fe8d-4e2b-81f9-8ad5ccdf4f33",
   "metadata": {},
   "outputs": [],
   "source": [
    "# Compute accuracy for each threshold\n",
    "accuracies_knn = list()\n",
    "\n",
    "\n",
    "for threshold in thresholds_knn:\n",
    "    y_pred = (y_pred_proba_knn >= threshold).astype(int)\n",
    "    accuracies_knn.append(accuracy_score(y_test, y_pred))\n",
    "\n",
    "# Find the threshold with the maximum accuracy\n",
    "max_acc_knn_idx = np.argmax(accuracies_knn)\n",
    "opt_thresh_knn = y_pred_proba_knn[max_acc_knn_idx]\n",
    "max_accuracy_knn = accuracies_knn[max_acc_knn_idx]\n",
    "\n",
    "\n",
    "print(f'Optimal Threshold: {opt_thresh_knn}')\n",
    "print(f'Maximum Accuracy: {max_accuracy_knn}')\n",
    "\n",
    "\n",
    "plt.figure()\n",
    "plt.plot(fpr_knn, tpr_knn, label='ROC curve', color = 'black')\n",
    "plt.plot([0, 1], [0, 1], 'k--')\n",
    "plt.scatter(fpr_knn[max_acc_knn_idx], tpr_knn[max_acc_knn_idx], color='red', label='Optimal Threshold KNN')\n",
    "plt.xlabel('False Positive Rate')\n",
    "plt.ylabel('True Positive Rate')\n",
    "plt.title('ROC Curve')\n",
    "plt.legend(loc='best')\n",
    "plt.show()"
   ]
  },
  {
   "cell_type": "code",
   "execution_count": null,
   "id": "85d29611-2e16-4eea-bc28-27e01622ed62",
   "metadata": {},
   "outputs": [],
   "source": [
    "# Matriz de confusão para o KNN : \n",
    "\n",
    "y_pred_knn = (knn_blam.predict_proba(X_test) >= opt_thresh_knn).astype(int)[:, 1]\n",
    "\n",
    "confusion_matrix = metrics.confusion_matrix(y_test, y_pred_knn)\n",
    "cm_display = metrics.ConfusionMatrixDisplay(confusion_matrix = confusion_matrix, display_labels = [False, True])\n",
    "\n",
    "cm_display.plot()\n",
    "plt.show()"
   ]
  },
  {
   "cell_type": "markdown",
   "id": "2db4d969-e6e5-47fd-b2e1-2e2edee5e3ee",
   "metadata": {},
   "source": [
    "##### Para o classificador bayesiano : "
   ]
  },
  {
   "cell_type": "code",
   "execution_count": null,
   "id": "a2f01110-90b0-415d-9ea5-714ebeed17e1",
   "metadata": {},
   "outputs": [],
   "source": [
    "# Compute accuracy for each threshold\n",
    "accuracies_bay = list()\n",
    "\n",
    "\n",
    "for threshold in thresholds_bay:\n",
    "    y_pred = (y_pred_proba_bay >= threshold).astype(int)\n",
    "    accuracies_bay.append(accuracy_score(y_test, y_pred))\n",
    "\n",
    "# Find the threshold with the maximum accuracy\n",
    "max_acc_bay_idx = np.argmax(accuracies_bay)\n",
    "opt_thresh_bay = y_pred_proba_bay[max_acc_bay_idx]\n",
    "max_accuracy_bay = accuracies_bay[max_acc_bay_idx]\n",
    "\n",
    "\n",
    "print(f'Optimal Threshold: {opt_thresh_bay}')\n",
    "print(f'Maximum Accuracy: {max_accuracy_bay}')\n",
    "\n",
    "\n",
    "plt.figure()\n",
    "plt.plot(fpr_bay, tpr_bay, label='ROC curve', color = 'black')\n",
    "plt.plot([0, 1], [0, 1], 'k--')\n",
    "plt.scatter(fpr_bay[max_acc_bay_idx], tpr_bay[max_acc_bay_idx], color='red', label='Optimal Threshold BAY')\n",
    "plt.xlabel('False Positive Rate')\n",
    "plt.ylabel('True Positive Rate')\n",
    "plt.title('ROC Curve')\n",
    "plt.legend(loc='best')\n",
    "plt.show()"
   ]
  },
  {
   "cell_type": "code",
   "execution_count": null,
   "id": "1d3df417-47ac-4359-b7c7-1303d228001d",
   "metadata": {},
   "outputs": [],
   "source": [
    "# Matriz de confusão para o Bayes : \n",
    "\n",
    "y_pred_bay = (bay.predict_proba(X_test) >= opt_thresh_bay).astype(int)[:, 1]\n",
    "\n",
    "confusion_matrix = metrics.confusion_matrix(y_test, y_pred_bay)\n",
    "cm_display = metrics.ConfusionMatrixDisplay(confusion_matrix = confusion_matrix, display_labels = [False, True])\n",
    "\n",
    "cm_display.plot()\n",
    "plt.show()"
   ]
  },
  {
   "cell_type": "markdown",
   "id": "a3321fa5-0821-4f57-ba56-0651e245f3b2",
   "metadata": {},
   "source": [
    "#### Plotando as curvas ROC com os pontos de melhor acurácia : "
   ]
  },
  {
   "cell_type": "code",
   "execution_count": null,
   "id": "3079ce6b-a10c-44a6-8c28-5d3560af9169",
   "metadata": {},
   "outputs": [],
   "source": [
    "plt.plot(fpr_adam, tpr_adam, label=\"data 1, auc adam = \"+str(round(auc_adam, 3)), linestyle = '-', color = 'black', linewidth = 2)\n",
    "plt.scatter(fpr_adam[max_acc_adam_idx], tpr_adam[max_acc_adam_idx], color='black', label='Optimal Threshold ADAM', s = 100)\n",
    "plt.legend(loc=4)\n",
    "\n",
    "plt.plot(fpr_sgd, tpr_sgd, label=\"data 1, auc sgd = \"+str(round(auc_sgd, 3)), linestyle = '--', color = 'red', linewidth = 2)\n",
    "plt.scatter(fpr_sgd[max_acc_sgd_idx], tpr_sgd[max_acc_sgd_idx], color='red', label='Optimal Threshold SGD', s = 100)\n",
    "plt.legend(loc=4)\n",
    "\n",
    "plt.plot(fpr_knn, tpr_knn, label=\"data 1, auc knn = \"+str(round(auc_knn, 3)), linestyle = '-.', color = 'blue', linewidth = 2)\n",
    "plt.scatter(fpr_knn[max_acc_knn_idx], tpr_knn[max_acc_knn_idx], color='blue', label='Optimal Threshold KNN', s = 100)\n",
    "plt.legend(loc=4)\n",
    "\n",
    "plt.plot(fpr_bay, tpr_bay, label=\"data 1, auc bayesian = \"+str(round(auc_bay, 3)), linestyle = ':', color = 'orange', linewidth = 2)\n",
    "plt.scatter(fpr_bay[max_acc_bay_idx], tpr_bay[max_acc_bay_idx], color='orange', label='Optimal Threshold BAY', s = 100)\n",
    "plt.legend(loc=4)\n",
    "\n",
    "plt.show()"
   ]
  },
  {
   "cell_type": "markdown",
   "id": "cc02a857-1f6b-4a4d-99db-f14d302dc4d9",
   "metadata": {},
   "source": [
    "### Com o modelo já treinado e os melhores hyperparâmetros em conjunto com o threshold, iremos testá-lo : "
   ]
  },
  {
   "cell_type": "markdown",
   "id": "4f4ecea5-d919-4056-9a61-d00d2a805429",
   "metadata": {},
   "source": [
    "### 3- Testando o modelo : "
   ]
  },
  {
   "cell_type": "markdown",
   "id": "b8c6432e-5526-416f-9035-ebc7a8e4988d",
   "metadata": {},
   "source": [
    "#### 3.1- Analisando o dataset de teste : "
   ]
  },
  {
   "cell_type": "code",
   "execution_count": null,
   "id": "bc8408e3-54c8-406c-9d2d-bba6a312afc3",
   "metadata": {},
   "outputs": [],
   "source": [
    "test = pd.read_csv(\"test.csv\")\n",
    "test.head()"
   ]
  },
  {
   "cell_type": "code",
   "execution_count": null,
   "id": "9b4f26f3-391b-42c7-8c3a-b6cb5db735d5",
   "metadata": {},
   "outputs": [],
   "source": [
    "test.info()"
   ]
  },
  {
   "cell_type": "code",
   "execution_count": null,
   "id": "a5cb33db-6a1a-43a6-9c83-1a2c05448376",
   "metadata": {},
   "outputs": [],
   "source": [
    "test.describe()"
   ]
  },
  {
   "cell_type": "code",
   "execution_count": null,
   "id": "ab097045-9fa4-4034-b503-62402651e248",
   "metadata": {},
   "outputs": [],
   "source": [
    "test.info()"
   ]
  },
  {
   "cell_type": "markdown",
   "id": "248384bb-449c-4030-bf2c-3e970333f4e4",
   "metadata": {},
   "source": [
    "#### 3.2- Trabalhando no dataset igual feito no treinamento : "
   ]
  },
  {
   "cell_type": "code",
   "execution_count": null,
   "id": "fc0ef73a-bd27-44dd-8ddf-b73287590635",
   "metadata": {},
   "outputs": [],
   "source": [
    "PassengerId = test['PassengerId']"
   ]
  },
  {
   "cell_type": "code",
   "execution_count": null,
   "id": "cd9ee71c-6515-48a3-833d-aa73dff88675",
   "metadata": {},
   "outputs": [],
   "source": [
    "col = ['PassengerId', 'Name', 'Ticket', 'Cabin']\n",
    "test = test.loc[:, ~test.columns.isin(col)]\n",
    "test.loc[:, 'Sex'] = test.loc[:, 'Sex'].replace({'male' : 1, 'female' : 0})"
   ]
  },
  {
   "cell_type": "code",
   "execution_count": null,
   "id": "8a82c3a5-6b92-4e57-a299-56f35fc01e9e",
   "metadata": {},
   "outputs": [],
   "source": [
    "# Não da pra usar o KNN IMPUTER para colunas não numéricas como a EMBARKED,en tão iremos preencher os NaN's\n",
    "# com a moda dos valores antes de convertê-la para numérico : \n",
    "\n",
    "median_value = test['Embarked'].mode()[0]\n",
    "test['Embarked'].fillna(median_value, inplace=True)"
   ]
  },
  {
   "cell_type": "code",
   "execution_count": null,
   "id": "7ff28130-9405-4e2a-8adc-c7e4bde7705f",
   "metadata": {},
   "outputs": [],
   "source": [
    "# Realizando o Encoder das variáveis categóricas de teste : \n",
    "\n",
    "encoded_df = pd.get_dummies(test['Embarked'], columns=['Embarked']).astype(int)\n",
    "test.drop(columns = ['Embarked'], inplace = True)\n",
    "test = pd.concat([test, encoded_df], axis = 1)\n",
    "\n",
    "print(encoded_df.value_counts())\n",
    "test.head()"
   ]
  },
  {
   "cell_type": "code",
   "execution_count": null,
   "id": "b811edac-9934-4a8a-9198-511da9fd23b1",
   "metadata": {},
   "outputs": [],
   "source": [
    "# O KNN já foi definido no código acima, apenas iremos reutilizá-lo : \n",
    "\n",
    "test = pd.DataFrame(imputer.fit_transform(test), columns = test.columns)\n",
    "test = test.astype(float)\n",
    "test.isna().sum()"
   ]
  },
  {
   "cell_type": "code",
   "execution_count": null,
   "id": "cfe4082b-ebbb-469f-819a-a74a51f4b333",
   "metadata": {},
   "outputs": [],
   "source": [
    "# Escalonando os dados com MinMaxScaler : \n",
    "\n",
    "#scaler = MinMaxScaler()\n",
    "#test.loc[:, ['Age', 'Fare']] = scaler.fit_transform(test.loc[:, ['Age', 'Fare']])\n",
    "\n",
    "#x = test.loc[:, ~test.columns.isin(['Survived'])]\n",
    "#y = test.loc[:, 'Survived']"
   ]
  },
  {
   "cell_type": "code",
   "execution_count": null,
   "id": "385a4a80-35d9-4295-8ef5-f3444f708504",
   "metadata": {},
   "outputs": [],
   "source": [
    "# Escalonando os dados com MinMaxScaler : \n",
    "\n",
    "scaler = MinMaxScaler()\n",
    "test.loc[:, ['Age', 'Fare']] = scaler.fit_transform(test.loc[:, ['Age', 'Fare']])\n",
    "\n",
    "test.head()"
   ]
  },
  {
   "cell_type": "markdown",
   "id": "011f6e55-927b-48c4-ba40-218340ea0829",
   "metadata": {},
   "source": [
    "#### 3.3- Realizando a predição de cada uma das 2 redes : "
   ]
  },
  {
   "cell_type": "markdown",
   "id": "5132f200-e97b-4730-aaf6-6235746e8e9a",
   "metadata": {},
   "source": [
    "##### 3.3.1- Predição para o ADAM : "
   ]
  },
  {
   "cell_type": "code",
   "execution_count": null,
   "id": "74c8ea37-d803-49b7-8e88-f775b85e3329",
   "metadata": {},
   "outputs": [],
   "source": [
    "pred_adam = mlp_adam.predict_proba(test)[:, 1]\n",
    "class_adam = (pred_adam >= opt_thresh_adam).astype(int)\n",
    "\n",
    "\n",
    "predictions_adam = np.column_stack((PassengerId, class_adam))\n",
    "\n",
    "# Create the DataFrame\n",
    "predictions_adam = pd.DataFrame(predictions_adam, columns=['PassengerId', 'Survived']).astype(int)\n",
    "predictions_adam.to_csv('predictions_adam.csv', index=False)"
   ]
  },
  {
   "cell_type": "code",
   "execution_count": null,
   "id": "b82a4dea-1a04-402d-90df-d35648ebbb30",
   "metadata": {},
   "outputs": [],
   "source": [
    "np.unique(class_adam, return_counts = True)"
   ]
  },
  {
   "cell_type": "markdown",
   "id": "235f33cd-e5c5-47db-a645-98bbfd07aa63",
   "metadata": {},
   "source": [
    "##### 3.3.2- Predição para o SGD : "
   ]
  },
  {
   "cell_type": "code",
   "execution_count": null,
   "id": "8c0989cf-6c05-4236-bbdf-1e85c97bc0d8",
   "metadata": {},
   "outputs": [],
   "source": [
    "pred_sgd = mlp_sgd.predict_proba(test)[:, 1]\n",
    "class_sgd = (pred_sgd >= opt_thresh_sgd).astype(int)\n",
    "\n",
    "\n",
    "predictions_sgd = np.column_stack((PassengerId, class_sgd))\n",
    "\n",
    "# Create the DataFrame\n",
    "predictions_sgd = pd.DataFrame(predictions_sgd, columns=['PassengerId', 'Survived']).astype(int)\n",
    "predictions_sgd.to_csv('predictions_sgd.csv', index=False)"
   ]
  },
  {
   "cell_type": "code",
   "execution_count": null,
   "id": "26f6d08e-09fc-4f89-b7f1-c5b91bceecf0",
   "metadata": {},
   "outputs": [],
   "source": [
    "np.unique(class_sgd, return_counts = True)"
   ]
  },
  {
   "cell_type": "markdown",
   "id": "f419d7b1-a822-4f94-b82b-2aa316db3226",
   "metadata": {},
   "source": [
    "##### 3.3.3- Predição para o KNN : "
   ]
  },
  {
   "cell_type": "code",
   "execution_count": null,
   "id": "80fb3790-4765-4118-a4c7-f05d2c2268c4",
   "metadata": {},
   "outputs": [],
   "source": [
    "pred_knn = knn_blam.predict(test)\n",
    "\n",
    "\n",
    "predictions_knn = np.column_stack((PassengerId, pred_knn))\n",
    "\n",
    "# Create the DataFrame\n",
    "predictions_knn = pd.DataFrame(predictions_knn, columns=['PassengerId', 'Survived']).astype(int)\n",
    "predictions_knn.to_csv('predictions_knn.csv', index=False)"
   ]
  },
  {
   "cell_type": "code",
   "execution_count": null,
   "id": "abc417c2-1944-4852-9db5-790f6afa0fdb",
   "metadata": {},
   "outputs": [],
   "source": [
    "np.unique(pred_knn, return_counts = True)"
   ]
  },
  {
   "cell_type": "code",
   "execution_count": null,
   "id": "2d805a59-f99b-4a5a-a1e9-9ad7058a5fc5",
   "metadata": {},
   "outputs": [],
   "source": [
    "##### 3.3.4- Predição para o modelo bayesiano : "
   ]
  },
  {
   "cell_type": "code",
   "execution_count": null,
   "id": "3044dc51-00a0-4740-99b4-fe73d969fcac",
   "metadata": {},
   "outputs": [],
   "source": [
    "pred_bay = bay.predict(test)\n",
    "\n",
    "\n",
    "predictions_bay = np.column_stack((PassengerId, pred_bay))\n",
    "\n",
    "# Create the DataFrame\n",
    "predictions_bay = pd.DataFrame(predictions_bay, columns=['PassengerId', 'Survived']).astype(int)\n",
    "predictions_bay.to_csv('predictions_bay.csv', index=False)"
   ]
  },
  {
   "cell_type": "code",
   "execution_count": null,
   "id": "26056376-4ac5-4667-b4f4-15960f1ad2a7",
   "metadata": {},
   "outputs": [],
   "source": [
    "np.unique(pred_bay, return_counts = True)"
   ]
  }
 ],
 "metadata": {
  "kernelspec": {
   "display_name": "Python 3 (ipykernel)",
   "language": "python",
   "name": "python3"
  },
  "language_info": {
   "codemirror_mode": {
    "name": "ipython",
    "version": 3
   },
   "file_extension": ".py",
   "mimetype": "text/x-python",
   "name": "python",
   "nbconvert_exporter": "python",
   "pygments_lexer": "ipython3",
   "version": "3.10.12"
  }
 },
 "nbformat": 4,
 "nbformat_minor": 5
}
