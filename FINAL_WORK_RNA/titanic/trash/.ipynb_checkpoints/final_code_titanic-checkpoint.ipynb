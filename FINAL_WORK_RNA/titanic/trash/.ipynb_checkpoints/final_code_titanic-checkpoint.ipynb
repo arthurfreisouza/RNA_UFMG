{
 "cells": [
  {
   "cell_type": "code",
   "execution_count": 1,
   "id": "c5d02d9f-0c4d-43f3-bad4-8f1674f8ec04",
   "metadata": {},
   "outputs": [],
   "source": [
    "import pandas as pd\n",
    "import numpy as np\n",
    "import statistics\n",
    "import matplotlib.pyplot as plt\n",
    "from sklearn import metrics\n",
    "from sklearn.preprocessing import OneHotEncoder\n",
    "from sklearn.impute import KNNImputer\n",
    "from sklearn.preprocessing import MinMaxScaler\n",
    "from sklearn.preprocessing import StandardScaler\n",
    "from sklearn.model_selection import GridSearchCV\n",
    "from sklearn.neural_network import MLPClassifier\n",
    "from sklearn.metrics import roc_auc_score\n",
    "from sklearn.utils import shuffle\n",
    "from sklearn.model_selection import cross_val_score\n",
    "from sklearn.neighbors import KNeighborsClassifier\n",
    "from sklearn.naive_bayes import GaussianNB"
   ]
  },
  {
   "cell_type": "code",
   "execution_count": 2,
   "id": "15541585-1783-4f58-8be2-ff09ab59f671",
   "metadata": {},
   "outputs": [
    {
     "data": {
      "text/html": [
       "<div>\n",
       "<style scoped>\n",
       "    .dataframe tbody tr th:only-of-type {\n",
       "        vertical-align: middle;\n",
       "    }\n",
       "\n",
       "    .dataframe tbody tr th {\n",
       "        vertical-align: top;\n",
       "    }\n",
       "\n",
       "    .dataframe thead th {\n",
       "        text-align: right;\n",
       "    }\n",
       "</style>\n",
       "<table border=\"1\" class=\"dataframe\">\n",
       "  <thead>\n",
       "    <tr style=\"text-align: right;\">\n",
       "      <th></th>\n",
       "      <th>PassengerId</th>\n",
       "      <th>Survived</th>\n",
       "      <th>Pclass</th>\n",
       "      <th>Name</th>\n",
       "      <th>Sex</th>\n",
       "      <th>Age</th>\n",
       "      <th>SibSp</th>\n",
       "      <th>Parch</th>\n",
       "      <th>Ticket</th>\n",
       "      <th>Fare</th>\n",
       "      <th>Cabin</th>\n",
       "      <th>Embarked</th>\n",
       "    </tr>\n",
       "  </thead>\n",
       "  <tbody>\n",
       "    <tr>\n",
       "      <th>0</th>\n",
       "      <td>1</td>\n",
       "      <td>0</td>\n",
       "      <td>3</td>\n",
       "      <td>Braund, Mr. Owen Harris</td>\n",
       "      <td>male</td>\n",
       "      <td>22.0</td>\n",
       "      <td>1</td>\n",
       "      <td>0</td>\n",
       "      <td>A/5 21171</td>\n",
       "      <td>7.2500</td>\n",
       "      <td>NaN</td>\n",
       "      <td>S</td>\n",
       "    </tr>\n",
       "    <tr>\n",
       "      <th>1</th>\n",
       "      <td>2</td>\n",
       "      <td>1</td>\n",
       "      <td>1</td>\n",
       "      <td>Cumings, Mrs. John Bradley (Florence Briggs Th...</td>\n",
       "      <td>female</td>\n",
       "      <td>38.0</td>\n",
       "      <td>1</td>\n",
       "      <td>0</td>\n",
       "      <td>PC 17599</td>\n",
       "      <td>71.2833</td>\n",
       "      <td>C85</td>\n",
       "      <td>C</td>\n",
       "    </tr>\n",
       "    <tr>\n",
       "      <th>2</th>\n",
       "      <td>3</td>\n",
       "      <td>1</td>\n",
       "      <td>3</td>\n",
       "      <td>Heikkinen, Miss. Laina</td>\n",
       "      <td>female</td>\n",
       "      <td>26.0</td>\n",
       "      <td>0</td>\n",
       "      <td>0</td>\n",
       "      <td>STON/O2. 3101282</td>\n",
       "      <td>7.9250</td>\n",
       "      <td>NaN</td>\n",
       "      <td>S</td>\n",
       "    </tr>\n",
       "    <tr>\n",
       "      <th>3</th>\n",
       "      <td>4</td>\n",
       "      <td>1</td>\n",
       "      <td>1</td>\n",
       "      <td>Futrelle, Mrs. Jacques Heath (Lily May Peel)</td>\n",
       "      <td>female</td>\n",
       "      <td>35.0</td>\n",
       "      <td>1</td>\n",
       "      <td>0</td>\n",
       "      <td>113803</td>\n",
       "      <td>53.1000</td>\n",
       "      <td>C123</td>\n",
       "      <td>S</td>\n",
       "    </tr>\n",
       "    <tr>\n",
       "      <th>4</th>\n",
       "      <td>5</td>\n",
       "      <td>0</td>\n",
       "      <td>3</td>\n",
       "      <td>Allen, Mr. William Henry</td>\n",
       "      <td>male</td>\n",
       "      <td>35.0</td>\n",
       "      <td>0</td>\n",
       "      <td>0</td>\n",
       "      <td>373450</td>\n",
       "      <td>8.0500</td>\n",
       "      <td>NaN</td>\n",
       "      <td>S</td>\n",
       "    </tr>\n",
       "  </tbody>\n",
       "</table>\n",
       "</div>"
      ],
      "text/plain": [
       "   PassengerId  Survived  Pclass  \\\n",
       "0            1         0       3   \n",
       "1            2         1       1   \n",
       "2            3         1       3   \n",
       "3            4         1       1   \n",
       "4            5         0       3   \n",
       "\n",
       "                                                Name     Sex   Age  SibSp  \\\n",
       "0                            Braund, Mr. Owen Harris    male  22.0      1   \n",
       "1  Cumings, Mrs. John Bradley (Florence Briggs Th...  female  38.0      1   \n",
       "2                             Heikkinen, Miss. Laina  female  26.0      0   \n",
       "3       Futrelle, Mrs. Jacques Heath (Lily May Peel)  female  35.0      1   \n",
       "4                           Allen, Mr. William Henry    male  35.0      0   \n",
       "\n",
       "   Parch            Ticket     Fare Cabin Embarked  \n",
       "0      0         A/5 21171   7.2500   NaN        S  \n",
       "1      0          PC 17599  71.2833   C85        C  \n",
       "2      0  STON/O2. 3101282   7.9250   NaN        S  \n",
       "3      0            113803  53.1000  C123        S  \n",
       "4      0            373450   8.0500   NaN        S  "
      ]
     },
     "execution_count": 2,
     "metadata": {},
     "output_type": "execute_result"
    }
   ],
   "source": [
    "train = pd.read_csv(\"train.csv\")\n",
    "train.head()"
   ]
  },
  {
   "cell_type": "markdown",
   "id": "fe6a1e20-0d09-40d0-b9e0-9f1e55d3e1fe",
   "metadata": {},
   "source": [
    "#### Lendo e analisando o formato dos dados"
   ]
  },
  {
   "cell_type": "code",
   "execution_count": 3,
   "id": "7763db63-b2a3-4750-b6ee-369b6a5db36b",
   "metadata": {},
   "outputs": [
    {
     "name": "stdout",
     "output_type": "stream",
     "text": [
      "<class 'pandas.core.frame.DataFrame'>\n",
      "RangeIndex: 891 entries, 0 to 890\n",
      "Data columns (total 12 columns):\n",
      " #   Column       Non-Null Count  Dtype  \n",
      "---  ------       --------------  -----  \n",
      " 0   PassengerId  891 non-null    int64  \n",
      " 1   Survived     891 non-null    int64  \n",
      " 2   Pclass       891 non-null    int64  \n",
      " 3   Name         891 non-null    object \n",
      " 4   Sex          891 non-null    object \n",
      " 5   Age          714 non-null    float64\n",
      " 6   SibSp        891 non-null    int64  \n",
      " 7   Parch        891 non-null    int64  \n",
      " 8   Ticket       891 non-null    object \n",
      " 9   Fare         891 non-null    float64\n",
      " 10  Cabin        204 non-null    object \n",
      " 11  Embarked     889 non-null    object \n",
      "dtypes: float64(2), int64(5), object(5)\n",
      "memory usage: 83.7+ KB\n"
     ]
    }
   ],
   "source": [
    "train.info()"
   ]
  },
  {
   "cell_type": "code",
   "execution_count": 4,
   "id": "368f95f7-80e2-43a7-85d6-2cae23a4af68",
   "metadata": {},
   "outputs": [
    {
     "data": {
      "text/plain": [
       "PassengerId      0\n",
       "Survived         0\n",
       "Pclass           0\n",
       "Name             0\n",
       "Sex              0\n",
       "Age            177\n",
       "SibSp            0\n",
       "Parch            0\n",
       "Ticket           0\n",
       "Fare             0\n",
       "Cabin          687\n",
       "Embarked         2\n",
       "dtype: int64"
      ]
     },
     "execution_count": 4,
     "metadata": {},
     "output_type": "execute_result"
    }
   ],
   "source": [
    "train.isna().sum()"
   ]
  },
  {
   "cell_type": "code",
   "execution_count": 5,
   "id": "3853c976-057f-423c-bcc8-4ae89972bc5b",
   "metadata": {},
   "outputs": [
    {
     "data": {
      "text/html": [
       "<div>\n",
       "<style scoped>\n",
       "    .dataframe tbody tr th:only-of-type {\n",
       "        vertical-align: middle;\n",
       "    }\n",
       "\n",
       "    .dataframe tbody tr th {\n",
       "        vertical-align: top;\n",
       "    }\n",
       "\n",
       "    .dataframe thead th {\n",
       "        text-align: right;\n",
       "    }\n",
       "</style>\n",
       "<table border=\"1\" class=\"dataframe\">\n",
       "  <thead>\n",
       "    <tr style=\"text-align: right;\">\n",
       "      <th></th>\n",
       "      <th>PassengerId</th>\n",
       "      <th>Survived</th>\n",
       "      <th>Pclass</th>\n",
       "      <th>Age</th>\n",
       "      <th>SibSp</th>\n",
       "      <th>Parch</th>\n",
       "      <th>Fare</th>\n",
       "    </tr>\n",
       "  </thead>\n",
       "  <tbody>\n",
       "    <tr>\n",
       "      <th>count</th>\n",
       "      <td>891.000000</td>\n",
       "      <td>891.000000</td>\n",
       "      <td>891.000000</td>\n",
       "      <td>714.000000</td>\n",
       "      <td>891.000000</td>\n",
       "      <td>891.000000</td>\n",
       "      <td>891.000000</td>\n",
       "    </tr>\n",
       "    <tr>\n",
       "      <th>mean</th>\n",
       "      <td>446.000000</td>\n",
       "      <td>0.383838</td>\n",
       "      <td>2.308642</td>\n",
       "      <td>29.699118</td>\n",
       "      <td>0.523008</td>\n",
       "      <td>0.381594</td>\n",
       "      <td>32.204208</td>\n",
       "    </tr>\n",
       "    <tr>\n",
       "      <th>std</th>\n",
       "      <td>257.353842</td>\n",
       "      <td>0.486592</td>\n",
       "      <td>0.836071</td>\n",
       "      <td>14.526497</td>\n",
       "      <td>1.102743</td>\n",
       "      <td>0.806057</td>\n",
       "      <td>49.693429</td>\n",
       "    </tr>\n",
       "    <tr>\n",
       "      <th>min</th>\n",
       "      <td>1.000000</td>\n",
       "      <td>0.000000</td>\n",
       "      <td>1.000000</td>\n",
       "      <td>0.420000</td>\n",
       "      <td>0.000000</td>\n",
       "      <td>0.000000</td>\n",
       "      <td>0.000000</td>\n",
       "    </tr>\n",
       "    <tr>\n",
       "      <th>25%</th>\n",
       "      <td>223.500000</td>\n",
       "      <td>0.000000</td>\n",
       "      <td>2.000000</td>\n",
       "      <td>20.125000</td>\n",
       "      <td>0.000000</td>\n",
       "      <td>0.000000</td>\n",
       "      <td>7.910400</td>\n",
       "    </tr>\n",
       "    <tr>\n",
       "      <th>50%</th>\n",
       "      <td>446.000000</td>\n",
       "      <td>0.000000</td>\n",
       "      <td>3.000000</td>\n",
       "      <td>28.000000</td>\n",
       "      <td>0.000000</td>\n",
       "      <td>0.000000</td>\n",
       "      <td>14.454200</td>\n",
       "    </tr>\n",
       "    <tr>\n",
       "      <th>75%</th>\n",
       "      <td>668.500000</td>\n",
       "      <td>1.000000</td>\n",
       "      <td>3.000000</td>\n",
       "      <td>38.000000</td>\n",
       "      <td>1.000000</td>\n",
       "      <td>0.000000</td>\n",
       "      <td>31.000000</td>\n",
       "    </tr>\n",
       "    <tr>\n",
       "      <th>max</th>\n",
       "      <td>891.000000</td>\n",
       "      <td>1.000000</td>\n",
       "      <td>3.000000</td>\n",
       "      <td>80.000000</td>\n",
       "      <td>8.000000</td>\n",
       "      <td>6.000000</td>\n",
       "      <td>512.329200</td>\n",
       "    </tr>\n",
       "  </tbody>\n",
       "</table>\n",
       "</div>"
      ],
      "text/plain": [
       "       PassengerId    Survived      Pclass         Age       SibSp  \\\n",
       "count   891.000000  891.000000  891.000000  714.000000  891.000000   \n",
       "mean    446.000000    0.383838    2.308642   29.699118    0.523008   \n",
       "std     257.353842    0.486592    0.836071   14.526497    1.102743   \n",
       "min       1.000000    0.000000    1.000000    0.420000    0.000000   \n",
       "25%     223.500000    0.000000    2.000000   20.125000    0.000000   \n",
       "50%     446.000000    0.000000    3.000000   28.000000    0.000000   \n",
       "75%     668.500000    1.000000    3.000000   38.000000    1.000000   \n",
       "max     891.000000    1.000000    3.000000   80.000000    8.000000   \n",
       "\n",
       "            Parch        Fare  \n",
       "count  891.000000  891.000000  \n",
       "mean     0.381594   32.204208  \n",
       "std      0.806057   49.693429  \n",
       "min      0.000000    0.000000  \n",
       "25%      0.000000    7.910400  \n",
       "50%      0.000000   14.454200  \n",
       "75%      0.000000   31.000000  \n",
       "max      6.000000  512.329200  "
      ]
     },
     "execution_count": 5,
     "metadata": {},
     "output_type": "execute_result"
    }
   ],
   "source": [
    "train.describe()"
   ]
  },
  {
   "cell_type": "markdown",
   "id": "c4f1fba3-6e26-4fa6-a580-e3618d5bdac0",
   "metadata": {},
   "source": [
    "#### Tirando as colunas que contém pouca interferência e passando os dados de nominais para numéricos : "
   ]
  },
  {
   "cell_type": "code",
   "execution_count": 6,
   "id": "046421cd-7268-4125-b844-f66a818fdf65",
   "metadata": {},
   "outputs": [],
   "source": [
    "import warnings\n",
    "warnings.filterwarnings('ignore')"
   ]
  },
  {
   "cell_type": "code",
   "execution_count": 7,
   "id": "3f079e23-f57a-48e9-878c-7f4fce8b0c80",
   "metadata": {},
   "outputs": [],
   "source": [
    "col = ['PassengerId', 'Name', 'Ticket', 'Cabin']\n",
    "train = train.loc[:, ~train.columns.isin(col)]"
   ]
  },
  {
   "cell_type": "code",
   "execution_count": 8,
   "id": "e82cab9d-97a9-4640-9e61-2641aa92fb0f",
   "metadata": {},
   "outputs": [
    {
     "data": {
      "text/html": [
       "<div>\n",
       "<style scoped>\n",
       "    .dataframe tbody tr th:only-of-type {\n",
       "        vertical-align: middle;\n",
       "    }\n",
       "\n",
       "    .dataframe tbody tr th {\n",
       "        vertical-align: top;\n",
       "    }\n",
       "\n",
       "    .dataframe thead th {\n",
       "        text-align: right;\n",
       "    }\n",
       "</style>\n",
       "<table border=\"1\" class=\"dataframe\">\n",
       "  <thead>\n",
       "    <tr style=\"text-align: right;\">\n",
       "      <th></th>\n",
       "      <th>Survived</th>\n",
       "      <th>Pclass</th>\n",
       "      <th>Sex</th>\n",
       "      <th>Age</th>\n",
       "      <th>SibSp</th>\n",
       "      <th>Parch</th>\n",
       "      <th>Fare</th>\n",
       "      <th>Embarked</th>\n",
       "    </tr>\n",
       "  </thead>\n",
       "  <tbody>\n",
       "    <tr>\n",
       "      <th>0</th>\n",
       "      <td>0</td>\n",
       "      <td>3</td>\n",
       "      <td>1</td>\n",
       "      <td>22.0</td>\n",
       "      <td>1</td>\n",
       "      <td>0</td>\n",
       "      <td>7.2500</td>\n",
       "      <td>S</td>\n",
       "    </tr>\n",
       "    <tr>\n",
       "      <th>1</th>\n",
       "      <td>1</td>\n",
       "      <td>1</td>\n",
       "      <td>0</td>\n",
       "      <td>38.0</td>\n",
       "      <td>1</td>\n",
       "      <td>0</td>\n",
       "      <td>71.2833</td>\n",
       "      <td>C</td>\n",
       "    </tr>\n",
       "    <tr>\n",
       "      <th>2</th>\n",
       "      <td>1</td>\n",
       "      <td>3</td>\n",
       "      <td>0</td>\n",
       "      <td>26.0</td>\n",
       "      <td>0</td>\n",
       "      <td>0</td>\n",
       "      <td>7.9250</td>\n",
       "      <td>S</td>\n",
       "    </tr>\n",
       "    <tr>\n",
       "      <th>3</th>\n",
       "      <td>1</td>\n",
       "      <td>1</td>\n",
       "      <td>0</td>\n",
       "      <td>35.0</td>\n",
       "      <td>1</td>\n",
       "      <td>0</td>\n",
       "      <td>53.1000</td>\n",
       "      <td>S</td>\n",
       "    </tr>\n",
       "    <tr>\n",
       "      <th>4</th>\n",
       "      <td>0</td>\n",
       "      <td>3</td>\n",
       "      <td>1</td>\n",
       "      <td>35.0</td>\n",
       "      <td>0</td>\n",
       "      <td>0</td>\n",
       "      <td>8.0500</td>\n",
       "      <td>S</td>\n",
       "    </tr>\n",
       "  </tbody>\n",
       "</table>\n",
       "</div>"
      ],
      "text/plain": [
       "   Survived  Pclass Sex   Age  SibSp  Parch     Fare Embarked\n",
       "0         0       3   1  22.0      1      0   7.2500        S\n",
       "1         1       1   0  38.0      1      0  71.2833        C\n",
       "2         1       3   0  26.0      0      0   7.9250        S\n",
       "3         1       1   0  35.0      1      0  53.1000        S\n",
       "4         0       3   1  35.0      0      0   8.0500        S"
      ]
     },
     "execution_count": 8,
     "metadata": {},
     "output_type": "execute_result"
    }
   ],
   "source": [
    "train.loc[:, 'Sex'] = train.loc[:, 'Sex'].replace({'male' : 1, 'female' : 0})\n",
    "train.head()"
   ]
  },
  {
   "cell_type": "code",
   "execution_count": 9,
   "id": "100f712e-a458-4271-959e-270631a8be10",
   "metadata": {},
   "outputs": [
    {
     "name": "stdout",
     "output_type": "stream",
     "text": [
      "C  Q  S\n",
      "0  0  1    644\n",
      "1  0  0    168\n",
      "0  1  0     77\n",
      "   0  0      2\n",
      "Name: count, dtype: int64\n"
     ]
    }
   ],
   "source": [
    "# Fazendo o OneHotEncoder da classe Embarked.\n",
    "\n",
    "encoded_df = pd.get_dummies(train['Embarked'], columns=['Embarked']).astype(int)\n",
    "\n",
    "print(encoded_df.value_counts())"
   ]
  },
  {
   "cell_type": "code",
   "execution_count": 10,
   "id": "54d7df24-ef41-475a-a4bb-7c9b151bbef3",
   "metadata": {},
   "outputs": [
    {
     "data": {
      "text/html": [
       "<div>\n",
       "<style scoped>\n",
       "    .dataframe tbody tr th:only-of-type {\n",
       "        vertical-align: middle;\n",
       "    }\n",
       "\n",
       "    .dataframe tbody tr th {\n",
       "        vertical-align: top;\n",
       "    }\n",
       "\n",
       "    .dataframe thead th {\n",
       "        text-align: right;\n",
       "    }\n",
       "</style>\n",
       "<table border=\"1\" class=\"dataframe\">\n",
       "  <thead>\n",
       "    <tr style=\"text-align: right;\">\n",
       "      <th></th>\n",
       "      <th>Survived</th>\n",
       "      <th>Pclass</th>\n",
       "      <th>Sex</th>\n",
       "      <th>Age</th>\n",
       "      <th>SibSp</th>\n",
       "      <th>Parch</th>\n",
       "      <th>Fare</th>\n",
       "      <th>C</th>\n",
       "      <th>Q</th>\n",
       "      <th>S</th>\n",
       "    </tr>\n",
       "  </thead>\n",
       "  <tbody>\n",
       "    <tr>\n",
       "      <th>0</th>\n",
       "      <td>0</td>\n",
       "      <td>3</td>\n",
       "      <td>1</td>\n",
       "      <td>22.0</td>\n",
       "      <td>1</td>\n",
       "      <td>0</td>\n",
       "      <td>7.2500</td>\n",
       "      <td>0</td>\n",
       "      <td>0</td>\n",
       "      <td>1</td>\n",
       "    </tr>\n",
       "    <tr>\n",
       "      <th>1</th>\n",
       "      <td>1</td>\n",
       "      <td>1</td>\n",
       "      <td>0</td>\n",
       "      <td>38.0</td>\n",
       "      <td>1</td>\n",
       "      <td>0</td>\n",
       "      <td>71.2833</td>\n",
       "      <td>1</td>\n",
       "      <td>0</td>\n",
       "      <td>0</td>\n",
       "    </tr>\n",
       "    <tr>\n",
       "      <th>2</th>\n",
       "      <td>1</td>\n",
       "      <td>3</td>\n",
       "      <td>0</td>\n",
       "      <td>26.0</td>\n",
       "      <td>0</td>\n",
       "      <td>0</td>\n",
       "      <td>7.9250</td>\n",
       "      <td>0</td>\n",
       "      <td>0</td>\n",
       "      <td>1</td>\n",
       "    </tr>\n",
       "    <tr>\n",
       "      <th>3</th>\n",
       "      <td>1</td>\n",
       "      <td>1</td>\n",
       "      <td>0</td>\n",
       "      <td>35.0</td>\n",
       "      <td>1</td>\n",
       "      <td>0</td>\n",
       "      <td>53.1000</td>\n",
       "      <td>0</td>\n",
       "      <td>0</td>\n",
       "      <td>1</td>\n",
       "    </tr>\n",
       "    <tr>\n",
       "      <th>4</th>\n",
       "      <td>0</td>\n",
       "      <td>3</td>\n",
       "      <td>1</td>\n",
       "      <td>35.0</td>\n",
       "      <td>0</td>\n",
       "      <td>0</td>\n",
       "      <td>8.0500</td>\n",
       "      <td>0</td>\n",
       "      <td>0</td>\n",
       "      <td>1</td>\n",
       "    </tr>\n",
       "  </tbody>\n",
       "</table>\n",
       "</div>"
      ],
      "text/plain": [
       "   Survived  Pclass Sex   Age  SibSp  Parch     Fare  C  Q  S\n",
       "0         0       3   1  22.0      1      0   7.2500  0  0  1\n",
       "1         1       1   0  38.0      1      0  71.2833  1  0  0\n",
       "2         1       3   0  26.0      0      0   7.9250  0  0  1\n",
       "3         1       1   0  35.0      1      0  53.1000  0  0  1\n",
       "4         0       3   1  35.0      0      0   8.0500  0  0  1"
      ]
     },
     "execution_count": 10,
     "metadata": {},
     "output_type": "execute_result"
    }
   ],
   "source": [
    "train.drop(columns = ['Embarked'], inplace = True)\n",
    "train = pd.concat([train, encoded_df], axis = 1)\n",
    "train.head()"
   ]
  },
  {
   "cell_type": "markdown",
   "id": "6c4b2849-26f6-4e52-b52a-acb06366426f",
   "metadata": {},
   "source": [
    "#### Preenchendo os valores NaN com o algoritmo KNN Imputer, usando o MinMax para normalizar os dados :"
   ]
  },
  {
   "cell_type": "code",
   "execution_count": 11,
   "id": "3d72d49d-f944-4c6f-ace0-f89b0bbd18ba",
   "metadata": {},
   "outputs": [
    {
     "data": {
      "text/plain": [
       "Survived      0\n",
       "Pclass        0\n",
       "Sex           0\n",
       "Age         177\n",
       "SibSp         0\n",
       "Parch         0\n",
       "Fare          0\n",
       "C             0\n",
       "Q             0\n",
       "S             0\n",
       "dtype: int64"
      ]
     },
     "execution_count": 11,
     "metadata": {},
     "output_type": "execute_result"
    }
   ],
   "source": [
    "train.isna().sum()"
   ]
  },
  {
   "cell_type": "code",
   "execution_count": 12,
   "id": "5a5d8fc0-f362-4d22-b6ed-fe7bfdf1be52",
   "metadata": {},
   "outputs": [
    {
     "data": {
      "text/html": [
       "<div>\n",
       "<style scoped>\n",
       "    .dataframe tbody tr th:only-of-type {\n",
       "        vertical-align: middle;\n",
       "    }\n",
       "\n",
       "    .dataframe tbody tr th {\n",
       "        vertical-align: top;\n",
       "    }\n",
       "\n",
       "    .dataframe thead th {\n",
       "        text-align: right;\n",
       "    }\n",
       "</style>\n",
       "<table border=\"1\" class=\"dataframe\">\n",
       "  <thead>\n",
       "    <tr style=\"text-align: right;\">\n",
       "      <th></th>\n",
       "      <th>Survived</th>\n",
       "      <th>Pclass</th>\n",
       "      <th>Sex</th>\n",
       "      <th>Age</th>\n",
       "      <th>SibSp</th>\n",
       "      <th>Parch</th>\n",
       "      <th>Fare</th>\n",
       "      <th>C</th>\n",
       "      <th>Q</th>\n",
       "      <th>S</th>\n",
       "    </tr>\n",
       "  </thead>\n",
       "  <tbody>\n",
       "    <tr>\n",
       "      <th>0</th>\n",
       "      <td>0</td>\n",
       "      <td>3</td>\n",
       "      <td>1</td>\n",
       "      <td>22.0</td>\n",
       "      <td>1</td>\n",
       "      <td>0</td>\n",
       "      <td>7.2500</td>\n",
       "      <td>0</td>\n",
       "      <td>0</td>\n",
       "      <td>1</td>\n",
       "    </tr>\n",
       "    <tr>\n",
       "      <th>1</th>\n",
       "      <td>1</td>\n",
       "      <td>1</td>\n",
       "      <td>0</td>\n",
       "      <td>38.0</td>\n",
       "      <td>1</td>\n",
       "      <td>0</td>\n",
       "      <td>71.2833</td>\n",
       "      <td>1</td>\n",
       "      <td>0</td>\n",
       "      <td>0</td>\n",
       "    </tr>\n",
       "    <tr>\n",
       "      <th>2</th>\n",
       "      <td>1</td>\n",
       "      <td>3</td>\n",
       "      <td>0</td>\n",
       "      <td>26.0</td>\n",
       "      <td>0</td>\n",
       "      <td>0</td>\n",
       "      <td>7.9250</td>\n",
       "      <td>0</td>\n",
       "      <td>0</td>\n",
       "      <td>1</td>\n",
       "    </tr>\n",
       "    <tr>\n",
       "      <th>3</th>\n",
       "      <td>1</td>\n",
       "      <td>1</td>\n",
       "      <td>0</td>\n",
       "      <td>35.0</td>\n",
       "      <td>1</td>\n",
       "      <td>0</td>\n",
       "      <td>53.1000</td>\n",
       "      <td>0</td>\n",
       "      <td>0</td>\n",
       "      <td>1</td>\n",
       "    </tr>\n",
       "    <tr>\n",
       "      <th>4</th>\n",
       "      <td>0</td>\n",
       "      <td>3</td>\n",
       "      <td>1</td>\n",
       "      <td>35.0</td>\n",
       "      <td>0</td>\n",
       "      <td>0</td>\n",
       "      <td>8.0500</td>\n",
       "      <td>0</td>\n",
       "      <td>0</td>\n",
       "      <td>1</td>\n",
       "    </tr>\n",
       "  </tbody>\n",
       "</table>\n",
       "</div>"
      ],
      "text/plain": [
       "   Survived  Pclass Sex   Age  SibSp  Parch     Fare  C  Q  S\n",
       "0         0       3   1  22.0      1      0   7.2500  0  0  1\n",
       "1         1       1   0  38.0      1      0  71.2833  1  0  0\n",
       "2         1       3   0  26.0      0      0   7.9250  0  0  1\n",
       "3         1       1   0  35.0      1      0  53.1000  0  0  1\n",
       "4         0       3   1  35.0      0      0   8.0500  0  0  1"
      ]
     },
     "execution_count": 12,
     "metadata": {},
     "output_type": "execute_result"
    }
   ],
   "source": [
    "train.head()"
   ]
  },
  {
   "cell_type": "code",
   "execution_count": 13,
   "id": "90ce6c2f-d964-4279-bd30-adc9ce328b93",
   "metadata": {},
   "outputs": [
    {
     "data": {
      "text/plain": [
       "Survived    0\n",
       "Pclass      0\n",
       "Sex         0\n",
       "Age         0\n",
       "SibSp       0\n",
       "Parch       0\n",
       "Fare        0\n",
       "C           0\n",
       "Q           0\n",
       "S           0\n",
       "dtype: int64"
      ]
     },
     "execution_count": 13,
     "metadata": {},
     "output_type": "execute_result"
    }
   ],
   "source": [
    "# Usando o KNN inputer para preencher os valores não nulos.\n",
    "\n",
    "imputer = KNNImputer(n_neighbors = 5)\n",
    "train = pd.DataFrame(imputer.fit_transform(train), columns = train.columns).astype(float)\n",
    "train.isna().sum()"
   ]
  },
  {
   "cell_type": "code",
   "execution_count": 14,
   "id": "99479048-2080-4f12-89b0-133db350ff61",
   "metadata": {},
   "outputs": [],
   "source": [
    "# Escalonando os dados com MinMaxScaler : \n",
    "#scaler = MinMaxScaler()\n",
    "#x = scaler.fit_transform(train.loc[:, ~train.columns.isin(['Survived'])])\n",
    "#y = train.loc[:, 'Survived']"
   ]
  },
  {
   "cell_type": "code",
   "execution_count": 15,
   "id": "6e97f2c7-0bce-4bf3-bd7a-bf049d18e1ed",
   "metadata": {},
   "outputs": [],
   "source": [
    "# Escalonando os dados com o StandardScaler : \n",
    "\n",
    "scaler = StandardScaler()\n",
    "x = scaler.fit_transform(train.loc[:, ~train.columns.isin(['Survived'])])\n",
    "y = train.loc[:, 'Survived']"
   ]
  },
  {
   "cell_type": "code",
   "execution_count": 16,
   "id": "e125ec75-2aa2-4679-8bc1-9b02b4f026e3",
   "metadata": {},
   "outputs": [
    {
     "data": {
      "text/plain": [
       "(array([0., 1.]), array([549, 342]))"
      ]
     },
     "execution_count": 16,
     "metadata": {},
     "output_type": "execute_result"
    }
   ],
   "source": [
    "np.unique(y, return_counts = True)"
   ]
  },
  {
   "cell_type": "code",
   "execution_count": 17,
   "id": "09bac19a-be5b-40a7-b2f4-15803cb100a6",
   "metadata": {},
   "outputs": [
    {
     "data": {
      "text/html": [
       "<div>\n",
       "<style scoped>\n",
       "    .dataframe tbody tr th:only-of-type {\n",
       "        vertical-align: middle;\n",
       "    }\n",
       "\n",
       "    .dataframe tbody tr th {\n",
       "        vertical-align: top;\n",
       "    }\n",
       "\n",
       "    .dataframe thead th {\n",
       "        text-align: right;\n",
       "    }\n",
       "</style>\n",
       "<table border=\"1\" class=\"dataframe\">\n",
       "  <thead>\n",
       "    <tr style=\"text-align: right;\">\n",
       "      <th></th>\n",
       "      <th>Survived</th>\n",
       "      <th>Pclass</th>\n",
       "      <th>Sex</th>\n",
       "      <th>Age</th>\n",
       "      <th>SibSp</th>\n",
       "      <th>Parch</th>\n",
       "      <th>Fare</th>\n",
       "      <th>C</th>\n",
       "      <th>Q</th>\n",
       "      <th>S</th>\n",
       "    </tr>\n",
       "  </thead>\n",
       "  <tbody>\n",
       "    <tr>\n",
       "      <th>0</th>\n",
       "      <td>0.0</td>\n",
       "      <td>0.827377</td>\n",
       "      <td>0.737695</td>\n",
       "      <td>-0.587949</td>\n",
       "      <td>0.432793</td>\n",
       "      <td>-0.473674</td>\n",
       "      <td>-0.502445</td>\n",
       "      <td>-0.482043</td>\n",
       "      <td>-0.307562</td>\n",
       "      <td>0.619306</td>\n",
       "    </tr>\n",
       "    <tr>\n",
       "      <th>1</th>\n",
       "      <td>1.0</td>\n",
       "      <td>-1.566107</td>\n",
       "      <td>-1.355574</td>\n",
       "      <td>0.582260</td>\n",
       "      <td>0.432793</td>\n",
       "      <td>-0.473674</td>\n",
       "      <td>0.786845</td>\n",
       "      <td>2.074505</td>\n",
       "      <td>-0.307562</td>\n",
       "      <td>-1.614710</td>\n",
       "    </tr>\n",
       "    <tr>\n",
       "      <th>2</th>\n",
       "      <td>1.0</td>\n",
       "      <td>0.827377</td>\n",
       "      <td>-1.355574</td>\n",
       "      <td>-0.295397</td>\n",
       "      <td>-0.474545</td>\n",
       "      <td>-0.473674</td>\n",
       "      <td>-0.488854</td>\n",
       "      <td>-0.482043</td>\n",
       "      <td>-0.307562</td>\n",
       "      <td>0.619306</td>\n",
       "    </tr>\n",
       "    <tr>\n",
       "      <th>3</th>\n",
       "      <td>1.0</td>\n",
       "      <td>-1.566107</td>\n",
       "      <td>-1.355574</td>\n",
       "      <td>0.362846</td>\n",
       "      <td>0.432793</td>\n",
       "      <td>-0.473674</td>\n",
       "      <td>0.420730</td>\n",
       "      <td>-0.482043</td>\n",
       "      <td>-0.307562</td>\n",
       "      <td>0.619306</td>\n",
       "    </tr>\n",
       "    <tr>\n",
       "      <th>4</th>\n",
       "      <td>0.0</td>\n",
       "      <td>0.827377</td>\n",
       "      <td>0.737695</td>\n",
       "      <td>0.362846</td>\n",
       "      <td>-0.474545</td>\n",
       "      <td>-0.473674</td>\n",
       "      <td>-0.486337</td>\n",
       "      <td>-0.482043</td>\n",
       "      <td>-0.307562</td>\n",
       "      <td>0.619306</td>\n",
       "    </tr>\n",
       "  </tbody>\n",
       "</table>\n",
       "</div>"
      ],
      "text/plain": [
       "   Survived    Pclass       Sex       Age     SibSp     Parch      Fare  \\\n",
       "0       0.0  0.827377  0.737695 -0.587949  0.432793 -0.473674 -0.502445   \n",
       "1       1.0 -1.566107 -1.355574  0.582260  0.432793 -0.473674  0.786845   \n",
       "2       1.0  0.827377 -1.355574 -0.295397 -0.474545 -0.473674 -0.488854   \n",
       "3       1.0 -1.566107 -1.355574  0.362846  0.432793 -0.473674  0.420730   \n",
       "4       0.0  0.827377  0.737695  0.362846 -0.474545 -0.473674 -0.486337   \n",
       "\n",
       "          C         Q         S  \n",
       "0 -0.482043 -0.307562  0.619306  \n",
       "1  2.074505 -0.307562 -1.614710  \n",
       "2 -0.482043 -0.307562  0.619306  \n",
       "3 -0.482043 -0.307562  0.619306  \n",
       "4 -0.482043 -0.307562  0.619306  "
      ]
     },
     "execution_count": 17,
     "metadata": {},
     "output_type": "execute_result"
    }
   ],
   "source": [
    "data_norm = pd.DataFrame(np.column_stack((y, x)), columns = train.columns)\n",
    "\n",
    "data_norm.head()"
   ]
  },
  {
   "cell_type": "markdown",
   "id": "76321c99-13b9-40ab-b380-8b6195f23997",
   "metadata": {},
   "source": [
    "#### Criando os modelos de classificação que irão atuar sobre os dados de treino : "
   ]
  },
  {
   "cell_type": "markdown",
   "id": "589051c5-38a3-47ad-8b6f-268cadd0efc0",
   "metadata": {},
   "source": [
    "#### Primeiro serão as duas arquiteturas de MLP's, porém com otimizadores diferentes : "
   ]
  },
  {
   "cell_type": "code",
   "execution_count": null,
   "id": "a41003ef-535a-48a4-995a-56fecf0a38a5",
   "metadata": {},
   "outputs": [],
   "source": [
    "%%time\n",
    "\n",
    "# Criando o modelo classificador com o otimizador ADAM : \n",
    "\n",
    "mlp_with_adam = MLPClassifier(activation = 'logistic', \n",
    "                    solver = 'adam', max_iter = 800)\n",
    "\n",
    "n_neurons = [\n",
    "    (i, j) for i in range(1, 10) for j in range(1, 5)\n",
    "] + [\n",
    "    (i, j, k) for i in range(1, 10) for j in range(1, 10) for k in range(1, 5)\n",
    "]\n",
    "\n",
    "\n",
    "parameters = {'hidden_layer_sizes': n_neurons}\n",
    "\n",
    "mlp_adam_clf = GridSearchCV(estimator = mlp_with_adam, param_grid = parameters, cv = 10, scoring='accuracy').fit(x, y)\n",
    "\n",
    "bparam_adam = mlp_adam_clf.best_params_['hidden_layer_sizes']\n",
    "print(f\"The best param is {bparam_adam} and the accuracy is : {mlp_adam_clf.best_score_}\")"
   ]
  },
  {
   "cell_type": "code",
   "execution_count": null,
   "id": "808c04ba-390d-447d-9d2b-a7ea1d98ab96",
   "metadata": {},
   "outputs": [],
   "source": [
    "%%time\n",
    "# Fazendo um loop para pegar a acurácia média do classificador : \n",
    "\n",
    "result_ml_adam = list()\n",
    "\n",
    "mlp_adam = MLPClassifier(hidden_layer_sizes=bparam_adam, activation = 'logistic', \n",
    "                         solver = 'adam', max_iter = 800)\n",
    "\n",
    "\n",
    "for i in range(10):\n",
    "    x, y = shuffle(x, y, random_state = 42)\n",
    "    result_ml_adam.append(np.mean(cross_val_score(mlp_adam, x, y, cv = 10)))\n",
    "\n",
    "result_ml_adam = np.array(result_ml_adam)\n",
    "print(f\"The accuracy for mlp is {np.mean(result_ml_adam)} +- {statistics.stdev(result_ml_adam)}\")"
   ]
  },
  {
   "cell_type": "code",
   "execution_count": null,
   "id": "799cf8a0-0284-4471-b11e-92fd5f6fb4ef",
   "metadata": {},
   "outputs": [],
   "source": [
    "# Pegando os dados para a curva AUC gerada pelo modelo bayesiano : \n",
    "\n",
    "y_pred_proba_adam = mlp_adam.fit(x, y).predict_proba(x)[:, 1]\n",
    "\n",
    "fpr_adam, tpr_adam, thresholds_adam = metrics.roc_curve(y,  y_pred_proba_adam)\n",
    "auc_adam = metrics.roc_auc_score(y, y_pred_proba_adam)\n",
    "\n",
    "print(f\"The AUC value for the mlp using adam is : {auc_adam}\")"
   ]
  },
  {
   "cell_type": "code",
   "execution_count": null,
   "id": "b2e14bf8-9062-488f-a00e-d58d7b26987f",
   "metadata": {},
   "outputs": [],
   "source": [
    "%%time\n",
    "# Agora, realizando o treinamento para a rede MLP com o otimizador do gradiente estocástico.\n",
    "\n",
    "mlp_with_sgd = MLPClassifier(activation = 'logistic', \n",
    "                             solver = 'sgd', max_iter = 800)\n",
    "\n",
    "\n",
    "parameters = {'hidden_layer_sizes': n_neurons}\n",
    "\n",
    "mlp_sgd_clf = GridSearchCV(estimator = mlp_with_sgd, param_grid = parameters, cv = 10, scoring='accuracy').fit(x,y)\n",
    "\n",
    "bparam_sgd = mlp_sgd_clf.best_params_['hidden_layer_sizes']\n",
    "print(f\"The best param is {bparam_sgd} and the accuracy is : {mlp_sgd_clf.best_score_}\")"
   ]
  },
  {
   "cell_type": "code",
   "execution_count": null,
   "id": "90f1ceca-fb13-4e40-a986-882c911a5cb7",
   "metadata": {},
   "outputs": [],
   "source": [
    "%%time\n",
    "\n",
    "# Fazendo um loop para pegar a acurácia média do classificador : \n",
    "\n",
    "result_ml_sgd = list()\n",
    "\n",
    "mlp_sgd = MLPClassifier(hidden_layer_sizes = bparam_sgd, activation = 'logistic', \n",
    "                    solver = 'sgd', max_iter = 800)\n",
    "\n",
    "\n",
    "for i in range(10):\n",
    "    x, y = shuffle(x, y, random_state = 42)\n",
    "    result_ml_sgd.append(np.mean(cross_val_score(mlp_sgd, x, y, cv = 10)))\n",
    "\n",
    "result_ml_sgd = np.array(result_ml_sgd)\n",
    "print(f\"The accuracy for mlp using sgd is {np.mean(result_ml_sgd)} +- {statistics.stdev(result_ml_sgd)}\")"
   ]
  },
  {
   "cell_type": "code",
   "execution_count": null,
   "id": "424b0893-5d28-41fb-a254-27dc77a4d387",
   "metadata": {},
   "outputs": [],
   "source": [
    "# Pegando os dados para a curva AUC gerada pelo modelo bayesiano : \n",
    "\n",
    "y_pred_proba_sgd = mlp_sgd.fit(x, y).predict_proba(x)[:, 1]\n",
    "\n",
    "fpr_sgd, tpr_sgd, thresholds_sgd = metrics.roc_curve(y,  y_pred_proba_sgd)\n",
    "auc_sgd = metrics.roc_auc_score(y, y_pred_proba_sgd)\n",
    "\n",
    "print(f\"The AUC value for the mlp using sgd is : {auc_sgd}\")"
   ]
  },
  {
   "cell_type": "markdown",
   "id": "91745d75-d528-46ee-b98f-b61177aa380d",
   "metadata": {},
   "source": [
    "#### Criando o KNN classifier : "
   ]
  },
  {
   "cell_type": "code",
   "execution_count": null,
   "id": "bd8acae5-c0dc-44d3-b948-5a7667aa16cf",
   "metadata": {},
   "outputs": [],
   "source": [
    "%%time\n",
    "\n",
    "neigh = KNeighborsClassifier()\n",
    "\n",
    "n_neighbors = np.arange(start = 1, stop = 50, step = 1)\n",
    "parameters = {'n_neighbors': n_neighbors}\n",
    "\n",
    "knn_clf = GridSearchCV(estimator = neigh, param_grid = parameters, cv = 10).fit(x, y)\n",
    "\n",
    "bparam_knn = knn_clf.best_params_['n_neighbors']\n",
    "print(f\"The best param is {bparam_knn} and the accuracy is : {knn_clf.best_score_}\")"
   ]
  },
  {
   "cell_type": "code",
   "execution_count": null,
   "id": "4cf68eef-8ab1-4aa7-ab9f-683486cce904",
   "metadata": {},
   "outputs": [],
   "source": [
    "%%time\n",
    "\n",
    "# Fazendo um loop para pegar a acurácia média do classificador : \n",
    "\n",
    "result_knn = list()\n",
    "\n",
    "knn_blam = KNeighborsClassifier(n_neighbors = bparam_knn)\n",
    "\n",
    "for i in range(10):\n",
    "    x, y = shuffle(x, y, random_state = 42)\n",
    "    result_knn.append(np.mean(cross_val_score(knn_blam, x, y, cv = 10)))\n",
    "\n",
    "result_knn = np.array(result_knn)\n",
    "print(f\"The accuracy for KNN is {np.mean(result_knn)} +- {statistics.stdev(result_knn)}\")"
   ]
  },
  {
   "cell_type": "code",
   "execution_count": null,
   "id": "2f4737c3-374c-440b-93f3-8aa887501a91",
   "metadata": {},
   "outputs": [],
   "source": [
    "# Pegando os dados para a curva AUC gerada pelo modelo knn : \n",
    "\n",
    "y_pred_proba_knn = knn_blam.fit(x, y).predict_proba(x)[:, 1]\n",
    "\n",
    "fpr_knn, tpr_knn, thresholds_knn = metrics.roc_curve(y,  y_pred_proba_knn)\n",
    "auc_knn = metrics.roc_auc_score(y, y_pred_proba_knn)\n",
    "\n",
    "print(f\"The AUC value for the knn is : {auc_knn}\")"
   ]
  },
  {
   "cell_type": "markdown",
   "id": "1d987782-b922-48c3-b612-c132f38ed264",
   "metadata": {},
   "source": [
    "#### Criando o Bayesian classifier : "
   ]
  },
  {
   "cell_type": "code",
   "execution_count": null,
   "id": "e3ef5571-da4c-4bee-bf78-073faa30cdd9",
   "metadata": {},
   "outputs": [],
   "source": [
    "%%time\n",
    "\n",
    "# Realizando o treino do classificador bayesiano : \n",
    "\n",
    "result_bay = list()\n",
    "\n",
    "bay = GaussianNB().fit(x, y)\n",
    "np.mean(cross_val_score(bay, x, y, cv = 10))\n",
    "\n",
    "for i in range(10):\n",
    "    x, y = shuffle(x, y, random_state = 42)\n",
    "    result_bay.append(np.mean(cross_val_score(bay, x, y, cv = 10)))\n",
    "                      \n",
    "result_bay = np.array(result_bay)\n",
    "print(f\"The accuracy for mlp is {np.mean(result_bay)} +- {statistics.stdev(result_bay)}\")"
   ]
  },
  {
   "cell_type": "code",
   "execution_count": null,
   "id": "97be772b-1d73-4044-9970-e7ec3e63805c",
   "metadata": {},
   "outputs": [],
   "source": [
    "# Pegando os dados para a curva AUC gerada pelo modelo bayesiano : \n",
    "\n",
    "y_pred_proba_bay = bay.predict_proba(x)[:, 1]\n",
    "\n",
    "fpr_bay, tpr_bay, thresholds_bay = metrics.roc_curve(y,  y_pred_proba_bay)\n",
    "auc_bay = metrics.roc_auc_score(y, y_pred_proba_bay)\n",
    "\n",
    "print(f\"The AUC value for the bayes classifier is : {auc_bay}\")"
   ]
  },
  {
   "cell_type": "markdown",
   "id": "81faf5c5-c074-4bb1-967a-3f4258f58d51",
   "metadata": {},
   "source": [
    "#### Comparando todas as curvas AUC's geradas por cada classificador : "
   ]
  },
  {
   "cell_type": "code",
   "execution_count": null,
   "id": "3fe3d9b9-f418-4b61-96a1-2a9e400c687a",
   "metadata": {},
   "outputs": [],
   "source": [
    "plt.plot(fpr_adam, tpr_adam, label=\"data 1, auc adam = \"+str(auc_adam), linestyle = '-', color = 'black')\n",
    "plt.legend(loc=4)\n",
    "\n",
    "plt.plot(fpr_sgd, tpr_sgd, label=\"data 1, auc sgd = \"+str(auc_sgd), linestyle = '--', color = 'red')\n",
    "plt.legend(loc=4)\n",
    "\n",
    "plt.plot(fpr_knn, tpr_knn, label=\"data 1, auc knn = \"+str(auc_knn), linestyle = '-.', color = 'blue')\n",
    "plt.legend(loc=4)\n",
    "\n",
    "plt.plot(fpr_bay, tpr_bay, label=\"data 1, auc bayesian = \"+str(auc_bay), linestyle = ':', color = 'yellow')\n",
    "plt.legend(loc=4)\n",
    "\n",
    "plt.show()"
   ]
  },
  {
   "cell_type": "code",
   "execution_count": null,
   "id": "7ad5be0e-873a-4d14-a50d-f25d57fd254f",
   "metadata": {},
   "outputs": [],
   "source": [
    "# Compute accuracy for each threshold\n",
    "import sys\n",
    "accuracies_adam = list()\n",
    "#rint(mlp_adam.predict(test))\n",
    "#y_pred = (y_pred_proba_adam >= 0.5).astype(int)\n",
    "\n",
    "#print(y_pred)\n",
    "#print(accuracy_score(y,y_pred))\n",
    "\n",
    "for threshold in thresholds_adam:\n",
    "    y_pred = (y_pred_proba_adam >= threshold).astype(int)\n",
    "    accuracies_adam.append(accuracy_score(y, y_pred))\n",
    "    #print(accuracy_score(y, y_pred), threshold)\n",
    "    #print(y_pred)\n",
    "\n",
    "# Find the threshold with the maximum accuracy\n",
    "max_acc_adam_idx = np.argmax(accuracies_adam)\n",
    "opt_thresh_adam = thresholds_adam[max_acc_adam_idx]\n",
    "max_accuracy_adam = accuracies_adam[max_acc_adam_idx]\n",
    "\n",
    "\n",
    "print(f'Optimal Threshold: {opt_thresh_adam}')\n",
    "print(f'Maximum Accuracy: {max_accuracy_adam}')\n",
    "\n",
    "\n",
    "plt.figure()\n",
    "plt.plot(fpr_adam, tpr_adam, label='ROC curve')\n",
    "plt.plot([0, 1], [0, 1], 'k--')\n",
    "plt.scatter(fpr_adam[max_acc_adam_idx], tpr_adam[max_acc_adam_idx], color='red', label='Optimal Threshold ADAM')\n",
    "plt.xlabel('False Positive Rate')\n",
    "plt.ylabel('True Positive Rate')\n",
    "plt.title('ROC Curve')\n",
    "plt.legend(loc='best')\n",
    "plt.show()"
   ]
  },
  {
   "cell_type": "code",
   "execution_count": null,
   "id": "c75c5dfa-1d39-42e6-bc87-df28fb2ace33",
   "metadata": {},
   "outputs": [],
   "source": [
    "# Compute accuracy for each threshold\n",
    "accuracies_sgd = list()\n",
    "for threshold in thresholds_sgd:\n",
    "    y_pred = (y_pred_proba_adam >= threshold).astype(int)\n",
    "    accuracies_sgd.append(accuracy_score(y, y_pred))\n",
    "\n",
    "# Find the threshold with the maximum accuracy\n",
    "max_acc_sgd_idx = np.argmax(accuracies_sgd)\n",
    "opt_thresh_sgd = thresholds_sgd[max_acc_sgd_idx]\n",
    "max_accuracy_sgd = accuracies_sgd[max_acc_sgd_idx]\n",
    "\n",
    "\n",
    "print(f'Optimal Threshold: {opt_thresh_sgd}')\n",
    "print(f'Maximum Accuracy: {max_accuracy_sgd}')\n",
    "\n",
    "\n",
    "plt.figure()\n",
    "plt.plot(fpr_sgd, tpr_sgd, label='ROC curve')\n",
    "plt.plot([0, 1], [0, 1], 'k--')\n",
    "plt.scatter(fpr_sgd[max_acc_sgd_idx], tpr_sgd[max_acc_sgd_idx], color='red', label='Optimal Threshold SGD')\n",
    "plt.xlabel('False Positive Rate')\n",
    "plt.ylabel('True Positive Rate')\n",
    "plt.title('ROC Curve')\n",
    "plt.legend(loc='best')\n",
    "plt.show()"
   ]
  },
  {
   "cell_type": "markdown",
   "id": "ce988d05-1fc8-4c01-b0ba-0e132618e7de",
   "metadata": {},
   "source": [
    "#### Tratando os dados de teste : "
   ]
  },
  {
   "cell_type": "code",
   "execution_count": null,
   "id": "7efae8ac-a249-4007-99f9-7f469ffb2eba",
   "metadata": {},
   "outputs": [],
   "source": [
    "test = pd.read_csv(\"test.csv\")\n",
    "test.head()"
   ]
  },
  {
   "cell_type": "code",
   "execution_count": null,
   "id": "b8f6bfd3-f63a-462d-b860-ae5d072d62a8",
   "metadata": {},
   "outputs": [],
   "source": [
    "test.info()"
   ]
  },
  {
   "cell_type": "code",
   "execution_count": null,
   "id": "13f8eb1e-50d8-4c00-88a4-69a7a6fd4e20",
   "metadata": {},
   "outputs": [],
   "source": [
    "test.describe()"
   ]
  },
  {
   "cell_type": "code",
   "execution_count": null,
   "id": "89bc8745-b692-41fc-b29a-d9a0e321bcb2",
   "metadata": {},
   "outputs": [],
   "source": [
    "test.info()"
   ]
  },
  {
   "cell_type": "code",
   "execution_count": null,
   "id": "2244d93d-548d-4a98-8db2-d74696e79dd7",
   "metadata": {},
   "outputs": [],
   "source": [
    "PassengerId = test['PassengerId']\n",
    "col = ['PassengerId', 'Name', 'Ticket', 'Cabin']\n",
    "test = test.loc[:, ~test.columns.isin(col)]"
   ]
  },
  {
   "cell_type": "code",
   "execution_count": null,
   "id": "4b2a6ebb-e4ac-4c18-be7c-105bc8d4cc6e",
   "metadata": {},
   "outputs": [],
   "source": [
    "test.loc[:, 'Sex'] = test.loc[:, 'Sex'].replace({'male' : 1, 'female' : 0})\n",
    "test.head()"
   ]
  },
  {
   "cell_type": "code",
   "execution_count": null,
   "id": "24c522f9-5e04-4b1b-afd1-3d014830f342",
   "metadata": {},
   "outputs": [],
   "source": [
    "# Realizando o Encoder das variáveis categóricas de teste : \n",
    "\n",
    "encoded_df = pd.get_dummies(test['Embarked'], columns=['Embarked']).astype(int)\n",
    "\n",
    "print(encoded_df.value_counts())"
   ]
  },
  {
   "cell_type": "code",
   "execution_count": null,
   "id": "0f86d3c5-4996-4d60-b482-369eab743f48",
   "metadata": {},
   "outputs": [],
   "source": [
    "test.drop(columns = ['Embarked'], inplace = True)\n",
    "test = pd.concat([test, encoded_df], axis = 1)\n",
    "test.head()"
   ]
  },
  {
   "cell_type": "markdown",
   "id": "22e8d833-b6aa-4ebe-90b1-a1ab89df64be",
   "metadata": {},
   "source": [
    "#### Usando o KNN imputer : "
   ]
  },
  {
   "cell_type": "code",
   "execution_count": null,
   "id": "e5316048-ae7b-4c41-a2ba-fd05ba2cda39",
   "metadata": {},
   "outputs": [],
   "source": [
    "# O KNN já foi definido no código acima, apenas iremos reutilizá-lo : \n",
    "\n",
    "test = pd.DataFrame(imputer.fit_transform(test), columns = test.columns)\n",
    "test = test.astype(float)\n",
    "test.isna().sum()"
   ]
  },
  {
   "cell_type": "markdown",
   "id": "fdb73d0d-f63f-48f6-8d9e-ee2ca225d107",
   "metadata": {},
   "source": [
    "#### Usando MinMax scaler para modificar os dados : "
   ]
  },
  {
   "cell_type": "code",
   "execution_count": null,
   "id": "6e9a58b7-b78a-4c1b-841f-7473713a5553",
   "metadata": {},
   "outputs": [],
   "source": [
    "#scaler = MinMaxScaler()\n",
    "\n",
    "#test_norm = scaler.fit_transform(test)\n",
    "#test_norm = pd.DataFrame(test_norm, columns=test.columns)\n",
    "#test_norm.head()"
   ]
  },
  {
   "cell_type": "code",
   "execution_count": null,
   "id": "4ee69200-0e9c-4091-89b0-141a7da192d6",
   "metadata": {},
   "outputs": [],
   "source": [
    "# Escalonando os dados com o StandardScaler : \n",
    "\n",
    "scaler = StandardScaler()\n",
    "test_norm = scaler.fit_transform(test)\n",
    "test_norm = pd.DataFrame(test_norm, columns=test.columns)\n",
    "test_norm.head()"
   ]
  },
  {
   "cell_type": "markdown",
   "id": "4fe12379-3275-4052-8993-bb518a3ea7ee",
   "metadata": {},
   "source": [
    "#### Usando os modelos para prever sobre os dados de teste : "
   ]
  },
  {
   "cell_type": "code",
   "execution_count": null,
   "id": "5b4119c8-2cc4-4fb5-ab2e-3da5101ac7c9",
   "metadata": {},
   "outputs": [],
   "source": [
    "pred = mlp_adam.predict_proba(test)[:, 1]\n",
    "pred = (pred >= opt_thresh_adam).astype(int)\n",
    "\n",
    "\n",
    "pred_arr = np.column_stack((PassengerId, pred))\n",
    "\n",
    "# Create the DataFrame\n",
    "predictions_df = pd.DataFrame(pred_arr, columns=['PassengerId', 'Survived']).astype(int)\n",
    "predictions_df.to_csv('predictions.csv', index=False)"
   ]
  },
  {
   "cell_type": "code",
   "execution_count": null,
   "id": "19e677bd-1e83-4f5d-8016-610f759a68e7",
   "metadata": {},
   "outputs": [],
   "source": [
    "np.unique(pred, return_counts=True)"
   ]
  },
  {
   "cell_type": "code",
   "execution_count": null,
   "id": "7346bd51-0c49-4777-8a50-b6c60d64992f",
   "metadata": {},
   "outputs": [],
   "source": [
    "pred = pd.read_csv('predictions.csv')\n",
    "pred.head()"
   ]
  },
  {
   "cell_type": "code",
   "execution_count": null,
   "id": "01dcb06e-42d0-4f40-8040-7412510608b1",
   "metadata": {},
   "outputs": [],
   "source": [
    "pred['Survived'].value_counts()"
   ]
  },
  {
   "cell_type": "code",
   "execution_count": null,
   "id": "6afbd480-bd04-4be8-94db-606a16351b50",
   "metadata": {},
   "outputs": [],
   "source": [
    "pred_adam = mlp_adam.predict(test)\n",
    "np.unique(pred_adam, return_counts=True)"
   ]
  },
  {
   "cell_type": "code",
   "execution_count": null,
   "id": "0b41f57f-c321-4f3f-b94b-adde539af432",
   "metadata": {},
   "outputs": [],
   "source": [
    "pred_sgd = mlp_sgd.predict(test)\n",
    "np.unique(pred_sgd, return_counts=True)"
   ]
  }
 ],
 "metadata": {
  "kernelspec": {
   "display_name": "Python 3 (ipykernel)",
   "language": "python",
   "name": "python3"
  },
  "language_info": {
   "codemirror_mode": {
    "name": "ipython",
    "version": 3
   },
   "file_extension": ".py",
   "mimetype": "text/x-python",
   "name": "python",
   "nbconvert_exporter": "python",
   "pygments_lexer": "ipython3",
   "version": "3.10.12"
  }
 },
 "nbformat": 4,
 "nbformat_minor": 5
}
