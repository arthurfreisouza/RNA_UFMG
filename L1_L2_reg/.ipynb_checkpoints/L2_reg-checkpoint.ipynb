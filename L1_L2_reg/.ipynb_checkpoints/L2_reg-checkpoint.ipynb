{
 "cells": [
  {
   "cell_type": "code",
   "execution_count": 14,
   "id": "ee2b155b-8f5c-47ba-b746-f6dfe4ef1cfd",
   "metadata": {},
   "outputs": [],
   "source": [
    "import numpy as np"
   ]
  },
  {
   "cell_type": "code",
   "execution_count": 15,
   "id": "bba7e220-4451-400b-9d93-92daa5da6b1a",
   "metadata": {},
   "outputs": [],
   "source": [
    "np.random.seed(42)\n",
    "X = np.random.rand(100, 1)\n",
    "y = 3*X  + 2 + np.random.randn(100, 1)"
   ]
  },
  {
   "cell_type": "code",
   "execution_count": 16,
   "id": "b89171a5-1b5a-46fb-90e7-13f5a3411381",
   "metadata": {},
   "outputs": [],
   "source": [
    "ones = np.ones((100, 1))\n",
    "X_bias = np.concatenate((ones, X), axis = 1)"
   ]
  },
  {
   "cell_type": "code",
   "execution_count": 17,
   "id": "3b5dba4c-cc59-4580-bee4-e94801264bac",
   "metadata": {},
   "outputs": [],
   "source": [
    "lambd = 0.1\n",
    "theta = np.random.randn(2, 1)"
   ]
  },
  {
   "cell_type": "code",
   "execution_count": 18,
   "id": "a40af3a2-2fe7-4243-ac37-8df7dc9f6169",
   "metadata": {},
   "outputs": [],
   "source": [
    "epochs = 1000\n",
    "learning_rate = 0.1"
   ]
  },
  {
   "cell_type": "code",
   "execution_count": 19,
   "id": "67abc7e3-3ecc-4cce-a39a-a68271e29cc7",
   "metadata": {},
   "outputs": [],
   "source": [
    "for epoch in range(epochs):\n",
    "    y_pred = np.dot(X_bias, theta) # saida da rede.\n",
    "\n",
    "    mse_loss = np.mean((y_pred - y)**2)\n",
    "    l2_reg = 0.5*lambd*np.sum(theta[1 : ]**2)\n",
    "\n",
    "    total_loss = mse_loss + l2_reg\n",
    "    gradients = 2 / len(X_bias) * X_bias.T.dot(y_pred - y)\n",
    "    gradients[1:] += lambd * theta[1:]\n",
    "    \n",
    "    theta -= learning_rate * gradients\n",
    "    \n",
    "    if epoch % 100 == 0:\n",
    "        print(\"Epoch:\", epoch, \"Total Loss:\", total_loss)\n",
    "# Print final weights\n",
    "print(\"Final Weights:\")\n",
    "print(theta)"
   ]
  },
  {
   "cell_type": "code",
   "execution_count": 21,
   "id": "9698eb7c-4504-4f04-b716-f262386f0e52",
   "metadata": {},
   "outputs": [
    {
     "data": {
      "text/plain": [
       "(100, 2)"
      ]
     },
     "execution_count": 21,
     "metadata": {},
     "output_type": "execute_result"
    }
   ],
   "source": [
    "X_bias.shape"
   ]
  }
 ],
 "metadata": {
  "kernelspec": {
   "display_name": "Python 3 (ipykernel)",
   "language": "python",
   "name": "python3"
  },
  "language_info": {
   "codemirror_mode": {
    "name": "ipython",
    "version": 3
   },
   "file_extension": ".py",
   "mimetype": "text/x-python",
   "name": "python",
   "nbconvert_exporter": "python",
   "pygments_lexer": "ipython3",
   "version": "3.10.12"
  }
 },
 "nbformat": 4,
 "nbformat_minor": 5
}
