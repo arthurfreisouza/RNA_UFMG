{
 "cells": [
  {
   "cell_type": "code",
   "execution_count": 430,
   "id": "70d5e799-da58-4fbf-b79d-77ee9414b8bb",
   "metadata": {},
   "outputs": [],
   "source": [
    "import numpy as np\n",
    "import pandas as pd\n",
    "import matplotlib.pyplot as plt\n",
    "import random"
   ]
  },
  {
   "cell_type": "markdown",
   "id": "8b22e734-4cec-46fb-b57a-8d92a4075256",
   "metadata": {},
   "source": [
    "#### Função da secante e o seu plot."
   ]
  },
  {
   "cell_type": "code",
   "execution_count": 431,
   "id": "67c1136c-b1c0-4450-b05f-e92b6424f221",
   "metadata": {},
   "outputs": [],
   "source": [
    "def sech2(x):\n",
    "    y = np.array(2 / (np.exp(x) + np.exp(-x))) * np.array(2 / (np.exp(x) + np.exp(-x)))\n",
    "    return y"
   ]
  },
  {
   "cell_type": "code",
   "execution_count": 432,
   "id": "51190d09-48fe-4b7c-a98c-d8ea182d6850",
   "metadata": {},
   "outputs": [
    {
     "data": {
      "image/png": "[encoded data removed]",
      "text/plain": [
       "<Figure size 640x480 with 1 Axes>"
      ]
     },
     "metadata": {},
     "output_type": "display_data"
    }
   ],
   "source": [
    "x = np.linspace(start = -10, stop = 10, num = 50)\n",
    "y = sech2(x)\n",
    "plt.plot(x, y, color = 'black', label = 'sech²')\n",
    "plt.xlim(-5, 5)\n",
    "plt.ylim(0, 2)\n",
    "plt.xlabel('x')\n",
    "plt.ylabel('y')\n",
    "plt.legend()\n",
    "plt.show()"
   ]
  },
  {
   "cell_type": "markdown",
   "id": "37218886-dd9f-4dc7-b8a2-4a776f1ef0ae",
   "metadata": {},
   "source": [
    "#### Começando a plotar os valores para a função XOR : "
   ]
  },
  {
   "cell_type": "code",
   "execution_count": 433,
   "id": "deae96fc-9843-419a-aa34-b6865f4240fc",
   "metadata": {},
   "outputs": [
    {
     "name": "stdout",
     "output_type": "stream",
     "text": [
      " Inputs : \n",
      "[[0 0]\n",
      " [0 1]\n",
      " [1 0]\n",
      " [1 1]]. \n",
      " Labels : \n",
      "[[-1  1]\n",
      " [ 1 -1]\n",
      " [ 1 -1]\n",
      " [-1  1]].\n"
     ]
    }
   ],
   "source": [
    "x = np.array((0, 0, 0, 1, 1, 0, 1, 1)).reshape(4, 2)\n",
    "y = np.array((-1, 1, 1, -1, 1, -1, -1, 1)).reshape(4, 2)\n",
    "print(f\" Inputs : \\n{x}. \\n Labels : \\n{y}.\")"
   ]
  },
  {
   "cell_type": "markdown",
   "id": "4dbbd3fe-8527-488d-afd6-d86ce8feed87",
   "metadata": {},
   "source": [
    "#### Inicializando todos os pesos da primeira camada como valores aleatórios."
   ]
  },
  {
   "cell_type": "code",
   "execution_count": 434,
   "id": "6dee64f5-7c87-468d-a384-2fb7ed9c8ada",
   "metadata": {},
   "outputs": [
    {
     "name": "stdout",
     "output_type": "stream",
     "text": [
      "Bias : ([-0.21632773], [-0.41624132]). \n",
      " First Input : ([-0.10355377], [0.38116371]). \n",
      " Second Input : ([-0.30053819], [-0.1045194]).\n"
     ]
    }
   ],
   "source": [
    "w15 = np.random.random(1) - 0.5\n",
    "w16 = np.random.random(1) - 0.5\n",
    "\n",
    "w25 = np.random.random(1) - 0.5\n",
    "w26 = np.random.random(1) - 0.5\n",
    "\n",
    "w35 = np.random.random(1) - 0.5\n",
    "w36 = np.random.random(1) - 0.5\n",
    "\n",
    "print(f\"Bias : ({w15}, {w16}). \\n First Input : ({w25}, {w26}). \\n Second Input : ({w35}, {w36}).\")"
   ]
  },
  {
   "cell_type": "markdown",
   "id": "91650383-ee3e-4280-bf79-245e8fa28f74",
   "metadata": {},
   "source": [
    "#### Mudando a semente e inicializando todos os pesos da camada intermediária como valores aleatórios."
   ]
  },
  {
   "cell_type": "code",
   "execution_count": 435,
   "id": "ae1ef733-cf68-40e7-b728-66feeb79741f",
   "metadata": {},
   "outputs": [
    {
     "name": "stdout",
     "output_type": "stream",
     "text": [
      "Bias : ([-0.45517694], [-0.31981448]). \n",
      " First Last Neuron Input : ([0.1411914], [0.31383095]). \n",
      " Second Last Neuron Input : ([0.2237036], [-0.35499041]).\n"
     ]
    }
   ],
   "source": [
    "np.random.seed(np.random.randint(0, 10000))\n",
    "w48 = np.random.random(1) - 0.5\n",
    "w49 = np.random.random(1) - 0.5\n",
    "\n",
    "w58 = np.random.random(1) - 0.5\n",
    "w59 = np.random.random(1) - 0.5\n",
    "\n",
    "w68 = np.random.random(1) - 0.5\n",
    "w69 = np.random.random(1) - 0.5\n",
    "\n",
    "print(f\"Bias : ({w48}, {w49}). \\n First Last Neuron Input : ({w58}, {w59}). \\n Second Last Neuron Input : ({w68}, {w69}).\")"
   ]
  },
  {
   "cell_type": "markdown",
   "id": "f9f829e3-9394-4b2a-9d75-b9b57c07f98f",
   "metadata": {},
   "source": [
    "#### Algoritmo de aprendizado :"
   ]
  },
  {
   "cell_type": "code",
   "execution_count": 436,
   "id": "a06b38b2-9941-4d2e-907c-7ff19c12f47e",
   "metadata": {},
   "outputs": [],
   "source": [
    "num_epochs = 0\n",
    "tol = 0.1\n",
    "err_epochs = tol + 1\n",
    "max_epochs = 100000\n",
    "N = 4 # Número de entradas.\n",
    "eta = 0.01 # Learning_rate.\n",
    "err_vec = np.zeros(max_epochs, dtype=float, order = 'C')"
   ]
  },
  {
   "cell_type": "code",
   "execution_count": 437,
   "id": "6f81113c-3791-471f-958d-a7725725246c",
   "metadata": {},
   "outputs": [],
   "source": [
    "last_outs = np.zeros((N, 2))"
   ]
  },
  {
   "cell_type": "code",
   "execution_count": 438,
   "id": "04c86614-317c-4e0c-b0a5-1ffe34bd8b1e",
   "metadata": {},
   "outputs": [
    {
     "data": {
      "text/plain": [
       "[2, 1, 4, 3]"
      ]
     },
     "execution_count": 438,
     "metadata": {},
     "output_type": "execute_result"
    }
   ],
   "source": [
    "sequence = np.arange(start = 1, stop = N + 1, step = 1).tolist()\n",
    "seq_randomized = random.sample(population = sequence, k = N)\n",
    "seq_randomized"
   ]
  },
  {
   "cell_type": "code",
   "execution_count": 439,
   "id": "3d3ad71f-1ab7-4735-893a-e3f7a73c92e1",
   "metadata": {},
   "outputs": [
    {
     "name": "stderr",
     "output_type": "stream",
     "text": [
      "/tmp/ipykernel_236451/2212039757.py:98: DeprecationWarning: Conversion of an array with ndim > 0 to a scalar is deprecated, and will error in future. Ensure you extract a single element from your array before performing this operation. (Deprecated NumPy 1.25.)\n",
      "  err_vec[num_epochs] = err2/N\n"
     ]
    },
    {
     "name": "stdout",
     "output_type": "stream",
     "text": [
      "a\n",
      "a\n",
      "a\n",
      "a\n"
     ]
    },
    {
     "name": "stderr",
     "output_type": "stream",
     "text": [
      "/tmp/ipykernel_236451/2212039757.py:36: DeprecationWarning: Conversion of an array with ndim > 0 to a scalar is deprecated, and will error in future. Ensure you extract a single element from your array before performing this operation. (Deprecated NumPy 1.25.)\n",
      "  last_outs[i,:] = float(tanh_n11), float(tanh_n22)\n"
     ]
    }
   ],
   "source": [
    "while((num_epochs < max_epochs) and (err_epochs > tol)):\n",
    "    sequence = np.arange(start = 1, stop = N + 1, step = 1).tolist()\n",
    "    seq_randomized = random.sample(population = sequence, k = N)\n",
    "    err2 = 0\n",
    "    for i in range(N):\n",
    "        # Pegando entradas aleatórias.\n",
    "        rand_input = seq_randomized[i] - 1\n",
    "        input1 = x[rand_input, 0]\n",
    "        input2 = x[rand_input, 1]\n",
    "\n",
    "\n",
    "        # Pegando as saídas das entradas aleatórias.\n",
    "        output1 = y[rand_input, 0]\n",
    "        output2 = y[rand_input, 1]\n",
    "\n",
    "        # Inicializando o valor dos biases da camada de entrada e da camada de saída.\n",
    "        bias1 = 1\n",
    "        bias2 = 1\n",
    "\n",
    "\n",
    "        # Fazendo a combinação linear dos dois neurônios de saída e aplicando a função de ativação sigmoidal.\n",
    "        comb_n1 = (bias1*w15) + (input1*w25) + (input2*w35)\n",
    "        comb_n2 = (bias1*w16) + (input1*w26) + (input2*w36)\n",
    "        tanh_n1 = np.tanh(comb_n1)\n",
    "        tanh_n2 = np.tanh(comb_n2)\n",
    "\n",
    "\n",
    "        # Fazendo a combinação linear dos dois neutônios de entrada e aplicando a função de ativação sigmoidal.\n",
    "        comb_n11 = (bias2*w48) + (tanh_n1*w58) + (tanh_n2*w68)\n",
    "        comb_n22 = (bias2*w49) + (tanh_n1*w59) + (tanh_n2*w69)\n",
    "        tanh_n11 = np.tanh(comb_n11)\n",
    "        tanh_n22 = np.tanh(comb_n22)\n",
    "        \n",
    "        if (num_epochs == max_epochs - 1) or (tol == err_epochs - 0.11):\n",
    "            print('a')\n",
    "            last_outs[i,:] = float(tanh_n11), float(tanh_n22)\n",
    "        \n",
    "        \n",
    "        # Calculo do erro e a retropropagação dos erros.\n",
    "        err_output1 = (output1 - tanh_n11)\n",
    "        err_output2 = (output2 - tanh_n22)\n",
    "        delta_output1 = err_output1*sech2(comb_n11) # Lembrar que delta(N) = e*f'(u) SEMPRE.\n",
    "        delta_output2 = err_output2*sech2(comb_n22) # Lembrar que delta(N) = e*f'(u) SEMPRE.\n",
    "\n",
    "\n",
    "\n",
    "        # Atualização dos pesos : \n",
    "        dw48 = (eta*delta_output1*bias2) # atualização do peso do bias da camada de saída.\n",
    "        dw49 = (eta*delta_output2*bias2) # atualização do peso do bias da camada de saída.\n",
    "\n",
    "        \n",
    "        dw58 = (eta*delta_output1*tanh_n1) # atualização do peso do bias da camada de saída.\n",
    "        dw59 = (eta*delta_output2*tanh_n1) # atualização do peso do bias da camada de saída.\n",
    "\n",
    "\n",
    "        dw68 = (eta*delta_output1*tanh_n2) # atualização do peso do bias da camada de saída.\n",
    "        dw69 = (eta*delta_output2*tanh_n2) # atualização do peso do bias da camada de saída.\n",
    "        \n",
    "        # Calculando o delta dos neurônios da camada de entrada e a retropropragação da camada de entrada.\n",
    "        delta_input1 = (delta_output1*w58 + delta_output2*w59)*sech2(comb_n1)\n",
    "        delta_input2 = (delta_output1*w68 + delta_output2*w69)*sech2(comb_n2)\n",
    "\n",
    "        dw15 = eta*delta_input1*bias1\n",
    "        dw16 = eta*delta_input2*bias1\n",
    "\n",
    "        \n",
    "        dw25 = eta*delta_input1*input1\n",
    "        dw26 = eta*delta_input2*input1\n",
    "\n",
    "        \n",
    "        dw35 = eta*delta_input1*input2\n",
    "        dw36 = eta*delta_input2*input2\n",
    "\n",
    "\n",
    "        # Atualização de todos os pesos da rede.\n",
    "\n",
    "        w15 = w15 + dw15\n",
    "        w16 = w16 + dw16\n",
    "\n",
    "        w25 = w25 + dw25\n",
    "        w26 = w26 + dw26\n",
    "\n",
    "        w35 = w35 + dw35\n",
    "        w36 = w36 + dw36\n",
    "\n",
    "        w48 = w48 + dw48\n",
    "        w49 = w49 + dw49\n",
    "        \n",
    "        w58 = w58 + dw58\n",
    "        w59 = w59 + dw59\n",
    "        \n",
    "        w68 = w68 + dw68\n",
    "        w69 = w69 + dw69\n",
    "\n",
    "        err2 = err2 + (err_output1**2 + err_output2)/4\n",
    "\n",
    "        \n",
    "    err_vec[num_epochs] = err2/N\n",
    "    num_epochs += 1\n",
    "    err_epochs = err_vec[num_epochs] \n"
   ]
  },
  {
   "cell_type": "code",
   "execution_count": 440,
   "id": "14835d49-5265-4ffb-8fa4-d7a13bf267f6",
   "metadata": {},
   "outputs": [
    {
     "data": {
      "image/png": "[encoded data removed]",
      "text/plain": [
       "<Figure size 640x480 with 1 Axes>"
      ]
     },
     "metadata": {},
     "output_type": "display_data"
    }
   ],
   "source": [
    "x_plot = np.linspace(start = 0, stop = num_epochs, num = num_epochs)\n",
    "plt.plot(x_plot, err_vec, color = 'black', label = 'err_graphic')\n",
    "plt.title('Err graphic')\n",
    "plt.xlabel('num_epochs')\n",
    "plt.ylabel('err²')\n",
    "plt.legend()\n",
    "plt.show()"
   ]
  },
  {
   "cell_type": "code",
   "execution_count": 441,
   "id": "43c5ec18-d511-4890-a09c-4703c5562d15",
   "metadata": {},
   "outputs": [
    {
     "data": {
      "text/plain": [
       "array([[-0.99207839,  0.99208166],\n",
       "       [-0.99087268,  0.99087635],\n",
       "       [ 0.98831649, -0.9883211 ],\n",
       "       [ 0.98843732, -0.98844173]])"
      ]
     },
     "execution_count": 441,
     "metadata": {},
     "output_type": "execute_result"
    }
   ],
   "source": [
    "last_outs"
   ]
  }
 ],
 "metadata": {
  "kernelspec": {
   "display_name": "Python 3 (ipykernel)",
   "language": "python",
   "name": "python3"
  },
  "language_info": {
   "codemirror_mode": {
    "name": "ipython",
    "version": 3
   },
   "file_extension": ".py",
   "mimetype": "text/x-python",
   "name": "python",
   "nbconvert_exporter": "python",
   "pygments_lexer": "ipython3",
   "version": "3.10.12"
  }
 },
 "nbformat": 4,
 "nbformat_minor": 5
}
