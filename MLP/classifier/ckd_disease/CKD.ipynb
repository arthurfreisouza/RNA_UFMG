{
 "cells": [
  {
   "cell_type": "code",
   "execution_count": 286,
   "id": "1bebfbcb-1f45-44b5-b3f9-9e5a8e4acd42",
   "metadata": {},
   "outputs": [],
   "source": [
    "from ucimlrepo import fetch_ucirepo \n",
    "import numpy as np\n",
    "import pandas as pd\n",
    "import matplotlib.pyplot as plt"
   ]
  },
  {
   "cell_type": "code",
   "execution_count": 287,
   "id": "635f4e2b-60d7-48d4-9f58-b04dded6fb21",
   "metadata": {},
   "outputs": [],
   "source": [
    "from ucimlrepo import fetch_ucirepo \n",
    "  \n",
    "# fetch dataset \n",
    "chronic_kidney_disease = fetch_ucirepo(id=336) \n",
    "  \n",
    "X = chronic_kidney_disease.data.features \n",
    "y = chronic_kidney_disease.data.targets \n",
    "  "
   ]
  },
  {
   "cell_type": "code",
   "execution_count": 288,
   "id": "10aabd49-ab77-4087-937b-a5a03a5c419c",
   "metadata": {},
   "outputs": [
    {
     "data": {
      "text/html": [
       "<div>\n",
       "<style scoped>\n",
       "    .dataframe tbody tr th:only-of-type {\n",
       "        vertical-align: middle;\n",
       "    }\n",
       "\n",
       "    .dataframe tbody tr th {\n",
       "        vertical-align: top;\n",
       "    }\n",
       "\n",
       "    .dataframe thead th {\n",
       "        text-align: right;\n",
       "    }\n",
       "</style>\n",
       "<table border=\"1\" class=\"dataframe\">\n",
       "  <thead>\n",
       "    <tr style=\"text-align: right;\">\n",
       "      <th></th>\n",
       "      <th>age</th>\n",
       "      <th>bp</th>\n",
       "      <th>sg</th>\n",
       "      <th>al</th>\n",
       "      <th>su</th>\n",
       "      <th>rbc</th>\n",
       "      <th>pc</th>\n",
       "      <th>pcc</th>\n",
       "      <th>ba</th>\n",
       "      <th>bgr</th>\n",
       "      <th>...</th>\n",
       "      <th>hemo</th>\n",
       "      <th>pcv</th>\n",
       "      <th>wbcc</th>\n",
       "      <th>rbcc</th>\n",
       "      <th>htn</th>\n",
       "      <th>dm</th>\n",
       "      <th>cad</th>\n",
       "      <th>appet</th>\n",
       "      <th>pe</th>\n",
       "      <th>ane</th>\n",
       "    </tr>\n",
       "  </thead>\n",
       "  <tbody>\n",
       "    <tr>\n",
       "      <th>0</th>\n",
       "      <td>48.0</td>\n",
       "      <td>80.0</td>\n",
       "      <td>1.020</td>\n",
       "      <td>1.0</td>\n",
       "      <td>0.0</td>\n",
       "      <td>NaN</td>\n",
       "      <td>normal</td>\n",
       "      <td>notpresent</td>\n",
       "      <td>notpresent</td>\n",
       "      <td>121.0</td>\n",
       "      <td>...</td>\n",
       "      <td>15.4</td>\n",
       "      <td>44.0</td>\n",
       "      <td>7800.0</td>\n",
       "      <td>5.2</td>\n",
       "      <td>yes</td>\n",
       "      <td>yes</td>\n",
       "      <td>no</td>\n",
       "      <td>good</td>\n",
       "      <td>no</td>\n",
       "      <td>no</td>\n",
       "    </tr>\n",
       "    <tr>\n",
       "      <th>1</th>\n",
       "      <td>7.0</td>\n",
       "      <td>50.0</td>\n",
       "      <td>1.020</td>\n",
       "      <td>4.0</td>\n",
       "      <td>0.0</td>\n",
       "      <td>NaN</td>\n",
       "      <td>normal</td>\n",
       "      <td>notpresent</td>\n",
       "      <td>notpresent</td>\n",
       "      <td>NaN</td>\n",
       "      <td>...</td>\n",
       "      <td>11.3</td>\n",
       "      <td>38.0</td>\n",
       "      <td>6000.0</td>\n",
       "      <td>NaN</td>\n",
       "      <td>no</td>\n",
       "      <td>no</td>\n",
       "      <td>no</td>\n",
       "      <td>good</td>\n",
       "      <td>no</td>\n",
       "      <td>no</td>\n",
       "    </tr>\n",
       "    <tr>\n",
       "      <th>2</th>\n",
       "      <td>62.0</td>\n",
       "      <td>80.0</td>\n",
       "      <td>1.010</td>\n",
       "      <td>2.0</td>\n",
       "      <td>3.0</td>\n",
       "      <td>normal</td>\n",
       "      <td>normal</td>\n",
       "      <td>notpresent</td>\n",
       "      <td>notpresent</td>\n",
       "      <td>423.0</td>\n",
       "      <td>...</td>\n",
       "      <td>9.6</td>\n",
       "      <td>31.0</td>\n",
       "      <td>7500.0</td>\n",
       "      <td>NaN</td>\n",
       "      <td>no</td>\n",
       "      <td>yes</td>\n",
       "      <td>no</td>\n",
       "      <td>poor</td>\n",
       "      <td>no</td>\n",
       "      <td>yes</td>\n",
       "    </tr>\n",
       "    <tr>\n",
       "      <th>3</th>\n",
       "      <td>48.0</td>\n",
       "      <td>70.0</td>\n",
       "      <td>1.005</td>\n",
       "      <td>4.0</td>\n",
       "      <td>0.0</td>\n",
       "      <td>normal</td>\n",
       "      <td>abnormal</td>\n",
       "      <td>present</td>\n",
       "      <td>notpresent</td>\n",
       "      <td>117.0</td>\n",
       "      <td>...</td>\n",
       "      <td>11.2</td>\n",
       "      <td>32.0</td>\n",
       "      <td>6700.0</td>\n",
       "      <td>3.9</td>\n",
       "      <td>yes</td>\n",
       "      <td>no</td>\n",
       "      <td>no</td>\n",
       "      <td>poor</td>\n",
       "      <td>yes</td>\n",
       "      <td>yes</td>\n",
       "    </tr>\n",
       "    <tr>\n",
       "      <th>4</th>\n",
       "      <td>51.0</td>\n",
       "      <td>80.0</td>\n",
       "      <td>1.010</td>\n",
       "      <td>2.0</td>\n",
       "      <td>0.0</td>\n",
       "      <td>normal</td>\n",
       "      <td>normal</td>\n",
       "      <td>notpresent</td>\n",
       "      <td>notpresent</td>\n",
       "      <td>106.0</td>\n",
       "      <td>...</td>\n",
       "      <td>11.6</td>\n",
       "      <td>35.0</td>\n",
       "      <td>7300.0</td>\n",
       "      <td>4.6</td>\n",
       "      <td>no</td>\n",
       "      <td>no</td>\n",
       "      <td>no</td>\n",
       "      <td>good</td>\n",
       "      <td>no</td>\n",
       "      <td>no</td>\n",
       "    </tr>\n",
       "    <tr>\n",
       "      <th>...</th>\n",
       "      <td>...</td>\n",
       "      <td>...</td>\n",
       "      <td>...</td>\n",
       "      <td>...</td>\n",
       "      <td>...</td>\n",
       "      <td>...</td>\n",
       "      <td>...</td>\n",
       "      <td>...</td>\n",
       "      <td>...</td>\n",
       "      <td>...</td>\n",
       "      <td>...</td>\n",
       "      <td>...</td>\n",
       "      <td>...</td>\n",
       "      <td>...</td>\n",
       "      <td>...</td>\n",
       "      <td>...</td>\n",
       "      <td>...</td>\n",
       "      <td>...</td>\n",
       "      <td>...</td>\n",
       "      <td>...</td>\n",
       "      <td>...</td>\n",
       "    </tr>\n",
       "    <tr>\n",
       "      <th>395</th>\n",
       "      <td>55.0</td>\n",
       "      <td>80.0</td>\n",
       "      <td>1.020</td>\n",
       "      <td>0.0</td>\n",
       "      <td>0.0</td>\n",
       "      <td>normal</td>\n",
       "      <td>normal</td>\n",
       "      <td>notpresent</td>\n",
       "      <td>notpresent</td>\n",
       "      <td>140.0</td>\n",
       "      <td>...</td>\n",
       "      <td>15.7</td>\n",
       "      <td>47.0</td>\n",
       "      <td>6700.0</td>\n",
       "      <td>4.9</td>\n",
       "      <td>no</td>\n",
       "      <td>no</td>\n",
       "      <td>no</td>\n",
       "      <td>good</td>\n",
       "      <td>no</td>\n",
       "      <td>no</td>\n",
       "    </tr>\n",
       "    <tr>\n",
       "      <th>396</th>\n",
       "      <td>42.0</td>\n",
       "      <td>70.0</td>\n",
       "      <td>1.025</td>\n",
       "      <td>0.0</td>\n",
       "      <td>0.0</td>\n",
       "      <td>normal</td>\n",
       "      <td>normal</td>\n",
       "      <td>notpresent</td>\n",
       "      <td>notpresent</td>\n",
       "      <td>75.0</td>\n",
       "      <td>...</td>\n",
       "      <td>16.5</td>\n",
       "      <td>54.0</td>\n",
       "      <td>7800.0</td>\n",
       "      <td>6.2</td>\n",
       "      <td>no</td>\n",
       "      <td>no</td>\n",
       "      <td>no</td>\n",
       "      <td>good</td>\n",
       "      <td>no</td>\n",
       "      <td>no</td>\n",
       "    </tr>\n",
       "    <tr>\n",
       "      <th>397</th>\n",
       "      <td>12.0</td>\n",
       "      <td>80.0</td>\n",
       "      <td>1.020</td>\n",
       "      <td>0.0</td>\n",
       "      <td>0.0</td>\n",
       "      <td>normal</td>\n",
       "      <td>normal</td>\n",
       "      <td>notpresent</td>\n",
       "      <td>notpresent</td>\n",
       "      <td>100.0</td>\n",
       "      <td>...</td>\n",
       "      <td>15.8</td>\n",
       "      <td>49.0</td>\n",
       "      <td>6600.0</td>\n",
       "      <td>5.4</td>\n",
       "      <td>no</td>\n",
       "      <td>no</td>\n",
       "      <td>no</td>\n",
       "      <td>good</td>\n",
       "      <td>no</td>\n",
       "      <td>no</td>\n",
       "    </tr>\n",
       "    <tr>\n",
       "      <th>398</th>\n",
       "      <td>17.0</td>\n",
       "      <td>60.0</td>\n",
       "      <td>1.025</td>\n",
       "      <td>0.0</td>\n",
       "      <td>0.0</td>\n",
       "      <td>normal</td>\n",
       "      <td>normal</td>\n",
       "      <td>notpresent</td>\n",
       "      <td>notpresent</td>\n",
       "      <td>114.0</td>\n",
       "      <td>...</td>\n",
       "      <td>14.2</td>\n",
       "      <td>51.0</td>\n",
       "      <td>7200.0</td>\n",
       "      <td>5.9</td>\n",
       "      <td>no</td>\n",
       "      <td>no</td>\n",
       "      <td>no</td>\n",
       "      <td>good</td>\n",
       "      <td>no</td>\n",
       "      <td>no</td>\n",
       "    </tr>\n",
       "    <tr>\n",
       "      <th>399</th>\n",
       "      <td>58.0</td>\n",
       "      <td>80.0</td>\n",
       "      <td>1.025</td>\n",
       "      <td>0.0</td>\n",
       "      <td>0.0</td>\n",
       "      <td>normal</td>\n",
       "      <td>normal</td>\n",
       "      <td>notpresent</td>\n",
       "      <td>notpresent</td>\n",
       "      <td>131.0</td>\n",
       "      <td>...</td>\n",
       "      <td>15.8</td>\n",
       "      <td>53.0</td>\n",
       "      <td>6800.0</td>\n",
       "      <td>6.1</td>\n",
       "      <td>no</td>\n",
       "      <td>no</td>\n",
       "      <td>no</td>\n",
       "      <td>good</td>\n",
       "      <td>no</td>\n",
       "      <td>no</td>\n",
       "    </tr>\n",
       "  </tbody>\n",
       "</table>\n",
       "<p>400 rows × 24 columns</p>\n",
       "</div>"
      ],
      "text/plain": [
       "      age    bp     sg   al   su     rbc        pc         pcc          ba  \\\n",
       "0    48.0  80.0  1.020  1.0  0.0     NaN    normal  notpresent  notpresent   \n",
       "1     7.0  50.0  1.020  4.0  0.0     NaN    normal  notpresent  notpresent   \n",
       "2    62.0  80.0  1.010  2.0  3.0  normal    normal  notpresent  notpresent   \n",
       "3    48.0  70.0  1.005  4.0  0.0  normal  abnormal     present  notpresent   \n",
       "4    51.0  80.0  1.010  2.0  0.0  normal    normal  notpresent  notpresent   \n",
       "..    ...   ...    ...  ...  ...     ...       ...         ...         ...   \n",
       "395  55.0  80.0  1.020  0.0  0.0  normal    normal  notpresent  notpresent   \n",
       "396  42.0  70.0  1.025  0.0  0.0  normal    normal  notpresent  notpresent   \n",
       "397  12.0  80.0  1.020  0.0  0.0  normal    normal  notpresent  notpresent   \n",
       "398  17.0  60.0  1.025  0.0  0.0  normal    normal  notpresent  notpresent   \n",
       "399  58.0  80.0  1.025  0.0  0.0  normal    normal  notpresent  notpresent   \n",
       "\n",
       "       bgr  ...  hemo   pcv    wbcc  rbcc  htn   dm  cad  appet   pe  ane  \n",
       "0    121.0  ...  15.4  44.0  7800.0   5.2  yes  yes   no   good   no   no  \n",
       "1      NaN  ...  11.3  38.0  6000.0   NaN   no   no   no   good   no   no  \n",
       "2    423.0  ...   9.6  31.0  7500.0   NaN   no  yes   no   poor   no  yes  \n",
       "3    117.0  ...  11.2  32.0  6700.0   3.9  yes   no   no   poor  yes  yes  \n",
       "4    106.0  ...  11.6  35.0  7300.0   4.6   no   no   no   good   no   no  \n",
       "..     ...  ...   ...   ...     ...   ...  ...  ...  ...    ...  ...  ...  \n",
       "395  140.0  ...  15.7  47.0  6700.0   4.9   no   no   no   good   no   no  \n",
       "396   75.0  ...  16.5  54.0  7800.0   6.2   no   no   no   good   no   no  \n",
       "397  100.0  ...  15.8  49.0  6600.0   5.4   no   no   no   good   no   no  \n",
       "398  114.0  ...  14.2  51.0  7200.0   5.9   no   no   no   good   no   no  \n",
       "399  131.0  ...  15.8  53.0  6800.0   6.1   no   no   no   good   no   no  \n",
       "\n",
       "[400 rows x 24 columns]"
      ]
     },
     "execution_count": 288,
     "metadata": {},
     "output_type": "execute_result"
    }
   ],
   "source": [
    "X"
   ]
  },
  {
   "cell_type": "code",
   "execution_count": 289,
   "id": "b245d079-d24d-48ec-93a0-187e5f689c46",
   "metadata": {},
   "outputs": [
    {
     "data": {
      "text/plain": [
       "rbc\n",
       "1    201\n",
       "0     47\n",
       "Name: count, dtype: int64"
      ]
     },
     "execution_count": 289,
     "metadata": {},
     "output_type": "execute_result"
    }
   ],
   "source": [
    "pd.set_option('future.no_silent_downcasting', True)\n",
    "X.loc[:, 'rbc'] = X.loc[:, 'rbc'].replace({'normal': 1, 'abnormal': 0})\n",
    "value_counts = X.loc[:, 'rbc'].value_counts()\n",
    "value_counts"
   ]
  },
  {
   "cell_type": "code",
   "execution_count": 290,
   "id": "31b880e9-61c1-4a93-9b69-2e5fc86c6626",
   "metadata": {},
   "outputs": [
    {
     "data": {
      "text/plain": [
       "pc\n",
       "1    259\n",
       "0     76\n",
       "Name: count, dtype: int64"
      ]
     },
     "execution_count": 290,
     "metadata": {},
     "output_type": "execute_result"
    }
   ],
   "source": [
    "X.loc[:, 'pc'] = X.loc[:, 'pc'].replace({'normal': 1, 'abnormal': 0})\n",
    "value_counts = X.loc[:, 'pc'].value_counts()\n",
    "value_counts"
   ]
  },
  {
   "cell_type": "code",
   "execution_count": 291,
   "id": "7416a22f-3b42-484e-b4d3-59cf90a923db",
   "metadata": {},
   "outputs": [
    {
     "data": {
      "text/plain": [
       "pcc\n",
       "0    354\n",
       "1     42\n",
       "Name: count, dtype: int64"
      ]
     },
     "execution_count": 291,
     "metadata": {},
     "output_type": "execute_result"
    }
   ],
   "source": [
    "X.loc[:, 'pcc'] = X.loc[:, 'pcc'].replace({'present' : 1, 'notpresent' : 0})\n",
    "value_counts = X.loc[:, 'pcc'].value_counts()\n",
    "value_counts"
   ]
  },
  {
   "cell_type": "code",
   "execution_count": 292,
   "id": "b62d0151-76ab-43dd-b295-eae82056d765",
   "metadata": {},
   "outputs": [
    {
     "data": {
      "text/plain": [
       "ba\n",
       "0    374\n",
       "1     22\n",
       "Name: count, dtype: int64"
      ]
     },
     "execution_count": 292,
     "metadata": {},
     "output_type": "execute_result"
    }
   ],
   "source": [
    "X.loc[:, 'ba'] = X.loc[:, 'ba'].replace({'present' : 1, 'notpresent' : 0})\n",
    "value_counts = X.loc[:, 'ba'].value_counts()\n",
    "value_counts"
   ]
  },
  {
   "cell_type": "code",
   "execution_count": 293,
   "id": "5e8267ad-18be-4e3c-bcb8-7f21c700fe33",
   "metadata": {},
   "outputs": [
    {
     "data": {
      "text/plain": [
       "htn\n",
       "0    251\n",
       "1    147\n",
       "Name: count, dtype: int64"
      ]
     },
     "execution_count": 293,
     "metadata": {},
     "output_type": "execute_result"
    }
   ],
   "source": [
    "X.loc[:, 'htn'] = X.loc[:, 'htn'].replace({'yes' : 1, 'no' : 0})\n",
    "value_counts = X.loc[:, 'htn'].value_counts()\n",
    "value_counts"
   ]
  },
  {
   "cell_type": "code",
   "execution_count": 294,
   "id": "d5ebd61e-3a4f-4c19-8449-f95e59afc7e7",
   "metadata": {},
   "outputs": [
    {
     "data": {
      "text/plain": [
       "dm\n",
       "0    261\n",
       "1    137\n",
       "Name: count, dtype: int64"
      ]
     },
     "execution_count": 294,
     "metadata": {},
     "output_type": "execute_result"
    }
   ],
   "source": [
    "X.loc[:, 'dm'] = X.loc[:, 'dm'].replace({'yes' : 1, 'no' : 0, '\\tno' : 0})\n",
    "value_counts = X.loc[:, 'dm'].value_counts()\n",
    "value_counts"
   ]
  },
  {
   "cell_type": "code",
   "execution_count": 295,
   "id": "5456a6a6-9fc3-46fd-a52f-c454a75084f7",
   "metadata": {},
   "outputs": [
    {
     "data": {
      "text/plain": [
       "cad\n",
       "0    364\n",
       "1     34\n",
       "Name: count, dtype: int64"
      ]
     },
     "execution_count": 295,
     "metadata": {},
     "output_type": "execute_result"
    }
   ],
   "source": [
    "X.loc[:, 'cad'] = X.loc[:, 'cad'].replace({'yes' : 1, 'no' : 0})\n",
    "value_counts = X.loc[:, 'cad'].value_counts()\n",
    "value_counts"
   ]
  },
  {
   "cell_type": "code",
   "execution_count": 296,
   "id": "eb4bb4fa-a81e-45e4-8bbb-bcad020221d8",
   "metadata": {},
   "outputs": [
    {
     "data": {
      "text/plain": [
       "appet\n",
       "1    317\n",
       "0     82\n",
       "Name: count, dtype: int64"
      ]
     },
     "execution_count": 296,
     "metadata": {},
     "output_type": "execute_result"
    }
   ],
   "source": [
    "X.loc[:, 'appet'] = X.loc[:, 'appet'].replace({'good' : 1, 'poor' : 0})\n",
    "value_counts = X.loc[:, 'appet'].value_counts()\n",
    "value_counts"
   ]
  },
  {
   "cell_type": "code",
   "execution_count": 297,
   "id": "979817f4-0e31-4843-91b6-f22dada19241",
   "metadata": {},
   "outputs": [
    {
     "data": {
      "text/plain": [
       "pe\n",
       "0    323\n",
       "1     76\n",
       "Name: count, dtype: int64"
      ]
     },
     "execution_count": 297,
     "metadata": {},
     "output_type": "execute_result"
    }
   ],
   "source": [
    "X.loc[:, 'pe'] = X.loc[:, 'pe'].replace({'yes' : 1, 'no' : 0})\n",
    "value_counts = X.loc[:, 'pe'].value_counts()\n",
    "value_counts"
   ]
  },
  {
   "cell_type": "code",
   "execution_count": 298,
   "id": "caed2e60-ba7d-4e13-b239-298030d5d672",
   "metadata": {},
   "outputs": [
    {
     "data": {
      "text/plain": [
       "ane\n",
       "0    339\n",
       "1     60\n",
       "Name: count, dtype: int64"
      ]
     },
     "execution_count": 298,
     "metadata": {},
     "output_type": "execute_result"
    }
   ],
   "source": [
    "X.loc[:, 'ane'] = X.loc[:, 'ane'].replace({'yes' : 1, 'no' : 0})\n",
    "value_counts = X.loc[:, 'ane'].value_counts()\n",
    "value_counts"
   ]
  },
  {
   "cell_type": "code",
   "execution_count": 299,
   "id": "2315a621-ebd7-4cc1-a084-1f0e224bc7bd",
   "metadata": {},
   "outputs": [
    {
     "data": {
      "text/html": [
       "<div>\n",
       "<style scoped>\n",
       "    .dataframe tbody tr th:only-of-type {\n",
       "        vertical-align: middle;\n",
       "    }\n",
       "\n",
       "    .dataframe tbody tr th {\n",
       "        vertical-align: top;\n",
       "    }\n",
       "\n",
       "    .dataframe thead th {\n",
       "        text-align: right;\n",
       "    }\n",
       "</style>\n",
       "<table border=\"1\" class=\"dataframe\">\n",
       "  <thead>\n",
       "    <tr style=\"text-align: right;\">\n",
       "      <th></th>\n",
       "      <th>age</th>\n",
       "      <th>bp</th>\n",
       "      <th>sg</th>\n",
       "      <th>al</th>\n",
       "      <th>su</th>\n",
       "      <th>rbc</th>\n",
       "      <th>pc</th>\n",
       "      <th>pcc</th>\n",
       "      <th>ba</th>\n",
       "      <th>bgr</th>\n",
       "      <th>...</th>\n",
       "      <th>hemo</th>\n",
       "      <th>pcv</th>\n",
       "      <th>wbcc</th>\n",
       "      <th>rbcc</th>\n",
       "      <th>htn</th>\n",
       "      <th>dm</th>\n",
       "      <th>cad</th>\n",
       "      <th>appet</th>\n",
       "      <th>pe</th>\n",
       "      <th>ane</th>\n",
       "    </tr>\n",
       "  </thead>\n",
       "  <tbody>\n",
       "    <tr>\n",
       "      <th>0</th>\n",
       "      <td>48.0</td>\n",
       "      <td>80.0</td>\n",
       "      <td>1.020</td>\n",
       "      <td>1.0</td>\n",
       "      <td>0.0</td>\n",
       "      <td>NaN</td>\n",
       "      <td>1</td>\n",
       "      <td>0</td>\n",
       "      <td>0</td>\n",
       "      <td>121.0</td>\n",
       "      <td>...</td>\n",
       "      <td>15.4</td>\n",
       "      <td>44.0</td>\n",
       "      <td>7800.0</td>\n",
       "      <td>5.2</td>\n",
       "      <td>1</td>\n",
       "      <td>1</td>\n",
       "      <td>0</td>\n",
       "      <td>1</td>\n",
       "      <td>0</td>\n",
       "      <td>0</td>\n",
       "    </tr>\n",
       "    <tr>\n",
       "      <th>1</th>\n",
       "      <td>7.0</td>\n",
       "      <td>50.0</td>\n",
       "      <td>1.020</td>\n",
       "      <td>4.0</td>\n",
       "      <td>0.0</td>\n",
       "      <td>NaN</td>\n",
       "      <td>1</td>\n",
       "      <td>0</td>\n",
       "      <td>0</td>\n",
       "      <td>NaN</td>\n",
       "      <td>...</td>\n",
       "      <td>11.3</td>\n",
       "      <td>38.0</td>\n",
       "      <td>6000.0</td>\n",
       "      <td>NaN</td>\n",
       "      <td>0</td>\n",
       "      <td>0</td>\n",
       "      <td>0</td>\n",
       "      <td>1</td>\n",
       "      <td>0</td>\n",
       "      <td>0</td>\n",
       "    </tr>\n",
       "    <tr>\n",
       "      <th>2</th>\n",
       "      <td>62.0</td>\n",
       "      <td>80.0</td>\n",
       "      <td>1.010</td>\n",
       "      <td>2.0</td>\n",
       "      <td>3.0</td>\n",
       "      <td>1</td>\n",
       "      <td>1</td>\n",
       "      <td>0</td>\n",
       "      <td>0</td>\n",
       "      <td>423.0</td>\n",
       "      <td>...</td>\n",
       "      <td>9.6</td>\n",
       "      <td>31.0</td>\n",
       "      <td>7500.0</td>\n",
       "      <td>NaN</td>\n",
       "      <td>0</td>\n",
       "      <td>1</td>\n",
       "      <td>0</td>\n",
       "      <td>0</td>\n",
       "      <td>0</td>\n",
       "      <td>1</td>\n",
       "    </tr>\n",
       "    <tr>\n",
       "      <th>3</th>\n",
       "      <td>48.0</td>\n",
       "      <td>70.0</td>\n",
       "      <td>1.005</td>\n",
       "      <td>4.0</td>\n",
       "      <td>0.0</td>\n",
       "      <td>1</td>\n",
       "      <td>0</td>\n",
       "      <td>1</td>\n",
       "      <td>0</td>\n",
       "      <td>117.0</td>\n",
       "      <td>...</td>\n",
       "      <td>11.2</td>\n",
       "      <td>32.0</td>\n",
       "      <td>6700.0</td>\n",
       "      <td>3.9</td>\n",
       "      <td>1</td>\n",
       "      <td>0</td>\n",
       "      <td>0</td>\n",
       "      <td>0</td>\n",
       "      <td>1</td>\n",
       "      <td>1</td>\n",
       "    </tr>\n",
       "    <tr>\n",
       "      <th>4</th>\n",
       "      <td>51.0</td>\n",
       "      <td>80.0</td>\n",
       "      <td>1.010</td>\n",
       "      <td>2.0</td>\n",
       "      <td>0.0</td>\n",
       "      <td>1</td>\n",
       "      <td>1</td>\n",
       "      <td>0</td>\n",
       "      <td>0</td>\n",
       "      <td>106.0</td>\n",
       "      <td>...</td>\n",
       "      <td>11.6</td>\n",
       "      <td>35.0</td>\n",
       "      <td>7300.0</td>\n",
       "      <td>4.6</td>\n",
       "      <td>0</td>\n",
       "      <td>0</td>\n",
       "      <td>0</td>\n",
       "      <td>1</td>\n",
       "      <td>0</td>\n",
       "      <td>0</td>\n",
       "    </tr>\n",
       "    <tr>\n",
       "      <th>...</th>\n",
       "      <td>...</td>\n",
       "      <td>...</td>\n",
       "      <td>...</td>\n",
       "      <td>...</td>\n",
       "      <td>...</td>\n",
       "      <td>...</td>\n",
       "      <td>...</td>\n",
       "      <td>...</td>\n",
       "      <td>...</td>\n",
       "      <td>...</td>\n",
       "      <td>...</td>\n",
       "      <td>...</td>\n",
       "      <td>...</td>\n",
       "      <td>...</td>\n",
       "      <td>...</td>\n",
       "      <td>...</td>\n",
       "      <td>...</td>\n",
       "      <td>...</td>\n",
       "      <td>...</td>\n",
       "      <td>...</td>\n",
       "      <td>...</td>\n",
       "    </tr>\n",
       "    <tr>\n",
       "      <th>395</th>\n",
       "      <td>55.0</td>\n",
       "      <td>80.0</td>\n",
       "      <td>1.020</td>\n",
       "      <td>0.0</td>\n",
       "      <td>0.0</td>\n",
       "      <td>1</td>\n",
       "      <td>1</td>\n",
       "      <td>0</td>\n",
       "      <td>0</td>\n",
       "      <td>140.0</td>\n",
       "      <td>...</td>\n",
       "      <td>15.7</td>\n",
       "      <td>47.0</td>\n",
       "      <td>6700.0</td>\n",
       "      <td>4.9</td>\n",
       "      <td>0</td>\n",
       "      <td>0</td>\n",
       "      <td>0</td>\n",
       "      <td>1</td>\n",
       "      <td>0</td>\n",
       "      <td>0</td>\n",
       "    </tr>\n",
       "    <tr>\n",
       "      <th>396</th>\n",
       "      <td>42.0</td>\n",
       "      <td>70.0</td>\n",
       "      <td>1.025</td>\n",
       "      <td>0.0</td>\n",
       "      <td>0.0</td>\n",
       "      <td>1</td>\n",
       "      <td>1</td>\n",
       "      <td>0</td>\n",
       "      <td>0</td>\n",
       "      <td>75.0</td>\n",
       "      <td>...</td>\n",
       "      <td>16.5</td>\n",
       "      <td>54.0</td>\n",
       "      <td>7800.0</td>\n",
       "      <td>6.2</td>\n",
       "      <td>0</td>\n",
       "      <td>0</td>\n",
       "      <td>0</td>\n",
       "      <td>1</td>\n",
       "      <td>0</td>\n",
       "      <td>0</td>\n",
       "    </tr>\n",
       "    <tr>\n",
       "      <th>397</th>\n",
       "      <td>12.0</td>\n",
       "      <td>80.0</td>\n",
       "      <td>1.020</td>\n",
       "      <td>0.0</td>\n",
       "      <td>0.0</td>\n",
       "      <td>1</td>\n",
       "      <td>1</td>\n",
       "      <td>0</td>\n",
       "      <td>0</td>\n",
       "      <td>100.0</td>\n",
       "      <td>...</td>\n",
       "      <td>15.8</td>\n",
       "      <td>49.0</td>\n",
       "      <td>6600.0</td>\n",
       "      <td>5.4</td>\n",
       "      <td>0</td>\n",
       "      <td>0</td>\n",
       "      <td>0</td>\n",
       "      <td>1</td>\n",
       "      <td>0</td>\n",
       "      <td>0</td>\n",
       "    </tr>\n",
       "    <tr>\n",
       "      <th>398</th>\n",
       "      <td>17.0</td>\n",
       "      <td>60.0</td>\n",
       "      <td>1.025</td>\n",
       "      <td>0.0</td>\n",
       "      <td>0.0</td>\n",
       "      <td>1</td>\n",
       "      <td>1</td>\n",
       "      <td>0</td>\n",
       "      <td>0</td>\n",
       "      <td>114.0</td>\n",
       "      <td>...</td>\n",
       "      <td>14.2</td>\n",
       "      <td>51.0</td>\n",
       "      <td>7200.0</td>\n",
       "      <td>5.9</td>\n",
       "      <td>0</td>\n",
       "      <td>0</td>\n",
       "      <td>0</td>\n",
       "      <td>1</td>\n",
       "      <td>0</td>\n",
       "      <td>0</td>\n",
       "    </tr>\n",
       "    <tr>\n",
       "      <th>399</th>\n",
       "      <td>58.0</td>\n",
       "      <td>80.0</td>\n",
       "      <td>1.025</td>\n",
       "      <td>0.0</td>\n",
       "      <td>0.0</td>\n",
       "      <td>1</td>\n",
       "      <td>1</td>\n",
       "      <td>0</td>\n",
       "      <td>0</td>\n",
       "      <td>131.0</td>\n",
       "      <td>...</td>\n",
       "      <td>15.8</td>\n",
       "      <td>53.0</td>\n",
       "      <td>6800.0</td>\n",
       "      <td>6.1</td>\n",
       "      <td>0</td>\n",
       "      <td>0</td>\n",
       "      <td>0</td>\n",
       "      <td>1</td>\n",
       "      <td>0</td>\n",
       "      <td>0</td>\n",
       "    </tr>\n",
       "  </tbody>\n",
       "</table>\n",
       "<p>400 rows × 24 columns</p>\n",
       "</div>"
      ],
      "text/plain": [
       "      age    bp     sg   al   su  rbc pc pcc ba    bgr  ...  hemo   pcv  \\\n",
       "0    48.0  80.0  1.020  1.0  0.0  NaN  1   0  0  121.0  ...  15.4  44.0   \n",
       "1     7.0  50.0  1.020  4.0  0.0  NaN  1   0  0    NaN  ...  11.3  38.0   \n",
       "2    62.0  80.0  1.010  2.0  3.0    1  1   0  0  423.0  ...   9.6  31.0   \n",
       "3    48.0  70.0  1.005  4.0  0.0    1  0   1  0  117.0  ...  11.2  32.0   \n",
       "4    51.0  80.0  1.010  2.0  0.0    1  1   0  0  106.0  ...  11.6  35.0   \n",
       "..    ...   ...    ...  ...  ...  ... ..  .. ..    ...  ...   ...   ...   \n",
       "395  55.0  80.0  1.020  0.0  0.0    1  1   0  0  140.0  ...  15.7  47.0   \n",
       "396  42.0  70.0  1.025  0.0  0.0    1  1   0  0   75.0  ...  16.5  54.0   \n",
       "397  12.0  80.0  1.020  0.0  0.0    1  1   0  0  100.0  ...  15.8  49.0   \n",
       "398  17.0  60.0  1.025  0.0  0.0    1  1   0  0  114.0  ...  14.2  51.0   \n",
       "399  58.0  80.0  1.025  0.0  0.0    1  1   0  0  131.0  ...  15.8  53.0   \n",
       "\n",
       "       wbcc  rbcc  htn  dm  cad  appet pe ane  \n",
       "0    7800.0   5.2    1   1    0      1  0   0  \n",
       "1    6000.0   NaN    0   0    0      1  0   0  \n",
       "2    7500.0   NaN    0   1    0      0  0   1  \n",
       "3    6700.0   3.9    1   0    0      0  1   1  \n",
       "4    7300.0   4.6    0   0    0      1  0   0  \n",
       "..      ...   ...  ...  ..  ...    ... ..  ..  \n",
       "395  6700.0   4.9    0   0    0      1  0   0  \n",
       "396  7800.0   6.2    0   0    0      1  0   0  \n",
       "397  6600.0   5.4    0   0    0      1  0   0  \n",
       "398  7200.0   5.9    0   0    0      1  0   0  \n",
       "399  6800.0   6.1    0   0    0      1  0   0  \n",
       "\n",
       "[400 rows x 24 columns]"
      ]
     },
     "execution_count": 299,
     "metadata": {},
     "output_type": "execute_result"
    }
   ],
   "source": [
    "X"
   ]
  },
  {
   "cell_type": "code",
   "execution_count": 300,
   "id": "1b8a95f5-11f0-4e83-b762-8b37a0a5be11",
   "metadata": {},
   "outputs": [
    {
     "data": {
      "text/plain": [
       "Index(['age', 'bp', 'sg', 'al', 'su', 'rbc', 'pc', 'pcc', 'ba', 'bgr', 'bu',\n",
       "       'sc', 'sod', 'pot', 'hemo', 'pcv', 'wbcc', 'rbcc', 'htn', 'dm', 'cad',\n",
       "       'appet', 'pe', 'ane'],\n",
       "      dtype='object')"
      ]
     },
     "execution_count": 300,
     "metadata": {},
     "output_type": "execute_result"
    }
   ],
   "source": [
    "X.columns"
   ]
  },
  {
   "cell_type": "code",
   "execution_count": 301,
   "id": "9de6f0d2-15c2-4959-ae08-ed86fe249658",
   "metadata": {},
   "outputs": [],
   "source": [
    "from sklearn.preprocessing import StandardScaler\n",
    "col = ['age', 'bp', 'al', 'bgr', 'bu', 'sc', 'sod', 'pot', 'hemo', 'pcv', 'wbcc', 'rbcc']\n",
    "scaler = StandardScaler()\n",
    "X.loc[:, col] = scaler.fit_transform(X.loc[:, col])"
   ]
  },
  {
   "cell_type": "code",
   "execution_count": 302,
   "id": "7f863aa3-2f34-416e-9927-773eb4ddbf7c",
   "metadata": {},
   "outputs": [
    {
     "data": {
      "text/plain": [
       "class\n",
       "1        250\n",
       "0        150\n",
       "Name: count, dtype: int64"
      ]
     },
     "execution_count": 302,
     "metadata": {},
     "output_type": "execute_result"
    }
   ],
   "source": [
    "y = y.replace({'ckd' : 1, 'ckd\\t' : 1, 'notckd' : 0})\n",
    "y.value_counts()"
   ]
  },
  {
   "cell_type": "code",
   "execution_count": 303,
   "id": "a50cb43f-077a-487b-878b-dda2314d31c7",
   "metadata": {},
   "outputs": [
    {
     "data": {
      "text/plain": [
       "age        9\n",
       "bp        12\n",
       "sg        47\n",
       "al        46\n",
       "su        49\n",
       "rbc      152\n",
       "pc        65\n",
       "pcc        4\n",
       "ba         4\n",
       "bgr       44\n",
       "bu        19\n",
       "sc        17\n",
       "sod       87\n",
       "pot       88\n",
       "hemo      52\n",
       "pcv       71\n",
       "wbcc     106\n",
       "rbcc     131\n",
       "htn        2\n",
       "dm         2\n",
       "cad        2\n",
       "appet      1\n",
       "pe         1\n",
       "ane        1\n",
       "dtype: int64"
      ]
     },
     "execution_count": 303,
     "metadata": {},
     "output_type": "execute_result"
    }
   ],
   "source": [
    "X.isna().sum()"
   ]
  },
  {
   "cell_type": "code",
   "execution_count": 304,
   "id": "7fc1fcc3-5af0-44a4-85d9-b6727a6b64fd",
   "metadata": {},
   "outputs": [
    {
     "data": {
      "text/plain": [
       "age      0\n",
       "bp       0\n",
       "sg       0\n",
       "al       0\n",
       "su       0\n",
       "rbc      0\n",
       "pc       0\n",
       "pcc      0\n",
       "ba       0\n",
       "bgr      0\n",
       "bu       0\n",
       "sc       0\n",
       "sod      0\n",
       "pot      0\n",
       "hemo     0\n",
       "pcv      0\n",
       "wbcc     0\n",
       "rbcc     0\n",
       "htn      0\n",
       "dm       0\n",
       "cad      0\n",
       "appet    0\n",
       "pe       0\n",
       "ane      0\n",
       "dtype: int64"
      ]
     },
     "execution_count": 304,
     "metadata": {},
     "output_type": "execute_result"
    }
   ],
   "source": [
    "from sklearn.impute import KNNImputer\n",
    "imputer = KNNImputer(n_neighbors = 5)\n",
    "X = pd.DataFrame(imputer.fit_transform(X), columns = X.columns)\n",
    "X = X.astype(float)\n",
    "X.isna().sum()"
   ]
  },
  {
   "cell_type": "code",
   "execution_count": 305,
   "id": "4d92104d-b955-4112-8322-ff83e114fab9",
   "metadata": {},
   "outputs": [
    {
     "data": {
      "text/plain": [
       "appet\n",
       "1.0    318\n",
       "0.0     82\n",
       "Name: count, dtype: int64"
      ]
     },
     "execution_count": 305,
     "metadata": {},
     "output_type": "execute_result"
    }
   ],
   "source": [
    "X['appet'].value_counts()"
   ]
  },
  {
   "cell_type": "code",
   "execution_count": 306,
   "id": "41b51145-b4a7-47f5-82bf-57bfe338a0cb",
   "metadata": {},
   "outputs": [],
   "source": [
    "from sklearn.neural_network import MLPClassifier\n",
    "hidden_layers = np.array([20, 10])\n",
    "mlp = MLPClassifier(hidden_layer_sizes = hidden_layers, activation = 'relu', \n",
    "                    solver = 'adam', max_iter = 500)\n"
   ]
  },
  {
   "cell_type": "code",
   "execution_count": 307,
   "id": "2b297603-cfa4-4d64-8a5e-7866b1eb74ed",
   "metadata": {},
   "outputs": [],
   "source": [
    "y = pd.Series(np.array(y).reshape(-1,))"
   ]
  },
  {
   "cell_type": "code",
   "execution_count": 308,
   "id": "0ec1978c-498a-446b-8380-16045daa6a3c",
   "metadata": {},
   "outputs": [
    {
     "data": {
      "text/plain": [
       "(400,)"
      ]
     },
     "execution_count": 308,
     "metadata": {},
     "output_type": "execute_result"
    }
   ],
   "source": [
    "y.shape"
   ]
  },
  {
   "cell_type": "code",
   "execution_count": 309,
   "id": "84c1c922-ad01-4cb7-b262-c51ed79814b9",
   "metadata": {},
   "outputs": [],
   "source": [
    "from sklearn.preprocessing import LabelEncoder\n",
    "\n",
    "# Convert labels to numerical format\n",
    "label_encoder = LabelEncoder()\n",
    "y = label_encoder.fit_transform(y)"
   ]
  },
  {
   "cell_type": "code",
   "execution_count": 310,
   "id": "1f7de78b-ce97-4a1c-a5ee-7742fed8cdf8",
   "metadata": {},
   "outputs": [
    {
     "name": "stdout",
     "output_type": "stream",
     "text": [
      "0.97 accuracy with a standard deviation of 0.02\n"
     ]
    }
   ],
   "source": [
    "from sklearn.model_selection import cross_val_score\n",
    "\n",
    "scores = cross_val_score(estimator = mlp, X = X, y = y, cv = 10)\n",
    "\n",
    "print(\"%0.2f accuracy with a standard deviation of %0.2f\" % (scores.mean(), scores.std()))"
   ]
  },
  {
   "cell_type": "code",
   "execution_count": 311,
   "id": "be3ef6c0-1407-4ff7-bd85-205c106f65ff",
   "metadata": {},
   "outputs": [
    {
     "data": {
      "image/png": "[encoded data removed]",
      "text/plain": [
       "<Figure size 640x480 with 1 Axes>"
      ]
     },
     "metadata": {},
     "output_type": "display_data"
    },
    {
     "name": "stdout",
     "output_type": "stream",
     "text": [
      "0.94\n"
     ]
    }
   ],
   "source": [
    "from sklearn.metrics import roc_auc_score\n",
    "\n",
    "fpr, tpr, _ = metrics.roc_curve(y_test,  y_pred)\n",
    "auc = metrics.roc_auc_score(y_test, y_pred)\n",
    "plt.plot(fpr,tpr,label=\"data 1, auc=\"+str(auc))\n",
    "plt.legend(loc=4)\n",
    "plt.show()\n",
    "print(auc)"
   ]
  },
  {
   "cell_type": "code",
   "execution_count": 312,
   "id": "7b11c2c8-d2c5-4818-8ca9-cad517f3a9f2",
   "metadata": {},
   "outputs": [],
   "source": [
    "from sklearn.model_selection import train_test_split\n",
    "X_train, X_test, y_train, y_test = train_test_split(X, y, train_size = 0.8)"
   ]
  },
  {
   "cell_type": "code",
   "execution_count": 313,
   "id": "fafbce71-6991-42ad-b6b7-9bd2c676c664",
   "metadata": {},
   "outputs": [
    {
     "data": {
      "image/png": "[encoded data removed]",
      "text/plain": [
       "<Figure size 640x480 with 2 Axes>"
      ]
     },
     "metadata": {},
     "output_type": "display_data"
    }
   ],
   "source": [
    "mlp.fit(X_train, y_train)\n",
    "y_pred = mlp.predict(X_test)\n",
    "\n",
    "from sklearn import metrics\n",
    "confusion_matrix = metrics.confusion_matrix(y_test, y_pred)\n",
    "cm_display = metrics.ConfusionMatrixDisplay(confusion_matrix = confusion_matrix, display_labels = [False, True])\n",
    "cm_display.plot()\n",
    "plt.show()"
   ]
  },
  {
   "cell_type": "code",
   "execution_count": 314,
   "id": "e415415b-96d1-42e8-8fbd-7c909721dfb1",
   "metadata": {},
   "outputs": [],
   "source": [
    "from sklearn.neighbors import KNeighborsClassifier\n",
    "from sklearn.model_selection import GridSearchCV\n",
    "\n",
    "neigh = KNeighborsClassifier()\n",
    "\n",
    "n_neighbors = np.arange(start = 1, stop = 200, step = 1)\n",
    "parameters = {'n_neighbors': n_neighbors}\n",
    "\n",
    "knn_clf = GridSearchCV(estimator = neigh, param_grid = parameters, cv = 10)\n",
    "knn_clf.fit(X_train, y_train)\n",
    "knn_clf.best_params_\n",
    "bparam = knn_clf.best_params_['n_neighbors']"
   ]
  },
  {
   "cell_type": "code",
   "execution_count": 315,
   "id": "cadfd03a-9f57-483f-9c6c-126f1bd918cb",
   "metadata": {},
   "outputs": [
    {
     "name": "stdout",
     "output_type": "stream",
     "text": [
      "0.94 accuracy with a standard deviation of 0.08 with param 3.\n"
     ]
    }
   ],
   "source": [
    "knn_blam = KNeighborsClassifier(n_neighbors = bparam)\n",
    "scores2 = cross_val_score(knn_blam, X_test, y_test, cv = 10)\n",
    "print(f\"%0.2f accuracy with a standard deviation of %0.2f with param {bparam}.\" % (scores2.mean(), scores2.std()))"
   ]
  },
  {
   "cell_type": "code",
   "execution_count": 316,
   "id": "32f5cfdc-a998-44e0-a721-75a69c46e82e",
   "metadata": {},
   "outputs": [
    {
     "data": {
      "image/png": "[encoded data removed]",
      "text/plain": [
       "<Figure size 640x480 with 2 Axes>"
      ]
     },
     "metadata": {},
     "output_type": "display_data"
    }
   ],
   "source": [
    "knn_blam.fit(X_train, y_train)\n",
    "y_pred = knn_blam.predict(X_test)\n",
    "\n",
    "from sklearn import metrics\n",
    "confusion_matrix = metrics.confusion_matrix(y_test, y_pred)\n",
    "cm_display = metrics.ConfusionMatrixDisplay(confusion_matrix = confusion_matrix, display_labels = [False, True])\n",
    "cm_display.plot()\n",
    "plt.show()"
   ]
  },
  {
   "cell_type": "markdown",
   "id": "65c9bb13-ac78-4035-b64d-70d584d4cfe5",
   "metadata": {},
   "source": [
    "#### For work."
   ]
  },
  {
   "cell_type": "code",
   "execution_count": 317,
   "id": "33fa8ebb-ab49-46d0-bb78-ffc880b46d9d",
   "metadata": {},
   "outputs": [
    {
     "name": "stdout",
     "output_type": "stream",
     "text": [
      "The best param is 19 and the scoring in AUC curve is : 0.9828679653679654\n"
     ]
    }
   ],
   "source": [
    "from sklearn.neural_network import MLPClassifier\n",
    "from sklearn.model_selection import GridSearchCV\n",
    "import warnings\n",
    "warnings.filterwarnings(\"ignore\")\n",
    "\n",
    "mlp_auc = MLPClassifier(activation = 'relu', \n",
    "                    solver = 'adam', max_iter = 50)\n",
    "\n",
    "n_neurons = np.arange(start = 1, stop = 20, step = 1)\n",
    "parameters = {'hidden_layer_sizes': n_neurons}\n",
    "\n",
    "mlp_auc_clf = GridSearchCV(estimator = mlp_auc, param_grid = parameters, cv = 10, scoring='roc_auc')\n",
    "mlp_auc_clf.fit(X_train, y_train)\n",
    "mlp_auc_clf.best_params_\n",
    "bparam = mlp_auc_clf.best_params_['hidden_layer_sizes']\n",
    "print(f\"The best param is {bparam} and the scoring in AUC curve is : {mlp_auc_clf.best_score_}\")"
   ]
  },
  {
   "cell_type": "code",
   "execution_count": 318,
   "id": "9bd1120b-dad4-4358-8c03-ce7aedf6c19d",
   "metadata": {},
   "outputs": [
    {
     "data": {
      "image/png": "[encoded data removed]",
      "text/plain": [
       "<Figure size 640x480 with 1 Axes>"
      ]
     },
     "metadata": {},
     "output_type": "display_data"
    },
    {
     "name": "stdout",
     "output_type": "stream",
     "text": [
      "0.9874917709019092\n"
     ]
    }
   ],
   "source": [
    "from sklearn.metrics import roc_auc_score\n",
    "\n",
    "\n",
    "mlp = MLPClassifier(hidden_layer_sizes=bparam, activation = 'relu', \n",
    "                    solver = 'adam', max_iter = 50).fit(X_train, y_train)\n",
    "\n",
    "y_pred_proba = mlp.predict_proba(X_test)[:, 1]\n",
    "\n",
    "fpr, tpr, thresholds = metrics.roc_curve(y_test,  y_pred_proba)\n",
    "auc = metrics.roc_auc_score(y_test, y_pred_proba)\n",
    "plt.plot(fpr,tpr,label=\"data 1, auc=\"+str(auc))\n",
    "plt.legend(loc=4)\n",
    "plt.show()\n",
    "print(auc)"
   ]
  },
  {
   "cell_type": "code",
   "execution_count": 319,
   "id": "fb0be104-b39a-44a8-8d6b-f9b86f0782ea",
   "metadata": {},
   "outputs": [
    {
     "data": {
      "image/png": "[encoded data removed]",
      "text/plain": [
       "<Figure size 640x480 with 1 Axes>"
      ]
     },
     "metadata": {},
     "output_type": "display_data"
    },
    {
     "name": "stdout",
     "output_type": "stream",
     "text": [
      "AUC: 0.99\n",
      "Optimal threshold: 0.42\n"
     ]
    }
   ],
   "source": [
    "optimal_idx = np.argmax(tpr - fpr)\n",
    "optimal_threshold = thresholds[optimal_idx]\n",
    "\n",
    "# Plot the ROC curve\n",
    "plt.plot(fpr, tpr, label=f\"data 1, auc={auc:.2f}\")\n",
    "plt.scatter(fpr[optimal_idx], tpr[optimal_idx], marker='o', color='red', label=f'Optimal threshold = {optimal_threshold:.2f}')\n",
    "plt.xlabel('1 - Specificity (False Positive Rate)')\n",
    "plt.ylabel('Sensitivity (True Positive Rate)')\n",
    "plt.title('ROC Curve')\n",
    "plt.legend(loc=4)\n",
    "plt.show()\n",
    "\n",
    "# Print AUC and optimal threshold\n",
    "print(f'AUC: {auc:.2f}')\n",
    "print(f'Optimal threshold: {optimal_threshold:.2f}')\n"
   ]
  },
  {
   "cell_type": "code",
   "execution_count": 320,
   "id": "50ee43f6-5d50-4c22-aa87-37de683694c9",
   "metadata": {},
   "outputs": [
    {
     "data": {
      "image/png": "[encoded data removed]",
      "text/plain": [
       "<Figure size 640x480 with 2 Axes>"
      ]
     },
     "metadata": {},
     "output_type": "display_data"
    }
   ],
   "source": [
    "y_pred_custom_threshold = (y_pred_proba >= optimal_threshold).astype(int)\n",
    "\n",
    "from sklearn import metrics\n",
    "confusion_matrix = metrics.confusion_matrix(y_test, y_pred_custom_threshold)\n",
    "cm_display = metrics.ConfusionMatrixDisplay(confusion_matrix = confusion_matrix, display_labels = [False, True])\n",
    "cm_display.plot()\n",
    "plt.show()"
   ]
  },
  {
   "cell_type": "code",
   "execution_count": null,
   "id": "2851c4e6-54dc-453d-a8ed-57756d0d6ed7",
   "metadata": {},
   "outputs": [],
   "source": []
  },
  {
   "cell_type": "code",
   "execution_count": null,
   "id": "b7468a4e-2fc0-4c29-8d44-9344299e37a8",
   "metadata": {},
   "outputs": [],
   "source": []
  }
 ],
 "metadata": {
  "kernelspec": {
   "display_name": "Python 3 (ipykernel)",
   "language": "python",
   "name": "python3"
  },
  "language_info": {
   "codemirror_mode": {
    "name": "ipython",
    "version": 3
   },
   "file_extension": ".py",
   "mimetype": "text/x-python",
   "name": "python",
   "nbconvert_exporter": "python",
   "pygments_lexer": "ipython3",
   "version": "3.10.12"
  }
 },
 "nbformat": 4,
 "nbformat_minor": 5
}
