{
 "cells": [
  {
   "cell_type": "code",
   "execution_count": 50,
   "id": "afaa4527-c596-426e-9d4e-b3fab4ba92c5",
   "metadata": {},
   "outputs": [],
   "source": [
    "import numpy as np\n",
    "import statistics\n",
    "import pandas as pd\n",
    "import matplotlib.pyplot as plt"
   ]
  },
  {
   "cell_type": "code",
   "execution_count": 51,
   "id": "4b7329ed-736f-413b-84c7-e6c85ad3e16f",
   "metadata": {},
   "outputs": [],
   "source": [
    "from ucimlrepo import fetch_ucirepo \n",
    "  \n",
    "# fetch dataset \n",
    "statlog_heart = fetch_ucirepo(id=145) \n",
    "  \n",
    "# data (as pandas dataframes) \n",
    "X = statlog_heart.data.features \n",
    "y = statlog_heart.data.targets "
   ]
  },
  {
   "cell_type": "code",
   "execution_count": 52,
   "id": "ce737cd3-aa5e-41d0-9a3f-692c4239c7f5",
   "metadata": {},
   "outputs": [
    {
     "data": {
      "text/html": [
       "<div>\n",
       "<style scoped>\n",
       "    .dataframe tbody tr th:only-of-type {\n",
       "        vertical-align: middle;\n",
       "    }\n",
       "\n",
       "    .dataframe tbody tr th {\n",
       "        vertical-align: top;\n",
       "    }\n",
       "\n",
       "    .dataframe thead th {\n",
       "        text-align: right;\n",
       "    }\n",
       "</style>\n",
       "<table border=\"1\" class=\"dataframe\">\n",
       "  <thead>\n",
       "    <tr style=\"text-align: right;\">\n",
       "      <th></th>\n",
       "      <th>age</th>\n",
       "      <th>sex</th>\n",
       "      <th>chest-pain</th>\n",
       "      <th>rest-bp</th>\n",
       "      <th>serum-chol</th>\n",
       "      <th>fasting-blood-sugar</th>\n",
       "      <th>electrocardiographic</th>\n",
       "      <th>max-heart-rate</th>\n",
       "      <th>angina</th>\n",
       "      <th>oldpeak</th>\n",
       "      <th>slope</th>\n",
       "      <th>major-vessels</th>\n",
       "      <th>thal</th>\n",
       "    </tr>\n",
       "  </thead>\n",
       "  <tbody>\n",
       "    <tr>\n",
       "      <th>0</th>\n",
       "      <td>70.0</td>\n",
       "      <td>1.0</td>\n",
       "      <td>4.0</td>\n",
       "      <td>130.0</td>\n",
       "      <td>322.0</td>\n",
       "      <td>0.0</td>\n",
       "      <td>2.0</td>\n",
       "      <td>109.0</td>\n",
       "      <td>0.0</td>\n",
       "      <td>2.4</td>\n",
       "      <td>2.0</td>\n",
       "      <td>3.0</td>\n",
       "      <td>3.0</td>\n",
       "    </tr>\n",
       "    <tr>\n",
       "      <th>1</th>\n",
       "      <td>67.0</td>\n",
       "      <td>0.0</td>\n",
       "      <td>3.0</td>\n",
       "      <td>115.0</td>\n",
       "      <td>564.0</td>\n",
       "      <td>0.0</td>\n",
       "      <td>2.0</td>\n",
       "      <td>160.0</td>\n",
       "      <td>0.0</td>\n",
       "      <td>1.6</td>\n",
       "      <td>2.0</td>\n",
       "      <td>0.0</td>\n",
       "      <td>7.0</td>\n",
       "    </tr>\n",
       "    <tr>\n",
       "      <th>2</th>\n",
       "      <td>57.0</td>\n",
       "      <td>1.0</td>\n",
       "      <td>2.0</td>\n",
       "      <td>124.0</td>\n",
       "      <td>261.0</td>\n",
       "      <td>0.0</td>\n",
       "      <td>0.0</td>\n",
       "      <td>141.0</td>\n",
       "      <td>0.0</td>\n",
       "      <td>0.3</td>\n",
       "      <td>1.0</td>\n",
       "      <td>0.0</td>\n",
       "      <td>7.0</td>\n",
       "    </tr>\n",
       "    <tr>\n",
       "      <th>3</th>\n",
       "      <td>64.0</td>\n",
       "      <td>1.0</td>\n",
       "      <td>4.0</td>\n",
       "      <td>128.0</td>\n",
       "      <td>263.0</td>\n",
       "      <td>0.0</td>\n",
       "      <td>0.0</td>\n",
       "      <td>105.0</td>\n",
       "      <td>1.0</td>\n",
       "      <td>0.2</td>\n",
       "      <td>2.0</td>\n",
       "      <td>1.0</td>\n",
       "      <td>7.0</td>\n",
       "    </tr>\n",
       "    <tr>\n",
       "      <th>4</th>\n",
       "      <td>74.0</td>\n",
       "      <td>0.0</td>\n",
       "      <td>2.0</td>\n",
       "      <td>120.0</td>\n",
       "      <td>269.0</td>\n",
       "      <td>0.0</td>\n",
       "      <td>2.0</td>\n",
       "      <td>121.0</td>\n",
       "      <td>1.0</td>\n",
       "      <td>0.2</td>\n",
       "      <td>1.0</td>\n",
       "      <td>1.0</td>\n",
       "      <td>3.0</td>\n",
       "    </tr>\n",
       "    <tr>\n",
       "      <th>...</th>\n",
       "      <td>...</td>\n",
       "      <td>...</td>\n",
       "      <td>...</td>\n",
       "      <td>...</td>\n",
       "      <td>...</td>\n",
       "      <td>...</td>\n",
       "      <td>...</td>\n",
       "      <td>...</td>\n",
       "      <td>...</td>\n",
       "      <td>...</td>\n",
       "      <td>...</td>\n",
       "      <td>...</td>\n",
       "      <td>...</td>\n",
       "    </tr>\n",
       "    <tr>\n",
       "      <th>265</th>\n",
       "      <td>52.0</td>\n",
       "      <td>1.0</td>\n",
       "      <td>3.0</td>\n",
       "      <td>172.0</td>\n",
       "      <td>199.0</td>\n",
       "      <td>1.0</td>\n",
       "      <td>0.0</td>\n",
       "      <td>162.0</td>\n",
       "      <td>0.0</td>\n",
       "      <td>0.5</td>\n",
       "      <td>1.0</td>\n",
       "      <td>0.0</td>\n",
       "      <td>7.0</td>\n",
       "    </tr>\n",
       "    <tr>\n",
       "      <th>266</th>\n",
       "      <td>44.0</td>\n",
       "      <td>1.0</td>\n",
       "      <td>2.0</td>\n",
       "      <td>120.0</td>\n",
       "      <td>263.0</td>\n",
       "      <td>0.0</td>\n",
       "      <td>0.0</td>\n",
       "      <td>173.0</td>\n",
       "      <td>0.0</td>\n",
       "      <td>0.0</td>\n",
       "      <td>1.0</td>\n",
       "      <td>0.0</td>\n",
       "      <td>7.0</td>\n",
       "    </tr>\n",
       "    <tr>\n",
       "      <th>267</th>\n",
       "      <td>56.0</td>\n",
       "      <td>0.0</td>\n",
       "      <td>2.0</td>\n",
       "      <td>140.0</td>\n",
       "      <td>294.0</td>\n",
       "      <td>0.0</td>\n",
       "      <td>2.0</td>\n",
       "      <td>153.0</td>\n",
       "      <td>0.0</td>\n",
       "      <td>1.3</td>\n",
       "      <td>2.0</td>\n",
       "      <td>0.0</td>\n",
       "      <td>3.0</td>\n",
       "    </tr>\n",
       "    <tr>\n",
       "      <th>268</th>\n",
       "      <td>57.0</td>\n",
       "      <td>1.0</td>\n",
       "      <td>4.0</td>\n",
       "      <td>140.0</td>\n",
       "      <td>192.0</td>\n",
       "      <td>0.0</td>\n",
       "      <td>0.0</td>\n",
       "      <td>148.0</td>\n",
       "      <td>0.0</td>\n",
       "      <td>0.4</td>\n",
       "      <td>2.0</td>\n",
       "      <td>0.0</td>\n",
       "      <td>6.0</td>\n",
       "    </tr>\n",
       "    <tr>\n",
       "      <th>269</th>\n",
       "      <td>67.0</td>\n",
       "      <td>1.0</td>\n",
       "      <td>4.0</td>\n",
       "      <td>160.0</td>\n",
       "      <td>286.0</td>\n",
       "      <td>0.0</td>\n",
       "      <td>2.0</td>\n",
       "      <td>108.0</td>\n",
       "      <td>1.0</td>\n",
       "      <td>1.5</td>\n",
       "      <td>2.0</td>\n",
       "      <td>3.0</td>\n",
       "      <td>3.0</td>\n",
       "    </tr>\n",
       "  </tbody>\n",
       "</table>\n",
       "<p>270 rows × 13 columns</p>\n",
       "</div>"
      ],
      "text/plain": [
       "      age  sex  chest-pain  rest-bp  serum-chol  fasting-blood-sugar  \\\n",
       "0    70.0  1.0         4.0    130.0       322.0                  0.0   \n",
       "1    67.0  0.0         3.0    115.0       564.0                  0.0   \n",
       "2    57.0  1.0         2.0    124.0       261.0                  0.0   \n",
       "3    64.0  1.0         4.0    128.0       263.0                  0.0   \n",
       "4    74.0  0.0         2.0    120.0       269.0                  0.0   \n",
       "..    ...  ...         ...      ...         ...                  ...   \n",
       "265  52.0  1.0         3.0    172.0       199.0                  1.0   \n",
       "266  44.0  1.0         2.0    120.0       263.0                  0.0   \n",
       "267  56.0  0.0         2.0    140.0       294.0                  0.0   \n",
       "268  57.0  1.0         4.0    140.0       192.0                  0.0   \n",
       "269  67.0  1.0         4.0    160.0       286.0                  0.0   \n",
       "\n",
       "     electrocardiographic  max-heart-rate  angina  oldpeak  slope  \\\n",
       "0                     2.0           109.0     0.0      2.4    2.0   \n",
       "1                     2.0           160.0     0.0      1.6    2.0   \n",
       "2                     0.0           141.0     0.0      0.3    1.0   \n",
       "3                     0.0           105.0     1.0      0.2    2.0   \n",
       "4                     2.0           121.0     1.0      0.2    1.0   \n",
       "..                    ...             ...     ...      ...    ...   \n",
       "265                   0.0           162.0     0.0      0.5    1.0   \n",
       "266                   0.0           173.0     0.0      0.0    1.0   \n",
       "267                   2.0           153.0     0.0      1.3    2.0   \n",
       "268                   0.0           148.0     0.0      0.4    2.0   \n",
       "269                   2.0           108.0     1.0      1.5    2.0   \n",
       "\n",
       "     major-vessels  thal  \n",
       "0              3.0   3.0  \n",
       "1              0.0   7.0  \n",
       "2              0.0   7.0  \n",
       "3              1.0   7.0  \n",
       "4              1.0   3.0  \n",
       "..             ...   ...  \n",
       "265            0.0   7.0  \n",
       "266            0.0   7.0  \n",
       "267            0.0   3.0  \n",
       "268            0.0   6.0  \n",
       "269            3.0   3.0  \n",
       "\n",
       "[270 rows x 13 columns]"
      ]
     },
     "execution_count": 52,
     "metadata": {},
     "output_type": "execute_result"
    }
   ],
   "source": [
    "X"
   ]
  },
  {
   "cell_type": "code",
   "execution_count": 53,
   "id": "475b5b60-5db0-445f-a3b6-5ec7158a3610",
   "metadata": {},
   "outputs": [
    {
     "name": "stderr",
     "output_type": "stream",
     "text": [
      "/tmp/ipykernel_331730/3972061709.py:7: SettingWithCopyWarning: \n",
      "A value is trying to be set on a copy of a slice from a DataFrame\n",
      "\n",
      "See the caveats in the documentation: https://pandas.pydata.org/pandas-docs/stable/user_guide/indexing.html#returning-a-view-versus-a-copy\n",
      "  X.loc[:, cond] = scaler.fit_transform(X.loc[:, cond])\n"
     ]
    }
   ],
   "source": [
    "from sklearn.preprocessing import MinMaxScaler\n",
    "\n",
    "scaler = MinMaxScaler()\n",
    "\n",
    "cond = ['age', 'rest-bp', 'chest-pain', 'serum-chol', 'electrocardiographic', 'max-heart-rate', \n",
    "        'oldpeak', 'slope', 'major-vessels', 'thal']\n",
    "X.loc[:, cond] = scaler.fit_transform(X.loc[:, cond])"
   ]
  },
  {
   "cell_type": "code",
   "execution_count": 54,
   "id": "9b7762fb-5c57-4aa2-a4c1-d30f4d431090",
   "metadata": {},
   "outputs": [
    {
     "data": {
      "text/html": [
       "<div>\n",
       "<style scoped>\n",
       "    .dataframe tbody tr th:only-of-type {\n",
       "        vertical-align: middle;\n",
       "    }\n",
       "\n",
       "    .dataframe tbody tr th {\n",
       "        vertical-align: top;\n",
       "    }\n",
       "\n",
       "    .dataframe thead th {\n",
       "        text-align: right;\n",
       "    }\n",
       "</style>\n",
       "<table border=\"1\" class=\"dataframe\">\n",
       "  <thead>\n",
       "    <tr style=\"text-align: right;\">\n",
       "      <th></th>\n",
       "      <th>age</th>\n",
       "      <th>sex</th>\n",
       "      <th>chest-pain</th>\n",
       "      <th>rest-bp</th>\n",
       "      <th>serum-chol</th>\n",
       "      <th>fasting-blood-sugar</th>\n",
       "      <th>electrocardiographic</th>\n",
       "      <th>max-heart-rate</th>\n",
       "      <th>angina</th>\n",
       "      <th>oldpeak</th>\n",
       "      <th>slope</th>\n",
       "      <th>major-vessels</th>\n",
       "      <th>thal</th>\n",
       "    </tr>\n",
       "  </thead>\n",
       "  <tbody>\n",
       "    <tr>\n",
       "      <th>0</th>\n",
       "      <td>0.854167</td>\n",
       "      <td>1.0</td>\n",
       "      <td>1.000000</td>\n",
       "      <td>0.339623</td>\n",
       "      <td>0.447489</td>\n",
       "      <td>0.0</td>\n",
       "      <td>1.0</td>\n",
       "      <td>0.290076</td>\n",
       "      <td>0.0</td>\n",
       "      <td>0.387097</td>\n",
       "      <td>0.5</td>\n",
       "      <td>1.000000</td>\n",
       "      <td>0.00</td>\n",
       "    </tr>\n",
       "    <tr>\n",
       "      <th>1</th>\n",
       "      <td>0.791667</td>\n",
       "      <td>0.0</td>\n",
       "      <td>0.666667</td>\n",
       "      <td>0.198113</td>\n",
       "      <td>1.000000</td>\n",
       "      <td>0.0</td>\n",
       "      <td>1.0</td>\n",
       "      <td>0.679389</td>\n",
       "      <td>0.0</td>\n",
       "      <td>0.258065</td>\n",
       "      <td>0.5</td>\n",
       "      <td>0.000000</td>\n",
       "      <td>1.00</td>\n",
       "    </tr>\n",
       "    <tr>\n",
       "      <th>2</th>\n",
       "      <td>0.583333</td>\n",
       "      <td>1.0</td>\n",
       "      <td>0.333333</td>\n",
       "      <td>0.283019</td>\n",
       "      <td>0.308219</td>\n",
       "      <td>0.0</td>\n",
       "      <td>0.0</td>\n",
       "      <td>0.534351</td>\n",
       "      <td>0.0</td>\n",
       "      <td>0.048387</td>\n",
       "      <td>0.0</td>\n",
       "      <td>0.000000</td>\n",
       "      <td>1.00</td>\n",
       "    </tr>\n",
       "    <tr>\n",
       "      <th>3</th>\n",
       "      <td>0.729167</td>\n",
       "      <td>1.0</td>\n",
       "      <td>1.000000</td>\n",
       "      <td>0.320755</td>\n",
       "      <td>0.312785</td>\n",
       "      <td>0.0</td>\n",
       "      <td>0.0</td>\n",
       "      <td>0.259542</td>\n",
       "      <td>1.0</td>\n",
       "      <td>0.032258</td>\n",
       "      <td>0.5</td>\n",
       "      <td>0.333333</td>\n",
       "      <td>1.00</td>\n",
       "    </tr>\n",
       "    <tr>\n",
       "      <th>4</th>\n",
       "      <td>0.937500</td>\n",
       "      <td>0.0</td>\n",
       "      <td>0.333333</td>\n",
       "      <td>0.245283</td>\n",
       "      <td>0.326484</td>\n",
       "      <td>0.0</td>\n",
       "      <td>1.0</td>\n",
       "      <td>0.381679</td>\n",
       "      <td>1.0</td>\n",
       "      <td>0.032258</td>\n",
       "      <td>0.0</td>\n",
       "      <td>0.333333</td>\n",
       "      <td>0.00</td>\n",
       "    </tr>\n",
       "    <tr>\n",
       "      <th>...</th>\n",
       "      <td>...</td>\n",
       "      <td>...</td>\n",
       "      <td>...</td>\n",
       "      <td>...</td>\n",
       "      <td>...</td>\n",
       "      <td>...</td>\n",
       "      <td>...</td>\n",
       "      <td>...</td>\n",
       "      <td>...</td>\n",
       "      <td>...</td>\n",
       "      <td>...</td>\n",
       "      <td>...</td>\n",
       "      <td>...</td>\n",
       "    </tr>\n",
       "    <tr>\n",
       "      <th>265</th>\n",
       "      <td>0.479167</td>\n",
       "      <td>1.0</td>\n",
       "      <td>0.666667</td>\n",
       "      <td>0.735849</td>\n",
       "      <td>0.166667</td>\n",
       "      <td>1.0</td>\n",
       "      <td>0.0</td>\n",
       "      <td>0.694656</td>\n",
       "      <td>0.0</td>\n",
       "      <td>0.080645</td>\n",
       "      <td>0.0</td>\n",
       "      <td>0.000000</td>\n",
       "      <td>1.00</td>\n",
       "    </tr>\n",
       "    <tr>\n",
       "      <th>266</th>\n",
       "      <td>0.312500</td>\n",
       "      <td>1.0</td>\n",
       "      <td>0.333333</td>\n",
       "      <td>0.245283</td>\n",
       "      <td>0.312785</td>\n",
       "      <td>0.0</td>\n",
       "      <td>0.0</td>\n",
       "      <td>0.778626</td>\n",
       "      <td>0.0</td>\n",
       "      <td>0.000000</td>\n",
       "      <td>0.0</td>\n",
       "      <td>0.000000</td>\n",
       "      <td>1.00</td>\n",
       "    </tr>\n",
       "    <tr>\n",
       "      <th>267</th>\n",
       "      <td>0.562500</td>\n",
       "      <td>0.0</td>\n",
       "      <td>0.333333</td>\n",
       "      <td>0.433962</td>\n",
       "      <td>0.383562</td>\n",
       "      <td>0.0</td>\n",
       "      <td>1.0</td>\n",
       "      <td>0.625954</td>\n",
       "      <td>0.0</td>\n",
       "      <td>0.209677</td>\n",
       "      <td>0.5</td>\n",
       "      <td>0.000000</td>\n",
       "      <td>0.00</td>\n",
       "    </tr>\n",
       "    <tr>\n",
       "      <th>268</th>\n",
       "      <td>0.583333</td>\n",
       "      <td>1.0</td>\n",
       "      <td>1.000000</td>\n",
       "      <td>0.433962</td>\n",
       "      <td>0.150685</td>\n",
       "      <td>0.0</td>\n",
       "      <td>0.0</td>\n",
       "      <td>0.587786</td>\n",
       "      <td>0.0</td>\n",
       "      <td>0.064516</td>\n",
       "      <td>0.5</td>\n",
       "      <td>0.000000</td>\n",
       "      <td>0.75</td>\n",
       "    </tr>\n",
       "    <tr>\n",
       "      <th>269</th>\n",
       "      <td>0.791667</td>\n",
       "      <td>1.0</td>\n",
       "      <td>1.000000</td>\n",
       "      <td>0.622642</td>\n",
       "      <td>0.365297</td>\n",
       "      <td>0.0</td>\n",
       "      <td>1.0</td>\n",
       "      <td>0.282443</td>\n",
       "      <td>1.0</td>\n",
       "      <td>0.241935</td>\n",
       "      <td>0.5</td>\n",
       "      <td>1.000000</td>\n",
       "      <td>0.00</td>\n",
       "    </tr>\n",
       "  </tbody>\n",
       "</table>\n",
       "<p>270 rows × 13 columns</p>\n",
       "</div>"
      ],
      "text/plain": [
       "          age  sex  chest-pain   rest-bp  serum-chol  fasting-blood-sugar  \\\n",
       "0    0.854167  1.0    1.000000  0.339623    0.447489                  0.0   \n",
       "1    0.791667  0.0    0.666667  0.198113    1.000000                  0.0   \n",
       "2    0.583333  1.0    0.333333  0.283019    0.308219                  0.0   \n",
       "3    0.729167  1.0    1.000000  0.320755    0.312785                  0.0   \n",
       "4    0.937500  0.0    0.333333  0.245283    0.326484                  0.0   \n",
       "..        ...  ...         ...       ...         ...                  ...   \n",
       "265  0.479167  1.0    0.666667  0.735849    0.166667                  1.0   \n",
       "266  0.312500  1.0    0.333333  0.245283    0.312785                  0.0   \n",
       "267  0.562500  0.0    0.333333  0.433962    0.383562                  0.0   \n",
       "268  0.583333  1.0    1.000000  0.433962    0.150685                  0.0   \n",
       "269  0.791667  1.0    1.000000  0.622642    0.365297                  0.0   \n",
       "\n",
       "     electrocardiographic  max-heart-rate  angina   oldpeak  slope  \\\n",
       "0                     1.0        0.290076     0.0  0.387097    0.5   \n",
       "1                     1.0        0.679389     0.0  0.258065    0.5   \n",
       "2                     0.0        0.534351     0.0  0.048387    0.0   \n",
       "3                     0.0        0.259542     1.0  0.032258    0.5   \n",
       "4                     1.0        0.381679     1.0  0.032258    0.0   \n",
       "..                    ...             ...     ...       ...    ...   \n",
       "265                   0.0        0.694656     0.0  0.080645    0.0   \n",
       "266                   0.0        0.778626     0.0  0.000000    0.0   \n",
       "267                   1.0        0.625954     0.0  0.209677    0.5   \n",
       "268                   0.0        0.587786     0.0  0.064516    0.5   \n",
       "269                   1.0        0.282443     1.0  0.241935    0.5   \n",
       "\n",
       "     major-vessels  thal  \n",
       "0         1.000000  0.00  \n",
       "1         0.000000  1.00  \n",
       "2         0.000000  1.00  \n",
       "3         0.333333  1.00  \n",
       "4         0.333333  0.00  \n",
       "..             ...   ...  \n",
       "265       0.000000  1.00  \n",
       "266       0.000000  1.00  \n",
       "267       0.000000  0.00  \n",
       "268       0.000000  0.75  \n",
       "269       1.000000  0.00  \n",
       "\n",
       "[270 rows x 13 columns]"
      ]
     },
     "execution_count": 54,
     "metadata": {},
     "output_type": "execute_result"
    }
   ],
   "source": [
    "X"
   ]
  },
  {
   "cell_type": "code",
   "execution_count": 55,
   "id": "709b0ca3-469b-424f-8d43-a5d6fe2e061c",
   "metadata": {},
   "outputs": [
    {
     "data": {
      "text/plain": [
       "Index(['age', 'sex', 'chest-pain', 'rest-bp', 'serum-chol',\n",
       "       'fasting-blood-sugar', 'electrocardiographic', 'max-heart-rate',\n",
       "       'angina', 'oldpeak', 'slope', 'major-vessels', 'thal'],\n",
       "      dtype='object')"
      ]
     },
     "execution_count": 55,
     "metadata": {},
     "output_type": "execute_result"
    }
   ],
   "source": [
    "X.columns"
   ]
  },
  {
   "cell_type": "code",
   "execution_count": 56,
   "id": "2dc3927b-437b-4c06-ab52-9af87d8dc097",
   "metadata": {},
   "outputs": [
    {
     "data": {
      "text/html": [
       "<div>\n",
       "<style scoped>\n",
       "    .dataframe tbody tr th:only-of-type {\n",
       "        vertical-align: middle;\n",
       "    }\n",
       "\n",
       "    .dataframe tbody tr th {\n",
       "        vertical-align: top;\n",
       "    }\n",
       "\n",
       "    .dataframe thead th {\n",
       "        text-align: right;\n",
       "    }\n",
       "</style>\n",
       "<table border=\"1\" class=\"dataframe\">\n",
       "  <thead>\n",
       "    <tr style=\"text-align: right;\">\n",
       "      <th></th>\n",
       "      <th>heart-disease</th>\n",
       "    </tr>\n",
       "  </thead>\n",
       "  <tbody>\n",
       "    <tr>\n",
       "      <th>0</th>\n",
       "      <td>0</td>\n",
       "    </tr>\n",
       "    <tr>\n",
       "      <th>1</th>\n",
       "      <td>1</td>\n",
       "    </tr>\n",
       "    <tr>\n",
       "      <th>2</th>\n",
       "      <td>0</td>\n",
       "    </tr>\n",
       "    <tr>\n",
       "      <th>3</th>\n",
       "      <td>1</td>\n",
       "    </tr>\n",
       "    <tr>\n",
       "      <th>4</th>\n",
       "      <td>1</td>\n",
       "    </tr>\n",
       "    <tr>\n",
       "      <th>...</th>\n",
       "      <td>...</td>\n",
       "    </tr>\n",
       "    <tr>\n",
       "      <th>265</th>\n",
       "      <td>1</td>\n",
       "    </tr>\n",
       "    <tr>\n",
       "      <th>266</th>\n",
       "      <td>1</td>\n",
       "    </tr>\n",
       "    <tr>\n",
       "      <th>267</th>\n",
       "      <td>1</td>\n",
       "    </tr>\n",
       "    <tr>\n",
       "      <th>268</th>\n",
       "      <td>1</td>\n",
       "    </tr>\n",
       "    <tr>\n",
       "      <th>269</th>\n",
       "      <td>0</td>\n",
       "    </tr>\n",
       "  </tbody>\n",
       "</table>\n",
       "<p>270 rows × 1 columns</p>\n",
       "</div>"
      ],
      "text/plain": [
       "     heart-disease\n",
       "0                0\n",
       "1                1\n",
       "2                0\n",
       "3                1\n",
       "4                1\n",
       "..             ...\n",
       "265              1\n",
       "266              1\n",
       "267              1\n",
       "268              1\n",
       "269              0\n",
       "\n",
       "[270 rows x 1 columns]"
      ]
     },
     "execution_count": 56,
     "metadata": {},
     "output_type": "execute_result"
    }
   ],
   "source": [
    "y = y.replace({2 : 0})\n",
    "y"
   ]
  },
  {
   "cell_type": "code",
   "execution_count": 57,
   "id": "e3da38d1-a86a-4549-85a5-93989aa9bbb9",
   "metadata": {},
   "outputs": [],
   "source": [
    "from sklearn.neural_network import MLPClassifier\n",
    "from sklearn.neighbors import KNeighborsClassifier\n",
    "from sklearn.naive_bayes import GaussianNB\n",
    "from sklearn.model_selection import GridSearchCV, train_test_split, cross_val_score"
   ]
  },
  {
   "cell_type": "code",
   "execution_count": 58,
   "id": "a2a6f7f9-367e-416d-96b2-9399c34382cc",
   "metadata": {},
   "outputs": [],
   "source": [
    "neigh = KNeighborsClassifier(n_neighbors = 25)\n",
    "result_knn = list()\n",
    "#std_knn = list()\n",
    "mlp = MLPClassifier(hidden_layer_sizes = 4)\n",
    "result_mlp = list()\n",
    "#std_mlp = list()\n",
    "bay = GaussianNB()\n",
    "result_bay = list()\n",
    "#std_bay = list()"
   ]
  },
  {
   "cell_type": "code",
   "execution_count": 59,
   "id": "df169ca5-81fa-48e8-be95-8a5e27fea472",
   "metadata": {},
   "outputs": [],
   "source": [
    "y = np.array(y).reshape(-1,)"
   ]
  },
  {
   "cell_type": "code",
   "execution_count": 60,
   "id": "084f1e8d-55e7-4959-ad66-89d08519b2cf",
   "metadata": {},
   "outputs": [],
   "source": [
    "import warnings\n",
    "from sklearn.exceptions import ConvergenceWarning\n",
    "from sklearn.utils import shuffle\n",
    "\n",
    "warnings.filterwarnings(\"ignore\", category=ConvergenceWarning)\n",
    "\n",
    "\n",
    "for i in range(10):\n",
    "    X, y = shuffle(X, y, random_state=42)\n",
    " \n",
    "    result_knn.append(np.mean(cross_val_score(neigh, X, y, cv=10)))\n",
    "    result_mlp.append(np.mean(cross_val_score(mlp, X, y, cv=10)))\n",
    "    result_bay.append(np.mean(cross_val_score(bay, X, y, cv=10)))\n",
    "result_knn = np.array(result_knn)\n",
    "result_mlp = np.array(result_mlp)\n",
    "result_bay = np.array(result_bay)"
   ]
  },
  {
   "cell_type": "code",
   "execution_count": 61,
   "id": "a7a483dd-7910-4e5d-ad40-5d47282cf815",
   "metadata": {},
   "outputs": [
    {
     "name": "stdout",
     "output_type": "stream",
     "text": [
      "The accuracy for knn is 0.8266666666666665 +- 0.004552861460391586\n",
      "The accuracy for mlp is 0.7666666666666666 +- 0.036330713505091775\n",
      "The accuracy for bayesian classifier is 0.8414814814814815 +- 0.005465665091649087\n"
     ]
    }
   ],
   "source": [
    "print(f\"The accuracy for knn is {np.mean(result_knn)} +- {statistics.stdev(result_knn)}\")\n",
    "print(f\"The accuracy for mlp is {np.mean(result_mlp)} +- {statistics.stdev(result_mlp)}\")\n",
    "print(f\"The accuracy for bayesian classifier is {np.mean(result_bay)} +- {statistics.stdev(result_bay)}\")"
   ]
  },
  {
   "cell_type": "code",
   "execution_count": 62,
   "id": "44926d5a-2d19-44ee-84df-edcf1c9c049b",
   "metadata": {},
   "outputs": [],
   "source": [
    "X_train, X_test, y_train, y_test = train_test_split(X, y, train_size=0.8, random_state=42)\n",
    "y_pred_knn = neigh.fit(X_train, y_train).predict(X_test)\n",
    "y_pred_mlp = mlp.fit(X_train, y_train).predict(X_test)\n",
    "y_pred_bayes = bay.fit(X_train, y_train).predict(X_test)"
   ]
  },
  {
   "cell_type": "code",
   "execution_count": 63,
   "id": "06e07477-6b61-4622-86b0-753be2e99472",
   "metadata": {},
   "outputs": [
    {
     "name": "stdout",
     "output_type": "stream",
     "text": [
      "AUC score KNN : 0.7733516483516484\n",
      "AUC score MLP : 0.7513736263736264\n",
      "AUC score BAYES : 0.8296703296703297\n"
     ]
    }
   ],
   "source": [
    "from sklearn.metrics import roc_auc_score\n",
    "\n",
    "print(f\"AUC score KNN : {roc_auc_score(y_test, y_pred_knn)}\")\n",
    "print(f\"AUC score MLP : {roc_auc_score(y_test, y_pred_mlp)}\")\n",
    "print(f\"AUC score BAYES : {roc_auc_score(y_test, y_pred_bayes)}\")"
   ]
  },
  {
   "cell_type": "code",
   "execution_count": 64,
   "id": "95174eaa-9c5c-4e52-9351-e709dc78f287",
   "metadata": {},
   "outputs": [
    {
     "data": {
      "image/png": "[encoded data removed]",
      "text/plain": [
       "<Figure size 640x480 with 1 Axes>"
      ]
     },
     "metadata": {},
     "output_type": "display_data"
    }
   ],
   "source": [
    "from sklearn import metrics \n",
    "\n",
    "fpr, tpr, thresholds = metrics.roc_curve(y_test, y_pred_knn)\n",
    "roc_auc = metrics.auc(fpr, tpr)\n",
    "display = metrics.RocCurveDisplay(fpr=fpr, tpr=tpr, roc_auc=roc_auc,\n",
    "                                  estimator_name='example estimator')\n",
    "display.plot()\n",
    "plt.show()"
   ]
  },
  {
   "cell_type": "code",
   "execution_count": 65,
   "id": "b2399f6f-01d7-4fd2-9923-b665c4677570",
   "metadata": {},
   "outputs": [
    {
     "data": {
      "image/png": "[encoded data removed]",
      "text/plain": [
       "<Figure size 640x480 with 1 Axes>"
      ]
     },
     "metadata": {},
     "output_type": "display_data"
    }
   ],
   "source": [
    "fpr, tpr, thresholds = metrics.roc_curve(y_test, y_pred_mlp)\n",
    "roc_auc = metrics.auc(fpr, tpr)\n",
    "display = metrics.RocCurveDisplay(fpr=fpr, tpr=tpr, roc_auc=roc_auc,\n",
    "                                  estimator_name='example estimator')\n",
    "display.plot()\n",
    "plt.show()"
   ]
  },
  {
   "cell_type": "code",
   "execution_count": 66,
   "id": "0b44213d-c51f-4e5c-9c1b-de108ba55742",
   "metadata": {},
   "outputs": [
    {
     "data": {
      "image/png": "[encoded data removed]",
      "text/plain": [
       "<Figure size 640x480 with 1 Axes>"
      ]
     },
     "metadata": {},
     "output_type": "display_data"
    }
   ],
   "source": [
    "fpr, tpr, thresholds = metrics.roc_curve(y_test, y_pred_bayes)\n",
    "roc_auc = metrics.auc(fpr, tpr)\n",
    "display = metrics.RocCurveDisplay(fpr=fpr, tpr=tpr, roc_auc=roc_auc,\n",
    "                                  estimator_name='example estimator')\n",
    "display.plot()\n",
    "plt.show()"
   ]
  },
  {
   "cell_type": "markdown",
   "id": "9907cfa2-dd2a-4354-bce3-3f2c5198a027",
   "metadata": {},
   "source": [
    "#### Analisando a curva ROC para o melhor modelo obtido com o KNN."
   ]
  },
  {
   "cell_type": "code",
   "execution_count": 67,
   "id": "b218f23f-d2d9-472c-b91a-c80131d14e78",
   "metadata": {},
   "outputs": [
    {
     "name": "stdout",
     "output_type": "stream",
     "text": [
      "CPU times: user 10.7 s, sys: 79.4 ms, total: 10.8 s\n",
      "Wall time: 5.41 s\n"
     ]
    }
   ],
   "source": [
    "%%time\n",
    "\n",
    "k_val = np.arange(start = 1, stop = 150, step = 1)\n",
    "\n",
    "KNN_model = KNeighborsClassifier()\n",
    "\n",
    "classifier = GridSearchCV(estimator = KNN_model, param_grid = {'n_neighbors' : k_val}, cv = 10)\n",
    "\n",
    "classifier.fit(X = X_train, y = y_train)\n",
    "\n",
    "best_param = classifier.best_params_\n",
    "best_score = classifier.best_score_"
   ]
  },
  {
   "cell_type": "code",
   "execution_count": 68,
   "id": "1bcae825-1352-41a0-872a-ed7947152fe2",
   "metadata": {},
   "outputs": [
    {
     "data": {
      "text/plain": [
       "({'n_neighbors': 23}, 0.8471861471861472)"
      ]
     },
     "execution_count": 68,
     "metadata": {},
     "output_type": "execute_result"
    }
   ],
   "source": [
    "best_param, best_score"
   ]
  },
  {
   "cell_type": "code",
   "execution_count": 69,
   "id": "101ff5c7-0776-48b9-b62a-fc244d7ab7c5",
   "metadata": {},
   "outputs": [],
   "source": [
    "neigh_ = KNeighborsClassifier(n_neighbors = best_param['n_neighbors'])\n",
    "neigh_.fit(X_train, y_train)\n",
    "y_KNN = neigh_.predict(X_test)"
   ]
  },
  {
   "cell_type": "code",
   "execution_count": 70,
   "id": "d593ed70-c47f-4bc6-babe-eb77e75197ef",
   "metadata": {},
   "outputs": [
    {
     "data": {
      "image/png": "[encoded data removed]",
      "text/plain": [
       "<Figure size 640x480 with 1 Axes>"
      ]
     },
     "metadata": {},
     "output_type": "display_data"
    }
   ],
   "source": [
    "fpr, tpr, thresholds = metrics.roc_curve(y_test, y_KNN)\n",
    "roc_auc = metrics.auc(fpr, tpr)\n",
    "display = metrics.RocCurveDisplay(fpr=fpr, tpr=tpr, roc_auc=roc_auc,\n",
    "                                  estimator_name='example estimator')\n",
    "display.plot()\n",
    "plt.show()"
   ]
  },
  {
   "cell_type": "code",
   "execution_count": 71,
   "id": "36a2e65e-76f7-4fd8-8325-a84f095c6b63",
   "metadata": {},
   "outputs": [],
   "source": [
    "y_pred = (bay.predict_proba(X_test)[:,1] >= 0.5).astype(int) # set threshold as 0.3"
   ]
  },
  {
   "cell_type": "code",
   "execution_count": 72,
   "id": "d1f854ef-6380-447c-a981-31f4554429f7",
   "metadata": {},
   "outputs": [
    {
     "data": {
      "text/plain": [
       "array([1, 1, 1, 1, 0, 1, 1, 0, 0, 0, 0, 1, 1, 0, 0, 1, 0, 0, 0, 1, 0, 1,\n",
       "       1, 0, 0, 0, 1, 0, 0, 1, 0, 1, 1, 1, 0, 1, 0, 1, 0, 1, 1, 0, 0, 1,\n",
       "       1, 0, 1, 0, 0, 1, 1, 0, 1, 1])"
      ]
     },
     "execution_count": 72,
     "metadata": {},
     "output_type": "execute_result"
    }
   ],
   "source": [
    "y_test"
   ]
  },
  {
   "cell_type": "code",
   "execution_count": 73,
   "id": "91aff534-bd14-4740-8b4a-28f61d96243b",
   "metadata": {},
   "outputs": [
    {
     "data": {
      "image/png": "[encoded data removed]",
      "text/plain": [
       "<Figure size 640x480 with 2 Axes>"
      ]
     },
     "metadata": {},
     "output_type": "display_data"
    }
   ],
   "source": [
    "from sklearn import metrics\n",
    "confusion_matrix = metrics.confusion_matrix(y_test, y_pred)\n",
    "cm_display = metrics.ConfusionMatrixDisplay(confusion_matrix = confusion_matrix, display_labels = [False, True])\n",
    "cm_display.plot()\n",
    "plt.show()"
   ]
  }
 ],
 "metadata": {
  "kernelspec": {
   "display_name": "Python 3 (ipykernel)",
   "language": "python",
   "name": "python3"
  },
  "language_info": {
   "codemirror_mode": {
    "name": "ipython",
    "version": 3
   },
   "file_extension": ".py",
   "mimetype": "text/x-python",
   "name": "python",
   "nbconvert_exporter": "python",
   "pygments_lexer": "ipython3",
   "version": "3.10.12"
  }
 },
 "nbformat": 4,
 "nbformat_minor": 5
}
