{
 "cells": [
  {
   "cell_type": "code",
   "execution_count": 19,
   "id": "7be46b53-3814-47f2-a992-e0f250a7be79",
   "metadata": {},
   "outputs": [
    {
     "name": "stdout",
     "output_type": "stream",
     "text": [
      "(60000, 28, 28) (60000,)\n"
     ]
    }
   ],
   "source": [
    "import keras\n",
    "from keras.datasets import mnist\n",
    "from keras.models import Sequential\n",
    "from keras.layers import Dense, Dropout, Flatten\n",
    "from keras.layers import Conv2D, MaxPooling2D\n",
    "from keras import backend as K\n",
    "(x_train, y_train), (x_test, y_test) = mnist.load_data()\n",
    "print(x_train.shape, y_train.shape)"
   ]
  },
  {
   "cell_type": "code",
   "execution_count": 20,
   "id": "51db4eaa-466e-466e-9c87-c345cc48acfe",
   "metadata": {},
   "outputs": [],
   "source": [
    "x_train= x_train.reshape(x_train.shape[0],28,28,1)\n",
    "x_test=  x_test.reshape(x_test.shape[0],28,28,1)\n",
    "input_shape=(28,28,1)\n",
    "y_train=keras.utils.to_categorical(y_train)#,num_classes=)\n",
    "y_test=keras.utils.to_categorical(y_test)#, num_classes)\n",
    "x_train= x_train.astype('float32')\n",
    "x_test= x_test.astype('float32')\n",
    "x_train /= 255\n",
    "x_test /=255"
   ]
  },
  {
   "cell_type": "code",
   "execution_count": 23,
   "id": "e26639a9-3a86-4398-88b0-2b125da97564",
   "metadata": {},
   "outputs": [],
   "source": [
    "batch_size=64\n",
    "\n",
    "num_classes=10\n",
    "\n",
    "epochs=10\n",
    "\n",
    "def build_model(optimizer):\n",
    "\n",
    "    model=Sequential()\n",
    "    \n",
    "    model.add(Conv2D(32,kernel_size=(3,3),activation='relu',input_shape=input_shape))\n",
    "    \n",
    "    model.add(MaxPooling2D(pool_size=(2,2)))\n",
    "    \n",
    "    model.add(Dropout(0.25))\n",
    "    \n",
    "    model.add(Flatten())\n",
    "    \n",
    "    model.add(Dense(256, activation='relu'))\n",
    "    \n",
    "    model.add(Dropout(0.5))\n",
    "    \n",
    "    model.add(Dense(num_classes, activation='softmax'))\n",
    "    \n",
    "    model.compile(loss=keras.losses.categorical_crossentropy, optimizer= optimizer, metrics=['accuracy'])\n",
    "    \n",
    "    return model"
   ]
  },
  {
   "cell_type": "code",
   "execution_count": 25,
   "id": "14dc4a3e-d92e-4cd8-b060-9627c176fa18",
   "metadata": {},
   "outputs": [
    {
     "name": "stdout",
     "output_type": "stream",
     "text": [
      "Epoch 1/10\n",
      "938/938 [==============================] - 30s 32ms/step - loss: 2.2737 - accuracy: 0.1472 - val_loss: 2.1921 - val_accuracy: 0.3459\n",
      "Epoch 2/10\n",
      "938/938 [==============================] - 29s 31ms/step - loss: 2.1514 - accuracy: 0.3026 - val_loss: 2.0563 - val_accuracy: 0.6362\n",
      "Epoch 3/10\n",
      "938/938 [==============================] - 30s 32ms/step - loss: 2.0216 - accuracy: 0.4586 - val_loss: 1.9063 - val_accuracy: 0.6918\n",
      "Epoch 4/10\n",
      "938/938 [==============================] - 33s 36ms/step - loss: 1.8776 - accuracy: 0.5560 - val_loss: 1.7447 - val_accuracy: 0.7302\n",
      "Epoch 5/10\n",
      "938/938 [==============================] - 29s 31ms/step - loss: 1.7290 - accuracy: 0.6099 - val_loss: 1.5796 - val_accuracy: 0.7700\n",
      "Epoch 6/10\n",
      "938/938 [==============================] - 28s 30ms/step - loss: 1.5771 - accuracy: 0.6507 - val_loss: 1.4193 - val_accuracy: 0.7903\n",
      "Epoch 7/10\n",
      "938/938 [==============================] - 28s 30ms/step - loss: 1.4382 - accuracy: 0.6747 - val_loss: 1.2713 - val_accuracy: 0.8088\n",
      "Epoch 8/10\n",
      "938/938 [==============================] - 31s 34ms/step - loss: 1.3087 - accuracy: 0.7000 - val_loss: 1.1389 - val_accuracy: 0.8231\n",
      "Epoch 9/10\n",
      "938/938 [==============================] - 30s 32ms/step - loss: 1.1974 - accuracy: 0.7162 - val_loss: 1.0252 - val_accuracy: 0.8319\n",
      "Epoch 10/10\n",
      "938/938 [==============================] - 31s 33ms/step - loss: 1.0975 - accuracy: 0.7332 - val_loss: 0.9281 - val_accuracy: 0.8376\n",
      "Epoch 1/10\n",
      "938/938 [==============================] - 21s 22ms/step - loss: 1.4419 - accuracy: 0.5904 - val_loss: 0.6803 - val_accuracy: 0.8584\n",
      "Epoch 2/10\n",
      "938/938 [==============================] - 20s 21ms/step - loss: 0.7007 - accuracy: 0.7966 - val_loss: 0.4518 - val_accuracy: 0.8856\n",
      "Epoch 3/10\n",
      "938/938 [==============================] - 18s 19ms/step - loss: 0.5579 - accuracy: 0.8351 - val_loss: 0.3813 - val_accuracy: 0.8982\n",
      "Epoch 4/10\n",
      "938/938 [==============================] - 18s 19ms/step - loss: 0.4942 - accuracy: 0.8540 - val_loss: 0.3449 - val_accuracy: 0.9088\n",
      "Epoch 5/10\n",
      "938/938 [==============================] - 18s 19ms/step - loss: 0.4559 - accuracy: 0.8647 - val_loss: 0.3202 - val_accuracy: 0.9135\n",
      "Epoch 6/10\n",
      "938/938 [==============================] - 18s 19ms/step - loss: 0.4260 - accuracy: 0.8747 - val_loss: 0.3022 - val_accuracy: 0.9167\n",
      "Epoch 7/10\n",
      "938/938 [==============================] - 18s 19ms/step - loss: 0.4049 - accuracy: 0.8783 - val_loss: 0.2867 - val_accuracy: 0.9211\n",
      "Epoch 8/10\n",
      "938/938 [==============================] - 18s 19ms/step - loss: 0.3881 - accuracy: 0.8840 - val_loss: 0.2737 - val_accuracy: 0.9237\n",
      "Epoch 9/10\n",
      "938/938 [==============================] - 18s 19ms/step - loss: 0.3707 - accuracy: 0.8903 - val_loss: 0.2633 - val_accuracy: 0.9254\n",
      "Epoch 10/10\n",
      "938/938 [==============================] - 18s 19ms/step - loss: 0.3616 - accuracy: 0.8930 - val_loss: 0.2541 - val_accuracy: 0.9286\n",
      "Epoch 1/10\n",
      "938/938 [==============================] - 25s 26ms/step - loss: 0.2156 - accuracy: 0.9356 - val_loss: 0.0660 - val_accuracy: 0.9799\n",
      "Epoch 2/10\n",
      "938/938 [==============================] - 25s 27ms/step - loss: 0.0873 - accuracy: 0.9734 - val_loss: 0.0475 - val_accuracy: 0.9839\n",
      "Epoch 3/10\n",
      "938/938 [==============================] - 25s 27ms/step - loss: 0.0654 - accuracy: 0.9796 - val_loss: 0.0434 - val_accuracy: 0.9851\n",
      "Epoch 4/10\n",
      "938/938 [==============================] - 25s 26ms/step - loss: 0.0536 - accuracy: 0.9829 - val_loss: 0.0388 - val_accuracy: 0.9865\n",
      "Epoch 5/10\n",
      "938/938 [==============================] - 25s 26ms/step - loss: 0.0449 - accuracy: 0.9856 - val_loss: 0.0367 - val_accuracy: 0.9874\n",
      "Epoch 6/10\n",
      "938/938 [==============================] - 25s 27ms/step - loss: 0.0376 - accuracy: 0.9879 - val_loss: 0.0326 - val_accuracy: 0.9892\n",
      "Epoch 7/10\n",
      "938/938 [==============================] - 26s 28ms/step - loss: 0.0343 - accuracy: 0.9884 - val_loss: 0.0318 - val_accuracy: 0.9888\n",
      "Epoch 8/10\n",
      "938/938 [==============================] - 25s 26ms/step - loss: 0.0305 - accuracy: 0.9903 - val_loss: 0.0324 - val_accuracy: 0.9901\n",
      "Epoch 9/10\n",
      "938/938 [==============================] - 25s 26ms/step - loss: 0.0281 - accuracy: 0.9909 - val_loss: 0.0326 - val_accuracy: 0.9891\n",
      "Epoch 10/10\n",
      "938/938 [==============================] - 25s 26ms/step - loss: 0.0242 - accuracy: 0.9919 - val_loss: 0.0359 - val_accuracy: 0.9891\n",
      "Epoch 1/10\n",
      "938/938 [==============================] - 19s 20ms/step - loss: 0.2323 - accuracy: 0.9290 - val_loss: 0.0701 - val_accuracy: 0.9776\n",
      "Epoch 2/10\n",
      "938/938 [==============================] - 19s 20ms/step - loss: 0.0886 - accuracy: 0.9732 - val_loss: 0.0470 - val_accuracy: 0.9835\n",
      "Epoch 3/10\n",
      "938/938 [==============================] - 19s 20ms/step - loss: 0.0671 - accuracy: 0.9797 - val_loss: 0.0411 - val_accuracy: 0.9853\n",
      "Epoch 4/10\n",
      "938/938 [==============================] - 19s 20ms/step - loss: 0.0565 - accuracy: 0.9830 - val_loss: 0.0372 - val_accuracy: 0.9868\n",
      "Epoch 5/10\n",
      "938/938 [==============================] - 19s 20ms/step - loss: 0.0495 - accuracy: 0.9847 - val_loss: 0.0372 - val_accuracy: 0.9873\n",
      "Epoch 6/10\n",
      "938/938 [==============================] - 19s 20ms/step - loss: 0.0454 - accuracy: 0.9864 - val_loss: 0.0380 - val_accuracy: 0.9866\n",
      "Epoch 7/10\n",
      "938/938 [==============================] - 19s 20ms/step - loss: 0.0437 - accuracy: 0.9861 - val_loss: 0.0320 - val_accuracy: 0.9891\n",
      "Epoch 8/10\n",
      "938/938 [==============================] - 19s 20ms/step - loss: 0.0392 - accuracy: 0.9881 - val_loss: 0.0334 - val_accuracy: 0.9883\n",
      "Epoch 9/10\n",
      "938/938 [==============================] - 19s 20ms/step - loss: 0.0379 - accuracy: 0.9882 - val_loss: 0.0323 - val_accuracy: 0.9885\n",
      "Epoch 10/10\n",
      "938/938 [==============================] - 19s 20ms/step - loss: 0.0367 - accuracy: 0.9891 - val_loss: 0.0346 - val_accuracy: 0.9878\n",
      "Epoch 1/10\n",
      "938/938 [==============================] - 13s 14ms/step - loss: 0.8191 - accuracy: 0.7487 - val_loss: 0.3006 - val_accuracy: 0.9126\n",
      "Epoch 2/10\n",
      "938/938 [==============================] - 13s 14ms/step - loss: 0.3763 - accuracy: 0.8855 - val_loss: 0.2245 - val_accuracy: 0.9346\n",
      "Epoch 3/10\n",
      "938/938 [==============================] - 13s 14ms/step - loss: 0.3078 - accuracy: 0.9060 - val_loss: 0.1819 - val_accuracy: 0.9465\n",
      "Epoch 4/10\n",
      "938/938 [==============================] - 13s 14ms/step - loss: 0.2712 - accuracy: 0.9179 - val_loss: 0.1618 - val_accuracy: 0.9538\n",
      "Epoch 5/10\n",
      "938/938 [==============================] - 13s 14ms/step - loss: 0.2397 - accuracy: 0.9281 - val_loss: 0.1446 - val_accuracy: 0.9583\n",
      "Epoch 6/10\n",
      "938/938 [==============================] - 13s 14ms/step - loss: 0.2216 - accuracy: 0.9321 - val_loss: 0.1324 - val_accuracy: 0.9616\n",
      "Epoch 7/10\n",
      "938/938 [==============================] - 13s 14ms/step - loss: 0.2067 - accuracy: 0.9373 - val_loss: 0.1230 - val_accuracy: 0.9651\n",
      "Epoch 8/10\n",
      "938/938 [==============================] - 13s 14ms/step - loss: 0.1959 - accuracy: 0.9403 - val_loss: 0.1147 - val_accuracy: 0.9654\n",
      "Epoch 9/10\n",
      "938/938 [==============================] - 13s 14ms/step - loss: 0.1839 - accuracy: 0.9451 - val_loss: 0.1112 - val_accuracy: 0.9675\n",
      "Epoch 10/10\n",
      "938/938 [==============================] - 13s 14ms/step - loss: 0.1745 - accuracy: 0.9469 - val_loss: 0.1042 - val_accuracy: 0.9699\n"
     ]
    }
   ],
   "source": [
    "optimizers = ['Adadelta', 'Adagrad', 'Adam', 'RMSprop', 'SGD']\n",
    "\n",
    "for i in optimizers:\n",
    "\n",
    "    model = build_model(i)\n",
    "    \n",
    "    hist=model.fit(x_train, y_train, batch_size=batch_size, epochs=epochs, verbose=1, validation_data=(x_test,y_test))"
   ]
  },
  {
   "cell_type": "code",
   "execution_count": null,
   "id": "d199403b-7b6e-4d88-baee-0227e0baf05f",
   "metadata": {},
   "outputs": [],
   "source": []
  },
  {
   "cell_type": "code",
   "execution_count": null,
   "id": "8389916b-00dd-4f20-a498-0f267ba21cc4",
   "metadata": {},
   "outputs": [],
   "source": []
  },
  {
   "cell_type": "code",
   "execution_count": null,
   "id": "3bf8fe50-febb-46c4-b2bc-9b3bb8914de1",
   "metadata": {},
   "outputs": [],
   "source": []
  },
  {
   "cell_type": "code",
   "execution_count": null,
   "id": "eda895fb-c27e-428f-a4a0-b5add80b99ab",
   "metadata": {},
   "outputs": [],
   "source": []
  },
  {
   "cell_type": "code",
   "execution_count": null,
   "id": "3ed124c7-b3e8-4b91-818c-e7d5db049601",
   "metadata": {},
   "outputs": [],
   "source": []
  },
  {
   "cell_type": "code",
   "execution_count": null,
   "id": "2e7669c1-d256-4092-9dc4-788e816023c3",
   "metadata": {},
   "outputs": [],
   "source": []
  },
  {
   "cell_type": "code",
   "execution_count": null,
   "id": "9db0895b-b279-4b2b-8ddb-e7c4855f0d51",
   "metadata": {},
   "outputs": [],
   "source": []
  },
  {
   "cell_type": "code",
   "execution_count": null,
   "id": "6398b0db-e46b-4e6f-b27b-9dd06c96e3df",
   "metadata": {},
   "outputs": [],
   "source": []
  },
  {
   "cell_type": "code",
   "execution_count": null,
   "id": "22b76948-aaba-471c-99a3-2cc34083e0f5",
   "metadata": {},
   "outputs": [],
   "source": []
  }
 ],
 "metadata": {
  "kernelspec": {
   "display_name": "Python 3 (ipykernel)",
   "language": "python",
   "name": "python3"
  },
  "language_info": {
   "codemirror_mode": {
    "name": "ipython",
    "version": 3
   },
   "file_extension": ".py",
   "mimetype": "text/x-python",
   "name": "python",
   "nbconvert_exporter": "python",
   "pygments_lexer": "ipython3",
   "version": "3.10.12"
  }
 },
 "nbformat": 4,
 "nbformat_minor": 5
}
