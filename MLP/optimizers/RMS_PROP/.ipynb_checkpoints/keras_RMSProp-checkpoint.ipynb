{
 "cells": [
  {
   "cell_type": "code",
   "execution_count": 8,
   "id": "1889fdd6-805a-40f5-86a9-8519cfab1e37",
   "metadata": {},
   "outputs": [],
   "source": [
    "import tensorflow as tf\n",
    "from tensorflow import keras\n",
    "from tensorflow.keras.datasets import mnist\n",
    "from tensorflow.keras.models import Sequential\n",
    "from tensorflow.keras.layers import Dense\n",
    "from tensorflow.keras.optimizers import RMSprop, SGD"
   ]
  },
  {
   "cell_type": "code",
   "execution_count": 9,
   "id": "46ee978c-4524-4fdf-8605-8567bfb5df87",
   "metadata": {},
   "outputs": [],
   "source": [
    "(x_train, y_train), (x_test, y_test) = mnist.load_data()\n",
    "\n",
    "x_train = x_train.reshape(-1, 28*28) / 255.0\n",
    "x_test = x_test.reshape(-1, 28*28) / 255.0\n",
    "\n",
    "y_train = keras.utils.to_categorical(y_train, 10)\n",
    "y_test = keras.utils.to_categorical(y_test, 10)"
   ]
  },
  {
   "cell_type": "code",
   "execution_count": 10,
   "id": "4d631d1b-b501-4409-b3b8-0640436cc3e9",
   "metadata": {},
   "outputs": [],
   "source": [
    "model = Sequential()\n",
    "model.add(Dense(512, activation='relu', input_shape=(28*28,)))\n",
    "model.add(Dense(512, activation='relu'))\n",
    "model.add(Dense(10, activation='softmax'))"
   ]
  },
  {
   "cell_type": "code",
   "execution_count": 11,
   "id": "007f5398-b2d2-4246-84da-b39307f118cf",
   "metadata": {},
   "outputs": [],
   "source": [
    "model.compile(loss='categorical_crossentropy',\n",
    "              optimizer=RMSprop(),\n",
    "              metrics=['accuracy'])"
   ]
  },
  {
   "cell_type": "code",
   "execution_count": 12,
   "id": "288741ba-db12-4600-a4c4-5cf20e1fce1b",
   "metadata": {},
   "outputs": [
    {
     "name": "stdout",
     "output_type": "stream",
     "text": [
      "Epoch 1/10\n",
      "469/469 [==============================] - 4s 8ms/step - loss: 0.2295 - accuracy: 0.9290 - val_loss: 0.1207 - val_accuracy: 0.9616\n",
      "Epoch 2/10\n",
      "469/469 [==============================] - 3s 7ms/step - loss: 0.0836 - accuracy: 0.9742 - val_loss: 0.0760 - val_accuracy: 0.9774\n",
      "Epoch 3/10\n",
      "469/469 [==============================] - 3s 7ms/step - loss: 0.0533 - accuracy: 0.9829 - val_loss: 0.0733 - val_accuracy: 0.9790\n",
      "Epoch 4/10\n",
      "469/469 [==============================] - 3s 7ms/step - loss: 0.0371 - accuracy: 0.9879 - val_loss: 0.0732 - val_accuracy: 0.9791\n",
      "Epoch 5/10\n",
      "469/469 [==============================] - 3s 7ms/step - loss: 0.0272 - accuracy: 0.9913 - val_loss: 0.0799 - val_accuracy: 0.9782\n",
      "Epoch 6/10\n",
      "469/469 [==============================] - 3s 7ms/step - loss: 0.0214 - accuracy: 0.9928 - val_loss: 0.0731 - val_accuracy: 0.9806\n",
      "Epoch 7/10\n",
      "469/469 [==============================] - 3s 7ms/step - loss: 0.0164 - accuracy: 0.9946 - val_loss: 0.0768 - val_accuracy: 0.9812\n",
      "Epoch 8/10\n",
      "469/469 [==============================] - 3s 7ms/step - loss: 0.0124 - accuracy: 0.9959 - val_loss: 0.0825 - val_accuracy: 0.9822\n",
      "Epoch 9/10\n",
      "469/469 [==============================] - 3s 7ms/step - loss: 0.0089 - accuracy: 0.9970 - val_loss: 0.0784 - val_accuracy: 0.9825\n",
      "Epoch 10/10\n",
      "469/469 [==============================] - 3s 7ms/step - loss: 0.0068 - accuracy: 0.9977 - val_loss: 0.0963 - val_accuracy: 0.9804\n"
     ]
    }
   ],
   "source": [
    "history = model.fit(x_train, y_train,\n",
    "                    batch_size=128,\n",
    "                    epochs=10,\n",
    "                    verbose=1,\n",
    "                    validation_data=(x_test, y_test))"
   ]
  },
  {
   "cell_type": "markdown",
   "id": "965a48fb-a47b-43c6-9c0e-0b8dff573094",
   "metadata": {},
   "source": [
    "#### Usando o gradiente descendente normal para comparar com o RMSProp"
   ]
  },
  {
   "cell_type": "code",
   "execution_count": 13,
   "id": "cf4b7094-a4ae-4f4b-8d63-98f38a0e6206",
   "metadata": {},
   "outputs": [
    {
     "name": "stdout",
     "output_type": "stream",
     "text": [
      "Epoch 1/10\n",
      "469/469 [==============================] - 3s 6ms/step - loss: 1.0957 - accuracy: 0.7584 - val_loss: 0.5187 - val_accuracy: 0.8774\n",
      "Epoch 2/10\n",
      "469/469 [==============================] - 3s 5ms/step - loss: 0.4477 - accuracy: 0.8833 - val_loss: 0.3710 - val_accuracy: 0.9007\n",
      "Epoch 3/10\n",
      "469/469 [==============================] - 3s 6ms/step - loss: 0.3589 - accuracy: 0.9012 - val_loss: 0.3189 - val_accuracy: 0.9135\n",
      "Epoch 4/10\n",
      "469/469 [==============================] - 3s 6ms/step - loss: 0.3189 - accuracy: 0.9102 - val_loss: 0.2907 - val_accuracy: 0.9207\n",
      "Epoch 5/10\n",
      "469/469 [==============================] - 3s 6ms/step - loss: 0.2932 - accuracy: 0.9171 - val_loss: 0.2705 - val_accuracy: 0.9256\n",
      "Epoch 6/10\n",
      "469/469 [==============================] - 3s 6ms/step - loss: 0.2738 - accuracy: 0.9222 - val_loss: 0.2552 - val_accuracy: 0.9278\n",
      "Epoch 7/10\n",
      "469/469 [==============================] - 3s 6ms/step - loss: 0.2577 - accuracy: 0.9272 - val_loss: 0.2453 - val_accuracy: 0.9301\n",
      "Epoch 8/10\n",
      "469/469 [==============================] - 3s 6ms/step - loss: 0.2440 - accuracy: 0.9313 - val_loss: 0.2314 - val_accuracy: 0.9346\n",
      "Epoch 9/10\n",
      "469/469 [==============================] - 3s 6ms/step - loss: 0.2319 - accuracy: 0.9349 - val_loss: 0.2219 - val_accuracy: 0.9370\n",
      "Epoch 10/10\n",
      "469/469 [==============================] - 3s 5ms/step - loss: 0.2211 - accuracy: 0.9379 - val_loss: 0.2117 - val_accuracy: 0.9399\n"
     ]
    }
   ],
   "source": [
    "model_sgd = Sequential()\n",
    "model_sgd.add(Dense(512, activation='relu', input_shape=(28*28,)))\n",
    "model_sgd.add(Dense(512, activation='relu'))\n",
    "model_sgd.add(Dense(10, activation='softmax'))\n",
    "\n",
    "model_sgd.compile(loss='categorical_crossentropy',\n",
    "                  optimizer=SGD(),\n",
    "                  metrics=['accuracy'])\n",
    "\n",
    "history_sgd = model_sgd.fit(x_train, y_train,\n",
    "                            batch_size=128,\n",
    "                            epochs=10,\n",
    "                            verbose=1,\n",
    "                            validation_data=(x_test, y_test))"
   ]
  },
  {
   "cell_type": "code",
   "execution_count": 14,
   "id": "3abc4bca-d800-4de2-8307-36c76eccbe9d",
   "metadata": {},
   "outputs": [
    {
     "name": "stdout",
     "output_type": "stream",
     "text": [
      "RMSprop:\n",
      "Test loss: 0.09630241245031357\n",
      "Test accuracy: 0.980400025844574\n",
      "\n",
      "Vanilla Gradient Descent:\n",
      "Test loss: 0.2117099165916443\n",
      "Test accuracy: 0.9398999810218811\n"
     ]
    }
   ],
   "source": [
    "print(\"RMSprop:\")\n",
    "print(\"Test loss:\", history.history['val_loss'][-1])\n",
    "print(\"Test accuracy:\", history.history['val_accuracy'][-1])\n",
    "\n",
    "print(\"\\nVanilla Gradient Descent:\")\n",
    "print(\"Test loss:\", history_sgd.history['val_loss'][-1])\n",
    "print(\"Test accuracy:\", history_sgd.history['val_accuracy'][-1])"
   ]
  }
 ],
 "metadata": {
  "kernelspec": {
   "display_name": "Python 3 (ipykernel)",
   "language": "python",
   "name": "python3"
  },
  "language_info": {
   "codemirror_mode": {
    "name": "ipython",
    "version": 3
   },
   "file_extension": ".py",
   "mimetype": "text/x-python",
   "name": "python",
   "nbconvert_exporter": "python",
   "pygments_lexer": "ipython3",
   "version": "3.10.12"
  }
 },
 "nbformat": 4,
 "nbformat_minor": 5
}
