{
 "cells": [
  {
   "cell_type": "code",
   "execution_count": 133,
   "id": "a5f90a0a-bebf-4bbb-a482-01259d05c5a9",
   "metadata": {},
   "outputs": [
    {
     "name": "stdout",
     "output_type": "stream",
     "text": [
      "The rpy2.ipython extension is already loaded. To reload it, use:\n",
      "  %reload_ext rpy2.ipython\n"
     ]
    }
   ],
   "source": [
    "import numpy as np\n",
    "import matplotlib.pyplot as plt\n",
    "import pandas as pd\n",
    "import rpy2.robjects as ro\n",
    "from functools import partial\n",
    "from rpy2.robjects import pandas2ri\n",
    "from rpy2.robjects.packages import importr\n",
    "from rpy2.ipython import html\n",
    "html.html_rdataframe = partial(html.html_rdataframe, table_class = \"docutils\")\n",
    "%load_ext rpy2.ipython"
   ]
  },
  {
   "cell_type": "code",
   "execution_count": 134,
   "id": "59a21aaf-fb49-49dd-8e20-4fd3edaf6a26",
   "metadata": {},
   "outputs": [],
   "source": [
    "import numpy as np\n",
    "import matplotlib.pyplot as plt\n",
    "import sys\n",
    "\n",
    "\n",
    "\n",
    "def train_ELM(xin : np.ndarray, yin : np.ndarray, p : int, control : bool, lam : float) -> list:\n",
    "    n = xin.shape[1]\n",
    "    \n",
    "    if control == True:\n",
    "        Z = np.array([np.random.uniform(-0.5, 0.5) for _ in range((n + 1) * p)]).reshape(n + 1, -1)\n",
    "        ones = np.ones((xin.shape[0], 1))\n",
    "        xin = np.concatenate((xin,ones), axis = 1)\n",
    "    else:\n",
    "        Z = np.array([np.random.uniform(-0.5, 0.5) for _ in range(n * p)]).reshape(n , -1)\n",
    "\n",
    "    H = np.tanh(np.dot(xin, Z))\n",
    "    ones = np.ones((H.shape[0], 1))\n",
    "    H = np.concatenate((H, ones), axis = 1)\n",
    "\n",
    "    diagonal_matrix = lam * np.eye(H.shape[1])\n",
    "    # w = (HT H + λIp)^(-1)HT y\n",
    "    w1 = np.linalg.inv(np.dot(np.transpose(H), H) + diagonal_matrix)\n",
    "    w1 = np.linalg.inv(np.dot(np.transpose(H), H) + diagonal_matrix)\n",
    "    w = np.dot(w1, np.dot(np.transpose(H), yin))\n",
    "\n",
    "    return_list = []\n",
    "    return_list.append(w)   \n",
    "    return_list.append(H)\n",
    "    return_list.append(Z)\n",
    "    return  return_list\n",
    "\n",
    "\n",
    "\n",
    "def test_ELM(xin: np.ndarray, Z: np.ndarray, W: np.ndarray, control: bool):\n",
    "    \n",
    "    if control == True:\n",
    "        ones = np.ones((xin.shape[0], 1))\n",
    "        xin = np.concatenate((xin, ones), axis = 1)\n",
    "    H = np.tanh(np.dot(xin, Z))\n",
    "    ones = np.ones((H.shape[0], 1))\n",
    "    H = np.concatenate((H, ones), axis = 1)\n",
    "    Y_hat = np.sign(np.dot(H, W))\n",
    "    return Y_hat"
   ]
  },
  {
   "cell_type": "code",
   "execution_count": 135,
   "id": "0e7681c1-ad35-48a7-ab49-bf4aeb2d5a7a",
   "metadata": {},
   "outputs": [],
   "source": [
    "%%R\n",
    "library(mlbench)\n",
    "datasetspirals <- mlbench.spirals(100, sd = 0.05)\n",
    "XR_datasetspirals <- datasetspirals$x\n",
    "LABELSR_datasetspirals <- datasetspirals$classes"
   ]
  },
  {
   "cell_type": "code",
   "execution_count": 136,
   "id": "64947142-80f4-4296-9880-304088d0d4cd",
   "metadata": {},
   "outputs": [],
   "source": [
    "from rpy2.robjects import numpy2ri\n",
    "numpy2ri.activate()\n",
    "x_df_espirals = np.array(ro.r['XR_datasetspirals'])\n",
    "labels_df_espirals = np.array(ro.r['LABELSR_datasetspirals'])\n",
    "labels_df_espirals[labels_df_espirals == 1] = -1\n",
    "labels_df_espirals[labels_df_espirals == 2] = 1"
   ]
  },
  {
   "cell_type": "code",
   "execution_count": 137,
   "id": "b5757e45-a1b7-47b2-b780-a6fcfca134cc",
   "metadata": {},
   "outputs": [],
   "source": [
    "from sklearn.model_selection import train_test_split\n",
    "X_trainspirals, X_testspirals, y_trainspirals, y_testspirals = train_test_split(x_df_espirals, labels_df_espirals, random_state = 0, train_size = 0.7)"
   ]
  },
  {
   "cell_type": "code",
   "execution_count": null,
   "id": "d0f45d8e-ac60-4439-bf6d-78ae9912299c",
   "metadata": {},
   "outputs": [],
   "source": [
    "pspirals = 5000\n",
    "lst_errors_lam = list()\n",
    "lst_pesos_w = list()\n",
    "lam = 0\n",
    "stop = 2\n",
    "lst_lambda = list()\n",
    "while lam <= stop:\n",
    "    train_ELMspirals = train_ELM(X_trainspirals, y_trainspirals, pspirals, control = True, lam = lam)\n",
    "    wspirals = np.array(train_ELMspirals[0])\n",
    "    Hspirals = np.array(train_ELMspirals[1])\n",
    "    Zspirals = np.array(train_ELMspirals[2])\n",
    "    y_hatrainspirals = test_ELM(X_trainspirals, Zspirals, wspirals, True)\n",
    "    y_hatestspirals = test_ELM(X_testspirals, Zspirals, wspirals, True)\n",
    "\n",
    "    # Pegando os erros de treino e os erros de teste.\n",
    "    sum_result = 0\n",
    "    sum_errors = np.sum(y_trainspirals != y_hatrainspirals)\n",
    "    sum_result = sum_result + sum_errors\n",
    "    sum_errors = np.sum(y_testspirals != y_hatestspirals)\n",
    "    sum_result = sum_result + sum_errors\n",
    "    lst_errors_lam.append(sum_result)\n",
    "    \n",
    "    lst_lambda.append(lam)\n",
    "    lst_pesos_w.append(np.linalg.norm(wspirals)) # Norma do vetor w.\n",
    "    lam = lam + 0.1\n",
    "\n",
    "# Transformando as listas em arrays numpy.\n",
    "lst_errors_lam = np.array(lst_errors_lam)\n",
    "lst_lambda = np.array(lst_lambda)\n",
    "lst_pesos_w = np.array(lst_pesos_w)\n",
    "plt.plot(lst_pesos_w, lst_errors_lam, color = 'black', label = 'lst_errors_lam x lst_pesos_w')\n",
    "plt.title('data')\n",
    "plt.xlabel('lst_pesos_w')\n",
    "plt.xlim(0, 30)\n",
    "plt.ylabel('lst_errors_lam')\n",
    "plt.legend()\n",
    "plt.plot()\n"
   ]
  },
  {
   "cell_type": "code",
   "execution_count": null,
   "id": "24cf7d02-1e3c-4262-9d71-b2d4ca7d0811",
   "metadata": {},
   "outputs": [],
   "source": [
    "from sklearn import metrics\n",
    "confusion_matrix = metrics.confusion_matrix(y_trainspirals, y_hatrainspirals)\n",
    "cm_display = metrics.ConfusionMatrixDisplay(confusion_matrix = confusion_matrix, display_labels = [False, True])\n",
    "cm_display.plot()\n",
    "plt.show()\n",
    "sum_train = np.sum(y_trainspirals != y_hatrainspirals)\n",
    "print(f\"There are a total of {sum_train} errors in the train.\")"
   ]
  },
  {
   "cell_type": "code",
   "execution_count": null,
   "id": "44976391-6208-4a9a-9e2b-001c35106512",
   "metadata": {},
   "outputs": [],
   "source": [
    "confusion_matrix = metrics.confusion_matrix(y_testspirals, y_hatestspirals)\n",
    "cm_display_ = metrics.ConfusionMatrixDisplay(confusion_matrix = confusion_matrix, display_labels = [False, True])\n",
    "cm_display_.plot()\n",
    "plt.show()\n",
    "sum_test = sum(y_testspirals != y_hatestspirals)\n",
    "print(f\"There are a total of {sum_test} errors in the test.\")"
   ]
  },
  {
   "cell_type": "code",
   "execution_count": null,
   "id": "36ace178-04bd-4d63-b6db-2c8333933b09",
   "metadata": {},
   "outputs": [],
   "source": [
    "labels_df_reshaped = labels_df_espirals.reshape(-1, 1)\n",
    "mat_plot = np.concatenate((x_df_espirals, labels_df_reshaped), axis = 1)\n",
    "index_sort = 2\n",
    "sorted_indices = np.argsort(mat_plot[:, index_sort])\n",
    "mat_plot = mat_plot[sorted_indices]"
   ]
  },
  {
   "cell_type": "code",
   "execution_count": null,
   "id": "ded8adec-b98b-4b82-bc7c-d6d96331b28a",
   "metadata": {},
   "outputs": [],
   "source": [
    "np.unique(mat_plot[:, 2], return_counts = True)"
   ]
  },
  {
   "cell_type": "code",
   "execution_count": null,
   "id": "199b5615-0238-456f-b073-76367778cb18",
   "metadata": {},
   "outputs": [],
   "source": [
    "x1_points = mat_plot[: 50, 0 : 2]\n",
    "x2_points = mat_plot[50 :, 0 : 2]\n",
    "plt.scatter(x1_points[:, 0], x1_points[:, 1], color = 'red', label = 'data 1')\n",
    "plt.scatter(x2_points[:, 0], x2_points[:, 1], color = 'blue', label = 'data 2')\n",
    "plt.title('data')\n",
    "plt.xlabel('x1')\n",
    "plt.ylabel('x2')\n",
    "plt.legend()\n",
    "plt.plot()"
   ]
  },
  {
   "cell_type": "code",
   "execution_count": null,
   "id": "28d3d4c5-aa3b-4624-b50b-e64a07c43eb4",
   "metadata": {},
   "outputs": [],
   "source": [
    "seqx1x2 = np.linspace(start = -4, stop = 4, num = 300)\n",
    "np_grid = seqx1x2.shape[0]\n",
    "shape = (np_grid, np_grid)\n",
    "MZ = np.zeros(shape)\n",
    "for i in range(np_grid):\n",
    "    for j in range(np_grid):\n",
    "        x1 = seqx1x2[i]\n",
    "        x2 = seqx1x2[j]\n",
    "        x1x2 = np.column_stack((x1, x2, 1))\n",
    "        h1 = np.tanh(np.dot(x1x2, Zspirals))\n",
    "        h1 = np.column_stack((h1, np.ones_like(h1[:, 0])))\n",
    "        MZ[i, j] = np.sign(np.dot(h1, wspirals))[0]\n",
    "\n",
    "\n",
    "plt.contour(seqx1x2, seqx1x2, MZ, levels = 1)\n",
    "plt.scatter(x1_points[:, 0], x1_points[:, 1], color = 'red', label = 'data1')\n",
    "plt.scatter(x2_points[:, 0], x2_points[:, 1], color = 'blue', label = 'data2')\n",
    "plt.xlabel('x1')\n",
    "plt.ylabel('x2')\n",
    "plt.title('Contour Plot')\n",
    "plt.xlim(-2, 2)\n",
    "plt.ylim(-2, 2)\n",
    "plt.grid(True)\n",
    "plt.show()"
   ]
  }
 ],
 "metadata": {
  "kernelspec": {
   "display_name": "Python 3 (ipykernel)",
   "language": "python",
   "name": "python3"
  },
  "language_info": {
   "codemirror_mode": {
    "name": "ipython",
    "version": 3
   },
   "file_extension": ".py",
   "mimetype": "text/x-python",
   "name": "python",
   "nbconvert_exporter": "python",
   "pygments_lexer": "ipython3",
   "version": "3.10.12"
  }
 },
 "nbformat": 4,
 "nbformat_minor": 5
}
