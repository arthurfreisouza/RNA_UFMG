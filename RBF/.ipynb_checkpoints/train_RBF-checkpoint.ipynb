{
 "cells": [
  {
   "cell_type": "code",
   "execution_count": 8,
   "id": "52f11d5f-4047-45e6-8584-0a6ca1a3b2db",
   "metadata": {},
   "outputs": [],
   "source": [
    "import numpy as np\n",
    "from sklearn.cluster import KMeans"
   ]
  },
  {
   "cell_type": "code",
   "execution_count": 9,
   "id": "bec2fbf2-50b4-4f11-b79e-d0167b5a4fb6",
   "metadata": {},
   "outputs": [],
   "source": [
    "def radial_n_var(x, m, invK):\n",
    "    return exp(-0.5* (np.dot(np.transpose(arr_ - m), np.dot(invK, (x - m))))) # Formula PDF de n variaveis.\n",
    "def trainRBF(xin, yin, p : int):\n",
    "    N = xin.shape[0] # Number of samples\n",
    "    n = xin.shape[1] # Input dimension\n",
    "    xin = np.array(xin)\n",
    "    yin = np.array(yin)\n",
    "    \n",
    "    x_clusters = KMeans(n_clusters = p, random_state = 0, n_init = 'auto').fit(xin) # Relizando o cluster sobre os dados de entrada.\n",
    "    \n",
    "    m = np.array(x_clusters.cluster_centers_) # Pegando os centros de cada cluster.\n",
    "    covi = r*np.eye(n)\n",
    "    inv_covi = (1 / r)*np.eye(n)# Calculando a matriz de covariancia inversa.\n",
    "\n",
    "    # Para cada dado de entrada : \n",
    "    \n",
    "    # 1- Aplicar a radial_n_var do dado de entrada para cada uma das p centróides, e por fim, encontrar toda a matriz H.\n",
    "    # 2- Encontrar a matriz H para cada entrada em relação a cada centróide\n",
    "    # 3- Lembrar que H[j, i] representa a distancia de cada ponto J até um centroide i.\n",
    "    H = np.zeros((N,p))\n",
    "    for j in range(N):\n",
    "        for i in range(p):\n",
    "            mi = m[i,]\n",
    "            H[j, i] = radial_n_var(xin[j, ], mi, inv_covi)\n",
    "            \n",
    "    # Com a matriz H, a solução será obtida através da pseudoinversa.\n",
    "    ones = np.ones((H.shape[0], 1))\n",
    "    Haug = np.concatenate((H, ones), axis = 1)\n",
    "    W = np.linalg.pinv(Haug, yin)\n",
    "    return [m, covi, r, W, H]\n",
    "\n",
    "def y_RBF(xin, modRBF):\n",
    "    \n",
    "    N = xin.shape[0] # Number of samples\n",
    "    n = xin.shape[1] # Input dimension\n",
    "    \n",
    "    m = np.array(modRBF[0]) # Matriz das medias\n",
    "    covi = modRBF[1] # Matriz de covariâncias\n",
    "    inv_cov = (1 / modRBF[2])*np.eye(n) # Inversa da Matriz de Covariância\n",
    "    Htr = modRBF[4] # Projeção camada intermediária conjunto de treinamento.\n",
    "    p = Htr.shape[1] # Número de funções radiais (centróides ou neurônios da camada intermediária.)\n",
    "    W = modRBF[3]\n",
    "    x = np.array(xin)\n",
    "    \n",
    "    H = np.zeros((N,p))\n",
    "    for j in range(N):\n",
    "        for i in range(p):\n",
    "            mi = m[i,]\n",
    "            H[j, i] = radial_n_var(xin[j, ], mi, inv_covi)\n",
    "\n",
    "    ones = np.ones((H.shape[0], 1))\n",
    "    Haug = np.concatenate((H, ones), axis = 1)\n",
    "    Yhat = np.dot(Haug, W)# Saída da rede.\n",
    "    \n",
    "    return Yhat"
   ]
  },
  {
   "cell_type": "code",
   "execution_count": 1,
   "id": "e31e7378-5aa8-4399-b8ce-6f37123ac4b5",
   "metadata": {},
   "outputs": [
    {
     "data": {
      "text/plain": [
       "array([[1., 0., 0., 0., 0.],\n",
       "       [0., 1., 0., 0., 0.],\n",
       "       [0., 0., 1., 0., 0.],\n",
       "       [0., 0., 0., 1., 0.],\n",
       "       [0., 0., 0., 0., 1.]])"
      ]
     },
     "execution_count": 1,
     "metadata": {},
     "output_type": "execute_result"
    }
   ],
   "source": [
    "import numpy as np\n",
    "#x = np.eye(5)\n",
    "x"
   ]
  },
  {
   "cell_type": "code",
   "execution_count": null,
   "id": "fd2f5711-b301-423a-88c3-a7f6ba1bdd02",
   "metadata": {},
   "outputs": [],
   "source": [
    "seqx1x2 = np.linspace(start = -4, stop = 4, num = 300)\n",
    "np_grid = seqx1x2.shape[0]\n",
    "shape = (np_grid, np_grid)\n",
    "MZ = np.zeros(shape)\n",
    "for i in range(np_grid):\n",
    "    for j in range(np_grid):\n",
    "        x1 = seqx1x2[i]\n",
    "        x2 = seqx1x2[j]\n",
    "        x1x2 = np.column_stack((x1, x2, 1))\n",
    "        h1 = np.tanh(np.dot(x1x2, Zxor))\n",
    "        h1 = np.column_stack((h1, np.ones_like(h1[:, 0])))\n",
    "        MZ[i, j] = np.sign(np.dot(h1, wxor))[0]\n",
    "\n",
    "\n",
    "plt.contour(seqx1x2, seqx1x2, MZ, levels = 1)\n",
    "plt.scatter(x1_points[:, 0], x1_points[:, 1], color = 'red', label = 'data1')\n",
    "plt.scatter(x2_points[:, 0], x2_points[:, 1], color = 'blue', label = 'data2')\n",
    "plt.xlabel('x1')\n",
    "plt.ylabel('x2')\n",
    "plt.title('Contour Plot')\n",
    "plt.xlim(-2, 2)\n",
    "plt.ylim(-2, 2)\n",
    "plt.grid(True)\n",
    "plt.show()"
   ]
  }
 ],
 "metadata": {
  "kernelspec": {
   "display_name": "Python 3 (ipykernel)",
   "language": "python",
   "name": "python3"
  },
  "language_info": {
   "codemirror_mode": {
    "name": "ipython",
    "version": 3
   },
   "file_extension": ".py",
   "mimetype": "text/x-python",
   "name": "python",
   "nbconvert_exporter": "python",
   "pygments_lexer": "ipython3",
   "version": "3.10.12"
  }
 },
 "nbformat": 4,
 "nbformat_minor": 5
}
