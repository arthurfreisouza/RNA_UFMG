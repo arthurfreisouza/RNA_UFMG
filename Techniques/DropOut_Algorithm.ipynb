{
 "cells": [
  {
   "cell_type": "code",
   "execution_count": 46,
   "id": "6fc96042-2d25-4a25-946b-c531a28f84ea",
   "metadata": {},
   "outputs": [],
   "source": [
    "import numpy as np"
   ]
  },
  {
   "cell_type": "code",
   "execution_count": 47,
   "id": "e69dd198-2077-4d79-b1dd-57c9a2b9dd4d",
   "metadata": {},
   "outputs": [],
   "source": [
    "x = np.arange(start = 0, stop = 1, step = 0.2)"
   ]
  },
  {
   "cell_type": "code",
   "execution_count": 48,
   "id": "e621d361-0910-414e-b321-7c037da6aad5",
   "metadata": {},
   "outputs": [],
   "source": [
    "D = np.random.rand(x.shape[0], x.shape[0])"
   ]
  },
  {
   "cell_type": "code",
   "execution_count": 49,
   "id": "aa73599a-4d0f-4655-9a64-a5cfc43d063d",
   "metadata": {},
   "outputs": [
    {
     "data": {
      "text/plain": [
       "(5, 5)"
      ]
     },
     "execution_count": 49,
     "metadata": {},
     "output_type": "execute_result"
    }
   ],
   "source": [
    "D.shape"
   ]
  },
  {
   "cell_type": "code",
   "execution_count": 50,
   "id": "cf04d1e5-9b48-4e53-89b1-e88a74975886",
   "metadata": {},
   "outputs": [],
   "source": [
    "keep_rate = 0.7\n",
    "D = (D < keep_rate)"
   ]
  },
  {
   "cell_type": "code",
   "execution_count": 51,
   "id": "73760a48-4a5a-44d1-bd8a-24c553e101ff",
   "metadata": {},
   "outputs": [
    {
     "data": {
      "text/plain": [
       "array([[ True,  True, False,  True,  True],\n",
       "       [ True,  True,  True,  True,  True],\n",
       "       [ True,  True,  True,  True,  True],\n",
       "       [ True,  True,  True,  True,  True],\n",
       "       [ True,  True,  True, False,  True]])"
      ]
     },
     "execution_count": 51,
     "metadata": {},
     "output_type": "execute_result"
    }
   ],
   "source": [
    "D"
   ]
  },
  {
   "cell_type": "code",
   "execution_count": 52,
   "id": "ae710a1e-8b09-4ef3-b978-a0f9cf923132",
   "metadata": {},
   "outputs": [],
   "source": [
    "x = x * D"
   ]
  },
  {
   "cell_type": "code",
   "execution_count": 53,
   "id": "eba5024f-a4f1-41d0-b20d-5e1faa7427ac",
   "metadata": {},
   "outputs": [
    {
     "data": {
      "text/plain": [
       "array([[0. , 0.2, 0. , 0.6, 0.8],\n",
       "       [0. , 0.2, 0.4, 0.6, 0.8],\n",
       "       [0. , 0.2, 0.4, 0.6, 0.8],\n",
       "       [0. , 0.2, 0.4, 0.6, 0.8],\n",
       "       [0. , 0.2, 0.4, 0. , 0.8]])"
      ]
     },
     "execution_count": 53,
     "metadata": {},
     "output_type": "execute_result"
    }
   ],
   "source": [
    "x"
   ]
  },
  {
   "cell_type": "code",
   "execution_count": null,
   "id": "8faf007f-12e2-4806-bbdd-5eb386e729b8",
   "metadata": {},
   "outputs": [],
   "source": []
  },
  {
   "cell_type": "code",
   "execution_count": null,
   "id": "254c589b-b933-41af-8e86-1e17d6732906",
   "metadata": {},
   "outputs": [],
   "source": []
  },
  {
   "cell_type": "code",
   "execution_count": null,
   "id": "bfbc147b-1a67-48cc-aa31-f1c7ae14641c",
   "metadata": {},
   "outputs": [],
   "source": []
  },
  {
   "cell_type": "code",
   "execution_count": null,
   "id": "7df3cee3-9165-4422-8f39-7177a60773c0",
   "metadata": {},
   "outputs": [],
   "source": []
  },
  {
   "cell_type": "code",
   "execution_count": null,
   "id": "75a5c97e-641c-4f27-8f35-2e1ce2d54df8",
   "metadata": {},
   "outputs": [],
   "source": []
  }
 ],
 "metadata": {
  "kernelspec": {
   "display_name": "Python 3 (ipykernel)",
   "language": "python",
   "name": "python3"
  },
  "language_info": {
   "codemirror_mode": {
    "name": "ipython",
    "version": 3
   },
   "file_extension": ".py",
   "mimetype": "text/x-python",
   "name": "python",
   "nbconvert_exporter": "python",
   "pygments_lexer": "ipython3",
   "version": "3.10.12"
  }
 },
 "nbformat": 4,
 "nbformat_minor": 5
}
