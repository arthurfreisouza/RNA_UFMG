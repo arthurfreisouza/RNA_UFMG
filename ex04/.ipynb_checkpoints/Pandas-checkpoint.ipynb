{
 "cells": [
  {
   "cell_type": "code",
   "execution_count": 18,
   "id": "65768b36-d9a0-463a-96f1-f99b6d0df6ff",
   "metadata": {},
   "outputs": [],
   "source": [
    "import pandas as pd"
   ]
  },
  {
   "cell_type": "code",
   "execution_count": 20,
   "id": "e789ede4-6f32-4e02-94f9-cba0c7ab867c",
   "metadata": {},
   "outputs": [],
   "source": [
    "data  = [10, 20, 30, 45, 30]\n",
    "index = ['Arthur', 'Riquelme', 'Thalys', 'Thiago', 'Tieres']\n",
    "df = pd.DataFrame(pd.Series(data = data, index = index))"
   ]
  },
  {
   "cell_type": "code",
   "execution_count": 23,
   "id": "f269a2ae-7ae7-4baa-a1df-81cd0f379fde",
   "metadata": {},
   "outputs": [
    {
     "data": {
      "text/plain": [
       "Riquelme    20\n",
       "Thalys      30\n",
       "Thiago      45\n",
       "Tieres      30\n",
       "dtype: int64"
      ]
     },
     "execution_count": 23,
     "metadata": {},
     "output_type": "execute_result"
    }
   ],
   "source": [
    "df"
   ]
  },
  {
   "cell_type": "code",
   "execution_count": 25,
   "id": "e300c1f8-24d2-4612-b249-4a9f8219a401",
   "metadata": {},
   "outputs": [],
   "source": [
    "new_data = ['A', 'B', 'C', 'D', 'E']\n",
    "df['new_col'] = new_data"
   ]
  },
  {
   "cell_type": "code",
   "execution_count": 27,
   "id": "bfb34184-0afb-48b4-8059-8614fabaec82",
   "metadata": {},
   "outputs": [
    {
     "data": {
      "text/plain": [
       "Riquelme              20\n",
       "Thalys                30\n",
       "Thiago                45\n",
       "Tieres                30\n",
       "new_col     [A, B, C, D]\n",
       "dtype: object"
      ]
     },
     "execution_count": 27,
     "metadata": {},
     "output_type": "execute_result"
    }
   ],
   "source": [
    "df"
   ]
  },
  {
   "cell_type": "code",
   "execution_count": 28,
   "id": "a8c2ba82-5827-4e4a-a809-4ae486055662",
   "metadata": {},
   "outputs": [
    {
     "name": "stdout",
     "output_type": "stream",
     "text": [
      "   A  B  C\n",
      "0  1  4  7\n",
      "1  2  5  8\n",
      "2  3  6  9\n"
     ]
    }
   ],
   "source": [
    "import pandas as pd\n",
    "\n",
    "# Criar um DataFrame de exemplo\n",
    "data = {'A': [1, 2, 3],\n",
    "        'B': [4, 5, 6]}\n",
    "df = pd.DataFrame(data)\n",
    "\n",
    "# Adicionar uma nova coluna 'C'\n",
    "new_column_data = [7, 8, 9]  # Dados para a nova coluna\n",
    "df['C'] = new_column_data\n",
    "\n",
    "print(df)\n"
   ]
  }
 ],
 "metadata": {
  "kernelspec": {
   "display_name": "Python 3 (ipykernel)",
   "language": "python",
   "name": "python3"
  },
  "language_info": {
   "codemirror_mode": {
    "name": "ipython",
    "version": 3
   },
   "file_extension": ".py",
   "mimetype": "text/x-python",
   "name": "python",
   "nbconvert_exporter": "python",
   "pygments_lexer": "ipython3",
   "version": "3.10.12"
  }
 },
 "nbformat": 4,
 "nbformat_minor": 5
}
