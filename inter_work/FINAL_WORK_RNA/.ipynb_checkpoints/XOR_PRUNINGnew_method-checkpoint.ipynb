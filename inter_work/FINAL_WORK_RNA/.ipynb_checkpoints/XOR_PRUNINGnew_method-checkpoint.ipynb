{
 "cells": [
  {
   "cell_type": "code",
   "execution_count": 1,
   "id": "839ea7e8-6711-4724-9012-329bae77db6a",
   "metadata": {},
   "outputs": [],
   "source": [
    "import numpy as np\n",
    "import matplotlib.pyplot as plt\n",
    "import pandas as pd\n",
    "import rpy2.robjects as ro\n",
    "from functools import partial\n",
    "from rpy2.robjects import pandas2ri\n",
    "from rpy2.robjects.packages import importr\n",
    "from rpy2.ipython import html\n",
    "html.html_rdataframe = partial(html.html_rdataframe, table_class = \"docutils\")\n",
    "%load_ext rpy2.ipython\n",
    "import techniques"
   ]
  },
  {
   "cell_type": "code",
   "execution_count": 2,
   "id": "476f874a-bc1a-4c94-a37a-bb1b4d708b66",
   "metadata": {},
   "outputs": [
    {
     "data": {
      "text/plain": [
       "In addition: Warning message:\n",
       "In (function (package, help, pos = 2, lib.loc = NULL, character.only = FALSE,  :\n",
       "  library ‘/usr/lib/R/site-library’ contains no packages\n"
      ]
     },
     "metadata": {},
     "output_type": "display_data"
    }
   ],
   "source": [
    "%%R\n",
    "library(mlbench)\n",
    "datasetxor <- mlbench.xor(300)\n",
    "XR_datasetxor <- datasetxor$x\n",
    "LABELSR_datasetxor<- datasetxor$classes"
   ]
  },
  {
   "cell_type": "code",
   "execution_count": 3,
   "id": "df5a3eab-a236-42c4-93e5-887a1536549b",
   "metadata": {},
   "outputs": [],
   "source": [
    "from rpy2.robjects import numpy2ri\n",
    "numpy2ri.activate()\n",
    "x_df_xor = np.array(ro.r['XR_datasetxor'])\n",
    "labels_df_xor = np.array(ro.r['LABELSR_datasetxor'])\n",
    "labels_df_xor[labels_df_xor == 1] = -1\n",
    "labels_df_xor[labels_df_xor == 2] = 1"
   ]
  },
  {
   "cell_type": "code",
   "execution_count": 4,
   "id": "94b12c21-8dd7-404f-b5ee-c2dc25a5bb96",
   "metadata": {},
   "outputs": [
    {
     "name": "stdout",
     "output_type": "stream",
     "text": [
      "(31, 1)\n"
     ]
    }
   ],
   "source": [
    "a = np.arange(start = 0, stop = 31, step = 1)\n",
    "b = np.arange(start = 0, stop = 31, step = 1).reshape(-1, 1)\n",
    "\n",
    "try:\n",
    "    if a.shape[1] == 1:\n",
    "        pass\n",
    "except IndexError:\n",
    "    a = a.reshape(-1, 1)\n",
    "print(a.shape)"
   ]
  },
  {
   "cell_type": "code",
   "execution_count": 5,
   "id": "54203012-ede4-42b4-8823-193a64a765b5",
   "metadata": {},
   "outputs": [
    {
     "name": "stdout",
     "output_type": "stream",
     "text": [
      "inpt_outptlayer : (31, 1)\n"
     ]
    },
    {
     "ename": "ValueError",
     "evalue": "shapes (31,1) and (31,1) not aligned: 1 (dim 1) != 31 (dim 0)",
     "output_type": "error",
     "traceback": [
      "\u001b[0;31m---------------------------------------------------------------------------\u001b[0m",
      "\u001b[0;31mValueError\u001b[0m                                Traceback (most recent call last)",
      "Cell \u001b[0;32mIn[5], line 4\u001b[0m\n\u001b[1;32m      2\u001b[0m p_n \u001b[38;5;241m=\u001b[39m \u001b[38;5;241m30\u001b[39m\n\u001b[1;32m      3\u001b[0m k_rate \u001b[38;5;241m=\u001b[39m np\u001b[38;5;241m.\u001b[39marange(start \u001b[38;5;241m=\u001b[39m \u001b[38;5;241m0.4\u001b[39m, stop \u001b[38;5;241m=\u001b[39m \u001b[38;5;241m0.99\u001b[39m, step \u001b[38;5;241m=\u001b[39m \u001b[38;5;241m0.01\u001b[39m)\n\u001b[0;32m----> 4\u001b[0m best_keep, best_acc \u001b[38;5;241m=\u001b[39m \u001b[43mtechniques\u001b[49m\u001b[38;5;241;43m.\u001b[39;49m\u001b[43mgrid_searchCV_pruning\u001b[49m\u001b[43m(\u001b[49m\u001b[43mxin\u001b[49m\u001b[43m \u001b[49m\u001b[38;5;241;43m=\u001b[39;49m\u001b[43m \u001b[49m\u001b[43mx_df_xor\u001b[49m\u001b[43m,\u001b[49m\u001b[43m \u001b[49m\u001b[43myin\u001b[49m\u001b[43m \u001b[49m\u001b[38;5;241;43m=\u001b[39;49m\u001b[43m \u001b[49m\u001b[43mlabels_df_xor\u001b[49m\u001b[43m,\u001b[49m\u001b[43m \u001b[49m\u001b[43mp\u001b[49m\u001b[43m \u001b[49m\u001b[38;5;241;43m=\u001b[39;49m\u001b[43m \u001b[49m\u001b[43mp_n\u001b[49m\u001b[43m,\u001b[49m\u001b[43m \u001b[49m\u001b[43mkeep_rate\u001b[49m\u001b[43m \u001b[49m\u001b[38;5;241;43m=\u001b[39;49m\u001b[43m \u001b[49m\u001b[43mk_rate\u001b[49m\u001b[43m,\u001b[49m\u001b[43m \u001b[49m\u001b[43mCV_groups\u001b[49m\u001b[43m \u001b[49m\u001b[38;5;241;43m=\u001b[39;49m\u001b[43m \u001b[49m\u001b[38;5;241;43m10\u001b[39;49m\u001b[43m)\u001b[49m\n",
      "File \u001b[0;32m~/Desktop/FINAL_WORK_RNA/techniques.py:195\u001b[0m, in \u001b[0;36mgrid_searchCV_pruning\u001b[0;34m(xin, yin, p, keep_rate, CV_groups)\u001b[0m\n\u001b[1;32m    193\u001b[0m arr_acc \u001b[38;5;241m=\u001b[39m np\u001b[38;5;241m.\u001b[39mzeros(keep_rate\u001b[38;5;241m.\u001b[39mshape[\u001b[38;5;241m0\u001b[39m])\n\u001b[1;32m    194\u001b[0m \u001b[38;5;28;01mfor\u001b[39;00m index, value \u001b[38;5;129;01min\u001b[39;00m \u001b[38;5;28menumerate\u001b[39m(keep_rate):\n\u001b[0;32m--> 195\u001b[0m     arr_acc[index] \u001b[38;5;241m=\u001b[39m \u001b[43mcross_validation_pruning\u001b[49m\u001b[43m(\u001b[49m\u001b[43mxin\u001b[49m\u001b[43m \u001b[49m\u001b[38;5;241;43m=\u001b[39;49m\u001b[43m \u001b[49m\u001b[43mxin\u001b[49m\u001b[43m,\u001b[49m\u001b[43m \u001b[49m\u001b[43myin\u001b[49m\u001b[43m \u001b[49m\u001b[38;5;241;43m=\u001b[39;49m\u001b[43m \u001b[49m\u001b[43myin\u001b[49m\u001b[43m,\u001b[49m\u001b[43m \u001b[49m\u001b[43mp\u001b[49m\u001b[43m \u001b[49m\u001b[38;5;241;43m=\u001b[39;49m\u001b[43m \u001b[49m\u001b[43mp\u001b[49m\u001b[43m,\u001b[49m\u001b[43m \u001b[49m\u001b[43mk_rate\u001b[49m\u001b[43m \u001b[49m\u001b[38;5;241;43m=\u001b[39;49m\u001b[43m \u001b[49m\u001b[43mvalue\u001b[49m\u001b[43m,\u001b[49m\u001b[43m \u001b[49m\u001b[43mCV_groups\u001b[49m\u001b[43m \u001b[49m\u001b[38;5;241;43m=\u001b[39;49m\u001b[43m \u001b[49m\u001b[43mCV_groups\u001b[49m\u001b[43m)\u001b[49m\n\u001b[1;32m    196\u001b[0m     arr_krate[index] \u001b[38;5;241m=\u001b[39m value\n\u001b[1;32m    197\u001b[0m     \u001b[38;5;66;03m#print(f\"The model accuracy : {arr_acc[index]}, using lam : {arr_lam[index]}\\n\")\u001b[39;00m\n",
      "File \u001b[0;32m~/Desktop/FINAL_WORK_RNA/techniques.py:235\u001b[0m, in \u001b[0;36mcross_validation_pruning\u001b[0;34m(xin, yin, p, k_rate, CV_groups)\u001b[0m\n\u001b[1;32m    231\u001b[0m     test_data \u001b[38;5;241m=\u001b[39m data[i\u001b[38;5;241m*\u001b[39msize_group : (i \u001b[38;5;241m+\u001b[39m \u001b[38;5;241m1\u001b[39m)\u001b[38;5;241m*\u001b[39msize_group, : ]\n\u001b[1;32m    233\u001b[0m \u001b[38;5;66;03m# Treinando e testando.\u001b[39;00m\n\u001b[1;32m    234\u001b[0m \u001b[38;5;66;03m#ret_ = train_ELM_PRUNING(xin = train_data[:, : train_data.shape[1] - 1], yin = train_data[:, train_data.shape[1] - 1], p = p, control = True, keep_rate = k_rate)\u001b[39;00m\n\u001b[0;32m--> 235\u001b[0m ret_ \u001b[38;5;241m=\u001b[39m \u001b[43mtrain_ELM_PRUNING_new_method\u001b[49m\u001b[43m(\u001b[49m\u001b[43mxin\u001b[49m\u001b[43m \u001b[49m\u001b[38;5;241;43m=\u001b[39;49m\u001b[43m \u001b[49m\u001b[43mtrain_data\u001b[49m\u001b[43m[\u001b[49m\u001b[43m:\u001b[49m\u001b[43m,\u001b[49m\u001b[43m \u001b[49m\u001b[43m:\u001b[49m\u001b[43m \u001b[49m\u001b[43mtrain_data\u001b[49m\u001b[38;5;241;43m.\u001b[39;49m\u001b[43mshape\u001b[49m\u001b[43m[\u001b[49m\u001b[38;5;241;43m1\u001b[39;49m\u001b[43m]\u001b[49m\u001b[43m \u001b[49m\u001b[38;5;241;43m-\u001b[39;49m\u001b[43m \u001b[49m\u001b[38;5;241;43m1\u001b[39;49m\u001b[43m]\u001b[49m\u001b[43m,\u001b[49m\u001b[43m \u001b[49m\u001b[43myin\u001b[49m\u001b[43m \u001b[49m\u001b[38;5;241;43m=\u001b[39;49m\u001b[43m \u001b[49m\u001b[43mtrain_data\u001b[49m\u001b[43m[\u001b[49m\u001b[43m:\u001b[49m\u001b[43m,\u001b[49m\u001b[43m \u001b[49m\u001b[43mtrain_data\u001b[49m\u001b[38;5;241;43m.\u001b[39;49m\u001b[43mshape\u001b[49m\u001b[43m[\u001b[49m\u001b[38;5;241;43m1\u001b[39;49m\u001b[43m]\u001b[49m\u001b[43m \u001b[49m\u001b[38;5;241;43m-\u001b[39;49m\u001b[43m \u001b[49m\u001b[38;5;241;43m1\u001b[39;49m\u001b[43m]\u001b[49m\u001b[43m,\u001b[49m\u001b[43m \u001b[49m\u001b[43mp\u001b[49m\u001b[43m \u001b[49m\u001b[38;5;241;43m=\u001b[39;49m\u001b[43m \u001b[49m\u001b[43mp\u001b[49m\u001b[43m,\u001b[49m\u001b[43m \u001b[49m\u001b[43mcontrol\u001b[49m\u001b[43m \u001b[49m\u001b[38;5;241;43m=\u001b[39;49m\u001b[43m \u001b[49m\u001b[38;5;28;43;01mTrue\u001b[39;49;00m\u001b[43m,\u001b[49m\u001b[43m \u001b[49m\u001b[43mkeep_rate\u001b[49m\u001b[43m \u001b[49m\u001b[38;5;241;43m=\u001b[39;49m\u001b[43m \u001b[49m\u001b[43mk_rate\u001b[49m\u001b[43m)\u001b[49m\n\u001b[1;32m    237\u001b[0m W_CV \u001b[38;5;241m=\u001b[39m ret_[\u001b[38;5;241m0\u001b[39m]\n\u001b[1;32m    238\u001b[0m H_CV \u001b[38;5;241m=\u001b[39m ret_[\u001b[38;5;241m1\u001b[39m]\n",
      "File \u001b[0;32m~/Desktop/FINAL_WORK_RNA/techniques.py:366\u001b[0m, in \u001b[0;36mtrain_ELM_PRUNING_new_method\u001b[0;34m(xin, yin, p, keep_rate, control)\u001b[0m\n\u001b[1;32m    364\u001b[0m     inpt_outp_layer \u001b[38;5;241m=\u001b[39m inpt_outp_layer\u001b[38;5;241m.\u001b[39mreshape(\u001b[38;5;241m-\u001b[39m\u001b[38;5;241m1\u001b[39m, \u001b[38;5;241m1\u001b[39m)\n\u001b[1;32m    365\u001b[0m \u001b[38;5;28mprint\u001b[39m(\u001b[38;5;124mf\u001b[39m\u001b[38;5;124m\"\u001b[39m\u001b[38;5;124minpt_outptlayer : \u001b[39m\u001b[38;5;132;01m{\u001b[39;00minpt_outp_layer\u001b[38;5;241m.\u001b[39mshape\u001b[38;5;132;01m}\u001b[39;00m\u001b[38;5;124m\"\u001b[39m)\n\u001b[0;32m--> 366\u001b[0m y_net \u001b[38;5;241m=\u001b[39m \u001b[43mnp\u001b[49m\u001b[38;5;241;43m.\u001b[39;49m\u001b[43mdot\u001b[49m\u001b[43m(\u001b[49m\u001b[43minpt_outp_layer\u001b[49m\u001b[43m,\u001b[49m\u001b[43m \u001b[49m\u001b[43mw\u001b[49m\u001b[43m)\u001b[49m\n\u001b[1;32m    367\u001b[0m \u001b[38;5;28mprint\u001b[39m(\u001b[38;5;124mf\u001b[39m\u001b[38;5;124m\"\u001b[39m\u001b[38;5;124mynet : \u001b[39m\u001b[38;5;132;01m{\u001b[39;00my_net\u001b[38;5;241m.\u001b[39mshape\u001b[38;5;132;01m}\u001b[39;00m\u001b[38;5;124m\"\u001b[39m)\n\u001b[1;32m    369\u001b[0m err \u001b[38;5;241m=\u001b[39m (yin[i, :] \u001b[38;5;241m-\u001b[39m y_net)\n",
      "\u001b[0;31mValueError\u001b[0m: shapes (31,1) and (31,1) not aligned: 1 (dim 1) != 31 (dim 0)"
     ]
    }
   ],
   "source": [
    "#p_n = int(await input(\"Type how many neurons do you want to use in the hidden layer : \"))\n",
    "p_n = 30\n",
    "k_rate = np.arange(start = 0.4, stop = 0.99, step = 0.01)\n",
    "best_keep, best_acc = techniques.grid_searchCV_pruning(xin = x_df_xor, yin = labels_df_xor, p = p_n, keep_rate = k_rate, CV_groups = 10)"
   ]
  },
  {
   "cell_type": "code",
   "execution_count": null,
   "id": "23d93409-9d9c-49fe-bec7-380e558dd6f9",
   "metadata": {},
   "outputs": [],
   "source": [
    "from sklearn.model_selection import train_test_split\n",
    "X_train, X_test, y_train, y_test = train_test_split(x_df_xor, labels_df_xor, random_state = 0, train_size = 0.8)"
   ]
  },
  {
   "cell_type": "code",
   "execution_count": null,
   "id": "47e08f11-1141-4d8a-a044-8e7b482bf6d9",
   "metadata": {},
   "outputs": [],
   "source": [
    "ret = techniques.train_ELM_PRUNING_new_method(xin = X_train, yin = y_train, p = p_n, keep_rate = best_keep, control = True)\n",
    "best_w = ret[0]\n",
    "best_h = ret[1]\n",
    "best_z = ret[2]"
   ]
  },
  {
   "cell_type": "code",
   "execution_count": null,
   "id": "e82941cb-f2cb-4722-b7cc-56d594855387",
   "metadata": {},
   "outputs": [],
   "source": [
    "best_w"
   ]
  },
  {
   "cell_type": "code",
   "execution_count": null,
   "id": "f44a8440-7f7e-4d61-9f5d-66b3adafef72",
   "metadata": {},
   "outputs": [],
   "source": [
    "labels_df_reshaped = labels_df_xor.reshape(-1, 1)\n",
    "mat_plot = np.concatenate((x_df_xor, labels_df_reshaped), axis = 1)\n",
    "index_sort = 2\n",
    "sorted_indices = np.argsort(mat_plot[:, index_sort])\n",
    "mat_plot = mat_plot[sorted_indices]"
   ]
  },
  {
   "cell_type": "code",
   "execution_count": null,
   "id": "9cea2ab5-fa57-45f6-a339-85a570a4a91b",
   "metadata": {},
   "outputs": [],
   "source": [
    "seqx1x2 = np.linspace(start = -4, stop = 4, num = 300)\n",
    "np_grid = seqx1x2.shape[0]\n",
    "shape = (np_grid, np_grid)\n",
    "MZ = np.zeros(shape)\n",
    "for i in range(np_grid):\n",
    "    for j in range(np_grid):seqx1x2 = np.linspace(start = -4, stop = 4, num = 300)\n",
    "np_grid = seqx1x2.shape[0]\n",
    "shape = (np_grid, np_grid)\n",
    "MZ = np.zeros(shape)\n",
    "for i in range(np_grid):\n",
    "    for j in range(np_grid):\n",
    "        x1 = seqx1x2[i]\n",
    "        x2 = seqx1x2[j]\n",
    "        x1x2 = np.column_stack((x1, x2, 1))\n",
    "        h1 = np.tanh(np.dot(x1x2, best_z))\n",
    "        h1 = np.column_stack((h1, np.ones_like(h1[:, 0])))\n",
    "        MZ[i, j] = np.sign(np.dot(h1, best_w))[0]\n",
    "\n",
    "x1_points = mat_plot[: 150, 0 : 2]\n",
    "x2_points = mat_plot[150 :, 0 : 2]\n",
    "plt.contour(seqx1x2, seqx1x2, MZ, levels = 1)\n",
    "plt.scatter(x1_points[:, 0], x1_points[:, 1], color = 'red', label = 'data1')\n",
    "plt.scatter(x2_points[:, 0], x2_points[:, 1], color = 'blue', label = 'data2')\n",
    "plt.xlabel('x1')\n",
    "plt.ylabel('x2')\n",
    "plt.title('Contour Plot')\n",
    "plt.xlim(-2, 2)\n",
    "plt.ylim(-2, 2)\n",
    "plt.grid(True)\n",
    "plt.show()"
   ]
  },
  {
   "cell_type": "code",
   "execution_count": null,
   "id": "a4369183-6e7f-4313-aeea-2981a9aa6ee7",
   "metadata": {},
   "outputs": [],
   "source": [
    "plt.imshow(MZ)\n",
    "plt.title(\"Superfície de separação\")"
   ]
  },
  {
   "cell_type": "code",
   "execution_count": null,
   "id": "8e07b944-3ef1-406f-8116-d5b1e7473bc0",
   "metadata": {},
   "outputs": [],
   "source": []
  },
  {
   "cell_type": "code",
   "execution_count": null,
   "id": "c44f88f6-bd78-48be-aeee-9fa2bcd351bd",
   "metadata": {},
   "outputs": [],
   "source": []
  },
  {
   "cell_type": "code",
   "execution_count": null,
   "id": "949dbf08-2e2b-4706-9d2f-fccb623b08f4",
   "metadata": {},
   "outputs": [],
   "source": [
    "    \n",
    "if (num_epoch % size_epoch_prun) == 0:\n",
    "    for j in range(N_col_W): # Removendo os pesos menos relevantes da camada de saída.\n",
    "        N_dropped_neurons = int(np.ceil((1 - keep_rate) * w[:, j].shape[0])) # Pegando o número de neurônios que serão dropados.\n",
    "        idx = np.array(np.argsort(np.abs(w[:, j]))) # Pegandos os índices dos neurônios que serão dropados.\n",
    "        lowest_val = idx[:N_dropped_neurons]\n",
    "        for k in lowest_val: # Zerando os pesos menos relevantes.\n",
    "            w[k, j] = 0"
   ]
  },
  {
   "cell_type": "code",
   "execution_count": null,
   "id": "fae4e129-f001-4855-896b-8e29d0b50160",
   "metadata": {},
   "outputs": [],
   "source": [
    "for k in (1,2,3):\n",
    "    print(k)"
   ]
  },
  {
   "cell_type": "code",
   "execution_count": null,
   "id": "3e2cc05e-e3bb-4e65-bfcb-93f13dc4a805",
   "metadata": {},
   "outputs": [],
   "source": []
  },
  {
   "cell_type": "code",
   "execution_count": null,
   "id": "aca9fd66-46a8-4c12-841b-1d65bf037336",
   "metadata": {},
   "outputs": [],
   "source": [
    "    ####################### LOGICA PRA W ############################################\n",
    "    tol = 0.3\n",
    "    num_epoch = 0\n",
    "    max_epoch = 100\n",
    "    err_epoch = tol + 1 \n",
    "    eta = 0.01\n",
    "    N = xin.shape[0]\n",
    "    n_pruning = 10\n",
    "    size_epoch_prun = max_epoch / n_pruning\n",
    "    ################################# INICIALIZANDO OS PESOS DE W ALEATORIAMENTE #################\n",
    "    try:\n",
    "        if yin.shape[1] == 1:\n",
    "            pass\n",
    "    except IndexError:\n",
    "        yin = yin.reshape(-1, 1)\n",
    "\n",
    "    w = np.random.random(size = (p + 1)*yin.shape[1]).reshape(p + 1, yin.shape[1]) - 0.5\n",
    "\n",
    "    N_col_W = yin.shape[1]\n",
    "\n",
    "    while((num_epoch < max_epoch) and (err_epoch > tol)):\n",
    "        sequence = np.arange(start = 0, stop = N, step = 1).tolist()\n",
    "        #print(N, len(sequence))\n",
    "        seq_randomized = random.sample(population = sequence, k = N)\n",
    "        \n",
    "        for i in range(N):\n",
    "            aux = i\n",
    "            rand_input = seq_randomized[i]\n",
    "            inpt_outp_layer = H[rand_input, :]\n",
    "            y_net = np.dot(inpt_outp_layer, w)\n",
    "            err = (yin[i, :] - y_net)\n",
    "            w = w + eta*err*inpt_outp_layer\n",
    "\n",
    "            if (num_epoch % size_epoch_prun) == 0:\n",
    "                for j in range(N_col_W): # Removendo os pesos menos relevantes da camada de saída.\n",
    "                    N_dropped_neurons = int(np.ceil((1 - keep_rate) * w[:, j].shape[0])) # Pegando o número de neurônios que serão dropados.\n",
    "                    idx = np.array(np.argsort(np.abs(w[:, i]))) # Pegandos os índices dos neurônios que serão dropados.\n",
    "                    lowest_val = idx[:N_dropped_neurons]\n",
    "                    for k in lowest_val: # Zerando os pesos menos relevantes.\n",
    "                        w[k, j] = 0\n",
    "                    \n",
    "        num_epoch = num_epoch + 1   "
   ]
  }
 ],
 "metadata": {
  "kernelspec": {
   "display_name": "Python 3 (ipykernel)",
   "language": "python",
   "name": "python3"
  },
  "language_info": {
   "codemirror_mode": {
    "name": "ipython",
    "version": 3
   },
   "file_extension": ".py",
   "mimetype": "text/x-python",
   "name": "python",
   "nbconvert_exporter": "python",
   "pygments_lexer": "ipython3",
   "version": "3.10.12"
  },
  "widgets": {
   "application/vnd.jupyter.widget-state+json": {
    "state": {},
    "version_major": 2,
    "version_minor": 0
   }
  }
 },
 "nbformat": 4,
 "nbformat_minor": 5
}
