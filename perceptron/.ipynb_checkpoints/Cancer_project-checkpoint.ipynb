{
 "cells": [
  {
   "cell_type": "code",
   "execution_count": 161,
   "id": "645a4fb5-fa6c-4c11-ba23-a6b51f65e023",
   "metadata": {},
   "outputs": [],
   "source": [
    "import pandas as pd\n",
    "import numpy as np\n",
    "import matplotlib.pyplot as plt\n",
    "import sys"
   ]
  },
  {
   "cell_type": "markdown",
   "id": "f5987e49-0b1b-44fe-9b52-ce98de1b20de",
   "metadata": {},
   "source": [
    "##### Lendo o dataset e alterando o nome das colunas, visto que não é 1 dataset nativo de python."
   ]
  },
  {
   "cell_type": "code",
   "execution_count": 162,
   "id": "c931a527-9413-4b1f-94ed-daf2f4afd904",
   "metadata": {},
   "outputs": [
    {
     "data": {
      "text/html": [
       "<div>\n",
       "<style scoped>\n",
       "    .dataframe tbody tr th:only-of-type {\n",
       "        vertical-align: middle;\n",
       "    }\n",
       "\n",
       "    .dataframe tbody tr th {\n",
       "        vertical-align: top;\n",
       "    }\n",
       "\n",
       "    .dataframe thead th {\n",
       "        text-align: right;\n",
       "    }\n",
       "</style>\n",
       "<table border=\"1\" class=\"dataframe\">\n",
       "  <thead>\n",
       "    <tr style=\"text-align: right;\">\n",
       "      <th></th>\n",
       "      <th>id</th>\n",
       "      <th>x1</th>\n",
       "      <th>x2</th>\n",
       "      <th>x3</th>\n",
       "      <th>x4</th>\n",
       "      <th>x5</th>\n",
       "      <th>x6</th>\n",
       "      <th>x7</th>\n",
       "      <th>x8</th>\n",
       "      <th>x9</th>\n",
       "      <th>label</th>\n",
       "    </tr>\n",
       "  </thead>\n",
       "  <tbody>\n",
       "    <tr>\n",
       "      <th>0</th>\n",
       "      <td>1000025</td>\n",
       "      <td>5</td>\n",
       "      <td>1</td>\n",
       "      <td>1</td>\n",
       "      <td>1</td>\n",
       "      <td>2</td>\n",
       "      <td>1</td>\n",
       "      <td>3</td>\n",
       "      <td>1</td>\n",
       "      <td>1</td>\n",
       "      <td>2</td>\n",
       "    </tr>\n",
       "    <tr>\n",
       "      <th>1</th>\n",
       "      <td>1002945</td>\n",
       "      <td>5</td>\n",
       "      <td>4</td>\n",
       "      <td>4</td>\n",
       "      <td>5</td>\n",
       "      <td>7</td>\n",
       "      <td>10</td>\n",
       "      <td>3</td>\n",
       "      <td>2</td>\n",
       "      <td>1</td>\n",
       "      <td>2</td>\n",
       "    </tr>\n",
       "    <tr>\n",
       "      <th>2</th>\n",
       "      <td>1015425</td>\n",
       "      <td>3</td>\n",
       "      <td>1</td>\n",
       "      <td>1</td>\n",
       "      <td>1</td>\n",
       "      <td>2</td>\n",
       "      <td>2</td>\n",
       "      <td>3</td>\n",
       "      <td>1</td>\n",
       "      <td>1</td>\n",
       "      <td>2</td>\n",
       "    </tr>\n",
       "    <tr>\n",
       "      <th>3</th>\n",
       "      <td>1016277</td>\n",
       "      <td>6</td>\n",
       "      <td>8</td>\n",
       "      <td>8</td>\n",
       "      <td>1</td>\n",
       "      <td>3</td>\n",
       "      <td>4</td>\n",
       "      <td>3</td>\n",
       "      <td>7</td>\n",
       "      <td>1</td>\n",
       "      <td>2</td>\n",
       "    </tr>\n",
       "    <tr>\n",
       "      <th>4</th>\n",
       "      <td>1017023</td>\n",
       "      <td>4</td>\n",
       "      <td>1</td>\n",
       "      <td>1</td>\n",
       "      <td>3</td>\n",
       "      <td>2</td>\n",
       "      <td>1</td>\n",
       "      <td>3</td>\n",
       "      <td>1</td>\n",
       "      <td>1</td>\n",
       "      <td>2</td>\n",
       "    </tr>\n",
       "    <tr>\n",
       "      <th>...</th>\n",
       "      <td>...</td>\n",
       "      <td>...</td>\n",
       "      <td>...</td>\n",
       "      <td>...</td>\n",
       "      <td>...</td>\n",
       "      <td>...</td>\n",
       "      <td>...</td>\n",
       "      <td>...</td>\n",
       "      <td>...</td>\n",
       "      <td>...</td>\n",
       "      <td>...</td>\n",
       "    </tr>\n",
       "    <tr>\n",
       "      <th>694</th>\n",
       "      <td>776715</td>\n",
       "      <td>3</td>\n",
       "      <td>1</td>\n",
       "      <td>1</td>\n",
       "      <td>1</td>\n",
       "      <td>3</td>\n",
       "      <td>2</td>\n",
       "      <td>1</td>\n",
       "      <td>1</td>\n",
       "      <td>1</td>\n",
       "      <td>2</td>\n",
       "    </tr>\n",
       "    <tr>\n",
       "      <th>695</th>\n",
       "      <td>841769</td>\n",
       "      <td>2</td>\n",
       "      <td>1</td>\n",
       "      <td>1</td>\n",
       "      <td>1</td>\n",
       "      <td>2</td>\n",
       "      <td>1</td>\n",
       "      <td>1</td>\n",
       "      <td>1</td>\n",
       "      <td>1</td>\n",
       "      <td>2</td>\n",
       "    </tr>\n",
       "    <tr>\n",
       "      <th>696</th>\n",
       "      <td>888820</td>\n",
       "      <td>5</td>\n",
       "      <td>10</td>\n",
       "      <td>10</td>\n",
       "      <td>3</td>\n",
       "      <td>7</td>\n",
       "      <td>3</td>\n",
       "      <td>8</td>\n",
       "      <td>10</td>\n",
       "      <td>2</td>\n",
       "      <td>4</td>\n",
       "    </tr>\n",
       "    <tr>\n",
       "      <th>697</th>\n",
       "      <td>897471</td>\n",
       "      <td>4</td>\n",
       "      <td>8</td>\n",
       "      <td>6</td>\n",
       "      <td>4</td>\n",
       "      <td>3</td>\n",
       "      <td>4</td>\n",
       "      <td>10</td>\n",
       "      <td>6</td>\n",
       "      <td>1</td>\n",
       "      <td>4</td>\n",
       "    </tr>\n",
       "    <tr>\n",
       "      <th>698</th>\n",
       "      <td>897471</td>\n",
       "      <td>4</td>\n",
       "      <td>8</td>\n",
       "      <td>8</td>\n",
       "      <td>5</td>\n",
       "      <td>4</td>\n",
       "      <td>5</td>\n",
       "      <td>10</td>\n",
       "      <td>4</td>\n",
       "      <td>1</td>\n",
       "      <td>4</td>\n",
       "    </tr>\n",
       "  </tbody>\n",
       "</table>\n",
       "<p>699 rows × 11 columns</p>\n",
       "</div>"
      ],
      "text/plain": [
       "          id  x1  x2  x3  x4  x5  x6  x7  x8  x9  label\n",
       "0    1000025   5   1   1   1   2   1   3   1   1      2\n",
       "1    1002945   5   4   4   5   7  10   3   2   1      2\n",
       "2    1015425   3   1   1   1   2   2   3   1   1      2\n",
       "3    1016277   6   8   8   1   3   4   3   7   1      2\n",
       "4    1017023   4   1   1   3   2   1   3   1   1      2\n",
       "..       ...  ..  ..  ..  ..  ..  ..  ..  ..  ..    ...\n",
       "694   776715   3   1   1   1   3   2   1   1   1      2\n",
       "695   841769   2   1   1   1   2   1   1   1   1      2\n",
       "696   888820   5  10  10   3   7   3   8  10   2      4\n",
       "697   897471   4   8   6   4   3   4  10   6   1      4\n",
       "698   897471   4   8   8   5   4   5  10   4   1      4\n",
       "\n",
       "[699 rows x 11 columns]"
      ]
     },
     "execution_count": 162,
     "metadata": {},
     "output_type": "execute_result"
    }
   ],
   "source": [
    "b_cancer_df = pd.read_csv(\"breast_cancer.csv\", sep = ',')\n",
    "b_cancer_df"
   ]
  },
  {
   "cell_type": "code",
   "execution_count": 163,
   "id": "59827c51-4ded-43f2-9984-cef543862de8",
   "metadata": {},
   "outputs": [],
   "source": [
    "new_columns_names = {'id' : 'Id', 'x1' : 'Cl.thickness', 'x2' : 'Cell.size', 'x3' : 'Cell.shape', 'x4' : 'Marg.adhesion', \n",
    "        'x5' : 'Epith.c.size', 'x6' : 'Bare.nuclei', 'x7' : 'Bl.cromatin', 'x8' : 'Normal.nucleoli', 'x9' : 'Mitoses',\n",
    "        'label' : 'Class'}\n",
    "b_cancer_df.replace('?', pd.NA, inplace = True) # Substituindo os '?' para NaN.\n",
    "b_cancer_df = b_cancer_df.dropna() # Removendo os NaN's, vale ressaltar que eu poderia ter feito qualquer outra operação alem de remover.\n",
    "b_cancer_df = b_cancer_df.rename(columns = new_columns_names) # Renomeando as colunas.\n",
    "b_cancer_df['Class'] = b_cancer_df['Class'] // 4 # As últimas colunas estão todas em 2's e 4's, essa divisao converte para 0's e 1's.\n",
    "b_cancer_df = b_cancer_df.astype(int) # Convertendo todas as colunas para inteiro."
   ]
  },
  {
   "cell_type": "markdown",
   "id": "4b66b656-ce5d-462b-bf0f-dc4ee71dc151",
   "metadata": {},
   "source": [
    "##### A função que conterá o treino do perceptron."
   ]
  },
  {
   "cell_type": "code",
   "execution_count": 164,
   "id": "1da8878f-fe81-44cb-87b7-fe5ff1334c97",
   "metadata": {},
   "outputs": [],
   "source": [
    "def train_perceptron(x_inp : np.array, yi : np.array, learn_rate : float, tol : float, max_epochs : int, control_var : bool): # Fazendo o treinamento do perceptron.\n",
    "    dim = list(x_inp.shape)\n",
    "    try : # Caso eu tenha algum problema com as colunas do meu programa...\n",
    "        n_rows = dim[0]\n",
    "        n_cols = dim[1]\n",
    "    except Exception as error:\n",
    "        if error == \"IndexError\":\n",
    "            print(\"Now, you don't have cols, so we will change it...\\n\")\n",
    "            n_cols = 1\n",
    "        else:\n",
    "            print(f\"The error {error} is hapenning \\n\")\n",
    "            print(\"Breaking the program...\")\n",
    "            sys.exit()\n",
    "    finally:\n",
    "        if control_var == True: # control_var é 1 variável de controla que controlará quando usarei um certo threshold...\n",
    "            w = (np.random.uniform(size = n_cols + 1) - 0.5) # Inicializando o pesos com o tamanho n_cols + 1.\n",
    "            x_inp = np.column_stack([x_inp, np.ones_like(x_inp[:, 0])]) # Apenas colocando as colunas no vetor de entrada.\n",
    "        else:\n",
    "            w = (np.random.uniform(size = n_cols) - 0.5)\n",
    "        n_epochs = 0\n",
    "        err_epoch = tol + 1\n",
    "        lst_errors = np.zeros((max_epochs))\n",
    "        lst_outs = np.zeros((n_rows))\n",
    "        aux = 0\n",
    "        while ((n_epochs < max_epochs) and (err_epoch > tol)):\n",
    "            error_grad = 0\n",
    "            rand_order = np.random.permutation(n_rows)\n",
    "            for i in range(n_rows):\n",
    "                # Escolhendo uma entrada aleatória.\n",
    "                i_rand = rand_order[i]\n",
    "                x_val = x_inp[i_rand, :]\n",
    "                y_hat = 1 if np.dot(x_val, w) >= 0 else 0 # A saída separadora do perceptron.\n",
    "                err = (yi[i_rand] - y_hat)\n",
    "                dw = (learn_rate*err*x_inp[i_rand, :])\n",
    "                w = w + dw # Atualização de pesos.\n",
    "                if n_epochs == max_epochs - 1:\n",
    "                    lst_outs[aux] = y_hat\n",
    "                    aux += 1\n",
    "                error_grad = error_grad + (err**2)\n",
    "            lst_errors[n_epochs] = error_grad / n_rows \n",
    "            n_epochs += 1\n",
    "    return (w, lst_errors, lst_outs)"
   ]
  },
  {
   "cell_type": "markdown",
   "id": "2d76b4dc-ef3a-44ea-acbd-0b17b5e59b98",
   "metadata": {},
   "source": [
    "##### Função que irá computar a saída da rede."
   ]
  },
  {
   "cell_type": "code",
   "execution_count": 165,
   "id": "ca6affc8-f7f8-41ea-9091-a67d832b0b8a",
   "metadata": {},
   "outputs": [],
   "source": [
    "def yperceptron(x_input : np.array, w : np.array, control_var : bool):\n",
    "    try : \n",
    "        n_rows = x_input.shape[0]\n",
    "        n_cols = x_input.shape[1]\n",
    "    except Exception as error:\n",
    "        print(f\"The error {error} is happening ...\")\n",
    "        n_cols = 1\n",
    "        x_input = x_input.reshape(-1, 1)\n",
    "    if control_var == True:\n",
    "        x_input = np.column_stack([x_input, np.ones_like(x_input[:, 0])])\n",
    "    u = np.dot(x_input, w)\n",
    "    \n",
    "    y = np.where(u >= 0, 1, 0) # Compara elemento a elemento com 0, retorna 1 caso maior e 0 caso menor.\n",
    "    return y"
   ]
  },
  {
   "cell_type": "markdown",
   "id": "1c2d8dd3-5038-4e89-98cf-37991a4887f9",
   "metadata": {},
   "source": [
    "##### Pegando o dataset e criando os dados de treino aleatórios."
   ]
  },
  {
   "cell_type": "code",
   "execution_count": 166,
   "id": "ebacfb26-fa93-49eb-a8a8-b71ccc84d1b1",
   "metadata": {},
   "outputs": [],
   "source": [
    "data = np.array(b_cancer_df.iloc[:, 1 : 10]) # Pegando todos os dados que serão utilizados tanto para treino quanto para teste.\n",
    "n_train = 480 # Serão 480 dados para teste.\n",
    "seq = np.random.permutation(data.shape[0]) - 1 # Randomizando a sequencia para pegar valores aleatorios.\n",
    "x_train = data[seq[: n_train],]\n",
    "y_train = np.array(b_cancer_df.iloc[seq[: n_train], -1])"
   ]
  },
  {
   "cell_type": "code",
   "execution_count": 167,
   "id": "2459e191-b9ec-461f-8d92-a4bea814fbbd",
   "metadata": {},
   "outputs": [],
   "source": [
    "retlist = train_perceptron(x_train, y_train, 0.01, 0.1, 300, True)\n",
    "w = retlist[0]\n",
    "lst_errors = retlist[1]\n",
    "lst_outs = retlist[2]"
   ]
  },
  {
   "cell_type": "code",
   "execution_count": 169,
   "id": "83dfb495-b825-40b6-8786-bd53fbdef08f",
   "metadata": {},
   "outputs": [],
   "source": [
    "x_test = data[seq[n_train : ], ]\n",
    "y_real_result = np.array(b_cancer_df.iloc[seq[n_train : ], -1])\n",
    "y_network = yperceptron(x_test, w, True)"
   ]
  },
  {
   "cell_type": "code",
   "execution_count": 171,
   "id": "482470fa-ed9a-4476-8ddd-550c3786c5d5",
   "metadata": {},
   "outputs": [
    {
     "data": {
      "text/plain": [
       "array([1, 1, 0, 1, 1, 0, 0, 1, 0, 0, 0, 0, 1, 0, 1, 1, 1, 0, 0, 0, 0, 0,\n",
       "       1, 1, 0, 0, 0, 0, 1, 0, 0, 0, 0, 0, 0, 0, 0, 0, 0, 1, 1, 0, 0, 1,\n",
       "       0, 0, 0, 0, 0, 0, 1, 0, 0, 1, 1, 0, 1, 0, 0, 0, 0, 0, 0, 0, 1, 0,\n",
       "       0, 0, 1, 0, 0, 1, 1, 0, 0, 1, 0, 0, 1, 0, 1, 0, 1, 0, 1, 0, 1, 1,\n",
       "       1, 0, 1, 1, 0, 0, 0, 0, 0, 0, 1, 0, 1, 0, 0, 1, 0, 1, 0, 0, 0, 1,\n",
       "       0, 1, 0, 1, 0, 1, 1, 0, 0, 0, 0, 0, 0, 0, 0, 1, 0, 1, 1, 1, 0, 1,\n",
       "       0, 0, 0, 0, 0, 0, 0, 0, 0, 0, 1, 1, 1, 1, 0, 0, 1, 0, 0, 1, 1, 1,\n",
       "       1, 0, 0, 0, 0, 0, 0, 0, 1, 0, 0, 0, 1, 1, 0, 1, 1, 1, 0, 0, 0, 1,\n",
       "       0, 1, 0, 0, 0, 0, 1, 0, 1, 0, 0, 0, 0, 1, 0, 1, 0, 0, 0, 0, 1, 0,\n",
       "       1, 0, 0, 1, 0])"
      ]
     },
     "execution_count": 171,
     "metadata": {},
     "output_type": "execute_result"
    }
   ],
   "source": [
    "y_network"
   ]
  },
  {
   "cell_type": "code",
   "execution_count": 173,
   "id": "926ee253-e335-450c-a968-85106070a1a9",
   "metadata": {},
   "outputs": [
    {
     "name": "stdout",
     "output_type": "stream",
     "text": [
      "0.9852216748768473\n"
     ]
    }
   ],
   "source": [
    "acuracy = 1 - (np.transpose(y_real_result - y_network) @ (y_real_result - y_network)) / 203\n",
    "print(acuracy)"
   ]
  },
  {
   "cell_type": "code",
   "execution_count": 175,
   "id": "cd3f645d-de91-453e-9589-32d18012d73d",
   "metadata": {},
   "outputs": [
    {
     "data": {
      "text/plain": [
       "[]"
      ]
     },
     "execution_count": 175,
     "metadata": {},
     "output_type": "execute_result"
    },
    {
     "data": {
      "image/png": "[encoded data removed]",
      "text/plain": [
       "<Figure size 640x480 with 1 Axes>"
      ]
     },
     "metadata": {},
     "output_type": "display_data"
    }
   ],
   "source": [
    "x_plot = np.arange(start = 0, stop = len(y_real_result), step = 1)\n",
    "plt.scatter(x_plot, y_real_result, label = 'REAL OUT', color = 'blue')\n",
    "plt.scatter(x_plot, y_network, label = 'NEURAL OUT', color = 'red')\n",
    "plt.title(\"Dados gerados\")\n",
    "plt.legend()\n",
    "plt.plot()"
   ]
  }
 ],
 "metadata": {
  "kernelspec": {
   "display_name": "Python 3 (ipykernel)",
   "language": "python",
   "name": "python3"
  },
  "language_info": {
   "codemirror_mode": {
    "name": "ipython",
    "version": 3
   },
   "file_extension": ".py",
   "mimetype": "text/x-python",
   "name": "python",
   "nbconvert_exporter": "python",
   "pygments_lexer": "ipython3",
   "version": "3.10.12"
  }
 },
 "nbformat": 4,
 "nbformat_minor": 5
}
