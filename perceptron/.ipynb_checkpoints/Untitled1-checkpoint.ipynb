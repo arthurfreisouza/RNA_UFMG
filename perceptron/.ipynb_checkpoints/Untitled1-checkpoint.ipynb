{
 "cells": [
  {
   "cell_type": "code",
   "execution_count": 2,
   "id": "1a57bcc1-c745-4885-a8fe-37ae704ae359",
   "metadata": {},
   "outputs": [],
   "source": [
    "import numpy as np\n",
    "import pandas as pd\n",
    "import matplotlib.pyplot as plt"
   ]
  },
  {
   "cell_type": "code",
   "execution_count": 5,
   "id": "5acdd188-9c5d-43fb-b15f-1257a5eb5410",
   "metadata": {},
   "outputs": [],
   "source": [
    "def train_perceptron(x_inputs : np.array, yd : np.ndarray, learning_rate : float, tol : float, max_epochs : int, control_var : bool):\n",
    "    dim = list(x_inputs.shape)\n",
    "    try : \n",
    "        n_rows = dim[0] # Número de dados de entrada.\n",
    "        n_cols = dim[1] # Número de valores dos dados de entrada.\n",
    "    except Exception as error:\n",
    "        print(f\"The error {error} is happening.\")\n",
    "        if error == \"IndexError\":\n",
    "            n_cols = 1\n",
    "        else:\n",
    "            sys.exit()\n",
    "    finally : \n",
    "        if control_var == True: # Indicará que terá 1 threshold relacionado.\n",
    "            w = np.random.uniform(size = n_cols + 1) - 0.5 # Criando o vetor de peso aleatoriamente, ele conterá 1 coluna a mais.\n",
    "            x_inputs = np.column_stack([x_inputs, -np.ones_like(x_inputs[: , 0])])\n",
    "        else:\n",
    "            w = np.random.uniform(size = n_cols) - 0.5 # Criando o vetor de pesos aleatóriamente e não conterá a coluna de pesos a mais.\n",
    "        n_epochs = 0\n",
    "        err_epoch = tol + 1\n",
    "        lst_errors = np.zeros((max_epochs))\n",
    "\n",
    "        while((n_epochs < max_epochs) and (err_epoch > tol)):\n",
    "            err_grad = 0\n",
    "            order_changed = np.random.permutation(n_cols)\n",
    "            for i in range(n_cols):\n",
    "                i_rand = order_changed[i]\n",
    "                x_val = x_inputs[i_rand, : ]\n",
    "                y_hat = x_val @ w\n",
    "                err = (yd[i_rand] - y_hat)\n",
    "                dw = (learning_rate*err*x_inputs[i_rand, :])\n",
    "                w = w + dw\n",
    "                err_grad = err_grad + (err * err)\n",
    "            lst_errors[n_epochs] = err_grad / n_cols\n",
    "            n_epochs += 1\n",
    "        return (w, lst_errors)"
   ]
  },
  {
   "cell_type": "code",
   "execution_count": 8,
   "id": "1e8eb361-3bad-42f9-a05a-60490db1add5",
   "metadata": {},
   "outputs": [
    {
     "data": {
      "text/plain": [
       "Index(['Id', 'SepalLengthCm', 'SepalWidthCm', 'PetalLengthCm', 'PetalWidthCm',\n",
       "       'Species'],\n",
       "      dtype='object')"
      ]
     },
     "execution_count": 8,
     "metadata": {},
     "output_type": "execute_result"
    }
   ],
   "source": [
    "df = pd.read_csv(\"Iris.csv\")\n",
    "df.columns"
   ]
  },
  {
   "cell_type": "code",
   "execution_count": 11,
   "id": "e79700ff-74af-4365-b58b-a273d0554cc9",
   "metadata": {},
   "outputs": [
    {
     "ename": "SyntaxError",
     "evalue": "invalid syntax (1717736802.py, line 1)",
     "output_type": "error",
     "traceback": [
      "\u001b[0;36m  Cell \u001b[0;32mIn[11], line 1\u001b[0;36m\u001b[0m\n\u001b[0;31m    xc1 = np.array([df.iloc(1 : 50, 1 : 4)])\u001b[0m\n\u001b[0m                              ^\u001b[0m\n\u001b[0;31mSyntaxError\u001b[0m\u001b[0;31m:\u001b[0m invalid syntax\n"
     ]
    }
   ],
   "source": [
    "xc1 = np.array(df.iloc[1 : 50, 1 : 4])\n",
    "xc2 = np.array(df.iloc[51 : 100, 1 : 4])"
   ]
  },
  {
   "cell_type": "code",
   "execution_count": null,
   "id": "d0cb195a-fb80-408a-a62e-033ed30a9af4",
   "metadata": {},
   "outputs": [],
   "source": []
  },
  {
   "cell_type": "code",
   "execution_count": null,
   "id": "7e15c82f-e3e6-4c14-9f18-5f2be607ba4f",
   "metadata": {},
   "outputs": [],
   "source": []
  },
  {
   "cell_type": "code",
   "execution_count": null,
   "id": "b0f588e5-8e74-4190-bd65-0bd543d527a8",
   "metadata": {},
   "outputs": [],
   "source": []
  },
  {
   "cell_type": "code",
   "execution_count": null,
   "id": "b1094cd6-399e-46df-9afa-c1ad522adc39",
   "metadata": {},
   "outputs": [],
   "source": []
  },
  {
   "cell_type": "code",
   "execution_count": null,
   "id": "6d284dcb-410e-4d94-815d-facafad057b3",
   "metadata": {},
   "outputs": [],
   "source": []
  },
  {
   "cell_type": "code",
   "execution_count": null,
   "id": "5212a9cb-1351-4310-8726-be008af68c60",
   "metadata": {},
   "outputs": [],
   "source": []
  },
  {
   "cell_type": "code",
   "execution_count": null,
   "id": "e425e492-d03b-406e-8e9b-742ccf904674",
   "metadata": {},
   "outputs": [],
   "source": []
  },
  {
   "cell_type": "code",
   "execution_count": null,
   "id": "6389f919-7765-40ef-b0df-195d33ea6112",
   "metadata": {},
   "outputs": [],
   "source": []
  }
 ],
 "metadata": {
  "kernelspec": {
   "display_name": "Python 3 (ipykernel)",
   "language": "python",
   "name": "python3"
  },
  "language_info": {
   "codemirror_mode": {
    "name": "ipython",
    "version": 3
   },
   "file_extension": ".py",
   "mimetype": "text/x-python",
   "name": "python",
   "nbconvert_exporter": "python",
   "pygments_lexer": "ipython3",
   "version": "3.10.12"
  }
 },
 "nbformat": 4,
 "nbformat_minor": 5
}
