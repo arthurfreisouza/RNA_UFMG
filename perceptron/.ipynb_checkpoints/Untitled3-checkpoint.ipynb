{
 "cells": [
  {
   "cell_type": "code",
   "execution_count": 2,
   "id": "810656bf-53eb-4e9d-b07d-af4d55c018e7",
   "metadata": {},
   "outputs": [],
   "source": [
    "import numpy as np\n",
    "import matplotlib.pyplot as plt\n",
    "from mpl_toolkits.mplot3d import Axes3D"
   ]
  },
  {
   "cell_type": "code",
   "execution_count": 4,
   "id": "54db2c30-e9b3-4361-917c-c75388609258",
   "metadata": {},
   "outputs": [],
   "source": [
    "def train_perceptron(x_inp : np.array, yi : np.array, learn_rate : float, tol : float, max_epochs : int, control_var : bool): # Fazendo o treinamento do perceptron.\n",
    "    dim = list(x_inp.shape)\n",
    "    try : # Caso eu tenha algum problema com as colunas do meu programa...\n",
    "        n_rows = dim[0]\n",
    "        n_cols = dim[1]\n",
    "    except Exception as error:\n",
    "        if error == \"IndexError\":\n",
    "            print(\"Now, you don't have cols, so we will change it...\\n\")\n",
    "            n_cols = 1\n",
    "        else:\n",
    "            print(f\"The error {error} is hapenning \\n\")\n",
    "            print(\"Breaking the program...\")\n",
    "            sys.exit()\n",
    "    finally:\n",
    "        if control_var == True: # control_var é 1 variável de controla que controlará quando usarei um certo threshold...\n",
    "            w = (np.random.uniform(size = n_cols + 1) - 0.5) # Inicializando o pesos com o tamanho n_cols + 1.\n",
    "            x_inp = np.column_stack([x_inp, np.ones_like(x_inp[:, 0])]) # Apenas colocando as colunas no vetor de entrada.\n",
    "        else:\n",
    "            w = (np.random.uniform(size = n_cols) - 0.5)\n",
    "        n_epochs = 0\n",
    "        err_epoch = tol + 1\n",
    "        lst_errors = np.zeros((max_epochs))\n",
    "        while ((n_epochs < max_epochs) and (err_epoch > tol)):\n",
    "            error_grad = 0\n",
    "            rand_order = np.random.permutation(n_rows)\n",
    "            for i in range(n_rows):\n",
    "                # Escolhendo uma entrada aleatória.\n",
    "                i_rand = rand_order[i]\n",
    "                x_val = x_inp[i_rand, :]\n",
    "                y_hat = np.dot(x_val, w)\n",
    "                y_act = np.tanh(y_act) # A saída separadora do perceptron.\n",
    "                err = (yi[i_rand] - y_hat)\n",
    "                dw = (learn_rate*((1/np.cosh(y_hat))**2)*err*x_inp[i_rand, :])\n",
    "                w = w + dw # Atualização de pesos.\n",
    "                error_grad = error_grad + (err**2)\n",
    "            lst_errors[n_epochs] = error_grad / n_rows \n",
    "            n_epochs += 1\n",
    "    return (w, lst_errors)"
   ]
  },
  {
   "cell_type": "code",
   "execution_count": null,
   "id": "3531051d-4ac1-49f7-9e9b-f42afb1c0dfd",
   "metadata": {},
   "outputs": [],
   "source": []
  },
  {
   "cell_type": "code",
   "execution_count": null,
   "id": "3f2f2473-b47d-4974-926d-6ec0fe3dca7c",
   "metadata": {},
   "outputs": [],
   "source": []
  },
  {
   "cell_type": "code",
   "execution_count": null,
   "id": "554e15d0-ed43-45da-89d9-4780b30e3a2e",
   "metadata": {},
   "outputs": [],
   "source": []
  },
  {
   "cell_type": "code",
   "execution_count": null,
   "id": "decbdec9-c0ad-4cbc-a2e8-acc7e9b3bdcb",
   "metadata": {},
   "outputs": [],
   "source": []
  },
  {
   "cell_type": "code",
   "execution_count": null,
   "id": "d085c03a-69be-443b-a105-440b6747ca56",
   "metadata": {},
   "outputs": [],
   "source": []
  },
  {
   "cell_type": "code",
   "execution_count": null,
   "id": "92854e41-5158-4605-ab32-1537c03e1357",
   "metadata": {},
   "outputs": [],
   "source": []
  }
 ],
 "metadata": {
  "kernelspec": {
   "display_name": "Python 3 (ipykernel)",
   "language": "python",
   "name": "python3"
  },
  "language_info": {
   "codemirror_mode": {
    "name": "ipython",
    "version": 3
   },
   "file_extension": ".py",
   "mimetype": "text/x-python",
   "name": "python",
   "nbconvert_exporter": "python",
   "pygments_lexer": "ipython3",
   "version": "3.10.12"
  }
 },
 "nbformat": 4,
 "nbformat_minor": 5
}
