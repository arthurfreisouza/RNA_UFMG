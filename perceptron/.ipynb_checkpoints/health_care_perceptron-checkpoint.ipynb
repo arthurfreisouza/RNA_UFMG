{
 "cells": [
  {
   "cell_type": "code",
   "execution_count": 512,
   "id": "fa7699cf-e9df-4f04-8b1e-5c7bfbbea294",
   "metadata": {},
   "outputs": [],
   "source": [
    "import numpy as np\n",
    "import pandas as pd\n",
    "import matplotlib.pyplot as plt"
   ]
  },
  {
   "cell_type": "code",
   "execution_count": 513,
   "id": "bf433e84-990e-4361-ac4f-c41e964bc95a",
   "metadata": {},
   "outputs": [],
   "source": [
    " healthcare_df = pd.read_csv(\"healthcare_df_stroke.csv\")"
   ]
  },
  {
   "cell_type": "code",
   "execution_count": 514,
   "id": "88a56df9-4bbf-49e8-abc7-3c5283c67793",
   "metadata": {},
   "outputs": [
    {
     "data": {
      "text/html": [
       "<div>\n",
       "<style scoped>\n",
       "    .dataframe tbody tr th:only-of-type {\n",
       "        vertical-align: middle;\n",
       "    }\n",
       "\n",
       "    .dataframe tbody tr th {\n",
       "        vertical-align: top;\n",
       "    }\n",
       "\n",
       "    .dataframe thead th {\n",
       "        text-align: right;\n",
       "    }\n",
       "</style>\n",
       "<table border=\"1\" class=\"dataframe\">\n",
       "  <thead>\n",
       "    <tr style=\"text-align: right;\">\n",
       "      <th></th>\n",
       "      <th>id</th>\n",
       "      <th>gender</th>\n",
       "      <th>age</th>\n",
       "      <th>hypertension</th>\n",
       "      <th>heart_disease</th>\n",
       "      <th>ever_married</th>\n",
       "      <th>work_type</th>\n",
       "      <th>Residence_type</th>\n",
       "      <th>avg_glucose_level</th>\n",
       "      <th>bmi</th>\n",
       "      <th>smoking_status</th>\n",
       "      <th>stroke</th>\n",
       "    </tr>\n",
       "  </thead>\n",
       "  <tbody>\n",
       "    <tr>\n",
       "      <th>0</th>\n",
       "      <td>9046</td>\n",
       "      <td>Male</td>\n",
       "      <td>67.0</td>\n",
       "      <td>0</td>\n",
       "      <td>1</td>\n",
       "      <td>Yes</td>\n",
       "      <td>Private</td>\n",
       "      <td>Urban</td>\n",
       "      <td>228.69</td>\n",
       "      <td>36.6</td>\n",
       "      <td>formerly smoked</td>\n",
       "      <td>1</td>\n",
       "    </tr>\n",
       "    <tr>\n",
       "      <th>1</th>\n",
       "      <td>51676</td>\n",
       "      <td>Female</td>\n",
       "      <td>61.0</td>\n",
       "      <td>0</td>\n",
       "      <td>0</td>\n",
       "      <td>Yes</td>\n",
       "      <td>Self-employed</td>\n",
       "      <td>Rural</td>\n",
       "      <td>202.21</td>\n",
       "      <td>NaN</td>\n",
       "      <td>never smoked</td>\n",
       "      <td>1</td>\n",
       "    </tr>\n",
       "    <tr>\n",
       "      <th>2</th>\n",
       "      <td>31112</td>\n",
       "      <td>Male</td>\n",
       "      <td>80.0</td>\n",
       "      <td>0</td>\n",
       "      <td>1</td>\n",
       "      <td>Yes</td>\n",
       "      <td>Private</td>\n",
       "      <td>Rural</td>\n",
       "      <td>105.92</td>\n",
       "      <td>32.5</td>\n",
       "      <td>never smoked</td>\n",
       "      <td>1</td>\n",
       "    </tr>\n",
       "    <tr>\n",
       "      <th>3</th>\n",
       "      <td>60182</td>\n",
       "      <td>Female</td>\n",
       "      <td>49.0</td>\n",
       "      <td>0</td>\n",
       "      <td>0</td>\n",
       "      <td>Yes</td>\n",
       "      <td>Private</td>\n",
       "      <td>Urban</td>\n",
       "      <td>171.23</td>\n",
       "      <td>34.4</td>\n",
       "      <td>smokes</td>\n",
       "      <td>1</td>\n",
       "    </tr>\n",
       "    <tr>\n",
       "      <th>4</th>\n",
       "      <td>1665</td>\n",
       "      <td>Female</td>\n",
       "      <td>79.0</td>\n",
       "      <td>1</td>\n",
       "      <td>0</td>\n",
       "      <td>Yes</td>\n",
       "      <td>Self-employed</td>\n",
       "      <td>Rural</td>\n",
       "      <td>174.12</td>\n",
       "      <td>24.0</td>\n",
       "      <td>never smoked</td>\n",
       "      <td>1</td>\n",
       "    </tr>\n",
       "    <tr>\n",
       "      <th>...</th>\n",
       "      <td>...</td>\n",
       "      <td>...</td>\n",
       "      <td>...</td>\n",
       "      <td>...</td>\n",
       "      <td>...</td>\n",
       "      <td>...</td>\n",
       "      <td>...</td>\n",
       "      <td>...</td>\n",
       "      <td>...</td>\n",
       "      <td>...</td>\n",
       "      <td>...</td>\n",
       "      <td>...</td>\n",
       "    </tr>\n",
       "    <tr>\n",
       "      <th>5105</th>\n",
       "      <td>18234</td>\n",
       "      <td>Female</td>\n",
       "      <td>80.0</td>\n",
       "      <td>1</td>\n",
       "      <td>0</td>\n",
       "      <td>Yes</td>\n",
       "      <td>Private</td>\n",
       "      <td>Urban</td>\n",
       "      <td>83.75</td>\n",
       "      <td>NaN</td>\n",
       "      <td>never smoked</td>\n",
       "      <td>0</td>\n",
       "    </tr>\n",
       "    <tr>\n",
       "      <th>5106</th>\n",
       "      <td>44873</td>\n",
       "      <td>Female</td>\n",
       "      <td>81.0</td>\n",
       "      <td>0</td>\n",
       "      <td>0</td>\n",
       "      <td>Yes</td>\n",
       "      <td>Self-employed</td>\n",
       "      <td>Urban</td>\n",
       "      <td>125.20</td>\n",
       "      <td>40.0</td>\n",
       "      <td>never smoked</td>\n",
       "      <td>0</td>\n",
       "    </tr>\n",
       "    <tr>\n",
       "      <th>5107</th>\n",
       "      <td>19723</td>\n",
       "      <td>Female</td>\n",
       "      <td>35.0</td>\n",
       "      <td>0</td>\n",
       "      <td>0</td>\n",
       "      <td>Yes</td>\n",
       "      <td>Self-employed</td>\n",
       "      <td>Rural</td>\n",
       "      <td>82.99</td>\n",
       "      <td>30.6</td>\n",
       "      <td>never smoked</td>\n",
       "      <td>0</td>\n",
       "    </tr>\n",
       "    <tr>\n",
       "      <th>5108</th>\n",
       "      <td>37544</td>\n",
       "      <td>Male</td>\n",
       "      <td>51.0</td>\n",
       "      <td>0</td>\n",
       "      <td>0</td>\n",
       "      <td>Yes</td>\n",
       "      <td>Private</td>\n",
       "      <td>Rural</td>\n",
       "      <td>166.29</td>\n",
       "      <td>25.6</td>\n",
       "      <td>formerly smoked</td>\n",
       "      <td>0</td>\n",
       "    </tr>\n",
       "    <tr>\n",
       "      <th>5109</th>\n",
       "      <td>44679</td>\n",
       "      <td>Female</td>\n",
       "      <td>44.0</td>\n",
       "      <td>0</td>\n",
       "      <td>0</td>\n",
       "      <td>Yes</td>\n",
       "      <td>Govt_job</td>\n",
       "      <td>Urban</td>\n",
       "      <td>85.28</td>\n",
       "      <td>26.2</td>\n",
       "      <td>Unknown</td>\n",
       "      <td>0</td>\n",
       "    </tr>\n",
       "  </tbody>\n",
       "</table>\n",
       "<p>5110 rows × 12 columns</p>\n",
       "</div>"
      ],
      "text/plain": [
       "         id  gender   age  hypertension  heart_disease ever_married  \\\n",
       "0      9046    Male  67.0             0              1          Yes   \n",
       "1     51676  Female  61.0             0              0          Yes   \n",
       "2     31112    Male  80.0             0              1          Yes   \n",
       "3     60182  Female  49.0             0              0          Yes   \n",
       "4      1665  Female  79.0             1              0          Yes   \n",
       "...     ...     ...   ...           ...            ...          ...   \n",
       "5105  18234  Female  80.0             1              0          Yes   \n",
       "5106  44873  Female  81.0             0              0          Yes   \n",
       "5107  19723  Female  35.0             0              0          Yes   \n",
       "5108  37544    Male  51.0             0              0          Yes   \n",
       "5109  44679  Female  44.0             0              0          Yes   \n",
       "\n",
       "          work_type Residence_type  avg_glucose_level   bmi   smoking_status  \\\n",
       "0           Private          Urban             228.69  36.6  formerly smoked   \n",
       "1     Self-employed          Rural             202.21   NaN     never smoked   \n",
       "2           Private          Rural             105.92  32.5     never smoked   \n",
       "3           Private          Urban             171.23  34.4           smokes   \n",
       "4     Self-employed          Rural             174.12  24.0     never smoked   \n",
       "...             ...            ...                ...   ...              ...   \n",
       "5105        Private          Urban              83.75   NaN     never smoked   \n",
       "5106  Self-employed          Urban             125.20  40.0     never smoked   \n",
       "5107  Self-employed          Rural              82.99  30.6     never smoked   \n",
       "5108        Private          Rural             166.29  25.6  formerly smoked   \n",
       "5109       Govt_job          Urban              85.28  26.2          Unknown   \n",
       "\n",
       "      stroke  \n",
       "0          1  \n",
       "1          1  \n",
       "2          1  \n",
       "3          1  \n",
       "4          1  \n",
       "...      ...  \n",
       "5105       0  \n",
       "5106       0  \n",
       "5107       0  \n",
       "5108       0  \n",
       "5109       0  \n",
       "\n",
       "[5110 rows x 12 columns]"
      ]
     },
     "execution_count": 514,
     "metadata": {},
     "output_type": "execute_result"
    }
   ],
   "source": [
    "healthcare_df"
   ]
  },
  {
   "cell_type": "markdown",
   "id": "2a409934-9fa9-4ed4-890d-c56994c39530",
   "metadata": {},
   "source": [
    "##### Para tratar os dados inicialmente substituirei os NaN's pela média,a unica coluna que contém NaN é a bmi."
   ]
  },
  {
   "cell_type": "code",
   "execution_count": 515,
   "id": "e2d121b9-3cf0-442c-95a2-406856d174dc",
   "metadata": {},
   "outputs": [
    {
     "data": {
      "text/plain": [
       "gender\n",
       "Female    2994\n",
       "Male      2115\n",
       "Other        1\n",
       "Name: count, dtype: int64"
      ]
     },
     "execution_count": 515,
     "metadata": {},
     "output_type": "execute_result"
    }
   ],
   "source": [
    "healthcare_df.isna().sum()\n",
    "healthcare_df['gender'].value_counts()"
   ]
  },
  {
   "cell_type": "markdown",
   "id": "95df557d-0a76-476c-8dca-9bf405c477f1",
   "metadata": {},
   "source": [
    "##### Aqui os Nan's e os dados são tratados."
   ]
  },
  {
   "cell_type": "code",
   "execution_count": 516,
   "id": "51610e9d-5728-4bb3-85a2-24010792f431",
   "metadata": {},
   "outputs": [],
   "source": [
    "healthcare_df['bmi'] = healthcare_df['bmi'].fillna(healthcare_df['bmi'].mean())\n",
    "condition = (healthcare_df['gender'] == 'Male') | (healthcare_df['gender'] == 'Female')\n",
    "healthcare_df = healthcare_df[condition]\n",
    "healthcare_df.loc[healthcare_df['gender'] == 'Male', 'gender'] = 1\n",
    "healthcare_df.loc[healthcare_df['gender'] == 'Female', 'gender'] = 0\n",
    "healthcare_df.loc[healthcare_df['ever_married'] == 'Yes', 'ever_married'] = 1\n",
    "healthcare_df.loc[healthcare_df['ever_married'] == 'No', 'ever_married'] = 0\n",
    "healthcare_df.loc[healthcare_df['Residence_type'] == 'Urban', 'Residence_type'] = 1\n",
    "healthcare_df.loc[healthcare_df['Residence_type'] == 'Rural', 'Residence_type'] = 0"
   ]
  },
  {
   "cell_type": "code",
   "execution_count": 517,
   "id": "c6ca5cb8-ae4b-4ba0-9bf5-07360bf6f1e5",
   "metadata": {},
   "outputs": [],
   "source": [
    "from sklearn.preprocessing import OneHotEncoder\n",
    "\n",
    "encoder_work_type = OneHotEncoder()\n",
    "encoded_data_work_type = encoder_work_type.fit_transform(healthcare_df[['work_type']])\n",
    "encoded_df_work_type = pd.DataFrame(encoded_data_work_type.toarray(), columns=encoder_work_type.get_feature_names_out(['work_type']))\n",
    "\n",
    "encoder_smoking_status = OneHotEncoder()\n",
    "encoded_data_smoking_status = encoder_smoking_status.fit_transform(healthcare_df[['smoking_status']])\n",
    "encoded_df_smoking_status = pd.DataFrame(encoded_data_smoking_status.toarray(), columns=encoder_smoking_status.get_feature_names_out(['smoking_status']))\n",
    "\n",
    "healthcare_df = pd.concat([healthcare_df, encoded_df_work_type, encoded_df_smoking_status], axis = 1)\n",
    "healthcare_df = healthcare_df.drop(columns = [\"work_type\", \"smoking_status\"])\n",
    "stroke_column = healthcare_df.pop('stroke')\n",
    "# Assign the 'stroke' column to the last position\n",
    "healthcare_df['stroke'] = stroke_column"
   ]
  },
  {
   "cell_type": "code",
   "execution_count": 518,
   "id": "9be73ac3-c2db-41a1-aee8-4c8fdc02ef27",
   "metadata": {},
   "outputs": [],
   "source": [
    "healthcare_df.dropna(inplace = True)"
   ]
  },
  {
   "cell_type": "markdown",
   "id": "46949fbb-f96a-4fa8-96e8-ca09e9c753b7",
   "metadata": {
    "scrolled": true
   },
   "source": [
    "##### PRONTO PARA INICIAR O CÓDIGO."
   ]
  },
  {
   "cell_type": "code",
   "execution_count": 519,
   "id": "5566205c-fd69-4d5e-8739-1f6d1f8702a6",
   "metadata": {},
   "outputs": [
    {
     "data": {
      "text/plain": [
       "(5108, 19)"
      ]
     },
     "execution_count": 519,
     "metadata": {},
     "output_type": "execute_result"
    }
   ],
   "source": [
    "healthcare_df.shape"
   ]
  },
  {
   "cell_type": "code",
   "execution_count": 520,
   "id": "3617caf8-c029-4e2c-895e-50a89076d437",
   "metadata": {},
   "outputs": [],
   "source": [
    "def train_perceptron(x_inp : np.array, yi : np.array, learn_rate : float, tol : float, max_epochs : int, control_var : bool): # Fazendo o treinamento do perceptron.\n",
    "    dim = list(x_inp.shape)\n",
    "    try : # Caso eu tenha algum problema com as colunas do meu programa...\n",
    "        n_rows = dim[0]\n",
    "        n_cols = dim[1]\n",
    "    except Exception as error:\n",
    "        if error == \"IndexError\":\n",
    "            print(\"Now, you don't have cols, so we will change it...\\n\")\n",
    "            n_cols = 1\n",
    "        else:\n",
    "            print(f\"The error {error} is hapenning \\n\")\n",
    "            print(\"Breaking the program...\")\n",
    "            sys.exit()\n",
    "    finally:\n",
    "        if control_var == True: # control_var é 1 variável de controla que controlará quando usarei um certo threshold...\n",
    "            w = (np.random.uniform(size = n_cols + 1) - 0.5) # Inicializando o pesos com o tamanho n_cols + 1.\n",
    "            x_inp = np.column_stack([x_inp, np.ones_like(x_inp[:, 0])]) # Apenas colocando as colunas no vetor de entrada.\n",
    "        else:\n",
    "            w = (np.random.uniform(size = n_cols) - 0.5)\n",
    "        n_epochs = 0\n",
    "        err_epoch = tol + 1\n",
    "        lst_errors = np.zeros((max_epochs))\n",
    "        lst_outs = np.zeros((n_rows))\n",
    "        aux = 0\n",
    "        while ((n_epochs < max_epochs) and (err_epoch > tol)):\n",
    "            error_grad = 0\n",
    "            rand_order = np.random.permutation(n_rows)\n",
    "            for i in range(n_rows):\n",
    "                # Escolhendo uma entrada aleatória.\n",
    "                i_rand = rand_order[i]\n",
    "                x_val = x_inp[i_rand, :]\n",
    "                y_hat = 1 if np.dot(x_val, w) >= 0 else 0 # A saída separadora do perceptron.\n",
    "                err = (yi[i_rand] - y_hat)\n",
    "                dw = (learn_rate*err*x_inp[i_rand, :])\n",
    "                w = w + dw # Atualização de pesos.\n",
    "                if n_epochs == max_epochs - 1:\n",
    "                    lst_outs[aux] = y_hat\n",
    "                    aux += 1\n",
    "                error_grad = error_grad + (err**2)\n",
    "            lst_errors[n_epochs] = error_grad / n_rows \n",
    "            n_epochs += 1\n",
    "    return (w, lst_errors, lst_outs)"
   ]
  },
  {
   "cell_type": "code",
   "execution_count": 521,
   "id": "e6ca6f09-147e-4ac8-a032-1e66ba13bae3",
   "metadata": {},
   "outputs": [],
   "source": [
    "def yperceptron(x_input : np.array, w : np.array, control_var : bool):\n",
    "    try : \n",
    "        n_rows = x_input.shape[0]\n",
    "        n_cols = x_input.shape[1]\n",
    "    except Exception as error:\n",
    "        print(f\"The error {error} is happening ...\")\n",
    "        n_cols = 1\n",
    "        x_input = x_input.reshape(-1, 1)\n",
    "    if control_var == True:\n",
    "        x_input = np.column_stack([x_input, np.ones_like(x_input[:, 0])])\n",
    "    u = np.dot(x_input, w)\n",
    "    \n",
    "    y = np.where(u >= 0, 1, 0) # Compara elemento a elemento com 0, retorna 1 caso maior e 0 caso menor.\n",
    "    return y"
   ]
  },
  {
   "cell_type": "code",
   "execution_count": 522,
   "id": "82d5f914-1bc3-4d82-b200-dcdaf6447df7",
   "metadata": {},
   "outputs": [],
   "source": [
    "data = np.array(healthcare_df.iloc[:, 1 : 19]) # Pegando todos os dados que serão utilizados tanto para treino quanto para teste.\n",
    "n_train = 3500 # Serão 3500 dados para teste.\n",
    "seq = np.random.permutation(data.shape[0]) - 1 # Randomizando a sequencia para pegar valores aleatorios.\n",
    "x_train = data[seq[: n_train],]\n",
    "y_train = np.array(healthcare_df.iloc[seq[: n_train], -1])"
   ]
  },
  {
   "cell_type": "code",
   "execution_count": 523,
   "id": "1f7c6555-29ff-4c0a-9311-aa7a568b42cb",
   "metadata": {},
   "outputs": [],
   "source": [
    "retlist = train_perceptron(x_train, y_train, 0.01, 0.1, 10, True)\n",
    "w = retlist[0]\n",
    "lst_errors = retlist[1]\n",
    "lst_outs = retlist[2]"
   ]
  },
  {
   "cell_type": "code",
   "execution_count": 524,
   "id": "fed728c8-c9db-4a5a-a246-478645f3f1b7",
   "metadata": {},
   "outputs": [],
   "source": [
    "x_test = data[seq[n_train : ], ]\n",
    "y_real_result = np.array(healthcare_df.iloc[seq[n_train : ], -1])\n",
    "y_network = yperceptron(x_test, w, True)"
   ]
  },
  {
   "cell_type": "code",
   "execution_count": 525,
   "id": "5b9280cf-e858-4b6e-93ca-58c1a055e137",
   "metadata": {},
   "outputs": [
    {
     "name": "stdout",
     "output_type": "stream",
     "text": [
      "There was 85 errors...\n"
     ]
    }
   ],
   "source": [
    "sum = 0\n",
    "for (index,value) in enumerate(y_network):\n",
    "    if value != y_real_result[index]:\n",
    "        sum += 1\n",
    "print(f\"There was {sum} errors...\")"
   ]
  },
  {
   "cell_type": "code",
   "execution_count": 526,
   "id": "43eeace2-a7cb-45b6-8f97-cccdf7ead2f9",
   "metadata": {},
   "outputs": [
    {
     "name": "stdout",
     "output_type": "stream",
     "text": [
      "0.9433333333333334\n"
     ]
    }
   ],
   "source": [
    "acuracy = 1 - (np.transpose(y_real_result - y_network) @ (y_real_result - y_network)) / 1500\n",
    "print(acuracy)"
   ]
  },
  {
   "cell_type": "code",
   "execution_count": null,
   "id": "3e8c49bf-ddd6-4392-9fb0-b4bc5c755ee4",
   "metadata": {},
   "outputs": [],
   "source": []
  },
  {
   "cell_type": "code",
   "execution_count": null,
   "id": "2131d971-bcfd-4d9c-80fa-42efc6c822f0",
   "metadata": {},
   "outputs": [],
   "source": []
  },
  {
   "cell_type": "code",
   "execution_count": null,
   "id": "ecbcb335-2896-4298-890b-266084d5d26b",
   "metadata": {},
   "outputs": [],
   "source": []
  },
  {
   "cell_type": "code",
   "execution_count": null,
   "id": "2d991a96-da8b-49e2-8b81-91b4a6ed743c",
   "metadata": {},
   "outputs": [],
   "source": []
  },
  {
   "cell_type": "code",
   "execution_count": null,
   "id": "a092e1dc-a05d-480c-bb0e-563a52b0ff37",
   "metadata": {},
   "outputs": [],
   "source": []
  },
  {
   "cell_type": "code",
   "execution_count": null,
   "id": "7128fc38-cdc7-4a2b-8814-4083082768a9",
   "metadata": {},
   "outputs": [],
   "source": []
  },
  {
   "cell_type": "code",
   "execution_count": null,
   "id": "bd9bd6ab-22eb-4f67-8d56-102541185cb8",
   "metadata": {},
   "outputs": [],
   "source": []
  },
  {
   "cell_type": "code",
   "execution_count": null,
   "id": "20515b6d-8a75-4a3a-ab81-bf9b461d8ba5",
   "metadata": {},
   "outputs": [],
   "source": []
  },
  {
   "cell_type": "code",
   "execution_count": null,
   "id": "52559509-d206-40ae-aaba-2db91a3f57dd",
   "metadata": {},
   "outputs": [],
   "source": []
  },
  {
   "cell_type": "code",
   "execution_count": null,
   "id": "8a0c86bb-bdc8-4827-9ad9-f58494e5203d",
   "metadata": {},
   "outputs": [],
   "source": []
  },
  {
   "cell_type": "code",
   "execution_count": null,
   "id": "3b182072-aa7b-4d71-8c54-c94516e10b39",
   "metadata": {},
   "outputs": [],
   "source": []
  },
  {
   "cell_type": "code",
   "execution_count": null,
   "id": "ba31a879-5f2b-445b-b64a-61503c944b56",
   "metadata": {},
   "outputs": [],
   "source": []
  },
  {
   "cell_type": "code",
   "execution_count": null,
   "id": "6139f747-693c-4a9d-b6f1-88faa2eb443f",
   "metadata": {},
   "outputs": [],
   "source": []
  }
 ],
 "metadata": {
  "kernelspec": {
   "display_name": "Python 3 (ipykernel)",
   "language": "python",
   "name": "python3"
  },
  "language_info": {
   "codemirror_mode": {
    "name": "ipython",
    "version": 3
   },
   "file_extension": ".py",
   "mimetype": "text/x-python",
   "name": "python",
   "nbconvert_exporter": "python",
   "pygments_lexer": "ipython3",
   "version": "3.10.12"
  }
 },
 "nbformat": 4,
 "nbformat_minor": 5
}
