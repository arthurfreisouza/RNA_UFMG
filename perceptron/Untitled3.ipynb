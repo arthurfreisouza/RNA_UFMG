{
 "cells": [
  {
   "cell_type": "code",
   "execution_count": 3,
   "id": "810656bf-53eb-4e9d-b07d-af4d55c018e7",
   "metadata": {},
   "outputs": [],
   "source": [
    "import numpy as np\n",
    "import matplotlib.pyplot as plt\n",
    "from mpl_toolkits.mplot3d import Axes3D"
   ]
  },
  {
   "cell_type": "code",
   "execution_count": 5,
   "id": "54db2c30-e9b3-4361-917c-c75388609258",
   "metadata": {},
   "outputs": [
    {
     "name": "stdout",
     "output_type": "stream",
     "text": [
      "Counts of each unique value in 'category' column:\n",
      "category\n",
      "A    4\n",
      "B    4\n",
      "C    2\n",
      "Name: count, dtype: int64\n"
     ]
    }
   ],
   "source": [
    "import pandas as pd\n",
    "\n",
    "# Creating a sample DataFrame\n",
    "data = {'category': ['A', 'B', 'A', 'C', 'B', 'A', 'A', 'C', 'B', 'B']}\n",
    "df = pd.DataFrame(data)\n",
    "\n",
    "# Count occurrences of each unique value in the 'category' column\n",
    "value_counts = df['category'].value_counts()\n",
    "\n",
    "# Print counts\n",
    "print(\"Counts of each unique value in 'category' column:\")\n",
    "print(value_counts)\n"
   ]
  },
  {
   "cell_type": "code",
   "execution_count": null,
   "id": "b5c11eb7-4ed3-46a4-b736-de605ffb0d1c",
   "metadata": {},
   "outputs": [],
   "source": []
  },
  {
   "cell_type": "code",
   "execution_count": 7,
   "id": "d97db298-9278-4368-87af-27dfe294b99e",
   "metadata": {},
   "outputs": [
    {
     "name": "stdout",
     "output_type": "stream",
     "text": [
      "Original DataFrame:\n",
      "  category\n",
      "0        A\n",
      "1        B\n",
      "2        A\n",
      "3        C\n",
      "4        B\n",
      "5        A\n",
      "6        A\n",
      "7        C\n",
      "8        B\n",
      "9        B\n",
      "\n",
      "DataFrame after one-hot encoding:\n",
      "  category    A    B    C\n",
      "0        A  1.0  0.0  0.0\n",
      "1        B  0.0  1.0  0.0\n",
      "2        A  1.0  0.0  0.0\n",
      "3        C  0.0  0.0  1.0\n",
      "4        B  0.0  1.0  0.0\n",
      "5        A  1.0  0.0  0.0\n",
      "6        A  1.0  0.0  0.0\n",
      "7        C  0.0  0.0  1.0\n",
      "8        B  0.0  1.0  0.0\n",
      "9        B  0.0  1.0  0.0\n"
     ]
    }
   ],
   "source": [
    "import pandas as pd\n",
    "from sklearn.preprocessing import OneHotEncoder\n",
    "\n",
    "# Sample DataFrame\n",
    "data = {'category': ['A', 'B', 'A', 'C', 'B', 'A', 'A', 'C', 'B', 'B']}\n",
    "df = pd.DataFrame(data)\n",
    "\n",
    "# Initialize OneHotEncoder\n",
    "encoder = OneHotEncoder()\n",
    "\n",
    "# Fit and transform the DataFrame column\n",
    "encoded_values = encoder.fit_transform(df[['category']])\n",
    "\n",
    "# Convert the encoded values to a DataFrame\n",
    "encoded_df = pd.DataFrame(encoded_values.toarray(), columns=encoder.categories_[0])\n",
    "\n",
    "# Concatenate the encoded DataFrame with the original DataFrame\n",
    "df_encoded = pd.concat([df, encoded_df], axis=1)\n",
    "\n",
    "# Display the result\n",
    "print(\"Original DataFrame:\")\n",
    "print(df)\n",
    "print(\"\\nDataFrame after one-hot encoding:\")\n",
    "print(df_encoded)"
   ]
  },
  {
   "cell_type": "code",
   "execution_count": 6,
   "id": "e74473e6-f566-4f67-bdbb-d802d63f2059",
   "metadata": {},
   "outputs": [
    {
     "data": {
      "text/plain": [
       "array(['A', 'B', 'C'], dtype=object)"
      ]
     },
     "execution_count": 6,
     "metadata": {},
     "output_type": "execute_result"
    }
   ],
   "source": [
    "df['category'].unique()"
   ]
  }
 ],
 "metadata": {
  "kernelspec": {
   "display_name": "Python 3 (ipykernel)",
   "language": "python",
   "name": "python3"
  },
  "language_info": {
   "codemirror_mode": {
    "name": "ipython",
    "version": 3
   },
   "file_extension": ".py",
   "mimetype": "text/x-python",
   "name": "python",
   "nbconvert_exporter": "python",
   "pygments_lexer": "ipython3",
   "version": "3.10.12"
  }
 },
 "nbformat": 4,
 "nbformat_minor": 5
}
