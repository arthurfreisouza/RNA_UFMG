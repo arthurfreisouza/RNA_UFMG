{
 "cells": [
  {
   "cell_type": "code",
   "execution_count": 2,
   "id": "04afe114-6c56-4f38-9d94-9895168cbdcf",
   "metadata": {},
   "outputs": [
    {
     "name": "stdout",
     "output_type": "stream",
     "text": [
      "The rpy2.ipython extension is already loaded. To reload it, use:\n",
      "  %reload_ext rpy2.ipython\n"
     ]
    }
   ],
   "source": [
    "import numpy as np\n",
    "import pandas as pd\n",
    "import rpy2.robjects as ro # Da a interface entre python e R.\n",
    "from rpy2.robjects.packages import importr # Usada para converter pacotes R em python\n",
    "from rpy2.robjects import pandas2ri # Usada para converter pandas dataframes e R dataframes.\n",
    "import matplotlib.pyplot as plt\n",
    "from functools import partial\n",
    "from rpy2.ipython import html\n",
    "html.html_rdataframe=partial(html.html_rdataframe, table_class=\"docutils\")\n",
    "\n",
    "\n",
    "# Usada para fazer a conexão entre R e python.\n",
    "%load_ext rpy2.ipython"
   ]
  },
  {
   "cell_type": "markdown",
   "id": "9628e660-af8f-4722-b6a4-5ff63d9bc025",
   "metadata": {},
   "source": [
    "#### Usando a biblioteca rpy2 para ler a o dataset Breast Cancer."
   ]
  },
  {
   "cell_type": "code",
   "execution_count": 3,
   "id": "862ffa58-0bc9-4b12-9c1d-1bb6f7fcce01",
   "metadata": {},
   "outputs": [
    {
     "name": "stdout",
     "output_type": "stream",
     "text": [
      "[1] 699  11\n"
     ]
    },
    {
     "data": {
      "text/plain": [
       "In addition: Warning message:\n",
       "In (function (package, help, pos = 2, lib.loc = NULL, character.only = FALSE,  :\n",
       "  libraries ‘/usr/local/lib/R/site-library’, ‘/usr/lib/R/site-library’ contain no packages\n"
      ]
     },
     "metadata": {},
     "output_type": "display_data"
    }
   ],
   "source": [
    "%%R\n",
    "library(mlbench)\n",
    "data(BreastCancer)\n",
    "Breast_Cancerdf <- BreastCancer # R dataframe.\n",
    "print(dim(Breast_Cancerdf))"
   ]
  },
  {
   "cell_type": "markdown",
   "id": "45f794bc-caf7-4acb-8e1e-dc27c223f5a8",
   "metadata": {},
   "source": [
    "#### Convertendo os dados para 1 dataset pandas."
   ]
  },
  {
   "cell_type": "code",
   "execution_count": 4,
   "id": "47e30376-67ff-4071-a76e-f687584c5db4",
   "metadata": {},
   "outputs": [
    {
     "data": {
      "text/html": [
       "<div>\n",
       "<style scoped>\n",
       "    .dataframe tbody tr th:only-of-type {\n",
       "        vertical-align: middle;\n",
       "    }\n",
       "\n",
       "    .dataframe tbody tr th {\n",
       "        vertical-align: top;\n",
       "    }\n",
       "\n",
       "    .dataframe thead th {\n",
       "        text-align: right;\n",
       "    }\n",
       "</style>\n",
       "<table border=\"1\" class=\"dataframe\">\n",
       "  <thead>\n",
       "    <tr style=\"text-align: right;\">\n",
       "      <th></th>\n",
       "      <th>Id</th>\n",
       "      <th>Cl.thickness</th>\n",
       "      <th>Cell.size</th>\n",
       "      <th>Cell.shape</th>\n",
       "      <th>Marg.adhesion</th>\n",
       "      <th>Epith.c.size</th>\n",
       "      <th>Bare.nuclei</th>\n",
       "      <th>Bl.cromatin</th>\n",
       "      <th>Normal.nucleoli</th>\n",
       "      <th>Mitoses</th>\n",
       "      <th>Class</th>\n",
       "    </tr>\n",
       "  </thead>\n",
       "  <tbody>\n",
       "    <tr>\n",
       "      <th>1</th>\n",
       "      <td>1000025</td>\n",
       "      <td>5</td>\n",
       "      <td>1</td>\n",
       "      <td>1</td>\n",
       "      <td>1</td>\n",
       "      <td>2</td>\n",
       "      <td>1</td>\n",
       "      <td>3</td>\n",
       "      <td>1</td>\n",
       "      <td>1</td>\n",
       "      <td>benign</td>\n",
       "    </tr>\n",
       "    <tr>\n",
       "      <th>2</th>\n",
       "      <td>1002945</td>\n",
       "      <td>5</td>\n",
       "      <td>4</td>\n",
       "      <td>4</td>\n",
       "      <td>5</td>\n",
       "      <td>7</td>\n",
       "      <td>10</td>\n",
       "      <td>3</td>\n",
       "      <td>2</td>\n",
       "      <td>1</td>\n",
       "      <td>benign</td>\n",
       "    </tr>\n",
       "    <tr>\n",
       "      <th>3</th>\n",
       "      <td>1015425</td>\n",
       "      <td>3</td>\n",
       "      <td>1</td>\n",
       "      <td>1</td>\n",
       "      <td>1</td>\n",
       "      <td>2</td>\n",
       "      <td>2</td>\n",
       "      <td>3</td>\n",
       "      <td>1</td>\n",
       "      <td>1</td>\n",
       "      <td>benign</td>\n",
       "    </tr>\n",
       "    <tr>\n",
       "      <th>4</th>\n",
       "      <td>1016277</td>\n",
       "      <td>6</td>\n",
       "      <td>8</td>\n",
       "      <td>8</td>\n",
       "      <td>1</td>\n",
       "      <td>3</td>\n",
       "      <td>4</td>\n",
       "      <td>3</td>\n",
       "      <td>7</td>\n",
       "      <td>1</td>\n",
       "      <td>benign</td>\n",
       "    </tr>\n",
       "    <tr>\n",
       "      <th>5</th>\n",
       "      <td>1017023</td>\n",
       "      <td>4</td>\n",
       "      <td>1</td>\n",
       "      <td>1</td>\n",
       "      <td>3</td>\n",
       "      <td>2</td>\n",
       "      <td>1</td>\n",
       "      <td>3</td>\n",
       "      <td>1</td>\n",
       "      <td>1</td>\n",
       "      <td>benign</td>\n",
       "    </tr>\n",
       "    <tr>\n",
       "      <th>...</th>\n",
       "      <td>...</td>\n",
       "      <td>...</td>\n",
       "      <td>...</td>\n",
       "      <td>...</td>\n",
       "      <td>...</td>\n",
       "      <td>...</td>\n",
       "      <td>...</td>\n",
       "      <td>...</td>\n",
       "      <td>...</td>\n",
       "      <td>...</td>\n",
       "      <td>...</td>\n",
       "    </tr>\n",
       "    <tr>\n",
       "      <th>695</th>\n",
       "      <td>776715</td>\n",
       "      <td>3</td>\n",
       "      <td>1</td>\n",
       "      <td>1</td>\n",
       "      <td>1</td>\n",
       "      <td>3</td>\n",
       "      <td>2</td>\n",
       "      <td>1</td>\n",
       "      <td>1</td>\n",
       "      <td>1</td>\n",
       "      <td>benign</td>\n",
       "    </tr>\n",
       "    <tr>\n",
       "      <th>696</th>\n",
       "      <td>841769</td>\n",
       "      <td>2</td>\n",
       "      <td>1</td>\n",
       "      <td>1</td>\n",
       "      <td>1</td>\n",
       "      <td>2</td>\n",
       "      <td>1</td>\n",
       "      <td>1</td>\n",
       "      <td>1</td>\n",
       "      <td>1</td>\n",
       "      <td>benign</td>\n",
       "    </tr>\n",
       "    <tr>\n",
       "      <th>697</th>\n",
       "      <td>888820</td>\n",
       "      <td>5</td>\n",
       "      <td>10</td>\n",
       "      <td>10</td>\n",
       "      <td>3</td>\n",
       "      <td>7</td>\n",
       "      <td>3</td>\n",
       "      <td>8</td>\n",
       "      <td>10</td>\n",
       "      <td>2</td>\n",
       "      <td>malignant</td>\n",
       "    </tr>\n",
       "    <tr>\n",
       "      <th>698</th>\n",
       "      <td>897471</td>\n",
       "      <td>4</td>\n",
       "      <td>8</td>\n",
       "      <td>6</td>\n",
       "      <td>4</td>\n",
       "      <td>3</td>\n",
       "      <td>4</td>\n",
       "      <td>10</td>\n",
       "      <td>6</td>\n",
       "      <td>1</td>\n",
       "      <td>malignant</td>\n",
       "    </tr>\n",
       "    <tr>\n",
       "      <th>699</th>\n",
       "      <td>897471</td>\n",
       "      <td>4</td>\n",
       "      <td>8</td>\n",
       "      <td>8</td>\n",
       "      <td>5</td>\n",
       "      <td>4</td>\n",
       "      <td>5</td>\n",
       "      <td>10</td>\n",
       "      <td>4</td>\n",
       "      <td>1</td>\n",
       "      <td>malignant</td>\n",
       "    </tr>\n",
       "  </tbody>\n",
       "</table>\n",
       "<p>699 rows × 11 columns</p>\n",
       "</div>"
      ],
      "text/plain": [
       "          Id Cl.thickness Cell.size Cell.shape Marg.adhesion Epith.c.size  \\\n",
       "1    1000025            5         1          1             1            2   \n",
       "2    1002945            5         4          4             5            7   \n",
       "3    1015425            3         1          1             1            2   \n",
       "4    1016277            6         8          8             1            3   \n",
       "5    1017023            4         1          1             3            2   \n",
       "..       ...          ...       ...        ...           ...          ...   \n",
       "695   776715            3         1          1             1            3   \n",
       "696   841769            2         1          1             1            2   \n",
       "697   888820            5        10         10             3            7   \n",
       "698   897471            4         8          6             4            3   \n",
       "699   897471            4         8          8             5            4   \n",
       "\n",
       "    Bare.nuclei Bl.cromatin Normal.nucleoli Mitoses      Class  \n",
       "1             1           3               1       1     benign  \n",
       "2            10           3               2       1     benign  \n",
       "3             2           3               1       1     benign  \n",
       "4             4           3               7       1     benign  \n",
       "5             1           3               1       1     benign  \n",
       "..          ...         ...             ...     ...        ...  \n",
       "695           2           1               1       1     benign  \n",
       "696           1           1               1       1     benign  \n",
       "697           3           8              10       2  malignant  \n",
       "698           4          10               6       1  malignant  \n",
       "699           5          10               4       1  malignant  \n",
       "\n",
       "[699 rows x 11 columns]"
      ]
     },
     "execution_count": 4,
     "metadata": {},
     "output_type": "execute_result"
    }
   ],
   "source": [
    "Breast_Cancer_R_df = ro.r['BreastCancer'] # Pegando o dataset R, e o colocando em 1 variável robject dataframe.\n",
    "with (ro.default_converter + pandas2ri.converter).context():\n",
    "    Breast_Cancer_2_pandas = ro.conversion.get_conversion().rpy2py(Breast_Cancer_R_df) # Convertendo em 1 dataset pandas.\n",
    "Breast_Cancer_2_pandas"
   ]
  },
  {
   "cell_type": "markdown",
   "id": "4b5b321c-5d34-4867-8eff-8528fa1e6985",
   "metadata": {},
   "source": [
    "##### Manipulando o dataset, e passando as variáveis categóricas para numéricas."
   ]
  },
  {
   "cell_type": "code",
   "execution_count": 7,
   "id": "f41e9ee3-01ab-480c-8dc7-4bf9b9630266",
   "metadata": {},
   "outputs": [
    {
     "data": {
      "text/html": [
       "<div>\n",
       "<style scoped>\n",
       "    .dataframe tbody tr th:only-of-type {\n",
       "        vertical-align: middle;\n",
       "    }\n",
       "\n",
       "    .dataframe tbody tr th {\n",
       "        vertical-align: top;\n",
       "    }\n",
       "\n",
       "    .dataframe thead th {\n",
       "        text-align: right;\n",
       "    }\n",
       "</style>\n",
       "<table border=\"1\" class=\"dataframe\">\n",
       "  <thead>\n",
       "    <tr style=\"text-align: right;\">\n",
       "      <th></th>\n",
       "      <th>Id</th>\n",
       "      <th>Cl.thickness</th>\n",
       "      <th>Cell.size</th>\n",
       "      <th>Cell.shape</th>\n",
       "      <th>Marg.adhesion</th>\n",
       "      <th>Epith.c.size</th>\n",
       "      <th>Bare.nuclei</th>\n",
       "      <th>Bl.cromatin</th>\n",
       "      <th>Normal.nucleoli</th>\n",
       "      <th>Mitoses</th>\n",
       "      <th>Class</th>\n",
       "    </tr>\n",
       "  </thead>\n",
       "  <tbody>\n",
       "    <tr>\n",
       "      <th>1</th>\n",
       "      <td>1000025</td>\n",
       "      <td>5</td>\n",
       "      <td>1</td>\n",
       "      <td>1</td>\n",
       "      <td>1</td>\n",
       "      <td>2</td>\n",
       "      <td>1</td>\n",
       "      <td>3</td>\n",
       "      <td>1</td>\n",
       "      <td>1</td>\n",
       "      <td>0</td>\n",
       "    </tr>\n",
       "    <tr>\n",
       "      <th>2</th>\n",
       "      <td>1002945</td>\n",
       "      <td>5</td>\n",
       "      <td>4</td>\n",
       "      <td>4</td>\n",
       "      <td>5</td>\n",
       "      <td>7</td>\n",
       "      <td>10</td>\n",
       "      <td>3</td>\n",
       "      <td>2</td>\n",
       "      <td>1</td>\n",
       "      <td>0</td>\n",
       "    </tr>\n",
       "    <tr>\n",
       "      <th>3</th>\n",
       "      <td>1015425</td>\n",
       "      <td>3</td>\n",
       "      <td>1</td>\n",
       "      <td>1</td>\n",
       "      <td>1</td>\n",
       "      <td>2</td>\n",
       "      <td>2</td>\n",
       "      <td>3</td>\n",
       "      <td>1</td>\n",
       "      <td>1</td>\n",
       "      <td>0</td>\n",
       "    </tr>\n",
       "    <tr>\n",
       "      <th>4</th>\n",
       "      <td>1016277</td>\n",
       "      <td>6</td>\n",
       "      <td>8</td>\n",
       "      <td>8</td>\n",
       "      <td>1</td>\n",
       "      <td>3</td>\n",
       "      <td>4</td>\n",
       "      <td>3</td>\n",
       "      <td>7</td>\n",
       "      <td>1</td>\n",
       "      <td>0</td>\n",
       "    </tr>\n",
       "    <tr>\n",
       "      <th>5</th>\n",
       "      <td>1017023</td>\n",
       "      <td>4</td>\n",
       "      <td>1</td>\n",
       "      <td>1</td>\n",
       "      <td>3</td>\n",
       "      <td>2</td>\n",
       "      <td>1</td>\n",
       "      <td>3</td>\n",
       "      <td>1</td>\n",
       "      <td>1</td>\n",
       "      <td>0</td>\n",
       "    </tr>\n",
       "    <tr>\n",
       "      <th>...</th>\n",
       "      <td>...</td>\n",
       "      <td>...</td>\n",
       "      <td>...</td>\n",
       "      <td>...</td>\n",
       "      <td>...</td>\n",
       "      <td>...</td>\n",
       "      <td>...</td>\n",
       "      <td>...</td>\n",
       "      <td>...</td>\n",
       "      <td>...</td>\n",
       "      <td>...</td>\n",
       "    </tr>\n",
       "    <tr>\n",
       "      <th>695</th>\n",
       "      <td>776715</td>\n",
       "      <td>3</td>\n",
       "      <td>1</td>\n",
       "      <td>1</td>\n",
       "      <td>1</td>\n",
       "      <td>3</td>\n",
       "      <td>2</td>\n",
       "      <td>1</td>\n",
       "      <td>1</td>\n",
       "      <td>1</td>\n",
       "      <td>0</td>\n",
       "    </tr>\n",
       "    <tr>\n",
       "      <th>696</th>\n",
       "      <td>841769</td>\n",
       "      <td>2</td>\n",
       "      <td>1</td>\n",
       "      <td>1</td>\n",
       "      <td>1</td>\n",
       "      <td>2</td>\n",
       "      <td>1</td>\n",
       "      <td>1</td>\n",
       "      <td>1</td>\n",
       "      <td>1</td>\n",
       "      <td>0</td>\n",
       "    </tr>\n",
       "    <tr>\n",
       "      <th>697</th>\n",
       "      <td>888820</td>\n",
       "      <td>5</td>\n",
       "      <td>10</td>\n",
       "      <td>10</td>\n",
       "      <td>3</td>\n",
       "      <td>7</td>\n",
       "      <td>3</td>\n",
       "      <td>8</td>\n",
       "      <td>10</td>\n",
       "      <td>2</td>\n",
       "      <td>1</td>\n",
       "    </tr>\n",
       "    <tr>\n",
       "      <th>698</th>\n",
       "      <td>897471</td>\n",
       "      <td>4</td>\n",
       "      <td>8</td>\n",
       "      <td>6</td>\n",
       "      <td>4</td>\n",
       "      <td>3</td>\n",
       "      <td>4</td>\n",
       "      <td>10</td>\n",
       "      <td>6</td>\n",
       "      <td>1</td>\n",
       "      <td>1</td>\n",
       "    </tr>\n",
       "    <tr>\n",
       "      <th>699</th>\n",
       "      <td>897471</td>\n",
       "      <td>4</td>\n",
       "      <td>8</td>\n",
       "      <td>8</td>\n",
       "      <td>5</td>\n",
       "      <td>4</td>\n",
       "      <td>5</td>\n",
       "      <td>10</td>\n",
       "      <td>4</td>\n",
       "      <td>1</td>\n",
       "      <td>1</td>\n",
       "    </tr>\n",
       "  </tbody>\n",
       "</table>\n",
       "<p>699 rows × 11 columns</p>\n",
       "</div>"
      ],
      "text/plain": [
       "          Id Cl.thickness Cell.size Cell.shape Marg.adhesion Epith.c.size  \\\n",
       "1    1000025            5         1          1             1            2   \n",
       "2    1002945            5         4          4             5            7   \n",
       "3    1015425            3         1          1             1            2   \n",
       "4    1016277            6         8          8             1            3   \n",
       "5    1017023            4         1          1             3            2   \n",
       "..       ...          ...       ...        ...           ...          ...   \n",
       "695   776715            3         1          1             1            3   \n",
       "696   841769            2         1          1             1            2   \n",
       "697   888820            5        10         10             3            7   \n",
       "698   897471            4         8          6             4            3   \n",
       "699   897471            4         8          8             5            4   \n",
       "\n",
       "    Bare.nuclei Bl.cromatin Normal.nucleoli Mitoses Class  \n",
       "1             1           3               1       1     0  \n",
       "2            10           3               2       1     0  \n",
       "3             2           3               1       1     0  \n",
       "4             4           3               7       1     0  \n",
       "5             1           3               1       1     0  \n",
       "..          ...         ...             ...     ...   ...  \n",
       "695           2           1               1       1     0  \n",
       "696           1           1               1       1     0  \n",
       "697           3           8              10       2     1  \n",
       "698           4          10               6       1     1  \n",
       "699           5          10               4       1     1  \n",
       "\n",
       "[699 rows x 11 columns]"
      ]
     },
     "execution_count": 7,
     "metadata": {},
     "output_type": "execute_result"
    }
   ],
   "source": [
    "Breast_Cancer_2_pandas['Class'] = Breast_Cancer_2_pandas['Class'].astype(str)\n",
    "Breast_Cancer_2_pandas['Class'] = Breast_Cancer_2_pandas['Class'].replace({'benign': 0, 'malignant': 1}).infer_objects(copy=False)\n",
    "Breast_Cancer_2_pandas"
   ]
  },
  {
   "cell_type": "code",
   "execution_count": 6,
   "id": "9cb11821-cfad-42bc-b2e9-936e64a7c908",
   "metadata": {},
   "outputs": [
    {
     "data": {
      "text/plain": [
       "Class\n",
       "0    458\n",
       "1    241\n",
       "Name: count, dtype: int64"
      ]
     },
     "execution_count": 6,
     "metadata": {},
     "output_type": "execute_result"
    }
   ],
   "source": [
    "Breast_Cancer_2_pandas['Class'].value_counts()"
   ]
  },
  {
   "cell_type": "code",
   "execution_count": 177,
   "id": "1d6c868c-b397-4c0c-9138-4f2d692aa761",
   "metadata": {},
   "outputs": [
    {
     "data": {
      "text/plain": [
       "Id                  0\n",
       "Cl.thickness        0\n",
       "Cell.size           0\n",
       "Cell.shape          0\n",
       "Marg.adhesion       0\n",
       "Epith.c.size        0\n",
       "Bare.nuclei        16\n",
       "Bl.cromatin         0\n",
       "Normal.nucleoli     0\n",
       "Mitoses             0\n",
       "Class               0\n",
       "dtype: int64"
      ]
     },
     "execution_count": 177,
     "metadata": {},
     "output_type": "execute_result"
    }
   ],
   "source": [
    "Breast_Cancer_2_pandas.isna().sum() # Há 16 valores NaN na coluna Bare.nuclei."
   ]
  },
  {
   "cell_type": "code",
   "execution_count": 178,
   "id": "0e711cb5-2125-4fe2-8a49-4e4392056ca4",
   "metadata": {},
   "outputs": [
    {
     "name": "stdout",
     "output_type": "stream",
     "text": [
      "Maximum value: 10.0\n",
      "Minimum value: 1.0\n",
      "Median value: 1.0\n"
     ]
    }
   ],
   "source": [
    "Breast_Cancer_2_pandas['Bare.nuclei'] = pd.to_numeric(Breast_Cancer_2_pandas['Bare.nuclei'])\n",
    "max_value = Breast_Cancer_2_pandas['Bare.nuclei'].max()\n",
    "min_value = Breast_Cancer_2_pandas['Bare.nuclei'].min()\n",
    "median_value = Breast_Cancer_2_pandas['Bare.nuclei'].median()\n",
    "print(\"Maximum value:\", max_value)\n",
    "print(\"Minimum value:\", min_value)\n",
    "print(\"Median value:\", median_value)"
   ]
  },
  {
   "cell_type": "code",
   "execution_count": 179,
   "id": "b102e7c4-508c-4b4d-a592-7c75ef65a2be",
   "metadata": {},
   "outputs": [],
   "source": [
    "Breast_Cancer_2_pandas['Bare.nuclei'] = Breast_Cancer_2_pandas['Bare.nuclei'].fillna(median_value).infer_objects(copy=False)\n",
    "Breast_Cancer_2_pandas = Breast_Cancer_2_pandas.astype(int)"
   ]
  },
  {
   "cell_type": "markdown",
   "id": "4a422ee0-a819-4420-9293-c1e1e94e6b53",
   "metadata": {},
   "source": [
    "#### Criando os dados que alimentarão o modelo para treino e teste."
   ]
  },
  {
   "cell_type": "code",
   "execution_count": 180,
   "id": "0ec26020-1e53-45ba-858a-608ae945398d",
   "metadata": {},
   "outputs": [],
   "source": [
    "xin = np.array(Breast_Cancer_2_pandas.iloc[:, 1 : 10]) # Pegando todas as colunas com exceção da última e o id, o id não influencia.\n",
    "y_real = np.array(Breast_Cancer_2_pandas.iloc[:, -1]) # Pegando a ultima coluna (label).\n",
    "n_data_train = 490 # 70% dos dados sao de treino.\n",
    "random_data = np.random.permutation(y_real.shape[0]) - 1 # Embaralhando a sequencia de dados de entrada para treino e teste.\n",
    "x_train = xin[random_data[: n_data_train]]\n",
    "y_train = y_real[random_data[: n_data_train]]\n",
    "x_test = xin[random_data[n_data_train : ]]\n",
    "y_test = y_real[random_data[n_data_train :]]"
   ]
  },
  {
   "cell_type": "markdown",
   "id": "6edd8008-cb37-4592-a709-2a3ee466a597",
   "metadata": {},
   "source": [
    "#### Função para treinar meu perceptron."
   ]
  },
  {
   "cell_type": "code",
   "execution_count": 181,
   "id": "5c7da39e-dd81-4e73-a8b8-85f9984ca3ba",
   "metadata": {},
   "outputs": [],
   "source": [
    "def train_perceptron(x_inp : np.array, yi : np.array, learn_rate : float, tol : float, max_epochs : int, control_var : bool):\n",
    "    dim = list(x_inp.shape)\n",
    "    try:\n",
    "        n_rows = dim[0]\n",
    "        n_cols = dim[1]\n",
    "    except Exception as error:\n",
    "        if error == \"IndexError\":\n",
    "            print(\"Now, you don't have cols, so we will change it...\\n\")\n",
    "            n_cols = 1\n",
    "        else:\n",
    "            print(f\"The error {error} is hapenning \\n\")\n",
    "            print(\"Breaking the program...\")\n",
    "            sys.exit()\n",
    "    finally:\n",
    "        if control_var == True:\n",
    "            w = np.random.uniform(size = n_cols + 1) - 0.5\n",
    "            x_inp = np.column_stack([x_inp, np.ones_like(x_inp[:, 0])])\n",
    "        else:\n",
    "            w = np.random.uniform(size = n_cols) - 0.5\n",
    "        n_epochs = 0\n",
    "        err_epoch = tol + 1\n",
    "        lst_errors = np.zeros((max_epochs))\n",
    "        #lst_outs = np.zeros((n_rows))\n",
    "        aux = 0\n",
    "        while ((n_epochs < max_epochs) and (err_epoch > tol)):\n",
    "            error_grad = 0\n",
    "            rand_order = np.random.permutation(n_rows)\n",
    "            for i in range(n_rows):\n",
    "                # Escolhendo 1 ordem aleatória.\n",
    "                i_rand = rand_order[i]\n",
    "                x_val = x_inp[i_rand, :]\n",
    "                y_hat = 1 if np.dot(x_val, w) >=0 else 0\n",
    "                err = (yi[i_rand] - y_hat)\n",
    "                dw = (learn_rate*err*x_val)\n",
    "                w = w + dw\n",
    "                error_grad = error_grad + (err**2)\n",
    "                if aux == max_epochs - 1:\n",
    "                    lst_outs = y_hat\n",
    "                aux += 1\n",
    "            lst_errors[n_epochs] = error_grad / n_rows # Pegando o erro médio do gradiente descendente para cada epoch.\n",
    "            n_epochs += 1\n",
    "        return (w, lst_errors, lst_outs)\n",
    "    "
   ]
  },
  {
   "cell_type": "markdown",
   "id": "01ef7ba6-8204-45a8-9876-8e9f852289ff",
   "metadata": {},
   "source": [
    "#### Função para testar o meu perceptron."
   ]
  },
  {
   "cell_type": "code",
   "execution_count": 8,
   "id": "ca52df5b-9717-4942-a7f1-aae9db003ded",
   "metadata": {},
   "outputs": [],
   "source": [
    "def y_perceptron(x_inp : np.array, w : np.array, control_var : bool):\n",
    "    try : \n",
    "        n_rows = x_inp.shape[0]\n",
    "        n_cols = x_inp.shape[1]\n",
    "    except Exception as error:\n",
    "        print(f\"The error {error} is happening ...\")\n",
    "        n_cols = 1\n",
    "        x_inp = x_inp.reshape(-1, 1)\n",
    "    finally:\n",
    "        if control_var == True:\n",
    "            x_inp = np.column_stack([x_inp, np.ones_like(x_inp[:, 0])])\n",
    "        u = np.dot(x_inp, w)\n",
    "        y = np.where(u >=0, 1, 0)\n",
    "        return y"
   ]
  },
  {
   "cell_type": "markdown",
   "id": "088d956d-193c-4941-88b7-4d740b0894bc",
   "metadata": {},
   "source": [
    "#### Treinando o meu perceptron."
   ]
  },
  {
   "cell_type": "code",
   "execution_count": 183,
   "id": "18cce5b3-0f29-43a2-8254-eb5f0cd37a40",
   "metadata": {},
   "outputs": [],
   "source": [
    "retlist = train_perceptron(x_train, y_train, 0.01, 0.7, 1000, True)\n",
    "w = np.array(retlist[0])\n",
    "lst_errors = np.array(retlist[1])"
   ]
  },
  {
   "cell_type": "code",
   "execution_count": null,
   "id": "dc6cf736-3c51-4d3e-bf0c-cd54b3b4c4f2",
   "metadata": {},
   "outputs": [],
   "source": [
    "yhatrain = y_perceptron(x_train, w, True)\n",
    "acuracy = 1 - (np.transpose(y_train - yhatrain) @ (y_train - yhatrain)) / (n_data_train)\n",
    "print(acuracy)"
   ]
  },
  {
   "cell_type": "markdown",
   "id": "3485802c-c213-48a0-a6a3-d2a8a9a68123",
   "metadata": {},
   "source": [
    "#### Testando o meu perceptron."
   ]
  },
  {
   "cell_type": "code",
   "execution_count": 184,
   "id": "1790e41e-cfc2-49dc-bd78-67574cfc5d11",
   "metadata": {},
   "outputs": [],
   "source": [
    "y_hat = y_perceptron(x_test, w, True)"
   ]
  },
  {
   "cell_type": "code",
   "execution_count": 185,
   "id": "aa192a56-0083-46f5-bcd4-164763c24a3b",
   "metadata": {},
   "outputs": [
    {
     "name": "stdout",
     "output_type": "stream",
     "text": [
      "There was 4 errors...\n"
     ]
    }
   ],
   "source": [
    "sum = 0\n",
    "for (index,value) in enumerate(y_hat):\n",
    "    if value != y_test[index]:\n",
    "        sum += 1\n",
    "print(f\"There was {sum} errors...\")"
   ]
  },
  {
   "cell_type": "code",
   "execution_count": 186,
   "id": "e5dca3c9-f55d-497e-a6f9-582be97577cb",
   "metadata": {},
   "outputs": [
    {
     "name": "stdout",
     "output_type": "stream",
     "text": [
      "1.011764705882353\n"
     ]
    },
    {
     "data": {
      "image/png": "[encoded data removed]",
      "text/plain": [
       "<Figure size 640x480 with 2 Axes>"
      ]
     },
     "metadata": {},
     "output_type": "display_data"
    }
   ],
   "source": [
    "from sklearn import metrics\n",
    "confusion_matrix = metrics.confusion_matrix(y_test, y_hat)\n",
    "cm_display = metrics.ConfusionMatrixDisplay(confusion_matrix = confusion_matrix, display_labels = [False, True])\n",
    "cm_display.plot()\n",
    "acuracy = 1 - (np.transpose(y_test - y_hat) @ (y_test - y_hat)) / (150 - n_data_train)\n",
    "print(acuracy)\n",
    "plt.show()"
   ]
  }
 ],
 "metadata": {
  "kernelspec": {
   "display_name": "Python 3 (ipykernel)",
   "language": "python",
   "name": "python3"
  },
  "language_info": {
   "codemirror_mode": {
    "name": "ipython",
    "version": 3
   },
   "file_extension": ".py",
   "mimetype": "text/x-python",
   "name": "python",
   "nbconvert_exporter": "python",
   "pygments_lexer": "ipython3",
   "version": "3.10.12"
  }
 },
 "nbformat": 4,
 "nbformat_minor": 5
}
