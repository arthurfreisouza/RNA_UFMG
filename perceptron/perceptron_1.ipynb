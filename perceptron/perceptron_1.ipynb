{
 "cells": [
  {
   "cell_type": "code",
   "execution_count": 39,
   "id": "1be3cc1b-df12-4706-9d21-703941990636",
   "metadata": {},
   "outputs": [],
   "source": [
    "import numpy as np\n",
    "import matplotlib.pyplot as plt\n",
    "import pandas as pd\n",
    "import sys"
   ]
  },
  {
   "cell_type": "code",
   "execution_count": 40,
   "id": "aea5c652-85dd-4197-acdc-a61cf024d12b",
   "metadata": {},
   "outputs": [],
   "source": [
    "def train_perceptron(x_inputs : np.array, yd : np.ndarray, learning_rate : float, tol : float, max_epochs : int, control_var : bool):\n",
    "    dim = list(x_inputs.shape)\n",
    "    try : \n",
    "        n_rows = dim[0] # Número de dados de entrada.\n",
    "        n_cols = dim[1] # Número de valores dos dados de entrada.\n",
    "    except Exception as error:\n",
    "        print(f\"The error {error} is happening.\")\n",
    "        if error == \"IndexError\":\n",
    "            n_cols = 1\n",
    "        else:\n",
    "            sys.exit()\n",
    "    finally : \n",
    "        if control_var == True: # Indicará que terá 1 threshold relacionado.\n",
    "            w = np.random.uniform(size = n_cols + 1) - 0.5 # Criando o vetor de peso aleatoriamente, ele conterá 1 coluna a mais.\n",
    "            x_inputs = np.column_stack([x_inputs, -np.ones_like(x_inputs[: , 0])])\n",
    "        else:\n",
    "            w = np.random.uniform(size = n_cols) - 0.5 # Criando o vetor de pesos aleatóriamente e não conterá a coluna de pesos a mais.\n",
    "        n_epochs = 0\n",
    "        err_epoch = tol + 1\n",
    "        lst_errors = np.zeros((max_epochs))\n",
    "\n",
    "        while((n_epochs < max_epochs) and (err_epoch > tol)):\n",
    "            err_grad = 0\n",
    "            order_changed = np.random.permutation(n_cols)\n",
    "            for i in range(n_cols):\n",
    "                i_rand = order_changed[i]\n",
    "                x_val = x_inputs[i_rand, : ]\n",
    "                y_hat = x_val @ w\n",
    "                err = (yd[i_rand] - y_hat)\n",
    "                dw = (learning_rate*err*x_inputs[i_rand, :])\n",
    "                w = w + dw\n",
    "                err_grad = err_grad + (err * err)\n",
    "            lst_errors[n_epochs] = err_grad / n_cols\n",
    "            n_epochs += 1\n",
    "        return (w, lst_errors)\n",
    "                \n",
    "        "
   ]
  },
  {
   "cell_type": "code",
   "execution_count": 41,
   "id": "4cbc9720-1755-4179-842c-7f0398fd326d",
   "metadata": {},
   "outputs": [],
   "source": [
    "#df = pd.read_csv(\"Iris.csv\")"
   ]
  },
  {
   "cell_type": "code",
   "execution_count": 42,
   "id": "d1a702a2-6783-4101-b232-e0617ba75133",
   "metadata": {},
   "outputs": [],
   "source": [
    "xc1 = np.array([0.3*np.random.randn(60) + 2]).reshape(-1, 2)\n",
    "xc2 = np.array([0.3*np.random.randn(60) + 4]).reshape(-1, 2)"
   ]
  },
  {
   "cell_type": "code",
   "execution_count": 43,
   "id": "b43b28be-8c99-4114-a68b-b7bf5d7e1f3c",
   "metadata": {},
   "outputs": [
    {
     "data": {
      "text/plain": [
       "<matplotlib.legend.Legend at 0x7f4c6548cb20>"
      ]
     },
     "execution_count": 43,
     "metadata": {},
     "output_type": "execute_result"
    },
    {
     "data": {
      "image/png": "[encoded data removed]",
      "text/plain": [
       "<Figure size 640x480 with 1 Axes>"
      ]
     },
     "metadata": {},
     "output_type": "display_data"
    }
   ],
   "source": [
    "plt.scatter(xc1[:, 0], xc1[:, 1], label = 'class1')\n",
    "plt.scatter(xc2[:, 0], xc2[:, 1], label = 'class2')\n",
    "plt.xlabel('xpos')\n",
    "plt.ylabel('ypos')\n",
    "plt.title('Separador linear')\n",
    "plt.legend()"
   ]
  },
  {
   "cell_type": "code",
   "execution_count": 44,
   "id": "793aa9f5-d26e-4f6c-acfb-dee69b8ff985",
   "metadata": {},
   "outputs": [
    {
     "data": {
      "text/plain": [
       "(60,)"
      ]
     },
     "execution_count": 44,
     "metadata": {},
     "output_type": "execute_result"
    }
   ],
   "source": [
    "xall = np.concatenate((xc1, xc2), axis = 0)\n",
    "yall = np.concatenate((np.zeros(len(xc1)), np.ones(len(xc2))))\n",
    "yall.shape"
   ]
  },
  {
   "cell_type": "code",
   "execution_count": 45,
   "id": "51e6a7bf-3723-4285-a09e-6b67fbf4ceb3",
   "metadata": {},
   "outputs": [
    {
     "data": {
      "text/plain": [
       "array([-0.00731534, -0.08786255, -0.22884092])"
      ]
     },
     "execution_count": 45,
     "metadata": {},
     "output_type": "execute_result"
    }
   ],
   "source": [
    "w, error_grad = train_perceptron(xall, yall, 0.1, 0.1, 10000, True)\n",
    "w"
   ]
  },
  {
   "cell_type": "code",
   "execution_count": 46,
   "id": "7b59d0a8-4c63-415c-abe8-95a2d283b2f7",
   "metadata": {},
   "outputs": [
    {
     "data": {
      "text/plain": [
       "array([0, 0, 1, 1, 1, 1, 1, 1, 1, 1, 1, 1, 1, 1, 1, 1, 1, 1, 1, 1, 1, 1,\n",
       "       1, 1, 1, 1, 1, 0, 1, 1, 0, 0, 0, 0, 0, 0, 0, 0, 0, 0, 0, 0, 0, 0,\n",
       "       0, 0, 0, 0, 0, 0, 0, 0, 0, 0, 0, 0, 0, 0, 0, 0])"
      ]
     },
     "execution_count": 46,
     "metadata": {},
     "output_type": "execute_result"
    }
   ],
   "source": [
    "xall_plus = np.column_stack([xall, -np.ones_like(xall[:, 1])])\n",
    "y_model = 1*((xall_plus @ w) > 0)\n",
    "y_model"
   ]
  },
  {
   "cell_type": "code",
   "execution_count": 50,
   "id": "47a5e24b-8f24-48e2-be76-d4e260080b8d",
   "metadata": {},
   "outputs": [
    {
     "data": {
      "text/plain": [
       "<matplotlib.collections.PathCollection at 0x7f4c64fbf7f0>"
      ]
     },
     "execution_count": 50,
     "metadata": {},
     "output_type": "execute_result"
    },
    {
     "data": {
      "image/png": "[encoded data removed]",
      "text/plain": [
       "<Figure size 640x480 with 1 Axes>"
      ]
     },
     "metadata": {},
     "output_type": "display_data"
    }
   ],
   "source": [
    "plt.scatter(xall_plus[:, 0], xall_plus[:, 1], color = 'red')"
   ]
  },
  {
   "cell_type": "code",
   "execution_count": null,
   "id": "72d16f84-9eef-4903-be34-de107e77b739",
   "metadata": {},
   "outputs": [],
   "source": [
    "plt.scatter(xall_plus[:, 0], y_model, color = 'red')"
   ]
  },
  {
   "cell_type": "code",
   "execution_count": null,
   "id": "3c8c616e-04f8-4aaa-9451-cba64d683888",
   "metadata": {},
   "outputs": [],
   "source": []
  },
  {
   "cell_type": "code",
   "execution_count": null,
   "id": "beda15ea-c9a5-4a85-a844-08b40c6ad377",
   "metadata": {},
   "outputs": [],
   "source": []
  },
  {
   "cell_type": "code",
   "execution_count": null,
   "id": "d74c063a-2575-4547-89ba-04d46bc5a39c",
   "metadata": {},
   "outputs": [],
   "source": []
  },
  {
   "cell_type": "code",
   "execution_count": null,
   "id": "a470e28b-6b92-465c-a33e-a269d18cb0c3",
   "metadata": {},
   "outputs": [],
   "source": []
  }
 ],
 "metadata": {
  "kernelspec": {
   "display_name": "Python 3 (ipykernel)",
   "language": "python",
   "name": "python3"
  },
  "language_info": {
   "codemirror_mode": {
    "name": "ipython",
    "version": 3
   },
   "file_extension": ".py",
   "mimetype": "text/x-python",
   "name": "python",
   "nbconvert_exporter": "python",
   "pygments_lexer": "ipython3",
   "version": "3.10.12"
  }
 },
 "nbformat": 4,
 "nbformat_minor": 5
}
