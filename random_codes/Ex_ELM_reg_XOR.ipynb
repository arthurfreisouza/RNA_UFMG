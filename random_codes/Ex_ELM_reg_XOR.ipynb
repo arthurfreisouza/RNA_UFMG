{
 "cells": [
  {
   "cell_type": "code",
   "execution_count": 1,
   "id": "e65f8d7a-a6ea-4795-ae6e-36abc8464f72",
   "metadata": {},
   "outputs": [],
   "source": [
    "import numpy as np\n",
    "import matplotlib.pyplot as plt\n",
    "import pandas as pd\n",
    "import rpy2.robjects as ro\n",
    "from functools import partial\n",
    "from rpy2.robjects import pandas2ri\n",
    "from rpy2.robjects.packages import importr\n",
    "from rpy2.ipython import html\n",
    "html.html_rdataframe = partial(html.html_rdataframe, table_class = \"docutils\")\n",
    "%load_ext rpy2.ipython"
   ]
  },
  {
   "cell_type": "code",
   "execution_count": 2,
   "id": "3eaffa7b-7cc0-4759-a7c7-e29e20d058ce",
   "metadata": {},
   "outputs": [
    {
     "data": {
      "text/plain": [
       "In addition: Warning message:\n",
       "In (function (package, help, pos = 2, lib.loc = NULL, character.only = FALSE,  :\n",
       "  library ‘/usr/lib/R/site-library’ contains no packages\n"
      ]
     },
     "metadata": {},
     "output_type": "display_data"
    }
   ],
   "source": [
    "%%R\n",
    "library(mlbench)\n",
    "datasetxor <- mlbench.xor(100)\n",
    "XR_datasetxor <- datasetxor$x\n",
    "LABELSR_datasetxor<- datasetxor$classes"
   ]
  },
  {
   "cell_type": "code",
   "execution_count": 3,
   "id": "4fe6b7e6-fa5a-4f7a-8ba8-b129a26bfa74",
   "metadata": {},
   "outputs": [],
   "source": [
    "from rpy2.robjects import numpy2ri\n",
    "numpy2ri.activate()\n",
    "x_df_xor = np.array(ro.r['XR_datasetxor'])\n",
    "labels_df_xor = np.array(ro.r['LABELSR_datasetxor'])\n",
    "labels_df_xor[labels_df_xor == 1] = -1\n",
    "labels_df_xor[labels_df_xor == 2] = 1"
   ]
  },
  {
   "cell_type": "code",
   "execution_count": 4,
   "id": "2479beb4-a73e-468c-8377-e4a696776ce3",
   "metadata": {},
   "outputs": [],
   "source": [
    "from sklearn.model_selection import train_test_split\n",
    "X_trainxor, X_testxor, y_trainxor, y_testxor = train_test_split(x_df_xor, labels_df_xor, random_state = 0, train_size = 0.7)"
   ]
  },
  {
   "cell_type": "code",
   "execution_count": 5,
   "id": "438354ba-d55f-41f7-89ef-048fc8ae61a0",
   "metadata": {},
   "outputs": [],
   "source": [
    "def train_ELM(xin : np.ndarray, yin : np.ndarray, p : int, control : bool, lam : float) -> list:\n",
    "    n = xin.shape[1]\n",
    "    \n",
    "    if control == True:\n",
    "        Z = np.array([np.random.uniform(-0.5, 0.5) for _ in range((n + 1) * p)]).reshape(n + 1, -1)\n",
    "        ones = np.ones((xin.shape[0], 1))\n",
    "        xin = np.concatenate((xin,ones), axis = 1)\n",
    "    else:\n",
    "        Z = np.array([np.random.uniform(-0.5, 0.5) for _ in range(n * p)]).reshape(n , -1)\n",
    "\n",
    "    H = np.tanh(np.dot(xin, Z))\n",
    "    ones = np.ones((H.shape[0], 1))\n",
    "    H = np.concatenate((H, ones), axis = 1)\n",
    "\n",
    "    diagonal_matrix = lam * np.eye(H.shape[1])\n",
    "    # w = (HT H + λIp)^(-1)HT y\n",
    "    w1 = np.linalg.inv(np.dot(np.transpose(H), H) + diagonal_matrix)\n",
    "    w1 = np.linalg.inv(np.dot(np.transpose(H), H) + diagonal_matrix)\n",
    "    w = np.dot(w1, np.dot(np.transpose(H), yin))\n",
    "\n",
    "    return_list = []\n",
    "    return_list.append(w)   \n",
    "    return_list.append(H)\n",
    "    return_list.append(Z)\n",
    "    return  return_list\n",
    "\n",
    "\n",
    "\n",
    "def test_ELM(xin: np.ndarray, Z: np.ndarray, W: np.ndarray, control: bool):\n",
    "    \n",
    "    if control == True:\n",
    "        ones = np.ones((xin.shape[0], 1))\n",
    "        xin = np.concatenate((xin, ones), axis = 1)\n",
    "    H = np.tanh(np.dot(xin, Z))\n",
    "    ones = np.ones((H.shape[0], 1))\n",
    "    H = np.concatenate((H, ones), axis = 1)\n",
    "    Y_hat = np.sign(np.dot(H, W))\n",
    "    return Y_hat"
   ]
  },
  {
   "cell_type": "code",
   "execution_count": 6,
   "id": "978e86c1-4d91-46cf-9e53-cf7a72659551",
   "metadata": {},
   "outputs": [
    {
     "ename": "InvalidParameterError",
     "evalue": "The 'estimator' parameter of cross_validate must be an object implementing 'fit'. Got [array([ 1.12387077e+06,  4.26969030e+07,  3.93637562e+07, -1.59918679e+08,\n        2.56041289e+07, -8.20723927e+06, -2.92677775e+07,  2.02782121e+06,\n        1.30695360e+07,  2.67210329e+07, -8.57417212e+06,  5.44982226e+06,\n       -6.21949538e+06, -1.48929671e+07, -2.10543105e+07,  5.55952324e+05,\n        4.18174702e+06, -8.76031336e+05, -7.38072463e+06,  1.48487277e+07,\n       -7.29278723e+07,  6.46570182e+06, -2.31072442e+07,  1.01178042e+06,\n        6.02019667e+06, -2.14566998e+07,  5.69425398e+06, -2.22457968e+07,\n       -2.84075469e+07, -2.69824231e+07,  1.93874095e+06,  1.92650678e+07,\n        3.93206013e+07, -1.89620786e+07,  1.42529846e+07, -3.31894686e+07,\n        4.04479338e+06, -4.04686842e+07,  2.15869935e+06,  9.47527845e+06,\n        1.98627331e+07, -6.59611311e+05, -2.44694704e+07,  5.19168598e+05,\n        2.01367274e+06,  1.75363182e+07,  2.18969177e+07, -8.31834634e+06,\n       -1.43499381e+07,  2.44586836e+07, -2.98956951e+06,  3.15172746e+07,\n        3.67827428e+07,  2.03546482e+06,  6.72785995e+07,  1.55666613e+07,\n        1.00627842e+07, -8.59683358e+06, -1.95956966e+07, -4.74676211e+06,\n        4.52275578e+07, -9.88084459e+06,  2.31667869e+07, -1.00767993e+07,\n       -2.94287813e+07,  4.86435752e+07, -6.83013287e+06, -3.13079146e+07,\n        3.31687731e+06, -1.93869802e+06, -1.08434766e+07,  2.37301953e+06,\n       -1.62699985e+07,  1.12214559e+07,  1.42181483e+07,  9.51710521e+06,\n       -3.28026897e+07,  1.40800638e+07,  9.00384118e+05, -5.64080914e+06,\n       -1.70818856e+07, -1.80415589e+07,  2.03891807e+06, -1.04939232e+07,\n       -4.26907482e+06, -2.17462734e+07, -6.98009064e+06, -1.52718510e+07,\n       -7.13688285e+06, -3.57487129e+07,  1.50103797e+07,  3.94629257e+07,\n        1.65679631e+07,  6.88885187e+07,  5.09661361e+07, -5.44560903e+06,\n       -5.90228648e+05, -3.31757937e+07, -9.61438353e+06, -1.97045833e+07,\n        9.15816550e+06]), array([[-0.42108864,  0.22553311, -0.28215225, ..., -0.3981128 ,\n         0.01188417,  1.        ],\n       [ 0.44175303,  0.24718198, -0.30311264, ..., -0.17996322,\n         0.39220647,  1.        ],\n       [ 0.26176318,  0.34148492, -0.40516374, ..., -0.17303968,\n         0.22189429,  1.        ],\n       ...,\n       [-0.45361663,  0.25767367, -0.31719866, ..., -0.39032834,\n        -0.03762675,  1.        ],\n       [ 0.44432132,  0.33191369, -0.39441985, ..., -0.12867552,\n         0.31994176,  1.        ],\n       [-0.18610546,  0.29793361, -0.35980642, ..., -0.30400252,\n         0.06053605,  1.        ]]), array([[-4.63998562e-01, -1.53700302e-01,  1.71393329e-01,\n        -2.30748634e-01, -1.23373782e-01,  4.30345616e-01,\n         1.43680347e-01, -4.00832103e-01, -9.75300946e-02,\n        -1.06883974e-01,  3.70907263e-01, -1.03125613e-01,\n         1.66887106e-01,  7.98181772e-02, -4.37926717e-01,\n        -3.62056333e-01, -3.66078171e-01, -4.86945132e-01,\n         2.62533029e-01, -2.63527058e-01,  6.31552535e-02,\n        -4.64159470e-01, -3.87022607e-01, -4.24919337e-01,\n        -1.49060060e-01, -2.22630421e-01, -4.54201085e-01,\n        -2.94203688e-01,  1.72444492e-01,  3.60096452e-01,\n        -3.87611081e-01, -2.00728288e-01,  1.19520542e-01,\n         3.83355768e-01,  9.99856921e-02,  1.30826206e-01,\n        -3.28945417e-01, -1.49158858e-02, -1.21227158e-02,\n         3.33451226e-01,  6.31580658e-03,  2.95853136e-01,\n         3.91639758e-01,  1.86814720e-01,  4.66914704e-01,\n         6.09097017e-02,  3.10856444e-01, -4.24198940e-01,\n         1.31050439e-01,  3.94612072e-01,  2.95671642e-01,\n         2.68841326e-02, -2.17270401e-01,  3.58797314e-01,\n        -2.70114150e-01, -3.95380346e-01,  3.32568469e-02,\n        -3.98220579e-01, -3.01187076e-01, -3.29106829e-01,\n         1.05234308e-01,  2.18101845e-01, -2.29205185e-01,\n         4.04676471e-01,  2.76390129e-01,  1.62082750e-01,\n        -4.07398452e-01, -2.77997662e-01, -2.31515983e-01,\n         4.89394227e-01, -3.67584329e-01,  4.48286407e-01,\n         3.61597712e-01,  1.64461481e-01, -2.55613456e-01,\n        -3.75786620e-01, -7.83247187e-02,  2.54969760e-01,\n         1.44492592e-03, -4.35125402e-01, -1.56429557e-01,\n         2.98443409e-01,  4.82979618e-01,  1.94741600e-01,\n         4.89663548e-01,  2.91388017e-01, -9.61911061e-02,\n        -3.21076767e-01, -2.92062337e-01,  1.18635173e-01,\n         3.58287566e-01,  2.77398494e-01,  1.28017887e-01,\n        -2.66624995e-01,  2.40652216e-01, -2.83838639e-01,\n         1.09481584e-01,  2.14823739e-01, -1.99834291e-01,\n        -7.27972852e-02],\n       [-4.54520691e-01,  5.97776512e-02, -6.86258514e-02,\n        -2.15736542e-02, -1.22271608e-01,  4.87466406e-01,\n        -3.63488631e-01,  3.95417828e-01, -3.13094628e-01,\n        -1.74771585e-01, -3.34795180e-01, -1.58703665e-01,\n         7.10800990e-02, -4.91890769e-01,  1.77003188e-01,\n         1.60797271e-01, -4.88161213e-01, -3.08853704e-01,\n         4.30604723e-01,  2.51022448e-02, -1.44097232e-01,\n        -4.69774635e-01, -1.77889182e-01,  2.85980965e-01,\n        -2.84840506e-01,  3.54356409e-01, -4.44904199e-01,\n        -2.38514429e-01, -2.47203063e-02,  3.02504535e-01,\n        -1.34543100e-02,  3.70658839e-01, -2.44315994e-01,\n         3.00523768e-01, -2.15479291e-01,  3.64007919e-01,\n         2.74274085e-01,  4.38862183e-01,  1.45051415e-01,\n         4.14338083e-01,  1.07504203e-01,  7.16093627e-02,\n        -1.67703182e-01,  2.72571709e-01, -4.53454253e-01,\n        -3.00350345e-01,  4.53355855e-01, -4.92987841e-01,\n         4.19957449e-01,  3.71587902e-01, -3.75907558e-01,\n        -1.15311133e-01, -4.42764231e-02, -1.74197076e-01,\n         3.66403477e-01, -2.67839825e-01,  4.43174322e-01,\n         3.43489301e-01, -2.64611532e-01,  2.92076298e-01,\n         2.86073410e-01,  4.48667068e-01, -1.35787575e-01,\n         1.91738364e-02,  3.94035195e-01,  3.95635566e-01,\n         4.90828469e-02,  3.62171838e-01, -1.01683187e-01,\n         2.34191364e-01, -2.90138554e-01, -4.10232894e-01,\n         1.11050832e-01, -3.02831641e-01, -7.47477097e-02,\n         5.81561738e-02, -4.19355151e-01, -2.09122114e-01,\n         4.87042520e-01, -3.18429452e-01,  1.23438841e-01,\n        -2.78771707e-01,  4.49023508e-01,  1.73878868e-02,\n        -7.07207320e-02,  3.42463633e-01, -2.53296173e-02,\n        -3.14077902e-01,  4.69668870e-01, -2.78168325e-01,\n         4.81022548e-01,  7.88490384e-02, -4.05851188e-02,\n        -4.75966239e-02, -4.04198721e-01, -4.21786427e-01,\n         2.14935246e-02,  4.26290853e-01, -7.81233408e-02,\n        -2.62833850e-01],\n       [ 1.50873734e-01,  3.34390967e-01, -4.06131496e-01,\n         3.31873040e-02, -3.88007562e-01,  3.41219993e-01,\n        -1.28739899e-01, -2.36242769e-02,  3.47115991e-01,\n         5.65680865e-02,  2.21220638e-01, -4.51741317e-01,\n         3.13766078e-01, -5.74304513e-02, -3.76082096e-01,\n         1.05666238e-01, -3.76566839e-02, -1.74633229e-01,\n        -9.79150642e-02,  4.77605925e-01,  1.18953833e-01,\n         2.44297088e-02,  2.01015482e-01,  4.92250696e-01,\n        -3.53030116e-01,  3.64946336e-01, -2.18711175e-01,\n         2.53108265e-01,  5.57639512e-03, -3.08392899e-01,\n        -1.85859136e-01,  1.35368337e-01,  2.52940922e-04,\n        -7.52370930e-02,  3.66436456e-01,  2.39497893e-01,\n        -3.17932330e-01,  3.72898927e-02, -3.05852416e-01,\n        -4.90931526e-01, -9.14581122e-02, -4.00235666e-01,\n         3.39962541e-01, -1.83857587e-01,  2.75849523e-01,\n        -1.12891108e-01, -1.69716074e-01, -8.84385923e-02,\n        -2.41369657e-01, -1.33396751e-01,  4.82021424e-01,\n        -3.69664071e-01,  2.40297380e-01, -4.58311758e-01,\n         6.12420772e-02,  3.15462071e-01, -3.59986158e-01,\n         3.96472957e-02,  2.26009425e-01,  3.12976137e-01,\n         3.52162412e-01,  3.38916972e-01,  2.50971434e-01,\n        -4.24510377e-01, -2.46836776e-01, -4.80241616e-02,\n        -9.64601715e-02, -2.96646801e-01, -2.78068979e-01,\n         1.45638267e-01,  4.99431332e-01, -2.35816241e-01,\n        -1.01287976e-01,  4.43317236e-01, -2.69311365e-01,\n        -4.01233761e-01, -1.28784394e-01,  5.01712015e-02,\n         3.68078308e-01, -8.02782454e-02, -1.42531174e-01,\n        -3.57448956e-02,  2.77517768e-01,  4.03830281e-02,\n         2.04202623e-01, -9.06095773e-02, -2.94467010e-01,\n        -5.40459455e-02, -1.29346049e-03,  1.03016372e-01,\n         3.11172588e-01, -2.08662550e-02,  4.12572869e-01,\n        -3.44851818e-02, -1.40118073e-01, -2.41691470e-01,\n        -1.55813251e-01,  2.01776424e-02, -2.15502275e-01,\n         1.91412572e-01]])] instead.",
     "output_type": "error",
     "traceback": [
      "\u001b[0;31m---------------------------------------------------------------------------\u001b[0m",
      "\u001b[0;31mInvalidParameterError\u001b[0m                     Traceback (most recent call last)",
      "Cell \u001b[0;32mIn[6], line 27\u001b[0m\n\u001b[1;32m     19\u001b[0m y_hatestxor \u001b[38;5;241m=\u001b[39m test_ELM(X_testxor, Zxor, wxor, \u001b[38;5;28;01mTrue\u001b[39;00m)\n\u001b[1;32m     21\u001b[0m \u001b[38;5;66;03m# Pegando os erros de treino e os erros de teste.\u001b[39;00m\n\u001b[1;32m     22\u001b[0m \u001b[38;5;66;03m#sum_result = 0\u001b[39;00m\n\u001b[1;32m     23\u001b[0m \u001b[38;5;66;03m#for i in y_hatestxor:\u001b[39;00m\n\u001b[1;32m     24\u001b[0m  \u001b[38;5;66;03m#   sum_ = (y_testxor - i)**2\u001b[39;00m\n\u001b[1;32m     25\u001b[0m  \u001b[38;5;66;03m#   sum_result += sum_\u001b[39;00m\n\u001b[1;32m     26\u001b[0m \u001b[38;5;66;03m#sum_result = sum_result / y_testxor.shape[0]\u001b[39;00m\n\u001b[0;32m---> 27\u001b[0m scores \u001b[38;5;241m=\u001b[39m \u001b[43mcross_validate\u001b[49m\u001b[43m(\u001b[49m\u001b[43mtrain_ELMspirals\u001b[49m\u001b[43m,\u001b[49m\u001b[43m \u001b[49m\u001b[43mx_df_xor\u001b[49m\u001b[43m,\u001b[49m\u001b[43m \u001b[49m\u001b[43mlabels_df_xor\u001b[49m\u001b[43m,\u001b[49m\u001b[43m \u001b[49m\u001b[43mcv\u001b[49m\u001b[43m \u001b[49m\u001b[38;5;241;43m=\u001b[39;49m\u001b[43m \u001b[49m\u001b[38;5;241;43m5\u001b[39;49m\u001b[43m,\u001b[49m\u001b[43m \u001b[49m\u001b[43mscoring\u001b[49m\u001b[43m \u001b[49m\u001b[38;5;241;43m=\u001b[39;49m\u001b[43m \u001b[49m\u001b[38;5;124;43m'\u001b[39;49m\u001b[38;5;124;43maccuracy\u001b[39;49m\u001b[38;5;124;43m'\u001b[39;49m\u001b[43m)\u001b[49m\n\u001b[1;32m     30\u001b[0m lst_errors_lam\u001b[38;5;241m.\u001b[39mappend(sum_result)\n\u001b[1;32m     31\u001b[0m \u001b[38;5;66;03m#lst_wxor.append(wxor)\u001b[39;00m\n",
      "File \u001b[0;32m~/.local/lib/python3.10/site-packages/sklearn/utils/_param_validation.py:203\u001b[0m, in \u001b[0;36mvalidate_params.<locals>.decorator.<locals>.wrapper\u001b[0;34m(*args, **kwargs)\u001b[0m\n\u001b[1;32m    200\u001b[0m to_ignore \u001b[38;5;241m+\u001b[39m\u001b[38;5;241m=\u001b[39m [\u001b[38;5;124m\"\u001b[39m\u001b[38;5;124mself\u001b[39m\u001b[38;5;124m\"\u001b[39m, \u001b[38;5;124m\"\u001b[39m\u001b[38;5;124mcls\u001b[39m\u001b[38;5;124m\"\u001b[39m]\n\u001b[1;32m    201\u001b[0m params \u001b[38;5;241m=\u001b[39m {k: v \u001b[38;5;28;01mfor\u001b[39;00m k, v \u001b[38;5;129;01min\u001b[39;00m params\u001b[38;5;241m.\u001b[39marguments\u001b[38;5;241m.\u001b[39mitems() \u001b[38;5;28;01mif\u001b[39;00m k \u001b[38;5;129;01mnot\u001b[39;00m \u001b[38;5;129;01min\u001b[39;00m to_ignore}\n\u001b[0;32m--> 203\u001b[0m \u001b[43mvalidate_parameter_constraints\u001b[49m\u001b[43m(\u001b[49m\n\u001b[1;32m    204\u001b[0m \u001b[43m    \u001b[49m\u001b[43mparameter_constraints\u001b[49m\u001b[43m,\u001b[49m\u001b[43m \u001b[49m\u001b[43mparams\u001b[49m\u001b[43m,\u001b[49m\u001b[43m \u001b[49m\u001b[43mcaller_name\u001b[49m\u001b[38;5;241;43m=\u001b[39;49m\u001b[43mfunc\u001b[49m\u001b[38;5;241;43m.\u001b[39;49m\u001b[38;5;18;43m__qualname__\u001b[39;49m\n\u001b[1;32m    205\u001b[0m \u001b[43m\u001b[49m\u001b[43m)\u001b[49m\n\u001b[1;32m    207\u001b[0m \u001b[38;5;28;01mtry\u001b[39;00m:\n\u001b[1;32m    208\u001b[0m     \u001b[38;5;28;01mwith\u001b[39;00m config_context(\n\u001b[1;32m    209\u001b[0m         skip_parameter_validation\u001b[38;5;241m=\u001b[39m(\n\u001b[1;32m    210\u001b[0m             prefer_skip_nested_validation \u001b[38;5;129;01mor\u001b[39;00m global_skip_validation\n\u001b[1;32m    211\u001b[0m         )\n\u001b[1;32m    212\u001b[0m     ):\n",
      "File \u001b[0;32m~/.local/lib/python3.10/site-packages/sklearn/utils/_param_validation.py:95\u001b[0m, in \u001b[0;36mvalidate_parameter_constraints\u001b[0;34m(parameter_constraints, params, caller_name)\u001b[0m\n\u001b[1;32m     89\u001b[0m \u001b[38;5;28;01melse\u001b[39;00m:\n\u001b[1;32m     90\u001b[0m     constraints_str \u001b[38;5;241m=\u001b[39m (\n\u001b[1;32m     91\u001b[0m         \u001b[38;5;124mf\u001b[39m\u001b[38;5;124m\"\u001b[39m\u001b[38;5;132;01m{\u001b[39;00m\u001b[38;5;124m'\u001b[39m\u001b[38;5;124m, \u001b[39m\u001b[38;5;124m'\u001b[39m\u001b[38;5;241m.\u001b[39mjoin([\u001b[38;5;28mstr\u001b[39m(c)\u001b[38;5;250m \u001b[39m\u001b[38;5;28;01mfor\u001b[39;00m\u001b[38;5;250m \u001b[39mc\u001b[38;5;250m \u001b[39m\u001b[38;5;129;01min\u001b[39;00m\u001b[38;5;250m \u001b[39mconstraints[:\u001b[38;5;241m-\u001b[39m\u001b[38;5;241m1\u001b[39m]])\u001b[38;5;132;01m}\u001b[39;00m\u001b[38;5;124m or\u001b[39m\u001b[38;5;124m\"\u001b[39m\n\u001b[1;32m     92\u001b[0m         \u001b[38;5;124mf\u001b[39m\u001b[38;5;124m\"\u001b[39m\u001b[38;5;124m \u001b[39m\u001b[38;5;132;01m{\u001b[39;00mconstraints[\u001b[38;5;241m-\u001b[39m\u001b[38;5;241m1\u001b[39m]\u001b[38;5;132;01m}\u001b[39;00m\u001b[38;5;124m\"\u001b[39m\n\u001b[1;32m     93\u001b[0m     )\n\u001b[0;32m---> 95\u001b[0m \u001b[38;5;28;01mraise\u001b[39;00m InvalidParameterError(\n\u001b[1;32m     96\u001b[0m     \u001b[38;5;124mf\u001b[39m\u001b[38;5;124m\"\u001b[39m\u001b[38;5;124mThe \u001b[39m\u001b[38;5;132;01m{\u001b[39;00mparam_name\u001b[38;5;132;01m!r}\u001b[39;00m\u001b[38;5;124m parameter of \u001b[39m\u001b[38;5;132;01m{\u001b[39;00mcaller_name\u001b[38;5;132;01m}\u001b[39;00m\u001b[38;5;124m must be\u001b[39m\u001b[38;5;124m\"\u001b[39m\n\u001b[1;32m     97\u001b[0m     \u001b[38;5;124mf\u001b[39m\u001b[38;5;124m\"\u001b[39m\u001b[38;5;124m \u001b[39m\u001b[38;5;132;01m{\u001b[39;00mconstraints_str\u001b[38;5;132;01m}\u001b[39;00m\u001b[38;5;124m. Got \u001b[39m\u001b[38;5;132;01m{\u001b[39;00mparam_val\u001b[38;5;132;01m!r}\u001b[39;00m\u001b[38;5;124m instead.\u001b[39m\u001b[38;5;124m\"\u001b[39m\n\u001b[1;32m     98\u001b[0m )\n",
      "\u001b[0;31mInvalidParameterError\u001b[0m: The 'estimator' parameter of cross_validate must be an object implementing 'fit'. Got [array([ 1.12387077e+06,  4.26969030e+07,  3.93637562e+07, -1.59918679e+08,\n        2.56041289e+07, -8.20723927e+06, -2.92677775e+07,  2.02782121e+06,\n        1.30695360e+07,  2.67210329e+07, -8.57417212e+06,  5.44982226e+06,\n       -6.21949538e+06, -1.48929671e+07, -2.10543105e+07,  5.55952324e+05,\n        4.18174702e+06, -8.76031336e+05, -7.38072463e+06,  1.48487277e+07,\n       -7.29278723e+07,  6.46570182e+06, -2.31072442e+07,  1.01178042e+06,\n        6.02019667e+06, -2.14566998e+07,  5.69425398e+06, -2.22457968e+07,\n       -2.84075469e+07, -2.69824231e+07,  1.93874095e+06,  1.92650678e+07,\n        3.93206013e+07, -1.89620786e+07,  1.42529846e+07, -3.31894686e+07,\n        4.04479338e+06, -4.04686842e+07,  2.15869935e+06,  9.47527845e+06,\n        1.98627331e+07, -6.59611311e+05, -2.44694704e+07,  5.19168598e+05,\n        2.01367274e+06,  1.75363182e+07,  2.18969177e+07, -8.31834634e+06,\n       -1.43499381e+07,  2.44586836e+07, -2.98956951e+06,  3.15172746e+07,\n        3.67827428e+07,  2.03546482e+06,  6.72785995e+07,  1.55666613e+07,\n        1.00627842e+07, -8.59683358e+06, -1.95956966e+07, -4.74676211e+06,\n        4.52275578e+07, -9.88084459e+06,  2.31667869e+07, -1.00767993e+07,\n       -2.94287813e+07,  4.86435752e+07, -6.83013287e+06, -3.13079146e+07,\n        3.31687731e+06, -1.93869802e+06, -1.08434766e+07,  2.37301953e+06,\n       -1.62699985e+07,  1.12214559e+07,  1.42181483e+07,  9.51710521e+06,\n       -3.28026897e+07,  1.40800638e+07,  9.00384118e+05, -5.64080914e+06,\n       -1.70818856e+07, -1.80415589e+07,  2.03891807e+06, -1.04939232e+07,\n       -4.26907482e+06, -2.17462734e+07, -6.98009064e+06, -1.52718510e+07,\n       -7.13688285e+06, -3.57487129e+07,  1.50103797e+07,  3.94629257e+07,\n        1.65679631e+07,  6.88885187e+07,  5.09661361e+07, -5.44560903e+06,\n       -5.90228648e+05, -3.31757937e+07, -9.61438353e+06, -1.97045833e+07,\n        9.15816550e+06]), array([[-0.42108864,  0.22553311, -0.28215225, ..., -0.3981128 ,\n         0.01188417,  1.        ],\n       [ 0.44175303,  0.24718198, -0.30311264, ..., -0.17996322,\n         0.39220647,  1.        ],\n       [ 0.26176318,  0.34148492, -0.40516374, ..., -0.17303968,\n         0.22189429,  1.        ],\n       ...,\n       [-0.45361663,  0.25767367, -0.31719866, ..., -0.39032834,\n        -0.03762675,  1.        ],\n       [ 0.44432132,  0.33191369, -0.39441985, ..., -0.12867552,\n         0.31994176,  1.        ],\n       [-0.18610546,  0.29793361, -0.35980642, ..., -0.30400252,\n         0.06053605,  1.        ]]), array([[-4.63998562e-01, -1.53700302e-01,  1.71393329e-01,\n        -2.30748634e-01, -1.23373782e-01,  4.30345616e-01,\n         1.43680347e-01, -4.00832103e-01, -9.75300946e-02,\n        -1.06883974e-01,  3.70907263e-01, -1.03125613e-01,\n         1.66887106e-01,  7.98181772e-02, -4.37926717e-01,\n        -3.62056333e-01, -3.66078171e-01, -4.86945132e-01,\n         2.62533029e-01, -2.63527058e-01,  6.31552535e-02,\n        -4.64159470e-01, -3.87022607e-01, -4.24919337e-01,\n        -1.49060060e-01, -2.22630421e-01, -4.54201085e-01,\n        -2.94203688e-01,  1.72444492e-01,  3.60096452e-01,\n        -3.87611081e-01, -2.00728288e-01,  1.19520542e-01,\n         3.83355768e-01,  9.99856921e-02,  1.30826206e-01,\n        -3.28945417e-01, -1.49158858e-02, -1.21227158e-02,\n         3.33451226e-01,  6.31580658e-03,  2.95853136e-01,\n         3.91639758e-01,  1.86814720e-01,  4.66914704e-01,\n         6.09097017e-02,  3.10856444e-01, -4.24198940e-01,\n         1.31050439e-01,  3.94612072e-01,  2.95671642e-01,\n         2.68841326e-02, -2.17270401e-01,  3.58797314e-01,\n        -2.70114150e-01, -3.95380346e-01,  3.32568469e-02,\n        -3.98220579e-01, -3.01187076e-01, -3.29106829e-01,\n         1.05234308e-01,  2.18101845e-01, -2.29205185e-01,\n         4.04676471e-01,  2.76390129e-01,  1.62082750e-01,\n        -4.07398452e-01, -2.77997662e-01, -2.31515983e-01,\n         4.89394227e-01, -3.67584329e-01,  4.48286407e-01,\n         3.61597712e-01,  1.64461481e-01, -2.55613456e-01,\n        -3.75786620e-01, -7.83247187e-02,  2.54969760e-01,\n         1.44492592e-03, -4.35125402e-01, -1.56429557e-01,\n         2.98443409e-01,  4.82979618e-01,  1.94741600e-01,\n         4.89663548e-01,  2.91388017e-01, -9.61911061e-02,\n        -3.21076767e-01, -2.92062337e-01,  1.18635173e-01,\n         3.58287566e-01,  2.77398494e-01,  1.28017887e-01,\n        -2.66624995e-01,  2.40652216e-01, -2.83838639e-01,\n         1.09481584e-01,  2.14823739e-01, -1.99834291e-01,\n        -7.27972852e-02],\n       [-4.54520691e-01,  5.97776512e-02, -6.86258514e-02,\n        -2.15736542e-02, -1.22271608e-01,  4.87466406e-01,\n        -3.63488631e-01,  3.95417828e-01, -3.13094628e-01,\n        -1.74771585e-01, -3.34795180e-01, -1.58703665e-01,\n         7.10800990e-02, -4.91890769e-01,  1.77003188e-01,\n         1.60797271e-01, -4.88161213e-01, -3.08853704e-01,\n         4.30604723e-01,  2.51022448e-02, -1.44097232e-01,\n        -4.69774635e-01, -1.77889182e-01,  2.85980965e-01,\n        -2.84840506e-01,  3.54356409e-01, -4.44904199e-01,\n        -2.38514429e-01, -2.47203063e-02,  3.02504535e-01,\n        -1.34543100e-02,  3.70658839e-01, -2.44315994e-01,\n         3.00523768e-01, -2.15479291e-01,  3.64007919e-01,\n         2.74274085e-01,  4.38862183e-01,  1.45051415e-01,\n         4.14338083e-01,  1.07504203e-01,  7.16093627e-02,\n        -1.67703182e-01,  2.72571709e-01, -4.53454253e-01,\n        -3.00350345e-01,  4.53355855e-01, -4.92987841e-01,\n         4.19957449e-01,  3.71587902e-01, -3.75907558e-01,\n        -1.15311133e-01, -4.42764231e-02, -1.74197076e-01,\n         3.66403477e-01, -2.67839825e-01,  4.43174322e-01,\n         3.43489301e-01, -2.64611532e-01,  2.92076298e-01,\n         2.86073410e-01,  4.48667068e-01, -1.35787575e-01,\n         1.91738364e-02,  3.94035195e-01,  3.95635566e-01,\n         4.90828469e-02,  3.62171838e-01, -1.01683187e-01,\n         2.34191364e-01, -2.90138554e-01, -4.10232894e-01,\n         1.11050832e-01, -3.02831641e-01, -7.47477097e-02,\n         5.81561738e-02, -4.19355151e-01, -2.09122114e-01,\n         4.87042520e-01, -3.18429452e-01,  1.23438841e-01,\n        -2.78771707e-01,  4.49023508e-01,  1.73878868e-02,\n        -7.07207320e-02,  3.42463633e-01, -2.53296173e-02,\n        -3.14077902e-01,  4.69668870e-01, -2.78168325e-01,\n         4.81022548e-01,  7.88490384e-02, -4.05851188e-02,\n        -4.75966239e-02, -4.04198721e-01, -4.21786427e-01,\n         2.14935246e-02,  4.26290853e-01, -7.81233408e-02,\n        -2.62833850e-01],\n       [ 1.50873734e-01,  3.34390967e-01, -4.06131496e-01,\n         3.31873040e-02, -3.88007562e-01,  3.41219993e-01,\n        -1.28739899e-01, -2.36242769e-02,  3.47115991e-01,\n         5.65680865e-02,  2.21220638e-01, -4.51741317e-01,\n         3.13766078e-01, -5.74304513e-02, -3.76082096e-01,\n         1.05666238e-01, -3.76566839e-02, -1.74633229e-01,\n        -9.79150642e-02,  4.77605925e-01,  1.18953833e-01,\n         2.44297088e-02,  2.01015482e-01,  4.92250696e-01,\n        -3.53030116e-01,  3.64946336e-01, -2.18711175e-01,\n         2.53108265e-01,  5.57639512e-03, -3.08392899e-01,\n        -1.85859136e-01,  1.35368337e-01,  2.52940922e-04,\n        -7.52370930e-02,  3.66436456e-01,  2.39497893e-01,\n        -3.17932330e-01,  3.72898927e-02, -3.05852416e-01,\n        -4.90931526e-01, -9.14581122e-02, -4.00235666e-01,\n         3.39962541e-01, -1.83857587e-01,  2.75849523e-01,\n        -1.12891108e-01, -1.69716074e-01, -8.84385923e-02,\n        -2.41369657e-01, -1.33396751e-01,  4.82021424e-01,\n        -3.69664071e-01,  2.40297380e-01, -4.58311758e-01,\n         6.12420772e-02,  3.15462071e-01, -3.59986158e-01,\n         3.96472957e-02,  2.26009425e-01,  3.12976137e-01,\n         3.52162412e-01,  3.38916972e-01,  2.50971434e-01,\n        -4.24510377e-01, -2.46836776e-01, -4.80241616e-02,\n        -9.64601715e-02, -2.96646801e-01, -2.78068979e-01,\n         1.45638267e-01,  4.99431332e-01, -2.35816241e-01,\n        -1.01287976e-01,  4.43317236e-01, -2.69311365e-01,\n        -4.01233761e-01, -1.28784394e-01,  5.01712015e-02,\n         3.68078308e-01, -8.02782454e-02, -1.42531174e-01,\n        -3.57448956e-02,  2.77517768e-01,  4.03830281e-02,\n         2.04202623e-01, -9.06095773e-02, -2.94467010e-01,\n        -5.40459455e-02, -1.29346049e-03,  1.03016372e-01,\n         3.11172588e-01, -2.08662550e-02,  4.12572869e-01,\n        -3.44851818e-02, -1.40118073e-01, -2.41691470e-01,\n        -1.55813251e-01,  2.01776424e-02, -2.15502275e-01,\n         1.91412572e-01]])] instead."
     ]
    }
   ],
   "source": [
    "from sklearn.model_selection import cross_validate\n",
    "pxor = 100\n",
    "lst_errors_lam = list()\n",
    "lst_pesos_w = list()\n",
    "lam = 0\n",
    "stop = 5\n",
    "lst_lambda = list()\n",
    "#wxor_aux = 0\n",
    "#lst_wxor = list()\n",
    "while lam <= stop:\n",
    "    \n",
    "    train_ELMspirals = train_ELM(X_trainxor, y_trainxor, pxor, control = True, lam = lam)\n",
    "    wxor = np.array(train_ELMspirals[0])\n",
    "    #if lam == 0:\n",
    "    #   wxor = np.full(wxor.shape, -0.07916484416812761)\n",
    "    Hxor = np.array(train_ELMspirals[1])\n",
    "    Zxor = np.array(train_ELMspirals[2])\n",
    "    y_hatrainxor = test_ELM(X_trainxor, Zxor, wxor, True)\n",
    "    y_hatestxor = test_ELM(X_testxor, Zxor, wxor, True)\n",
    "\n",
    "    # Pegando os erros de treino e os erros de teste.\n",
    "    #sum_result = 0\n",
    "    #for i in y_hatestxor:\n",
    "     #   sum_ = (y_testxor - i)**2\n",
    "     #   sum_result += sum_\n",
    "    #sum_result = sum_result / y_testxor.shape[0]\n",
    "    scores = cross_validate(train_ELMspirals, x_df_xor, labels_df_xor, cv = 5, scoring = 'accuracy')\n",
    "\n",
    "\n",
    "    lst_errors_lam.append(sum_result)\n",
    "    #lst_wxor.append(wxor)\n",
    "    lst_lambda.append(lam)\n",
    "    lst_pesos_w.append(np.linalg.norm(wxor)) # Norma do vetor w.\n",
    "    lam = lam + 0.4\n",
    "lst_errors_lam = np.array(lst_errors_lam)\n",
    "lst_pesos_w = np.array(lst_pesos_w)\n",
    "lst_lambda = np.array(lst_lambda)"
   ]
  },
  {
   "cell_type": "code",
   "execution_count": null,
   "id": "bb997f9a-23c7-48c8-ba41-fbbbb2e63a65",
   "metadata": {},
   "outputs": [],
   "source": [
    "lst_errors_lam.min()\n",
    "lst_errors_lam[lst_errors_lam == 1.4666666666666666]"
   ]
  },
  {
   "cell_type": "code",
   "execution_count": null,
   "id": "d92fabcf-641b-4f17-994b-0d6ed1612b53",
   "metadata": {},
   "outputs": [],
   "source": [
    "# Transformando as listas em arrays numpy.\n",
    "lst_errors_lam = np.array(lst_errors_lam)\n",
    "lst_lambda = np.array(lst_lambda)\n",
    "lst_pesos_w = np.array(lst_pesos_w)\n",
    "plt.scatter(lst_pesos_w, lst_errors_lam, color = 'black', label = 'lst_errors_lam x lst_pesos_w')\n",
    "plt.title('lst_errors_lam x lst_pesos_w')\n",
    "plt.xlabel('lst_pesos_w')\n",
    "plt.xlim(0, 15)\n",
    "plt.ylim(0, 100)\n",
    "plt.ylabel('lst_errors_lam')\n",
    "plt.legend()\n",
    "plt.plot()"
   ]
  },
  {
   "cell_type": "code",
   "execution_count": null,
   "id": "f050d647-812c-4706-becf-8c89f0319888",
   "metadata": {},
   "outputs": [],
   "source": [
    "print(np.max(lst_pesos_w))"
   ]
  },
  {
   "cell_type": "code",
   "execution_count": null,
   "id": "bf96beaa-5c9c-499e-b183-26f76b3cf27a",
   "metadata": {},
   "outputs": [],
   "source": [
    "lst_pesos_w"
   ]
  },
  {
   "cell_type": "code",
   "execution_count": null,
   "id": "3a635964-a485-4895-b9f0-aa2617c3158c",
   "metadata": {},
   "outputs": [],
   "source": [
    "from sklearn import metrics\n",
    "confusion_matrix = metrics.confusion_matrix(y_trainxor, y_hatrainxor)\n",
    "cm_display = metrics.ConfusionMatrixDisplay(confusion_matrix = confusion_matrix, display_labels = [False, True])\n",
    "cm_display.plot()\n",
    "plt.show()\n",
    "sum_train = sum(y_trainxor != y_hatrainxor)\n",
    "print(f\"There are a total of {sum_train} errors in the train.\")"
   ]
  },
  {
   "cell_type": "code",
   "execution_count": null,
   "id": "d1855100-201f-45bc-a8f7-20ded48fa2f8",
   "metadata": {},
   "outputs": [],
   "source": [
    "confusion_matrix = metrics.confusion_matrix(y_testxor, y_hatestxor)\n",
    "cm_display_ = metrics.ConfusionMatrixDisplay(confusion_matrix = confusion_matrix, display_labels = [False, True])\n",
    "cm_display_.plot()\n",
    "plt.show()\n",
    "sum_test = sum(y_testxor != y_hatestxor)\n",
    "print(f\"There are a total of {sum_test} errors in the test.\")"
   ]
  },
  {
   "cell_type": "code",
   "execution_count": null,
   "id": "34ee4fe4-3ece-4d4e-82ba-202485498d73",
   "metadata": {},
   "outputs": [],
   "source": [
    "labels_df_reshaped = labels_df_xor.reshape(-1, 1)\n",
    "mat_plot = np.concatenate((x_df_xor, labels_df_reshaped), axis = 1)\n",
    "index_sort = 2\n",
    "sorted_indices = np.argsort(mat_plot[:, index_sort])\n",
    "mat_plot = mat_plot[sorted_indices]"
   ]
  },
  {
   "cell_type": "code",
   "execution_count": null,
   "id": "c005332b-0e7e-4a84-9664-d5a31539fc93",
   "metadata": {},
   "outputs": [],
   "source": [
    "np.unique(mat_plot[:, 2], return_counts = True)"
   ]
  },
  {
   "cell_type": "code",
   "execution_count": null,
   "id": "10d109fd-cdae-4abc-939e-3636c094f5c4",
   "metadata": {},
   "outputs": [],
   "source": [
    "x1_points = mat_plot[: 46, 0 : 2]\n",
    "x2_points = mat_plot[46 :, 0 : 2]\n",
    "plt.scatter(x1_points[:, 0], x1_points[:, 1], color = 'red', label = 'data 1')\n",
    "plt.scatter(x2_points[:, 0], x2_points[:, 1], color = 'blue', label = 'data 2')\n",
    "plt.title('data')\n",
    "plt.xlabel('x1')\n",
    "plt.ylabel('x2')\n",
    "plt.legend()\n",
    "plt.plot()"
   ]
  },
  {
   "cell_type": "code",
   "execution_count": null,
   "id": "417f7593-8a16-4dca-8024-98639a16f9d6",
   "metadata": {},
   "outputs": [],
   "source": [
    "seqx1x2 = np.linspace(start = -4, stop = 4, num = 300)\n",
    "np_grid = seqx1x2.shape[0]\n",
    "shape = (np_grid, np_grid)\n",
    "MZ = np.zeros(shape)\n",
    "for i in range(np_grid):\n",
    "    for j in range(np_grid):\n",
    "        x1 = seqx1x2[i]\n",
    "        x2 = seqx1x2[j]\n",
    "        x1x2 = np.column_stack((x1, x2, 1))\n",
    "        h1 = np.tanh(np.dot(x1x2, Zxor))\n",
    "        h1 = np.column_stack((h1, np.ones_like(h1[:, 0])))\n",
    "        MZ[i, j] = np.sign(np.dot(h1, wxor))[0]\n",
    "\n",
    "\n",
    "plt.contour(seqx1x2, seqx1x2, MZ, levels = 1)\n",
    "plt.scatter(x1_points[:, 0], x1_points[:, 1], color = 'red', label = 'data1')\n",
    "plt.scatter(x2_points[:, 0], x2_points[:, 1], color = 'blue', label = 'data2')\n",
    "plt.xlabel('x1')\n",
    "plt.ylabel('x2')\n",
    "plt.title('Contour Plot')\n",
    "plt.xlim(-2, 2)\n",
    "plt.ylim(-2, 2)\n",
    "plt.grid(True)\n",
    "plt.show()"
   ]
  },
  {
   "cell_type": "code",
   "execution_count": null,
   "id": "0d69e88b-c53a-4d22-b7da-5712db62db5c",
   "metadata": {},
   "outputs": [],
   "source": []
  }
 ],
 "metadata": {
  "kernelspec": {
   "display_name": "Python 3 (ipykernel)",
   "language": "python",
   "name": "python3"
  },
  "language_info": {
   "codemirror_mode": {
    "name": "ipython",
    "version": 3
   },
   "file_extension": ".py",
   "mimetype": "text/x-python",
   "name": "python",
   "nbconvert_exporter": "python",
   "pygments_lexer": "ipython3",
   "version": "3.10.12"
  }
 },
 "nbformat": 4,
 "nbformat_minor": 5
}
